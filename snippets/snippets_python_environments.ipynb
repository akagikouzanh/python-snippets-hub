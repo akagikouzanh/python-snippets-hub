{
 "cells": [
  {
   "cell_type": "markdown",
   "id": "63f1e1e1",
   "metadata": {},
   "source": [
    "### Python のパッケージ管理\n",
    "\n",
    "`pip`は Python のパッケージ管理ツールである\n",
    "\n",
    "- 特徴\n",
    "\n",
    "  - 公開されている Python のパッケージを利用することができる\n",
    "\n",
    "- 主な使用用途\n",
    "\n",
    "  - サードパーティ製のパッケージの管理\n",
    "\n",
    "- 注意\n",
    "  - システム全体での pip は複数のアプリケーションに影響が与えられるため、システム全体での pip の管理を行わない(各パッケージはアプリケーション毎で独立させる)\n",
    "\n",
    "### 資料\n",
    "\n",
    "[pip ドキュメント](https://pip.pypa.io/en/latest/)\n",
    "\n",
    "[pypi](https://pypi.org/)\n"
   ]
  },
  {
   "cell_type": "markdown",
   "id": "e36e28fc",
   "metadata": {},
   "source": [
    "#### pip のインストール設定\n"
   ]
  },
  {
   "cell_type": "markdown",
   "id": "5ed9626b",
   "metadata": {},
   "source": [
    "- Python3.4 以上を使用していればデフォルトで入っているため、問題なく pip を使用することができる\n",
    "  - それ以下のバージョンだと自分でインストールしなければならないため、以下のコマンドを使用して実施する\n",
    "    ```bash\n",
    "    python -m ensurepip\n",
    "    ```\n",
    "    or\n",
    "    ```bash\n",
    "    sudo apt install -y python-3-pip\n",
    "    ```\n"
   ]
  },
  {
   "cell_type": "markdown",
   "id": "083f8e90",
   "metadata": {},
   "source": [
    "#### パッケージのインストール/アンインストール方法\n"
   ]
  },
  {
   "cell_type": "markdown",
   "id": "aa1a1cfb",
   "metadata": {},
   "source": [
    "- 次から`pip`コマンドでインストールをしていくことになります\n",
    "\n",
    "  ```bash\n",
    "  pip install <パッケージ名>\n",
    "  ```\n",
    "\n",
    "- `numpy` をインストールする場合\n",
    "\n",
    "  ```bash\n",
    "  pip install numpy\n",
    "  ```\n",
    "\n",
    "- 対象パッケージのバージョンを`固定して`インストールしたい場合\n",
    "\n",
    "  ```bash\n",
    "  pip install numpy==1.24.3\n",
    "  ```\n",
    "\n",
    "- 対象パッケージのバージョンの`範囲を指定して`インストールしたい場合\n",
    "\n",
    "  - ex) 1.21.6 以上、2.0.0 未満の中で最新版を取得する\n",
    "    ```bash\n",
    "    pip install \"numpy>=1.21.6,<2.0.0\"\n",
    "    ```\n",
    "\n",
    "- パッケージをアンインストールしたい場合\n",
    "\n",
    "  - `(注意)`依存関係のあるパッケージのアンインストールは行わないため、各種アンインストールする必要がある\n",
    "    ```bash\n",
    "    pip uninstall <パッケージ名>\n",
    "    ```\n",
    "\n",
    "- 開発中のパッケージを参照したい場合\n",
    "\n",
    "  - 自分がパッケージに貢献したい場合など\n",
    "\n",
    "    ```bash\n",
    "    pip install -e <パッケージのパス>\n",
    "    ```\n",
    "\n",
    "    ```bash\n",
    "    # 特定のパッケージをインストールしておいて\n",
    "    pip install -e .\n",
    "    ```\n",
    "\n",
    "    or\n",
    "\n",
    "    ```bash\n",
    "    pip install git+https://github.com/numpy/numpy.git\n",
    "    ```\n",
    "\n",
    "[参考:Python Tips: パッケージの開発版をインストールしたい](https://www.lifewithpython.com/2018/07/python-install-package-dev-versions.html)\n"
   ]
  },
  {
   "cell_type": "markdown",
   "id": "e91760e0",
   "metadata": {},
   "source": [
    "#### パッケージのアップグレードやダウングレード\n"
   ]
  },
  {
   "cell_type": "markdown",
   "id": "e4e95b22",
   "metadata": {},
   "source": [
    "- パッケージのアップグレードやダウングレードを行いたい場合は、以下の形で行います\n",
    "\n",
    "  - インストールの時と同じようにパッケージのバージョンを指定することで、ダウングレードを行うことも可能\n",
    "\n",
    "    ```bash\n",
    "    pip install -U <パッケージ名>\n",
    "    ```\n",
    "\n",
    "    or\n",
    "\n",
    "    ```bash\n",
    "    pip install --upgrade <パッケージ名>\n",
    "    ```\n"
   ]
  },
  {
   "cell_type": "markdown",
   "id": "b0d71cf8",
   "metadata": {},
   "source": [
    "#### インストールされているパッケージ一覧の表示\n"
   ]
  },
  {
   "cell_type": "markdown",
   "id": "c8d368fe",
   "metadata": {},
   "source": [
    "- 今のアプリケーションで使用しているパッケージの一覧の表示は以下のコマンドで実行する\n",
    "\n",
    "  ```bash\n",
    "  pip list\n",
    "  ```\n",
    "\n",
    "- 最新版ではないパッケージの一覧の表示\n",
    "  ```bash\n",
    "  pip list --outdated\n",
    "  ```\n",
    "  or\n",
    "  ```bash\n",
    "  pip list -o\n",
    "  ```\n"
   ]
  },
  {
   "cell_type": "markdown",
   "id": "ac59c651",
   "metadata": {},
   "source": [
    "#### requirements.txt を使用してパッケージを管理する\n",
    "\n",
    "- 各環境でパッケージを毎回インストールしていると、各環境で使用しているパッケージに際が出たりすることがあります\n",
    "\n",
    "  - それでは、正しく開発を進められない場合が多く、不具合の原因にもなり得ます\n",
    "  - そうした状態をなくすために、各環境で同じパッケージを使用できるようにしたものが`requirements.txt`です\n",
    "  - `requirements.txt`の役割としては別の環境を新しく構築した場合でも、pip で取得したパッケージとバージョンを統一管理してくれるものです\n",
    "\n",
    "- ※`requirements.txt`は慣例としてこの名前を取っているだけですので、必要に応じて変更しても構いません\n",
    "- 手動で作成することも可能です\n",
    "  - その際は以下を覚えておきましょう\n",
    "    - コメントアウト\n",
    "      - #で始まる行\n",
    "    - バージョン指定がない場合は、最新版がインストールされる\n",
    "    - 各種バージョン指定はインストールの際と同様\n"
   ]
  },
  {
   "cell_type": "markdown",
   "id": "823a4485",
   "metadata": {},
   "source": [
    "- `requirements.txt`の作成方法\n",
    "\n",
    "  ```bash\n",
    "  pip freeze > <テキストファイル名>\n",
    "  ```\n",
    "\n",
    "  ```bash\n",
    "  pip freeze > requirements.txt\n",
    "  ```\n",
    "\n",
    "- 出力内容を確認する(ご自身がインストールしているものが表示されれば OK)\n",
    "\n",
    "  ```bash\n",
    "  cat requirements.txt\n",
    "  anyio==4.9.0\n",
    "  appnope==0.1.4\n",
    "  argon2-cffi==23.1.0\n",
    "  argon2-cffi-bindings==21.2.0\n",
    "  arrow==1.3.0\n",
    "  asttokens==3.0.0\n",
    "  async-lru==2.0.5\n",
    "  attrs==25.3.0\n",
    "  babel==2.17.0\n",
    "  beautifulsoup4==4.13.3\n",
    "  ...\n",
    "  ```\n"
   ]
  },
  {
   "cell_type": "markdown",
   "id": "ee3ff11d",
   "metadata": {},
   "source": [
    "- `requirements.txt`でのインストール方法\n",
    "\n",
    "  ```bash\n",
    "  pip install -r requirements.txt\n",
    "  ```\n"
   ]
  },
  {
   "cell_type": "markdown",
   "id": "4a4857a6",
   "metadata": {},
   "source": [
    "#### requirements.txt でインストールする特定のパッケージに制限をかける\n",
    "\n",
    "- `-c`オプションとファイル名を指定することで、対象のパッケージのバージョンに制限をかけることができます\n",
    "- また、`-c`オプションは単独での実行ではなく、`requirements.txt`と一緒に使うことが条件です\n",
    "\n",
    "  - ファイル名は慣例として`constraints.txt`が使用されます\n",
    "\n",
    "- どんな時に必要か\n",
    "\n",
    "  - 複数のアプリケーションで特定のパッケージのみバージョンを固定してインストールしたい場合\n"
   ]
  },
  {
   "cell_type": "markdown",
   "id": "0c935ee7",
   "metadata": {},
   "source": [
    "- 使用方法\n",
    "\n",
    "  ```bash\n",
    "  pip install -r <パッケージ管理のテキストファイル名> -c <制限ありのパッケージ管理のテキストファイル名>\n",
    "  ```\n",
    "\n",
    "  ```bash\n",
    "  pip install -r requirements.txt -c constraints.txt\n",
    "  ```\n",
    "\n",
    "- 使用例\n",
    "\n",
    "  - 3 つのアプリケーションでそれぞれのバージョンを管理している場合で、A,B アプリケーションのみ numpy の共通のバージョンを使用したい場合\n",
    "  - `constraints.txt`は`requirements.txt`に同じ名前のパッケージがある時だけ、バージョンの制限をかけます\n",
    "    - ※パッケージ依存がある場合は、互換性が異なるとインストールすることができません\n",
    "\n",
    "- `requirements.txt`と`constraints.txt`の中身\n",
    "\n",
    "  - `constraints.txt`\n",
    "\n",
    "    ```text\n",
    "    numpy==1.24.3\n",
    "    ```\n",
    "\n",
    "  - A アプリケーションの`requirements.txt`\n",
    "\n",
    "    ```text\n",
    "    numpy\n",
    "    matplotlib==3.5.3\n",
    "    ```\n",
    "\n",
    "  - B アプリケーションの`requirements.txt`\n",
    "\n",
    "    ```text\n",
    "    numpy\n",
    "    matplotlib==3.7.5\n",
    "    ```\n",
    "\n",
    "  - C アプリケーションの`requirements.txt`\n",
    "\n",
    "    ```text\n",
    "    matplotlib==3.7.5\n",
    "    ```\n"
   ]
  },
  {
   "cell_type": "markdown",
   "id": "57e3859c",
   "metadata": {},
   "source": [
    "### Python の仮想環境を作成機能\n",
    "\n",
    "`venv`は Python の仮想環境を提供することができる\n",
    "\n",
    "- 特徴\n",
    "\n",
    "  - 独立した実行環境を提供することができ、アプリケーションの依存競合を分離することができる\n",
    "\n",
    "- 主な使用用途\n",
    "\n",
    "  - 複数のアプリケーションを開発する場合\n",
    "  - Python やパッケージのバージョンを複数管理したい場合\n",
    "\n",
    "- 注意\n",
    "\n",
    "### 資料\n",
    "\n",
    "[venv ドキュメント](https://docs.python.org/ja/3.13/library/venv.html)\n"
   ]
  },
  {
   "cell_type": "markdown",
   "id": "3a9d4985",
   "metadata": {},
   "source": [
    "- 例えば、A アプリケーションと B アプリケーションがあり、一方は numpy=1.21.6 を使用しもう一方は 1.24.3 を使用するとする\n",
    "- 仮想環境(venv)を使わない場合は、同じシステム上に 2 つのパッケージをインストールすることになり、どちらかを上書きすることになる\n",
    "\n",
    "  - このような競合を起こさないために仮想環境(venv)を使用する\n",
    "\n",
    "#### 仮想環境(venv)の使用方法\n",
    "\n",
    "```bash\n",
    "python -m venv <仮想環境名>\n",
    "```\n",
    "\n",
    "```bash\n",
    "python -m venv .env\n",
    "```\n",
    "\n",
    "- 作成後例\n",
    "  ```bash\n",
    "  ls -la .env\n",
    "  total 16\n",
    "  drwxr-xr-x@  9 user  staff   288  4 10 23:30 .\n",
    "  drwxr-xr-x@  9 user  staff   288  4 11 09:30 ..\n",
    "  -rw-r--r--@  1 user  staff    69  4  2 08:00 .gitignore\n",
    "  drwxr-xr-x@ 40 user  staff  1280  4 10 23:31 bin\n",
    "  drwxr-xr-x@  3 user  staff    96  4 10 23:30 etc\n",
    "  drwxr-xr-x@  3 user  staff    96  4  2 08:00 include\n",
    "  drwxr-xr-x@  3 user  staff    96  4  2 08:00 lib\n",
    "  -rw-r--r--@  1 user  staff   309  4  2 08:00 pyvenv.cfg\n",
    "  drwxr-xr-x@  6 user  staff   192  4 10 23:30 share\n",
    "  ```\n"
   ]
  },
  {
   "cell_type": "markdown",
   "id": "6d297794",
   "metadata": {},
   "source": [
    "#### 仮想環境を作っただけでは、使用できないため有効化を行います\n",
    "\n",
    "```bash\n",
    "source .env/bin/activate\n",
    "```\n",
    "\n",
    "#### 仮想環境の無効化\n",
    "\n",
    "```bash\n",
    "deactivate\n",
    "```\n"
   ]
  },
  {
   "cell_type": "markdown",
   "id": "180402f2",
   "metadata": {},
   "source": [
    "- 基本的にはこの仮想環境を有効化した状態で、パッケージのインストールや管理を行い、開発を進めていきます\n",
    "\n",
    "  - そうすることで、各パッケージが個別のアプリケーション毎に管理されるようになり競合が起きません\n"
   ]
  },
  {
   "cell_type": "markdown",
   "id": "e36637e8",
   "metadata": {},
   "source": [
    "#### 仮想環境の削除\n",
    "\n",
    "- 作成した仮想環境のディレクトリ毎削除すれば問題ありません\n",
    "\n",
    "  - 削除する際は気をつけてください\n",
    "\n",
    "    ```bash\n",
    "    rm -rf .env\n",
    "    ```\n"
   ]
  },
  {
   "cell_type": "markdown",
   "id": "05b0cf34",
   "metadata": {},
   "source": []
  },
  {
   "cell_type": "markdown",
   "id": "a6799013",
   "metadata": {},
   "source": []
  }
 ],
 "metadata": {
  "kernelspec": {
   "display_name": "Python 3",
   "language": "python",
   "name": "python3"
  },
  "language_info": {
   "codemirror_mode": {
    "name": "ipython",
    "version": 3
   },
   "file_extension": ".py",
   "mimetype": "text/x-python",
   "name": "python",
   "nbconvert_exporter": "python",
   "pygments_lexer": "ipython3",
   "version": "3.13.0"
  }
 },
 "nbformat": 4,
 "nbformat_minor": 5
}
