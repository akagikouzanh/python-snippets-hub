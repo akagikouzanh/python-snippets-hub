{
 "cells": [
  {
   "cell_type": "markdown",
   "id": "0af03d4d",
   "metadata": {},
   "source": [
    "### unicodedata\n",
    "\n",
    "`unicodedata`は Unicode 文字データベースへのアクセスを提供する標準ライブラリ\n",
    "\n",
    "- 世界中の文字、記号、絵文字を統一管理している\n",
    "- 主な使用用途\n",
    "\n",
    "  - 特定の名称からの変換\n",
    "  - Unicode の正規化\n",
    "    - 検索正規化して表記を統一して比較\n",
    "\n",
    "- 注意\n",
    "\n",
    "  - 同じ見た目の文字でもコードポイントが異なるケースあり\n",
    "\n",
    "### 資料\n",
    "\n",
    "[unicodedata --- Unicode データベース](https://docs.python.org/ja/3.13/library/unicodedata.html)\n",
    "\n",
    "[ユニコードテーブル](https://symbl.cc/jp/)\n"
   ]
  },
  {
   "cell_type": "code",
   "execution_count": 1,
   "id": "a34b8481",
   "metadata": {},
   "outputs": [],
   "source": [
    "import unicodedata"
   ]
  },
  {
   "cell_type": "code",
   "execution_count": 2,
   "id": "dfed174c",
   "metadata": {},
   "outputs": [
    {
     "name": "stdout",
     "output_type": "stream",
     "text": [
      "⛩\n",
      "CURRY AND RICE\n",
      "アｱ\n",
      "アア\n",
      "ガ\n",
      "ガ ガ ガ\n",
      "NFD=b'\\xe3\\x82\\xab\\xe3\\x82\\x99'\n",
      "NFKD=b'\\xe3\\x82\\xab\\xe3\\x82\\x99'\n",
      "NFC=b'\\xe3\\x82\\xac'\n",
      "NFKC=b'\\xe3\\x82\\xac'\n",
      "カ\n",
      "゙\n"
     ]
    }
   ],
   "source": [
    "# unicode文字と文字の名称を変換する\n",
    "# ⛩ / データがない場合はKeyErrorになる(defaultを指定していればそれが返される)\n",
    "print(unicodedata.lookup(\"SHINTO SHRINE\"))\n",
    "# CURRY AND RICE / データがない場合はValueErrorになる(defaultを指定していればそれが返される)\n",
    "print(unicodedata.name(\"🍛\"))\n",
    "\n",
    "# unicode文字列の正規化\n",
    "# 半角全角の文字を全角に統一したりするといった用途で使用する\n",
    "# https://ja.wikipedia.org/wiki/Unicode%E6%AD%A3%E8%A6%8F%E5%8C%96\n",
    "print(unicodedata.normalize(\"NFC\", \"アｱ\"))\n",
    "print(unicodedata.normalize(\"NFKC\", \"アｱ\"))\n",
    "print(unicodedata.normalize(\"NFD\", \"ガ\"))\n",
    "nfd = unicodedata.normalize(\"NFD\", \"ガ\")\n",
    "nfc = unicodedata.normalize(\"NFC\", \"ガ\")\n",
    "nfkc = unicodedata.normalize(\"NFKC\", \"ガ\")\n",
    "nfkd = unicodedata.normalize(\"NFKD\", \"ガ\")\n",
    "\n",
    "# 同一に見える\n",
    "# ガ ガ\n",
    "print(nfd, nfkc, nfkd)\n",
    "\n",
    "# 実際は違う\n",
    "# b'\\xe3\\x82\\xac' : b'\\xe3\\x82\\xab\\xe3\\x82\\x99'\n",
    "print(\n",
    "    \"\\n\".join(\n",
    "        f\"{name}={val.encode('utf-8')!r}\"\n",
    "        for name, val in zip([\"NFD\", \"NFKD\", \"NFC\", \"NFKC\"], [nfd, nfkd, nfc, nfkc])\n",
    "    )\n",
    ")\n",
    "\n",
    "# カ\n",
    "print(nfkd.encode(\"utf-8\")[:3].decode(\"utf-8\"))\n",
    "# 濁点\n",
    "print(nfkd.encode(\"utf-8\")[3:].decode(\"utf-8\"))\n",
    "\n",
    "# NFD/NFKD = バラす(ガで試したように文字をバラす)\n",
    "# NFC/NFKC = まとめる(アｱで試したように文字をまとめる)\n",
    "# NFK系 = 似てたらまとめる\n"
   ]
  }
 ],
 "metadata": {
  "kernelspec": {
   "display_name": "Python 3",
   "language": "python",
   "name": "python3"
  },
  "language_info": {
   "codemirror_mode": {
    "name": "ipython",
    "version": 3
   },
   "file_extension": ".py",
   "mimetype": "text/x-python",
   "name": "python",
   "nbconvert_exporter": "python",
   "pygments_lexer": "ipython3",
   "version": "3.13.0"
  }
 },
 "nbformat": 4,
 "nbformat_minor": 5
}
