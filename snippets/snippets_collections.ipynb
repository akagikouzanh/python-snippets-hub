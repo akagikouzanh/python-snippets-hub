{
 "cells": [
  {
   "cell_type": "markdown",
   "id": "8b90677f",
   "metadata": {},
   "source": [
    "### collections\n",
    "\n",
    "`collections`は コンテナデータ型の標準ライブラリ\n",
    "\n",
    "- 特徴\n",
    "\n",
    "  - 汎用組み込みコンテナ(list, dict, set, tuple)に変わる、特殊コンテナデータ型を実装している\n",
    "\n",
    "- 主な使用用途\n",
    "\n",
    "  - データの件数をカウント\n",
    "  - デフォルト値を持った辞書\n",
    "  - データ挿入順序を維持する辞書\n",
    "  - 名前付きフィールドを持つタプル\n",
    "\n",
    "- 注意\n",
    "\n",
    "  - Python 3.7 以降、通常の `dict` も挿入順を保持するようになった\n",
    "  - そのため、**明示的に順序を操作（移動・削除）したい場合のみ `OrderedDict` を使う**のが適切\n",
    "  - deque の extendleft の追加結果は引数順序の逆になる\n",
    "\n",
    "### 資料\n",
    "\n",
    "[ドキュメント](https://docs.python.org/ja/3.13/library/collections.html)"
   ]
  },
  {
   "cell_type": "code",
   "execution_count": 40,
   "id": "ecabdd7d",
   "metadata": {},
   "outputs": [
    {
     "data": {
      "text/plain": [
       "'\\nexample collections Counter\\n\\nSee also:\\nhttps://docs.python.org/ja/3.13/library/collections.html\\n'"
      ]
     },
     "execution_count": 40,
     "metadata": {},
     "output_type": "execute_result"
    }
   ],
   "source": [
    "\"\"\"\n",
    "example collections Counter\n",
    "\n",
    "See also:\n",
    "https://docs.python.org/ja/3.13/library/collections.html\n",
    "\"\"\""
   ]
  },
  {
   "cell_type": "code",
   "execution_count": 22,
   "id": "a0dc0249",
   "metadata": {},
   "outputs": [],
   "source": [
    "from collections import Counter\n",
    "import random"
   ]
  },
  {
   "cell_type": "code",
   "execution_count": 23,
   "id": "ac660722",
   "metadata": {},
   "outputs": [],
   "source": [
    "def collections_counter():\n",
    "    \"\"\"データの件数をカウントする\"\"\"\n",
    "    # Counter({'i': 7, 'c': 3, 'a': 3, 'l': 3, 'u': 2, 'p': 2, 'e': 2, 'r': 2, 's': 2, 'o': 2, 'S': 1, 'f': 1, 'g': 1, 't': 1, 'x': 1, 'd': 1})\n",
    "    s = \"Supercalifragilisticexpialidocious\"\n",
    "    print(f\"{s}の文字数カウント:\")\n",
    "    print(Counter(s))"
   ]
  },
  {
   "cell_type": "code",
   "execution_count": 24,
   "id": "832d6671",
   "metadata": {},
   "outputs": [],
   "source": [
    "def numeric_counter():\n",
    "    \"\"\"数値データのカウント\"\"\"\n",
    "    nums = [2, 1, 3, 1, 2, 5, 2, 4, 3, 4]\n",
    "    c = Counter()\n",
    "    for num in nums:\n",
    "        c[num] += 1\n",
    "\n",
    "    print(\"数値カウント:\", c)  # Counter({2: 3, 1: 2, 3: 2, 4: 2, 5: 1})"
   ]
  },
  {
   "cell_type": "code",
   "execution_count": 25,
   "id": "41683a5e",
   "metadata": {},
   "outputs": [],
   "source": [
    "def shuffle_data_counter():\n",
    "    \"\"\"リストをランダムにしても正しくカウントされる\"\"\"\n",
    "    li = [\"spam\"] * 100 + [\"ham\"] * 90 + [\"egg\"] * 110\n",
    "    print(\"シャッフルデータのサイズ:\", len(li))\n",
    "    random.shuffle(li)\n",
    "    print(\"シャッフルデータ数のカウント:\", Counter(li))"
   ]
  },
  {
   "cell_type": "code",
   "execution_count": 26,
   "id": "b48a061e",
   "metadata": {},
   "outputs": [],
   "source": [
    "def counter_operations():\n",
    "    \"\"\"Counterのsubtract, update, +, -, &, | 演算の使用例\"\"\"\n",
    "    c1 = Counter(a=3, b=2, c=1, d=0)\n",
    "    print(c1)  # Counter({'a': 3, 'b': 2, 'c': 1, 'd': 0})\n",
    "    print(list(c1.elements()))  # ['a', 'a', 'a', 'b', 'b', 'c']\n",
    "\n",
    "    c2 = Counter(a=2, b=1, c=1, d=1)\n",
    "    print(c2)  # Counter({'a': 2, 'b': 1, 'c': 1, 'd': 1})\n",
    "\n",
    "    # c1からc2の要素を減算する\n",
    "    c1.subtract(c2)\n",
    "    print(\"subtract: \", c1)  # Counter({'a': 1, 'b': 1, 'c': 0, 'd': -1})\n",
    "\n",
    "    # c1からc2の要素を加算する\n",
    "    c1.update(c2)\n",
    "    print(\"update: \", c1)  # Counter({'a': 3, 'b': 2, 'c': 1, 'd': 0})\n",
    "\n",
    "    # 演算\n",
    "    print(\"===演算===\")\n",
    "    print(c1 + c2)\n",
    "    print(c1 - c2)\n",
    "    print(c1 & c2)\n",
    "    print(c1 | c2)"
   ]
  },
  {
   "cell_type": "code",
   "execution_count": 27,
   "id": "b5bedefd",
   "metadata": {},
   "outputs": [
    {
     "name": "stdout",
     "output_type": "stream",
     "text": [
      "Supercalifragilisticexpialidociousの文字数カウント:\n",
      "Counter({'i': 7, 'c': 3, 'a': 3, 'l': 3, 'u': 2, 'p': 2, 'e': 2, 'r': 2, 's': 2, 'o': 2, 'S': 1, 'f': 1, 'g': 1, 't': 1, 'x': 1, 'd': 1})\n",
      "数値カウント: Counter({2: 3, 1: 2, 3: 2, 4: 2, 5: 1})\n",
      "シャッフルデータのサイズ: 300\n",
      "シャッフルデータ数のカウント: Counter({'egg': 110, 'spam': 100, 'ham': 90})\n",
      "Counter({'a': 3, 'b': 2, 'c': 1, 'd': 0})\n",
      "['a', 'a', 'a', 'b', 'b', 'c']\n",
      "Counter({'a': 2, 'b': 1, 'c': 1, 'd': 1})\n",
      "subtract:  Counter({'a': 1, 'b': 1, 'c': 0, 'd': -1})\n",
      "update:  Counter({'a': 3, 'b': 2, 'c': 1, 'd': 0})\n",
      "===演算===\n",
      "Counter({'a': 5, 'b': 3, 'c': 2, 'd': 1})\n",
      "Counter({'a': 1, 'b': 1})\n",
      "Counter({'a': 2, 'b': 1, 'c': 1})\n",
      "Counter({'a': 3, 'b': 2, 'c': 1, 'd': 1})\n"
     ]
    }
   ],
   "source": [
    "collections_counter()\n",
    "numeric_counter()\n",
    "shuffle_data_counter()\n",
    "counter_operations()"
   ]
  },
  {
   "cell_type": "code",
   "execution_count": 28,
   "id": "390b7106",
   "metadata": {},
   "outputs": [
    {
     "data": {
      "text/plain": [
       "'\\nexample collections defaultdict\\n\\nSee also:\\nhttps://docs.python.org/ja/3.13/library/collections.html#collections.defaultdict\\n'"
      ]
     },
     "execution_count": 28,
     "metadata": {},
     "output_type": "execute_result"
    }
   ],
   "source": [
    "\"\"\"\n",
    "example collections defaultdict\n",
    "\n",
    "See also:\n",
    "https://docs.python.org/ja/3.13/library/collections.html#collections.defaultdict\n",
    "\"\"\""
   ]
  },
  {
   "cell_type": "code",
   "execution_count": 29,
   "id": "d3883284",
   "metadata": {},
   "outputs": [],
   "source": [
    "from collections import defaultdict"
   ]
  },
  {
   "cell_type": "code",
   "execution_count": 30,
   "id": "bedb1c1e",
   "metadata": {},
   "outputs": [
    {
     "name": "stdout",
     "output_type": "stream",
     "text": [
      "[]\n",
      "defaultdict(<class 'list'>, {'params': [1, 2, 3], 'key': []})\n",
      "defaultdict(<class 'int'>, {'j': 1, 'a': 2, 'p': 1, 'n': 1})\n",
      "defaultdict(<class 'list'>, {'vegetable': ['tomato', 'carrot', 'lettuce'], 'fruit': ['apple', 'banana']})\n",
      "2025-04-10:\n",
      "  user1: 2\n",
      "  user2: 1\n",
      "2025-04-09:\n",
      "  user1: 1\n"
     ]
    }
   ],
   "source": [
    "# キーがない場合に返す値を設定することができるのがdefault factory\n",
    "# d = {\"params\": [1, 2, 3]}\n",
    "# KeyError: \"key\"\n",
    "# print(d[\"key\"])\n",
    "\n",
    "# KeyErrorにならず、空のリストが表示されるようになる\n",
    "dd: defaultdict = defaultdict(list, params=[1, 2, 3])\n",
    "print(dd[\"key\"])\n",
    "\n",
    "print(dd)  # defaultdict(<class 'list'>, {'params': [1, 2, 3], 'key': []})\n",
    "\n",
    "d: defaultdict = defaultdict(int)\n",
    "s: str = \"japan\"\n",
    "for i in s:\n",
    "    d[i] += 1\n",
    "\n",
    "print(d)  # defaultdict(<class 'int'>, {'j': 1, 'a': 2, 'p': 1, 'n': 1})\n",
    "\n",
    "# データセットのグループ化\n",
    "data = [\n",
    "    (\"vegetable\", \"tomato\"),\n",
    "    (\"fruit\", \"apple\"),\n",
    "    (\"vegetable\", \"carrot\"),\n",
    "    (\"fruit\", \"banana\"),\n",
    "    (\"vegetable\", \"lettuce\"),\n",
    "]\n",
    "\n",
    "categories: defaultdict = defaultdict(list)\n",
    "for kind, name in data:\n",
    "    categories[kind].append(name)\n",
    "\n",
    "print(categories)  # defaultdict(<class 'list'>, {'vegetable': ['tomato', 'carrot', 'lettuce'], 'fruit': ['apple', 'banana']})\n",
    "\n",
    "# access log\n",
    "access_log = [\n",
    "    (\"2025-04-10\", \"user1\"),\n",
    "    (\"2025-04-10\", \"user2\"),\n",
    "    (\"2025-04-10\", \"user1\"),\n",
    "    (\"2025-04-09\", \"user1\"),\n",
    "]\n",
    "\n",
    "# lambdaにすることでnestedのdefault dictを構築することができる\n",
    "user_access: defaultdict = defaultdict(lambda: defaultdict(int))\n",
    "\n",
    "for day, user in access_log:\n",
    "    # nestedに値がなければ0値でデータが作成される\n",
    "    user_access[day][user] += 1\n",
    "\n",
    "# defaultdict(<function <lambda> at 0x104bcb240>, {'2025-04-10': defaultdict(<class 'int'>, {'user1': 2, 'user2': 1}), '2025-04-09': defaultdict(<class 'int'>, {'user1': 1})})\n",
    "# print(user_access)\n",
    "# 出力:\n",
    "#  2025-04-10:\n",
    "#    user1: 2\n",
    "#    user2: 1\n",
    "#  2025-04-09:\n",
    "#    user1: 1\n",
    "for day, users in user_access.items():\n",
    "    print(f\"{day}:\")\n",
    "    for user, count in users.items():\n",
    "        print(f\"  {user}: {count}\")\n"
   ]
  },
  {
   "cell_type": "code",
   "execution_count": 31,
   "id": "38b15257",
   "metadata": {},
   "outputs": [
    {
     "data": {
      "text/plain": [
       "'\\nexample collections order dict\\n\\nSee also:\\nhttps://docs.python.org/ja/3.13/library/collections.html#collections.OrderedDict\\n'"
      ]
     },
     "execution_count": 31,
     "metadata": {},
     "output_type": "execute_result"
    }
   ],
   "source": [
    "\"\"\"\n",
    "example collections order dict\n",
    "\n",
    "See also:\n",
    "https://docs.python.org/ja/3.13/library/collections.html#collections.OrderedDict\n",
    "\"\"\""
   ]
  },
  {
   "cell_type": "code",
   "execution_count": 32,
   "id": "9228bec9",
   "metadata": {},
   "outputs": [],
   "source": [
    "from collections import OrderedDict"
   ]
  },
  {
   "cell_type": "code",
   "execution_count": 33,
   "id": "c0dd4cbf",
   "metadata": {},
   "outputs": [
    {
     "name": "stdout",
     "output_type": "stream",
     "text": [
      "normal_dict: {'a': 0, 'b': 0, 'c': 0, 'd': 0, 'e': 0}\n",
      "order_dict: OrderedDict({'a': 0, 'b': 0, 'c': 0, 'd': 0, 'e': 0})\n",
      "OrderedDict({'a': 0, 'b': 0, 'c': 0, 'e': 0, 'd': 0})\n",
      "d.popitem(): OrderedDict({'a': 0, 'b': 0, 'c': 0, 'e': 0})\n",
      "d.popitem(last=False): OrderedDict({'b': 0, 'c': 0, 'e': 0})\n"
     ]
    }
   ],
   "source": [
    "normal_dict = dict.fromkeys(\"abcde\", 0)\n",
    "order_dict = OrderedDict.fromkeys(\"abcde\", 0)\n",
    "print(f\"normal_dict: {normal_dict}\")\n",
    "print(f\"order_dict: {order_dict}\")\n",
    "\n",
    "# dを一番後ろに設定 d.move_to_end(\"d\", last=False)の場合は先頭に来る\n",
    "order_dict.move_to_end(\"d\")\n",
    "print(order_dict)  # OrderedDict({'a': 0, 'b': 0, 'c': 0, 'e': 0, 'd': 0})\n",
    "\n",
    "# LIFO\n",
    "order_dict.popitem()\n",
    "print(f\"d.popitem(): {order_dict}\")  # d.popitem(): OrderedDict({'a': 0, 'b': 0, 'c': 0, 'e': 0})\n",
    "\n",
    "# FIFO\n",
    "order_dict.popitem(last=False)\n",
    "print(f\"d.popitem(last=False): {order_dict}\")  # d.popitem(last=False): OrderedDict({'b': 0, 'c': 0, 'e': 0})\n"
   ]
  },
  {
   "cell_type": "code",
   "execution_count": 34,
   "id": "88bed1c3",
   "metadata": {},
   "outputs": [
    {
     "data": {
      "text/plain": [
       "'\\nexample collections namedtuple\\n\\nSee also:\\nhttps://docs.python.org/ja/3.13/library/collections.html#collections.namedtuple\\n'"
      ]
     },
     "execution_count": 34,
     "metadata": {},
     "output_type": "execute_result"
    }
   ],
   "source": [
    "\"\"\"\n",
    "example collections namedtuple\n",
    "\n",
    "See also:\n",
    "https://docs.python.org/ja/3.13/library/collections.html#collections.namedtuple\n",
    "\"\"\""
   ]
  },
  {
   "cell_type": "code",
   "execution_count": 35,
   "id": "78e40769",
   "metadata": {},
   "outputs": [],
   "source": [
    "from collections import namedtuple"
   ]
  },
  {
   "cell_type": "code",
   "execution_count": 36,
   "id": "72c3b12e",
   "metadata": {},
   "outputs": [
    {
     "name": "stdout",
     "output_type": "stream",
     "text": [
      "taro 12 150\n",
      "{'name': 'taro', 'age': 12, 'height': 150}\n",
      "Students(name='太郎', age=12, height=150)\n",
      "hanako\n",
      "{'type': 'premium', 'balance': 0}\n",
      "Account(type='basic', balance=0)\n"
     ]
    }
   ],
   "source": [
    "Students = namedtuple(\"Students\", [\"name\", \"age\", \"height\"])\n",
    "taro = Students(\"taro\", 12, 150)\n",
    "\n",
    "# taro 12 150\n",
    "print(taro.name, taro.age, taro.height)\n",
    "print(taro._asdict())  # {'name': 'taro', 'age': 12, 'height': 150}\n",
    "\n",
    "taro = taro._replace(name=\"太郎\")\n",
    "print(taro)  # Students(name='太郎', age=12, height=150)\n",
    "\n",
    "# _make() はリストやタプルからnamedtupleを生成できる\n",
    "new_students_hanako = [\"hanako\", 32, 154]\n",
    "hanako = Students._make(new_students_hanako)\n",
    "print(hanako.name) # hanako\n",
    "\n",
    "Account = namedtuple(\"Account\", [\"type\", \"balance\"], defaults=[\"premium\", 0])\n",
    "print(Account._field_defaults)  # {\"type\": \"premium\", \"balance\": 0}\n",
    "\n",
    "basic = Account(\"basic\")\n",
    "print(basic) # Account(type='basic', balance=0)\n"
   ]
  },
  {
   "cell_type": "code",
   "execution_count": 37,
   "id": "c7458400",
   "metadata": {},
   "outputs": [
    {
     "data": {
      "text/plain": [
       "'\\nexample collections deque\\n\\nSee also:\\nhttps://docs.python.org/ja/3.13/library/collections.html#collections.deque\\n'"
      ]
     },
     "execution_count": 37,
     "metadata": {},
     "output_type": "execute_result"
    }
   ],
   "source": [
    "\"\"\"\n",
    "example collections deque\n",
    "\n",
    "See also:\n",
    "https://docs.python.org/ja/3.13/library/collections.html#collections.deque\n",
    "\"\"\""
   ]
  },
  {
   "cell_type": "code",
   "execution_count": 38,
   "id": "c7a3a591",
   "metadata": {},
   "outputs": [],
   "source": [
    "from collections import deque"
   ]
  },
  {
   "cell_type": "code",
   "execution_count": 39,
   "id": "5e75efa6",
   "metadata": {},
   "outputs": [
    {
     "name": "stdout",
     "output_type": "stream",
     "text": [
      "G\n",
      "I\n",
      "T\n",
      "deque(['g', 'i', 't', 'h'])\n",
      "deque(['hello', 'g', 'i', 't', 'h'])\n",
      "deque(['hello', 'g', 'i', 't', 'h', 'u', 'b'])\n",
      "deque(['d', 'l', 'r', 'o', 'w', 'hello', 'g', 'i', 't', 'h', 'u', 'b'])\n",
      "deque(['b', 'd', 'l', 'r', 'o', 'w', 'hello', 'g', 'i', 't', 'h', 'u'])\n",
      "deque(['l', 'r', 'o', 'w', 'hello', 'g', 'i', 't', 'h', 'u', 'b', 'd'])\n",
      "deque(['r', 'o', 'w', 'hello', 'g', 'i', 't', 'h', 'u', 'b'])\n",
      "deque([])\n",
      "deque(['y', 't', 'h', 'o', 'n'], maxlen=5)\n"
     ]
    }
   ],
   "source": [
    "dq = deque(\"git\")\n",
    "for el in dq:\n",
    "    print(el.upper())  # GIT\n",
    "\n",
    "# 右側(末尾)への追加\n",
    "dq.append(\"h\")\n",
    "print(dq)  # deque(['g', 'i', 't', 'h'])\n",
    "\n",
    "# 左側(先頭)への追加\n",
    "dq.appendleft(\"hello\")\n",
    "print(dq)  # deque(['hello', 'g', 'i', 't', 'h'])\n",
    "\n",
    "# iterableから得られる要素を右側(末尾)へ追加拡張\n",
    "dq.extend(\"ub\")\n",
    "print(dq)  # deque(['hello', 'g', 'i', 't', 'h', 'u', 'b'])\n",
    "\n",
    "# iterableから得られる要素を左側(先頭)へ追加拡張\n",
    "dq.extendleft(\"world\")\n",
    "print(dq)  # deque(['d', 'l', 'r', 'o', 'w', 'hello', 'g', 'i', 't', 'h', 'u', 'b'])\n",
    "\n",
    "# 右へ一個ずつずらす(=dq.appendleft(d.pop))\n",
    "dq.rotate(1)\n",
    "print(dq)  # deque(['b', 'd', 'l', 'r', 'o', 'w', 'hello', 'g', 'i', 't', 'h', 'u'])\n",
    "\n",
    "# 左へ一個ずつずらす(=dq.append(d.popleft()))\n",
    "dq.rotate(-2)\n",
    "print(dq)  # deque(['l', 'r', 'o', 'w', 'hello', 'g', 'i', 't', 'h', 'u', 'b', 'd'])\n",
    "\n",
    "dq.pop()\n",
    "dq.popleft()\n",
    "print(dq)  # deque(['r', 'o', 'w', 'hello', 'g', 'i', 't', 'h', 'u', 'b'])\n",
    "\n",
    "dq.clear()\n",
    "print(dq)  # deque([])\n",
    "\n",
    "dq_fixed = deque(\"python\", maxlen=5)\n",
    "print(dq_fixed)  # deque(['y', 't', 'h', 'o', 'n'], maxlen=5)\n"
   ]
  },
  {
   "cell_type": "code",
   "execution_count": null,
   "id": "ee524e90",
   "metadata": {},
   "outputs": [],
   "source": [
    "\"\"\"\n",
    "example collections chainmap\n",
    "\n",
    "See also:\n",
    "https://docs.python.org/ja/3.13/library/collections.html#collections.ChainMap\n",
    "\"\"\""
   ]
  },
  {
   "cell_type": "code",
   "execution_count": 41,
   "id": "e36cacd3",
   "metadata": {},
   "outputs": [],
   "source": [
    "from collections import ChainMap"
   ]
  },
  {
   "cell_type": "code",
   "execution_count": 42,
   "id": "676e1f08",
   "metadata": {},
   "outputs": [
    {
     "name": "stdout",
     "output_type": "stream",
     "text": [
      "ChainMap({'user': 'jiro'}, {'user': 'taro'}, {'user': 'hanako'})\n",
      "ChainMap({'user': '二郎'}, {'user': 'taro'}, {'user': 'hanako'})\n",
      "ChainMap({'user': 'saburo'}, {'user': '二郎'}, {'user': 'taro'}, {'user': 'hanako'})\n",
      "ChainMap({'user': '二郎'}, {'user': 'taro'}, {'user': 'hanako'})\n",
      "ChainMap({'user': 'saburo'}, {'user': '二郎'}, {'user': 'taro'}, {'user': '花子'})\n"
     ]
    }
   ],
   "source": [
    "# 元の各辞書をコピーせず、優先順位付きで束ねてアクセスできる\n",
    "# （注）値の取得は優先順に行われるが、ChainMap自体は参照なので、書き込み時は元の辞書が直接変更される点に注意\n",
    "\n",
    "global_var = {\"user\": \"taro\"}\n",
    "local_var = {\"user\": \"hanako\"}\n",
    "default_var = {\"user\": \"jiro\"}\n",
    "\n",
    "cm = ChainMap(default_var, global_var, local_var)\n",
    "print(cm)  # ChainMap({'user': 'jiro'}, {'user': 'taro'}, {'user': 'hanako'})\n",
    "\n",
    "cm[\"user\"] = \"二郎\"\n",
    "new_cm = cm.new_child({\"user\": \"saburo\"})\n",
    "print(cm)  # ChainMap({'user': '二郎'}, {'user': 'taro'}, {'user': 'hanako'})\n",
    "print(new_cm)  # ChainMap({'user': 'saburo'}, {'user': '二郎'}, {'user': 'taro'}, {'user': 'hanako'})\n",
    "print(new_cm.parents)  # ChainMap({'user': '二郎'}, {'user': 'taro'}, {'user': 'hanako'})\n",
    "\n",
    "new_cm.maps[3][\"user\"] = \"花子\"\n",
    "print(new_cm)  # ChainMap({'user': 'saburo'}, {'user': '二郎'}, {'user': 'taro'}, {'user': '花子'})\n"
   ]
  },
  {
   "cell_type": "code",
   "execution_count": null,
   "id": "ef644270",
   "metadata": {},
   "outputs": [],
   "source": []
  }
 ],
 "metadata": {
  "kernelspec": {
   "display_name": "Python 3",
   "language": "python",
   "name": "python3"
  },
  "language_info": {
   "codemirror_mode": {
    "name": "ipython",
    "version": 3
   },
   "file_extension": ".py",
   "mimetype": "text/x-python",
   "name": "python",
   "nbconvert_exporter": "python",
   "pygments_lexer": "ipython3",
   "version": "3.13.0"
  }
 },
 "nbformat": 4,
 "nbformat_minor": 5
}
