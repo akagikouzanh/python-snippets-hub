{
 "cells": [
  {
   "cell_type": "markdown",
   "id": "63f1e1e1",
   "metadata": {},
   "source": [
    "## デバッグ\n",
    "\n",
    "- [pdb --- Python デバッガ](https://docs.python.org/ja/3.13/library/pdb.html)\n"
   ]
  },
  {
   "cell_type": "markdown",
   "id": "78bd9884",
   "metadata": {},
   "source": [
    "### 対話的なデバッグを行う - pdb, breakpoint\n"
   ]
  },
  {
   "cell_type": "code",
   "execution_count": 2,
   "id": "8e9b8f82",
   "metadata": {},
   "outputs": [],
   "source": [
    "import sys\n",
    "import pdb\n",
    "\n",
    "\n",
    "def get_system_implementation():\n",
    "    result = sys.implementation\n",
    "    pdb.set_trace()\n",
    "    return result"
   ]
  },
  {
   "cell_type": "code",
   "execution_count": 3,
   "id": "49b379c4",
   "metadata": {},
   "outputs": [
    {
     "name": "stdout",
     "output_type": "stream",
     "text": [
      "> \u001b[32m/var/folders/8f/5bctm_kd3qg_4dv_z9xc0lch0000gn/T/ipykernel_76944/1468908552.py\u001b[39m(\u001b[92m7\u001b[39m)\u001b[36mget_system_implementation\u001b[39m\u001b[34m()\u001b[39m\n",
      "\u001b[32m      4\u001b[39m \n",
      "\u001b[32m      5\u001b[39m \u001b[38;5;28;01mdef\u001b[39;00m get_system_implementation():\n",
      "\u001b[32m      6\u001b[39m     result = sys.implementation\n",
      "\u001b[32m----> 7\u001b[39m     pdb.set_trace()\n",
      "\u001b[32m      8\u001b[39m     \u001b[38;5;28;01mreturn\u001b[39;00m result\n",
      "\n",
      "\n",
      "Documented commands (type help <topic>):\n",
      "========================================\n",
      "EOF    commands   enable      list      pinfo2   rv               unt   \n",
      "a      condition  exceptions  ll        pp       s                until \n",
      "alias  cont       exit        longlist  psource  skip_hidden      up    \n",
      "args   context    h           n         q        skip_predicates  w     \n",
      "b      continue   help        next      quit     source           whatis\n",
      "break  d          ignore      p         r        step             where \n",
      "bt     debug      interact    pdef      restart  tbreak         \n",
      "c      disable    j           pdoc      return   u              \n",
      "cl     display    jump        pfile     retval   unalias        \n",
      "clear  down       l           pinfo     run      undisplay      \n",
      "\n",
      "Miscellaneous help topics:\n",
      "==========================\n",
      "exec  pdb\n",
      "\n",
      "\u001b[92m      2\u001b[39m \u001b[38;5;28;01mimport\u001b[39;00m pdb\n",
      "\u001b[92m      3\u001b[39m \n",
      "\u001b[92m      4\u001b[39m \n",
      "\u001b[92m      5\u001b[39m \u001b[38;5;28;01mdef\u001b[39;00m get_system_implementation():\n",
      "\u001b[92m      6\u001b[39m     result = sys.implementation\n",
      "\u001b[32m----> 7\u001b[39m     pdb.set_trace()\n",
      "\u001b[92m      8\u001b[39m     \u001b[38;5;28;01mreturn\u001b[39;00m result\n",
      "\n",
      "\u001b[31m    [... skipping 22 hidden frame(s)]\u001b[39m\n",
      "  \u001b[32m/var/folders/8f/5bctm_kd3qg_4dv_z9xc0lch0000gn/T/ipykernel_76944/1177742350.py\u001b[39m(\u001b[92m1\u001b[39m)\u001b[36m<module>\u001b[39m\u001b[34m()\u001b[39m\n",
      "\u001b[32m----> 1\u001b[39m get_system_implementation()\n",
      "> \u001b[32m/var/folders/8f/5bctm_kd3qg_4dv_z9xc0lch0000gn/T/ipykernel_76944/1468908552.py\u001b[39m(\u001b[92m7\u001b[39m)\u001b[36mget_system_implementation\u001b[39m\u001b[34m()\u001b[39m\n",
      "\u001b[32m      4\u001b[39m \n",
      "\u001b[32m      5\u001b[39m \u001b[38;5;28;01mdef\u001b[39;00m get_system_implementation():\n",
      "\u001b[32m      6\u001b[39m     result = sys.implementation\n",
      "\u001b[32m----> 7\u001b[39m     pdb.set_trace()\n",
      "\u001b[32m      8\u001b[39m     \u001b[38;5;28;01mreturn\u001b[39;00m result\n",
      "\n",
      "namespace(name='cpython', cache_tag='cpython-313', version=sys.version_info(major=3, minor=13, micro=0, releaselevel='final', serial=0), hexversion=51183856, _multiarch='darwin')\n",
      "namespace(name='cpython',\n",
      "          cache_tag='cpython-313',\n",
      "          version=sys.version_info(major=3, minor=13, micro=0, releaselevel='final', serial=0),\n",
      "          hexversion=51183856,\n",
      "          _multiarch='darwin')\n",
      "> \u001b[32m/var/folders/8f/5bctm_kd3qg_4dv_z9xc0lch0000gn/T/ipykernel_76944/1468908552.py\u001b[39m(\u001b[92m8\u001b[39m)\u001b[36mget_system_implementation\u001b[39m\u001b[34m()\u001b[39m\n",
      "\u001b[32m      4\u001b[39m \n",
      "\u001b[32m      5\u001b[39m \u001b[38;5;28;01mdef\u001b[39;00m get_system_implementation():\n",
      "\u001b[32m      6\u001b[39m     result = sys.implementation\n",
      "\u001b[32m      7\u001b[39m     pdb.set_trace()\n",
      "\u001b[32m----> 8\u001b[39m     \u001b[38;5;28;01mreturn\u001b[39;00m result\n",
      "\n"
     ]
    },
    {
     "data": {
      "text/plain": [
       "namespace(name='cpython',\n",
       "          cache_tag='cpython-313',\n",
       "          version=sys.version_info(major=3, minor=13, micro=0, releaselevel='final', serial=0),\n",
       "          hexversion=51183856,\n",
       "          _multiarch='darwin')"
      ]
     },
     "execution_count": 3,
     "metadata": {},
     "output_type": "execute_result"
    }
   ],
   "source": [
    "get_system_implementation()"
   ]
  },
  {
   "cell_type": "markdown",
   "id": "8d150daf",
   "metadata": {},
   "source": [
    "- h: help コマンド\n",
    "- l: 現在いる行を表示\n",
    "- w:　スタックトレースを表示\n",
    "- p 変数: 変数の内容を表示\n",
    "- pp 変数: pretty-print で表示\n",
    "- n: 次の行を処理\n",
    "- c: 次のブレークポイントまで処理を続ける\n"
   ]
  },
  {
   "cell_type": "markdown",
   "id": "c40895f8",
   "metadata": {},
   "source": [
    "### breakpoint()でブレークポイントを挿入する\n",
    "\n",
    "- [ipynb では未だ使えないよう](https://github.com/jupyter/notebook/issues/7585)\n",
    "  なので、ターミナルのインタープリタで確認\n",
    "\n",
    "```python\n",
    ">>> def get_system_implementation2():\n",
    "...     result = sys.implementation\n",
    "...     breakpoint()\n",
    "...     return result\n",
    "...\n",
    ">>> import sys\n",
    ">>> get_system_implementation2()\n",
    "> <python-input-2>(3)get_system_implementation2()\n",
    "-> breakpoint()\n",
    "(Pdb) h\n",
    "\n",
    "Documented commands (type help <topic>):\n",
    "========================================\n",
    "EOF    cl         disable     ignore    n        return  u          where\n",
    "a      clear      display     interact  next     retval  unalias\n",
    "alias  commands   down        j         p        run     undisplay\n",
    "args   condition  enable      jump      pp       rv      unt\n",
    "b      cont       exceptions  l         q        s       until\n",
    "break  continue   exit        list      quit     source  up\n",
    "bt     d          h           ll        r        step    w\n",
    "c      debug      help        longlist  restart  tbreak  whatis\n",
    "\n",
    "Miscellaneous help topics:\n",
    "==========================\n",
    "exec  pdb\n",
    "\n",
    "(Pdb) l\n",
    "  1     def get_system_implementation2():\n",
    "  2         result = sys.implementation\n",
    "  3  ->     breakpoint()\n",
    "  4         return result\n",
    "  5\n",
    "[EOF]\n",
    "(Pdb) w\n",
    "  <frozen runpy>(198)_run_module_as_main()\n",
    "  <frozen runpy>(88)_run_code()\n",
    "  /Users/akagikouzanh/.pyenv/versions/3.13.0/lib/python3.13/_pyrepl/__main__.py(6)<module>()\n",
    "-> __pyrepl_interactive_console()\n",
    "  /Users/akagikouzanh/.pyenv/versions/3.13.0/lib/python3.13/_pyrepl/main.py(59)interactive_console()\n",
    "-> run_multiline_interactive_console(console)\n",
    "  /Users/akagikouzanh/.pyenv/versions/3.13.0/lib/python3.13/_pyrepl/simple_interact.py(160)run_multiline_interactive_console()\n",
    "-> more = console.push(_strip_final_indent(statement), filename=input_name, _symbol=\"single\")  # type: ignore[call-arg]\n",
    "  /Users/akagikouzanh/.pyenv/versions/3.13.0/lib/python3.13/code.py(313)push()\n",
    "-> more = self.runsource(source, filename, symbol=_symbol)\n",
    "  /Users/akagikouzanh/.pyenv/versions/3.13.0/lib/python3.13/_pyrepl/console.py(205)runsource()\n",
    "-> self.runcode(code)\n",
    "  /Users/akagikouzanh/.pyenv/versions/3.13.0/lib/python3.13/code.py(92)runcode()\n",
    "-> exec(code, self.locals)\n",
    "  <python-input-4>(1)<module>()\n",
    "-> get_system_implementation2()\n",
    "> <python-input-2>(3)get_system_implementation2()\n",
    "-> breakpoint()\n",
    "(Pdb) p result\n",
    "namespace(name='cpython', cache_tag='cpython-313', version=sys.version_info(major=3, minor=13, micro=0, releaselevel='final', serial=0), hexversion=51183856, _multiarch='darwin')\n",
    "(Pdb) pp result\n",
    "namespace(name='cpython',\n",
    "          cache_tag='cpython-313',\n",
    "          version=sys.version_info(major=3, minor=13, micro=0, releaselevel='final', serial=0),\n",
    "          hexversion=51183856,\n",
    "          _multiarch='darwin')\n",
    "(Pdb) n\n",
    "> <python-input-2>(4)get_system_implementation2()\n",
    "-> return result\n",
    "(Pdb) c\n",
    "namespace(name='cpython', cache_tag='cpython-313', version=sys.version_info(major=3, minor=13, micro=0, releaselevel='final', serial=0), hexversion=51183856, _multiarch='darwin')\n",
    ">>>\n",
    "```\n"
   ]
  },
  {
   "cell_type": "markdown",
   "id": "e808551b",
   "metadata": {},
   "source": [
    "### 異常終了するスクリプトをデバッグする - pdb.pm()\n",
    "\n",
    "```python\n",
    ">>> import pdb\n",
    ">>> def div(a, b):\n",
    "...     return a / b\n",
    "...\n",
    ">>> pdb.run(div(1, 0))\n",
    "Traceback (most recent call last):\n",
    "  File \"<python-input-11>\", line 1, in <module>\n",
    "    pdb.run(div(1, 0))\n",
    "            ~~~^^^^^^\n",
    "  File \"<python-input-10>\", line 2, in div\n",
    "    return a / b\n",
    "           ~~^~~\n",
    "ZeroDivisionError: division by zero\n",
    ">>> pdb.pm()\n",
    "> <python-input-10>(2)div()\n",
    "-> return a / b\n",
    "(Pdb) p a\n",
    "1\n",
    "(Pdb) p b\n",
    "0\n",
    "```\n"
   ]
  },
  {
   "cell_type": "markdown",
   "id": "855893c1",
   "metadata": {},
   "source": [
    "### コードの実行時間を計測する - timeit\n"
   ]
  },
  {
   "cell_type": "markdown",
   "id": "33a490f4",
   "metadata": {},
   "source": [
    "- コマンドラインで実行する場合\n",
    "  - -n N, --number=N: 実行する回数\n",
    "  - -r N, --repeat=N: 計測を繰り返す回数\n",
    "  - -s S, --setup=S: 最初に実行する文を指定\n",
    "  - -p, -process: 実時間ではなく、プロセス時間を計測\n",
    "  - -u, --unit: 出力時間単位を指定する\n",
    "  - -v, --verbose: 1 ループあたりの平均の代わりに詳細な計測結果を出す\n"
   ]
  },
  {
   "cell_type": "code",
   "execution_count": 9,
   "id": "106cc1cf",
   "metadata": {},
   "outputs": [
    {
     "data": {
      "text/plain": [
       "0.026484166970476508"
      ]
     },
     "execution_count": 9,
     "metadata": {},
     "output_type": "execute_result"
    }
   ],
   "source": [
    "import timeit\n",
    "\n",
    "timeit.timeit('\"test\" in \"this is test.\"')"
   ]
  },
  {
   "cell_type": "code",
   "execution_count": null,
   "id": "3c6c7d8c",
   "metadata": {},
   "outputs": [
    {
     "data": {
      "text/plain": [
       "[0.020300665986724198,\n",
       " 0.01860041602049023,\n",
       " 0.017454749904572964,\n",
       " 0.01677208300679922,\n",
       " 0.017058333032764494]"
      ]
     },
     "execution_count": 10,
     "metadata": {},
     "output_type": "execute_result"
    }
   ],
   "source": [
    "# 5回繰り返す\n",
    "timeit.repeat('\"test\" in \"this is test.\"')"
   ]
  },
  {
   "cell_type": "code",
   "execution_count": 12,
   "id": "2672692d",
   "metadata": {},
   "outputs": [
    {
     "data": {
      "text/plain": [
       "0.023782167001627386"
      ]
     },
     "execution_count": 12,
     "metadata": {},
     "output_type": "execute_result"
    }
   ],
   "source": [
    "# Timerクラスを利用してセットアップ文を指定\n",
    "t = timeit.Timer(\"char in text\", setup=\"text = 'this is a test.'; char = 'test'\")\n",
    "t.timeit()"
   ]
  },
  {
   "cell_type": "code",
   "execution_count": 15,
   "id": "c3f3e95d",
   "metadata": {},
   "outputs": [
    {
     "data": {
      "text/plain": [
       "0.34474916697945446"
      ]
     },
     "execution_count": 15,
     "metadata": {},
     "output_type": "execute_result"
    }
   ],
   "source": [
    "s = \"\"\"try:\n",
    "    \"this is a test\".__bool__\n",
    "except AttributeError:\n",
    "    pass\n",
    "\"\"\"\n",
    "\n",
    "timeit.timeit(stmt=s)"
   ]
  },
  {
   "cell_type": "markdown",
   "id": "2d04e2f3",
   "metadata": {},
   "source": [
    "### ログを出力する - logging\n"
   ]
  },
  {
   "cell_type": "code",
   "execution_count": 1,
   "id": "aa5c683b",
   "metadata": {},
   "outputs": [
    {
     "name": "stderr",
     "output_type": "stream",
     "text": [
      "WARNING:root:warning message\n"
     ]
    }
   ],
   "source": [
    "import logging\n",
    "\n",
    "logging.debug(\"debug message\")\n",
    "logging.warning(\"warning message\")"
   ]
  },
  {
   "cell_type": "markdown",
   "id": "84c9958b",
   "metadata": {},
   "source": [
    "```python\n",
    ">>> import logging\n",
    ">>> logformat = \"%(asctime)s %(levelname)s %(message)s\"\n",
    "... logging.basicConfig(\n",
    "...     filename=\"./snippets/logs/logging.log\",\n",
    "...     level=logging.DEBUG,\n",
    "...     format=logformat,\n",
    "... )\n",
    "...\n",
    ">>> logging.debug(\"debug message hello world\")\n",
    "... logging.info(\"info message\")\n",
    "... logging.warning(\"warning message\")\n",
    "...\n",
    "...\n",
    ">>>\n",
    "```\n"
   ]
  },
  {
   "cell_type": "code",
   "execution_count": 25,
   "id": "29ea4140",
   "metadata": {},
   "outputs": [],
   "source": [
    "logger = logging.getLogger(\"hoge.fuga.piyo\")\n",
    "logger.setLevel(logging.INFO)\n",
    "handler = logging.FileHandler(\"./logs/logging2.log\")\n",
    "handler.setLevel(logging.INFO)\n",
    "logging_filter = logging.Filter(\"hoge.fuga\")\n",
    "logformat = \"%(asctime)s - %(name)s -  %(levelname)s - %(message)s\"\n",
    "formatter = logging.Formatter(logformat)\n",
    "\n",
    "handler.setFormatter(formatter)\n",
    "handler.addFilter(logging_filter)\n",
    "logger.addHandler(handler)\n",
    "logger.addFilter(logging_filter)"
   ]
  },
  {
   "cell_type": "code",
   "execution_count": 26,
   "id": "882b8146",
   "metadata": {},
   "outputs": [
    {
     "name": "stderr",
     "output_type": "stream",
     "text": [
      "INFO:hoge.fuga.piyo:info message\n"
     ]
    }
   ],
   "source": [
    "logger.debug(\"debug message\")\n",
    "logger.info(\"info message\")"
   ]
  },
  {
   "cell_type": "markdown",
   "id": "faa70a57",
   "metadata": {},
   "source": [
    "#### 辞書やファイルからロギング設定する\n",
    "\n",
    "- [Django logging examples](https://docs.djangoproject.com/en/5.1/topics/logging/#examples)\n"
   ]
  },
  {
   "cell_type": "code",
   "execution_count": 30,
   "id": "8acbc540",
   "metadata": {},
   "outputs": [
    {
     "name": "stderr",
     "output_type": "stream",
     "text": [
      "INFO:hoge.fuga.piyo:dict confing info\n"
     ]
    }
   ],
   "source": [
    "from logging.config import dictConfig\n",
    "\n",
    "config = {\n",
    "    \"version\": 1,\n",
    "    \"disable_existing_loggers\": False,\n",
    "    \"formatters\": {\n",
    "        \"example\": {\n",
    "            \"format\": \"%(asctime)s - %(name)s -  %(levelname)s - %(message)s\",\n",
    "        },\n",
    "    },\n",
    "    \"filters\": {\n",
    "        \"hoge-filter\": {\n",
    "            \"name\": \"hoge.fuga\",\n",
    "        },\n",
    "    },\n",
    "    \"handlers\": {\n",
    "        \"file\": {\n",
    "            \"level\": \"INFO\",\n",
    "            \"class\": \"logging.FileHandler\",\n",
    "            \"filename\": \"./logs/logging3.log\",\n",
    "            \"formatter\": \"example\",\n",
    "            \"filters\": [\"hoge-filter\"],\n",
    "        },\n",
    "    },\n",
    "    \"loggers\": {\n",
    "        \"hoge\": {\n",
    "            \"handlers\": [\"file\"],\n",
    "            \"level\": \"INFO\",\n",
    "            \"propagate\": True,\n",
    "        }\n",
    "    },\n",
    "}\n",
    "\n",
    "dictConfig(config)\n",
    "logger = logging.getLogger(\"hoge.fuga.piyo\")\n",
    "logger.debug(\"dict confing debug\")\n",
    "logger.info(\"dict confing info\")"
   ]
  },
  {
   "cell_type": "code",
   "execution_count": 31,
   "id": "c4510357",
   "metadata": {},
   "outputs": [],
   "source": [
    "# from logging.config import fileConfig\n",
    "# ファイルに記述された方法でロギングの設定をすることができる\n",
    "# しかし、フィルターの設定は行うことができない"
   ]
  },
  {
   "cell_type": "code",
   "execution_count": null,
   "id": "9a4af6ce",
   "metadata": {},
   "outputs": [],
   "source": []
  }
 ],
 "metadata": {
  "kernelspec": {
   "display_name": "Python (snippets-hub)",
   "language": "python",
   "name": "python-snippets-hub"
  },
  "language_info": {
   "codemirror_mode": {
    "name": "ipython",
    "version": 3
   },
   "file_extension": ".py",
   "mimetype": "text/x-python",
   "name": "python",
   "nbconvert_exporter": "python",
   "pygments_lexer": "ipython3",
   "version": "3.13.0"
  }
 },
 "nbformat": 4,
 "nbformat_minor": 5
}
