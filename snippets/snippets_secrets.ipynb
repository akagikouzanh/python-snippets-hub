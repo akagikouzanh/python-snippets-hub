{
 "cells": [
  {
   "cell_type": "markdown",
   "id": "65ac638a",
   "metadata": {},
   "source": [
    "### seacrets\n",
    "\n",
    "`seacrets`は、セキュリティ目的で使用する乱数生成やトークン生成などで使用する Python の標準ライブラリ。\n",
    "\n",
    "- random モジュールよりもセキュア(=暗号学的で安全)\n",
    "- 主な使用用途\n",
    "\n",
    "  - パスワードリセットや API キーや一時的な URL や短縮 URL のためのキー生成\n",
    "  - ワンタイム パスワードや一時的なパスワードの生成\n",
    "  - ランダムなトークン生成\n",
    "\n",
    "- 注意\n",
    "\n",
    "  - 復元できる形式でパスワードの保存は NG\n",
    "\n",
    "### 資料\n",
    "\n",
    "[secrets --- 機密を扱うために安全な乱数を生成する](https://docs.python.org/ja/3/library/secrets.html#module-secrets)"
   ]
  },
  {
   "cell_type": "code",
   "execution_count": 3,
   "id": "cf5ee8f5",
   "metadata": {},
   "outputs": [],
   "source": [
    "import string\n",
    "\n",
    "import secrets\n",
    "from urllib import parse"
   ]
  },
  {
   "cell_type": "code",
   "execution_count": 4,
   "id": "b2ba8421",
   "metadata": {},
   "outputs": [
    {
     "name": "stdout",
     "output_type": "stream",
     "text": [
      "abcdefghijklmnopqrstuvwxyzABCDEFGHIJKLMNOPQRSTUVWXYZ0123456789\n",
      "password: 9Z6Lx0dE, len:8\n",
      "b\"b'\\x83\\xb8b\\xf6\\x8aq\\xce\\x94A\\xdb\\x9ew\\xfe\\xfa\\x1a\\x0e\\xf3\\xc00d\\x1dB_U\\xdb9\\x8aH\\xda\\xbc\"\n",
      "a23ba57c2df2a038feff795274370263039871d1702c86e30d3a11d73471ddfc\n",
      "KGp-7lrKn4fZPVeStH1LDLzouyGl3CVfeAxXfxUA6uo\n",
      "https://snippets_secrets.com/?reset=tLhKGQe_JFAqZurDFEJzlW7UkE15izeBG6e8nkzrEWI\n",
      "{'reset': ['tLhKGQe_JFAqZurDFEJzlW7UkE15izeBG6e8nkzrEWI']}\n",
      "True\n"
     ]
    }
   ],
   "source": [
    "# 特定のシーケンスからランダムに要素を選択\n",
    "alpha_num: str = string.ascii_letters + string.digits\n",
    "print(alpha_num)\n",
    "# abcdefghijklmnopqrstuvwxyzABCDEFGHIJKLMNOPQRSTUVWXYZ0123456789\n",
    "\n",
    "password: str = \"\".join(secrets.choice(alpha_num) for i in range(8))\n",
    "print(f\"password: {password}, len:{len(password)}\")\n",
    "# random 8 length password\n",
    "\n",
    "\n",
    "# トークンの生成\n",
    "# 一時的なパスワードリセット用のトークン、推測しづらいURLの生成で使用\n",
    "# nbytesを含むbyte文字列を返す、指定がない場合デフォルトサイズを使用する(default=32)\n",
    "print(secrets.token_bytes())\n",
    "\n",
    "# 16進数のランダムなテキストを返す、指定がない場合デフォルトサイズを使用する(default=64)\n",
    "print(secrets.token_hex())\n",
    "\n",
    "# ランダムなbyteを持つURLテキストを返す、指定がない場合デフォルトサイズを使用する(default=43)\n",
    "print(secrets.token_urlsafe())\n",
    "\n",
    "# トークン検証(「タイミング攻撃」のリスクを低減した定数時間比較で行われる)\n",
    "# 「タイミング攻撃」= 処理にかかる時間差を分析し情報を盗み取る攻撃(比較の時間を同一時間で終わるようにする必要がある)\n",
    "reset_token: str = secrets.token_urlsafe()\n",
    "url: str = \"https://snippets_secrets.com/?reset=\" + reset_token\n",
    "print(url)\n",
    "\n",
    "url_parse = parse.urlparse(url)\n",
    "url_query = parse.parse_qs(url_parse.query)\n",
    "print(url_query)\n",
    "print(secrets.compare_digest(reset_token, url_query[\"reset\"][0]))\n"
   ]
  }
 ],
 "metadata": {
  "kernelspec": {
   "display_name": "Python 3",
   "language": "python",
   "name": "python3"
  },
  "language_info": {
   "codemirror_mode": {
    "name": "ipython",
    "version": 3
   },
   "file_extension": ".py",
   "mimetype": "text/x-python",
   "name": "python",
   "nbconvert_exporter": "python",
   "pygments_lexer": "ipython3",
   "version": "3.13.0"
  }
 },
 "nbformat": 4,
 "nbformat_minor": 5
}
