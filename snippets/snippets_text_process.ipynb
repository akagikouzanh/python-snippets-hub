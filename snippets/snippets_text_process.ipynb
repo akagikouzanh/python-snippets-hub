{
 "cells": [
  {
   "cell_type": "markdown",
   "id": "63f1e1e1",
   "metadata": {},
   "source": [
    "## テキスト処理\n",
    "\n",
    "- 文字列操作について\n",
    "\n",
    "- 文字列リテラルの書き方\n",
    "  - ''\n",
    "  - \"\"\n",
    "  - ''''''\n",
    "  - \"\"\"\"\"\"\n",
    "- エスケープシーケンス\n",
    "  - \\\\ \\を出力\n",
    "  - \\' 'を出力\n",
    "  - \\\" \"を出力\n",
    "  - \\n 行送(LF)を出力\n",
    "  - \\r 復帰(CR)を出力\n",
    "  - \\t タブ(TAB)を出力\n"
   ]
  },
  {
   "cell_type": "code",
   "execution_count": null,
   "id": "708c6668",
   "metadata": {},
   "outputs": [
    {
     "name": "stdout",
     "output_type": "stream",
     "text": [
      "今日はいい天気ですね\n",
      "\n",
      "こんにちは\n",
      "今日はいい天気ですね\n",
      "こんにちは\\n今日はいい天気ですね\n"
     ]
    }
   ],
   "source": [
    "print(\"こんにちは\\r今日はいい天気ですね\\n\")\n",
    "print(\"こんにちは\\n今日はいい天気ですね\")\n",
    "\n",
    "# r(raw)はエスケープを無効にする\n",
    "print(r\"こんにちは\\n今日はいい天気ですね\")"
   ]
  },
  {
   "cell_type": "code",
   "execution_count": 9,
   "id": "321abc93",
   "metadata": {},
   "outputs": [
    {
     "data": {
      "text/plain": [
       "'こんにちはさようなら'"
      ]
     },
     "execution_count": 9,
     "metadata": {},
     "output_type": "execute_result"
    }
   ],
   "source": [
    "# 複数文字列リテラルにスペースを挟むことで一つの文字列として扱うことができる\n",
    "\"こんにちは\" \"さようなら\""
   ]
  },
  {
   "cell_type": "code",
   "execution_count": 11,
   "id": "6deaeb92",
   "metadata": {},
   "outputs": [
    {
     "data": {
      "text/plain": [
       "'1行が長い文字列をこのように複数行に渡って書くこともできます'"
      ]
     },
     "execution_count": 11,
     "metadata": {},
     "output_type": "execute_result"
    }
   ],
   "source": [
    "# 複数の文字列をまとめる\n",
    "# fmt: off\n",
    "(\n",
    "    \"1行が長い文字列を\"\n",
    "    \"このように複数行に渡って\"\n",
    "    \"書くこともできます\"\n",
    ")\n",
    "# fmt: on"
   ]
  },
  {
   "cell_type": "code",
   "execution_count": 12,
   "id": "90e5e1a0",
   "metadata": {},
   "outputs": [
    {
     "data": {
      "text/plain": [
       "UUID('58474f01-c053-4012-b894-2e32d27291d5')"
      ]
     },
     "execution_count": 12,
     "metadata": {},
     "output_type": "execute_result"
    }
   ],
   "source": [
    "# 文字列以外のオブジェクトを文字列に変換する\n",
    "from uuid import uuid4\n",
    "\n",
    "value = uuid4()\n",
    "value"
   ]
  },
  {
   "cell_type": "code",
   "execution_count": 13,
   "id": "3bfa63e9",
   "metadata": {},
   "outputs": [
    {
     "data": {
      "text/plain": [
       "'58474f01-c053-4012-b894-2e32d27291d5'"
      ]
     },
     "execution_count": 13,
     "metadata": {},
     "output_type": "execute_result"
    }
   ],
   "source": [
    "str(value)"
   ]
  },
  {
   "cell_type": "markdown",
   "id": "ed818a0a",
   "metadata": {},
   "source": [
    "### 文字列のチェックメソッド\n",
    "\n",
    "- isalnum() アルファベット数値文字の場合 True\n",
    "- isalpha() 文字の場合(非 ASCII 文字列でも数字記号でなければ) True\n",
    "- isdecimal() 10 進数の場合 True\n",
    "- isdigit() 数字文字の場合 True\n",
    "\n",
    "....などなど\n",
    "\n",
    "[文字列メソッド](https://docs.python.org/ja/3.13/library/stdtypes.html#string-methods)\n"
   ]
  },
  {
   "cell_type": "code",
   "execution_count": 1,
   "id": "4e62ebc0",
   "metadata": {},
   "outputs": [
    {
     "name": "stdout",
     "output_type": "stream",
     "text": [
      "True False\n",
      "True False\n",
      "True False\n",
      "True False\n"
     ]
    }
   ],
   "source": [
    "print(\"123abc\".isalnum(), \"123abc!\".isalnum())\n",
    "print(\"abc\".isalpha(), \"abc1\".isalpha())\n",
    "print(\"4095\".isdecimal(), \"fff\".isdecimal())\n",
    "print(\"10\".isdigit(), \"fff\".isdigit())"
   ]
  },
  {
   "cell_type": "markdown",
   "id": "9dcf39cf",
   "metadata": {},
   "source": [
    "### 文字列変換\n",
    "\n",
    "- upper()\n",
    "- lower()\n",
    "- capitalize()\n",
    "- title()\n",
    "\n",
    "...などなど\n"
   ]
  },
  {
   "cell_type": "code",
   "execution_count": 20,
   "id": "93becc70",
   "metadata": {},
   "outputs": [
    {
     "name": "stdout",
     "output_type": "stream",
     "text": [
      "HELLO\n",
      "world\n",
      "We are the world\n",
      "Hello World\n",
      "I hava a Pen, I have a PineApple, oh PineApplePen\n",
      "00123\n",
      "llo\n",
      "he\n"
     ]
    }
   ],
   "source": [
    "print(\"hello\".upper())\n",
    "print(\"WORLD\".lower())\n",
    "print(\"we are the world\".capitalize())\n",
    "print(\"hello world\".title())\n",
    "print(\"I hava a Pen, I have a Apple, oh ApplePen\".replace(\"Apple\", \"PineApple\"))\n",
    "\n",
    "print(\"123\".zfill(5))\n",
    "print(\"hello\".removeprefix(\"he\"))\n",
    "print(\"hello\".removesuffix(\"llo\"))"
   ]
  },
  {
   "cell_type": "markdown",
   "id": "398e0ba0",
   "metadata": {},
   "source": [
    "### その他のメソッド\n",
    "\n",
    "- fine() 引数の値が見つかった位置を返す\n",
    "- split() 引数の値で分割する\n",
    "- join() 引数の値で文字列を結合する\n",
    "- startwith() 接頭辞を調べる\n",
    "- endowith() 接尾辞を調べる\n",
    "- encode() 第一引数の形式に変換、第二引数で変換対応を記載\n",
    "\n",
    "...などなど\n"
   ]
  },
  {
   "cell_type": "code",
   "execution_count": 30,
   "id": "ab7eb946",
   "metadata": {},
   "outputs": [
    {
     "name": "stdout",
     "output_type": "stream",
     "text": [
      "3\n",
      "['あ', 'い', 'う', 'え', 'お']\n",
      "あ/い/う/え/お\n",
      "True\n",
      "True\n",
      "b'I like ?'\n"
     ]
    }
   ],
   "source": [
    "from os import replace\n",
    "\n",
    "\n",
    "print(\"あいうえお\".find(\"え\"))\n",
    "print(\"あ い う え お\".split(\" \"))\n",
    "print(\"/\".join([\"あ\", \"い\", \"う\", \"え\", \"お\"]))\n",
    "print(\"Hello\".startswith(\"H\"))\n",
    "print(\"World\".endswith(\"d\"))\n",
    "print(\"I like 🍜\".encode(\"ascii\", \"replace\"))"
   ]
  },
  {
   "cell_type": "markdown",
   "id": "270a9c86",
   "metadata": {},
   "source": [
    "### 文字列定数\n",
    "\n",
    "- string.ascii_lowercase\n",
    "- string.ascii_uppercase\n",
    "- string.ascii_letters\n",
    "- string.digits\n",
    "- string.hexdigits\n",
    "- string.oxtdigits\n",
    "- string.punctuation\n",
    "- string.whitespace\n",
    "- string.printable\n"
   ]
  },
  {
   "cell_type": "code",
   "execution_count": 33,
   "id": "5415d417",
   "metadata": {},
   "outputs": [
    {
     "name": "stdout",
     "output_type": "stream",
     "text": [
      "abcdefghijklmnopqrstuvwxyz\n",
      "ABCDEFGHIJKLMNOPQRSTUVWXYZ\n",
      "abcdefghijklmnopqrstuvwxyzABCDEFGHIJKLMNOPQRSTUVWXYZ\n",
      "0123456789\n",
      "0123456789abcdefABCDEF\n",
      "01234567\n",
      "!\"#$%&'()*+,-./:;<=>?@[\\]^_`{|}~\n",
      " \t\n",
      "\u000b\f\n",
      "0123456789abcdefghijklmnopqrstuvwxyzABCDEFGHIJKLMNOPQRSTUVWXYZ!\"#$%&'()*+,-./:;<=>?@[\\]^_`{|}~ \t\n",
      "\u000b\f\n"
     ]
    }
   ],
   "source": [
    "import string\n",
    "\n",
    "print(string.ascii_lowercase)\n",
    "print(string.ascii_uppercase)\n",
    "print(string.ascii_letters)\n",
    "print(string.digits)\n",
    "print(string.hexdigits)\n",
    "print(string.octdigits)\n",
    "print(string.punctuation)\n",
    "print(string.whitespace)\n",
    "print(string.printable)"
   ]
  },
  {
   "cell_type": "markdown",
   "id": "382ad58f",
   "metadata": {},
   "source": [
    "### よくある使い方\n"
   ]
  },
  {
   "cell_type": "code",
   "execution_count": 35,
   "id": "dced3319",
   "metadata": {},
   "outputs": [
    {
     "name": "stdout",
     "output_type": "stream",
     "text": [
      "True\n",
      "False\n"
     ]
    }
   ],
   "source": [
    "s = \"Python\"\n",
    "print(\"P\" in s)\n",
    "print(\"p\" in s)"
   ]
  },
  {
   "cell_type": "markdown",
   "id": "547d3e6e",
   "metadata": {},
   "source": [
    "### フォーマット・文字列リテラル\n",
    "\n",
    "- 文字列リテラルに指揮を埋め込む\n"
   ]
  },
  {
   "cell_type": "code",
   "execution_count": 4,
   "id": "b8b1812e",
   "metadata": {},
   "outputs": [
    {
     "name": "stdout",
     "output_type": "stream",
     "text": [
      "今日の天気は晴れです\n",
      "a + b = 3\n",
      "The Zen of Python\n"
     ]
    }
   ],
   "source": [
    "# f-stringの書き方\n",
    "value = \"晴れ\"\n",
    "print(f\"今日の天気は{value}です\")\n",
    "a = 1\n",
    "b = 2\n",
    "print(f\"a + b = {a + b}\")\n",
    "value = \"python\"\n",
    "print(f\"The Zen of {value.capitalize()}\")"
   ]
  },
  {
   "cell_type": "code",
   "execution_count": 5,
   "id": "55892774",
   "metadata": {},
   "outputs": [
    {
     "name": "stdout",
     "output_type": "stream",
     "text": [
      "user_name='Taro Tanaka', user_age=30\n"
     ]
    }
   ],
   "source": [
    "# =をつけた出力\n",
    "user_name = \"Taro Tanaka\"\n",
    "user_age = 30\n",
    "\n",
    "print(f\"{user_name=}, {user_age=}\")"
   ]
  },
  {
   "cell_type": "code",
   "execution_count": 19,
   "id": "5b5ee867",
   "metadata": {},
   "outputs": [
    {
     "name": "stdout",
     "output_type": "stream",
     "text": [
      "|Hello World                   |\n",
      "|         Hello World          |\n",
      "|                   Hello World|\n",
      "|Hello World-------------------|\n",
      "|---------Hello World----------|\n",
      "|-------------------Hello World|\n",
      "1111101000\n",
      "1750\n",
      "1000\n",
      "3e8\n",
      "3E8\n",
      "3.141593\n",
      "<class 'str'>\n",
      "314.159265%\n",
      "1,000,000\n",
      "| 3.14|\n",
      "2025-04-29\n"
     ]
    }
   ],
   "source": [
    "# 指定した幅で左、中央、右揃えが可能\n",
    "value = \"Hello World\"\n",
    "print(f\"|{value:<30}|\")\n",
    "print(f\"|{value:^30}|\")\n",
    "print(f\"|{value:>30}|\")\n",
    "\n",
    "# 指定した文字で幅を埋める\n",
    "print(f\"|{value:-<30}|\")\n",
    "print(f\"|{value:-^30}|\")\n",
    "print(f\"|{value:->30}|\")\n",
    "\n",
    "# 各種進数変換を行う\n",
    "number = 1000\n",
    "print(f\"{number:b}\")  # 2進数\n",
    "print(f\"{number:o}\")  # 8進数\n",
    "print(f\"{number:d}\")  # 10進数\n",
    "print(f\"{number:x}\")  # 16進数小文字\n",
    "print(f\"{number:X}\")  # 16進数大文字\n",
    "\n",
    "# 固定小数点を文字列にする\n",
    "import math\n",
    "\n",
    "print(f\"{math.pi:f}\")\n",
    "print(type(f\"{math.pi:f}\"))\n",
    "\n",
    "# 百分率で表示\n",
    "print(f\"{math.pi:%}\")\n",
    "\n",
    "# 数値を3桁ごとに区切る\n",
    "million = 1000000\n",
    "print(f\"{million:,}\")\n",
    "\n",
    "# 表示する桁数を指定する(この場合は、5文字まで小数点以下2位まで)\n",
    "print(f\"|{math.pi:5.2f}|\")\n",
    "\n",
    "# 日付のフォーマット\n",
    "from datetime import datetime\n",
    "\n",
    "print(f\"{datetime.now():%Y-%m-%d}\")"
   ]
  },
  {
   "cell_type": "code",
   "execution_count": 31,
   "id": "9f62fc92",
   "metadata": {},
   "outputs": [
    {
     "name": "stdout",
     "output_type": "stream",
     "text": [
      "10 * 1 = 10\n",
      "1 * 10 = 10\n",
      "1 * 10 = 10\n",
      "|Hellow World------------------|\n",
      "Hello World!\n",
      "1 + 3 = 4\n",
      "My name is Taro, 30 years old\n"
     ]
    }
   ],
   "source": [
    "# 少し前のf-string\n",
    "a = 1\n",
    "b = 10\n",
    "print(\"{1} * {0} = {2}\".format(a, b, a * b))\n",
    "print(\"{a} * {b} = {c}\".format(a=a, b=b, c=a * b))\n",
    "print(\"{} * {} = {}\".format(a, b, a * b))\n",
    "\n",
    "print(\"|{:-<30}|\".format(\"Hellow World\"))\n",
    "\n",
    "\n",
    "# %演算子を使用した埋め込み\n",
    "print(\"Hello %s!\" % \"World\")\n",
    "print(\"1 + 3 = %d\" % 4)\n",
    "print(\"My name is %(name)s, %(age)s years old\" % {\"name\": \"Taro\", \"age\": 30})"
   ]
  },
  {
   "cell_type": "markdown",
   "id": "f6e21666",
   "metadata": {},
   "source": [
    "## 正規表現を扱う re\n"
   ]
  },
  {
   "cell_type": "code",
   "execution_count": 36,
   "id": "a376cada",
   "metadata": {},
   "outputs": [
    {
     "name": "stdout",
     "output_type": "stream",
     "text": [
      "<re.Match object; span=(0, 3), match='abc'>\n",
      "<re.Match object; span=(0, 3), match='abc'>\n",
      "<re.Match object; span=(1, 3), match='bc'>\n",
      "None\n"
     ]
    }
   ],
   "source": [
    "import re\n",
    "\n",
    "# 「.」は任意の一文字に一致するという表記\n",
    "print(re.search(\"a.c\", \"abcde\"))\n",
    "print(re.match(\"a.c\", \"abcde\"))\n",
    "print(re.search(\".c\", \"abcde\"))\n",
    "print(re.match(\".c\", \"abcde\"))"
   ]
  },
  {
   "cell_type": "code",
   "execution_count": 48,
   "id": "8449d194",
   "metadata": {},
   "outputs": [
    {
     "name": "stdout",
     "output_type": "stream",
     "text": [
      "<re.Match object; span=(0, 1), match='あ'>\n",
      "<re.Match object; span=(5, 6), match='A'>\n",
      "None\n",
      "<re.Match object; span=(0, 3), match='ABC'>\n",
      "None\n",
      "<re.Match object; span=(0, 3), match='a\\nc'>\n",
      "<re.Match object; span=(0, 3), match='A\\nC'>\n"
     ]
    }
   ],
   "source": [
    "# 正規表現早見表：https://www-creators.com/tool/regex-checker\n",
    "\n",
    "# フラグの使用\n",
    "# A、ASCII \\w, \\sなどのマッチング処理をUnicodeではなく、ASCII文字のみを使用する\n",
    "# I、IGNORECASE 大文字小文字を意識せずマッチする\n",
    "# M、MULITILINE 複数行のテキストを指定した際に^と$が各行の先頭と末尾にマッチする\n",
    "# S、DOTALL '.'を改行を含む任意の文字とマッチさせる(通常はマッチさせない)\n",
    "\n",
    "# 全ての半角英数字とアンダースコア\n",
    "# https://www.flake8rules.com/rules/W605.html\n",
    "print(re.search(r\"\\w\", \"あいうえおABC\"))\n",
    "\n",
    "# ASCIIのみ\n",
    "print(re.search(r\"\\w\", \"あいうえおABC\", flags=re.A))\n",
    "\n",
    "# 大文字小文字を意識しない\n",
    "print(re.search(\"[abc]+\", \"ABC\"))\n",
    "print(re.search(\"[abc]+\", \"ABC\", flags=re.I))\n",
    "\n",
    "# 改行を含むマッチ\n",
    "print(re.search(\"a.c\", \"a\\nc\"))\n",
    "print(re.search(\"a.c\", \"a\\nc\", flags=re.S))\n",
    "\n",
    "# 複数フラグの設置\n",
    "print(re.search(\"a.c\", \"A\\nC\", re.I | re.S))"
   ]
  },
  {
   "cell_type": "code",
   "execution_count": 84,
   "id": "ceac85c9",
   "metadata": {},
   "outputs": [
    {
     "name": "stdout",
     "output_type": "stream",
     "text": [
      "<re.Match object; span=(3, 4), match='h'>\n",
      "None\n",
      "None\n",
      "<re.Match object; span=(0, 3), match='egg'>\n",
      "['080', '1234', '5678']\n",
      "['', '0120', '828', '828']\n",
      "['', '81', '08', '1235', '5678']\n",
      "810812355678\n",
      "XXX@gmail.com YYY@gmail.com ZZZ@xxx.org\n",
      "['080', '1234', '5678']\n",
      "<class 'callable_iterator'>\n",
      "<re.Match object; span=(0, 3), match='080'>\n",
      "<re.Match object; span=(4, 8), match='1234'>\n",
      "<re.Match object; span=(9, 13), match='5678'>\n"
     ]
    }
   ],
   "source": [
    "# 正規表現オブジェクト compile\n",
    "pattern = re.compile(\"[a-n]+\")\n",
    "print(pattern.search(\"python\"))\n",
    "print(pattern.match(\"python\"))\n",
    "print(pattern.fullmatch(\"eggs\"))\n",
    "print(pattern.fullmatch(\"egg\"))\n",
    "\n",
    "tell_pattern = re.compile(\"[-+()]\")\n",
    "print(tell_pattern.split(\"080-1234-5678\"))\n",
    "print(tell_pattern.split(\"(0120)828-828\"))\n",
    "print(tell_pattern.split(\"+81-08-1235-5678\"))\n",
    "print(tell_pattern.sub(\"\", \"+81-08-1235-5678\"))  # 記号パターンの削除\n",
    "\n",
    "\n",
    "# @以降の文字をスペース以外で全てマッチさせ、それを@gmail.comへ変換させる\n",
    "email_pattern = re.compile(\"@[^ ]*\")\n",
    "emails = \"XXX@ YYY@yahoo.co.jp ZZZ@xxx.org\"\n",
    "print(email_pattern.sub(\"@gmail.com\", emails, count=2))\n",
    "\n",
    "\n",
    "re_numbers = re.compile(r\"\\d+\")\n",
    "print(re_numbers.findall(\"080-1234-5678\"))\n",
    "i = re_numbers.finditer(\"080-1234-5678\")\n",
    "print(type(i))\n",
    "for m in i:\n",
    "    print(m)"
   ]
  },
  {
   "cell_type": "code",
   "execution_count": 102,
   "id": "b23f9cd5",
   "metadata": {},
   "outputs": [
    {
     "name": "stdout",
     "output_type": "stream",
     "text": [
      "080-1234-5678\n",
      "080\n",
      "1234\n",
      "5678\n",
      "('080', '1234', '5678')\n",
      "080-1234-5678\n",
      "['__class__', '__class_getitem__', '__copy__', '__deepcopy__', '__delattr__', '__dir__', '__doc__', '__eq__', '__format__', '__ge__', '__getattribute__', '__getitem__', '__getstate__', '__gt__', '__hash__', '__init__', '__init_subclass__', '__le__', '__lt__', '__module__', '__ne__', '__new__', '__reduce__', '__reduce_ex__', '__repr__', '__setattr__', '__sizeof__', '__str__', '__subclasshook__', 'end', 'endpos', 'expand', 'group', 'groupdict', 'groups', 'lastgroup', 'lastindex', 'pos', 're', 'regs', 'span', 'start', 'string']\n",
      "鈴木\n",
      "一郎\n",
      "鈴木\n",
      "('鈴木', '一郎')\n"
     ]
    }
   ],
   "source": [
    "# マッチオブジェクト\n",
    "m = re.match(r\"(\\d+)-(\\d+)-(\\d+)\", \"080-1234-5678\")\n",
    "print(m.group(0))\n",
    "print(m.group(1))\n",
    "print(m.group(2))\n",
    "print(m.group(3))\n",
    "print(m.group(1, 2, 3))\n",
    "print(m[0])\n",
    "print(dir(m))\n",
    "\n",
    "# 名前付きグループ\n",
    "name_pattern = re.compile(r\"(?P<last>\\w+) (?P<first>\\w+)\")\n",
    "name = name_pattern.match(\"鈴木 一郎\")\n",
    "print(name.group(\"last\"))\n",
    "print(name.group(\"first\"))\n",
    "print(name[1])\n",
    "print(name.groups())"
   ]
  },
  {
   "cell_type": "markdown",
   "id": "7a8f4ba7",
   "metadata": {},
   "source": [
    "## Unicode データベース\n",
    "\n",
    "- [参考：snippets/snippets_unicodedata.ipynb](https://github.com/akagikouzanh/python-snippets-hub/blob/master/snippets/snippets_unicodedata.ipynb)\n"
   ]
  },
  {
   "cell_type": "markdown",
   "id": "5eaf72a5",
   "metadata": {},
   "source": []
  }
 ],
 "metadata": {
  "kernelspec": {
   "display_name": "Python (snippets-hub)",
   "language": "python",
   "name": "python-snippets-hub"
  },
  "language_info": {
   "codemirror_mode": {
    "name": "ipython",
    "version": 3
   },
   "file_extension": ".py",
   "mimetype": "text/x-python",
   "name": "python",
   "nbconvert_exporter": "python",
   "pygments_lexer": "ipython3",
   "version": "3.13.0"
  }
 },
 "nbformat": 4,
 "nbformat_minor": 5
}
