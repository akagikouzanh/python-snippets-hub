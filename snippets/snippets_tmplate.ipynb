{
 "cells": [
  {
   "cell_type": "markdown",
   "id": "63f1e1e1",
   "metadata": {},
   "source": [
    "### 対象のライブラリ\n",
    "\n",
    "`対象のライブラリ`は xxxx 標準ライブラリ\n",
    "\n",
    "- 特徴\n",
    "- 主な使用用途\n",
    "\n",
    "- 注意\n",
    "\n",
    "### 資料\n",
    "\n",
    "[ドキュメント]()\n"
   ]
  },
  {
   "cell_type": "code",
   "execution_count": 1,
   "id": "84db1851",
   "metadata": {},
   "outputs": [
    {
     "data": {
      "text/plain": [
       "'\\nexample xxxx\\n\\nSee also:\\nhttps://docs.python.org/ja\\n'"
      ]
     },
     "execution_count": 1,
     "metadata": {},
     "output_type": "execute_result"
    }
   ],
   "source": [
    "\"\"\"\n",
    "example xxxx\n",
    "\n",
    "See also:\n",
    "https://docs.python.org/ja\n",
    "\"\"\"\n"
   ]
  }
 ],
 "metadata": {
  "kernelspec": {
   "display_name": "Python 3",
   "language": "python",
   "name": "python3"
  },
  "language_info": {
   "codemirror_mode": {
    "name": "ipython",
    "version": 3
   },
   "file_extension": ".py",
   "mimetype": "text/x-python",
   "name": "python",
   "nbconvert_exporter": "python",
   "pygments_lexer": "ipython3",
   "version": "3.13.0"
  }
 },
 "nbformat": 4,
 "nbformat_minor": 5
}
