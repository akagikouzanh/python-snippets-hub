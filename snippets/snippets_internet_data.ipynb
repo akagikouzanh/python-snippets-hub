{
 "cells": [
  {
   "cell_type": "markdown",
   "id": "63f1e1e1",
   "metadata": {},
   "source": [
    "## インターネット上のデータを扱う\n",
    "\n",
    "- [urllib.parse --- URL を構成要素に解析する](https://docs.python.org/ja/3.13/library/urllib.parse.html)\n"
   ]
  },
  {
   "cell_type": "markdown",
   "id": "1cd9e41c",
   "metadata": {},
   "source": [
    "### URL をパースする - urllib.parse\n"
   ]
  },
  {
   "cell_type": "code",
   "execution_count": 1,
   "id": "d232e984",
   "metadata": {},
   "outputs": [
    {
     "data": {
      "text/plain": [
       "ParseResult(scheme='https', netloc='akagikouzanh.tech', path='/', params='', query='', fragment='')"
      ]
     },
     "execution_count": 1,
     "metadata": {},
     "output_type": "execute_result"
    }
   ],
   "source": [
    "from urllib import parse\n",
    "\n",
    "result = parse.urlparse(\"https://akagikouzanh.tech/\")\n",
    "result"
   ]
  },
  {
   "cell_type": "code",
   "execution_count": 2,
   "id": "1d5233dd",
   "metadata": {},
   "outputs": [
    {
     "data": {
      "text/plain": [
       "'https://akagikouzanh.tech/'"
      ]
     },
     "execution_count": 2,
     "metadata": {},
     "output_type": "execute_result"
    }
   ],
   "source": [
    "result.geturl()"
   ]
  },
  {
   "cell_type": "code",
   "execution_count": 3,
   "id": "17cb3122",
   "metadata": {},
   "outputs": [
    {
     "data": {
      "text/plain": [
       "'https'"
      ]
     },
     "execution_count": 3,
     "metadata": {},
     "output_type": "execute_result"
    }
   ],
   "source": [
    "result.scheme"
   ]
  },
  {
   "cell_type": "code",
   "execution_count": 4,
   "id": "46e9c306",
   "metadata": {},
   "outputs": [
    {
     "data": {
      "text/plain": [
       "'https'"
      ]
     },
     "execution_count": 4,
     "metadata": {},
     "output_type": "execute_result"
    }
   ],
   "source": [
    "result[0]"
   ]
  },
  {
   "cell_type": "code",
   "execution_count": 5,
   "id": "8b8bd7c5",
   "metadata": {},
   "outputs": [
    {
     "data": {
      "text/plain": [
       "'akagikouzanh.tech'"
      ]
     },
     "execution_count": 5,
     "metadata": {},
     "output_type": "execute_result"
    }
   ],
   "source": [
    "result.hostname"
   ]
  },
  {
   "cell_type": "code",
   "execution_count": 6,
   "id": "e56258c7",
   "metadata": {},
   "outputs": [
    {
     "data": {
      "text/plain": [
       "'/'"
      ]
     },
     "execution_count": 6,
     "metadata": {},
     "output_type": "execute_result"
    }
   ],
   "source": [
    "result.path"
   ]
  },
  {
   "cell_type": "code",
   "execution_count": 8,
   "id": "5432c084",
   "metadata": {},
   "outputs": [
    {
     "data": {
      "text/plain": [
       "''"
      ]
     },
     "execution_count": 8,
     "metadata": {},
     "output_type": "execute_result"
    }
   ],
   "source": [
    "# 「#」行こうが帰ってくる(今回はない)\n",
    "result.fragment"
   ]
  },
  {
   "cell_type": "code",
   "execution_count": 10,
   "id": "92ca1509",
   "metadata": {},
   "outputs": [
    {
     "data": {
      "text/plain": [
       "''"
      ]
     },
     "execution_count": 10,
     "metadata": {},
     "output_type": "execute_result"
    }
   ],
   "source": [
    "# ;移行の文字列(今回はない)\n",
    "result.params"
   ]
  },
  {
   "cell_type": "code",
   "execution_count": 16,
   "id": "7aa224ce",
   "metadata": {},
   "outputs": [],
   "source": [
    "# クエリ文字をパースする\n",
    "result = parse.urlparse(\n",
    "    \"https://www.google.co.jp/search?q=python&oq=python&sourceid=chrome&ie=UTF-8\"\n",
    ")"
   ]
  },
  {
   "cell_type": "code",
   "execution_count": 17,
   "id": "f363e9fc",
   "metadata": {},
   "outputs": [
    {
     "data": {
      "text/plain": [
       "'q=python&oq=python&sourceid=chrome&ie=UTF-8'"
      ]
     },
     "execution_count": 17,
     "metadata": {},
     "output_type": "execute_result"
    }
   ],
   "source": [
    "result.query"
   ]
  },
  {
   "cell_type": "code",
   "execution_count": 18,
   "id": "00df0a7a",
   "metadata": {},
   "outputs": [
    {
     "data": {
      "text/plain": [
       "{'q': ['python'], 'oq': ['python'], 'sourceid': ['chrome'], 'ie': ['UTF-8']}"
      ]
     },
     "execution_count": 18,
     "metadata": {},
     "output_type": "execute_result"
    }
   ],
   "source": [
    "parse.parse_qs(result.query)"
   ]
  },
  {
   "cell_type": "code",
   "execution_count": 19,
   "id": "6ca3ed14",
   "metadata": {},
   "outputs": [
    {
     "data": {
      "text/plain": [
       "{'key': ['1', '2']}"
      ]
     },
     "execution_count": 19,
     "metadata": {},
     "output_type": "execute_result"
    }
   ],
   "source": [
    "parse.parse_qs(\"key=1&key=2\")"
   ]
  },
  {
   "cell_type": "code",
   "execution_count": 20,
   "id": "c01aed8e",
   "metadata": {},
   "outputs": [
    {
     "data": {
      "text/plain": [
       "[('q', 'python'), ('oq', 'python'), ('sourceid', 'chrome'), ('ie', 'UTF-8')]"
      ]
     },
     "execution_count": 20,
     "metadata": {},
     "output_type": "execute_result"
    }
   ],
   "source": [
    "parse.parse_qsl(result.query)"
   ]
  },
  {
   "cell_type": "code",
   "execution_count": 21,
   "id": "ebb74695",
   "metadata": {},
   "outputs": [
    {
     "data": {
      "text/plain": [
       "[('key', '1'), ('key', '2')]"
      ]
     },
     "execution_count": 21,
     "metadata": {},
     "output_type": "execute_result"
    }
   ],
   "source": [
    "parse.parse_qsl(\"key=1&key=2\")"
   ]
  },
  {
   "cell_type": "code",
   "execution_count": 24,
   "id": "b62bc381",
   "metadata": {},
   "outputs": [
    {
     "data": {
      "text/plain": [
       "{'key2': ['2']}"
      ]
     },
     "execution_count": 24,
     "metadata": {},
     "output_type": "execute_result"
    }
   ],
   "source": [
    "parse.parse_qs(\"key1=&key2=2\")"
   ]
  },
  {
   "cell_type": "code",
   "execution_count": 25,
   "id": "a6ca7d96",
   "metadata": {},
   "outputs": [
    {
     "data": {
      "text/plain": [
       "{'key1': [''], 'key2': ['2']}"
      ]
     },
     "execution_count": 25,
     "metadata": {},
     "output_type": "execute_result"
    }
   ],
   "source": [
    "parse.parse_qs(\"key1=&key2=2\", keep_blank_values=True)"
   ]
  },
  {
   "cell_type": "markdown",
   "id": "a7ddbaae",
   "metadata": {},
   "source": [
    "### クエリ文字を組み立てる - urlencode()\n"
   ]
  },
  {
   "cell_type": "code",
   "execution_count": 26,
   "id": "73c604a0",
   "metadata": {},
   "outputs": [
    {
     "data": {
      "text/plain": [
       "'key1=1&key2=2&key3=%E3%81%B1%E3%81%84%E3%81%9D%E3%82%93'"
      ]
     },
     "execution_count": 26,
     "metadata": {},
     "output_type": "execute_result"
    }
   ],
   "source": [
    "parse.urlencode({\"key1\": 1, \"key2\": 2, \"key3\": \"ぱいそん\"})"
   ]
  },
  {
   "cell_type": "code",
   "execution_count": 27,
   "id": "9b738d5f",
   "metadata": {},
   "outputs": [
    {
     "data": {
      "text/plain": [
       "'key1=1&key2=2&key3=%E3%81%B1%E3%81%84%E3%81%9D%E3%82%93'"
      ]
     },
     "execution_count": 27,
     "metadata": {},
     "output_type": "execute_result"
    }
   ],
   "source": [
    "parse.urlencode([(\"key1\", 1), (\"key2\", 2), (\"key3\", \"ぱいそん\")])"
   ]
  },
  {
   "cell_type": "code",
   "execution_count": 30,
   "id": "1cf4b451",
   "metadata": {},
   "outputs": [
    {
     "data": {
      "text/plain": [
       "'key1=1&key2=%5B%27foo%27%2C+%27bar%27%5D'"
      ]
     },
     "execution_count": 30,
     "metadata": {},
     "output_type": "execute_result"
    }
   ],
   "source": [
    "# foo, barは文字列扱い\n",
    "query = {\"key1\": 1, \"key2\": [\"foo\", \"bar\"]}\n",
    "parse.urlencode(query)"
   ]
  },
  {
   "cell_type": "code",
   "execution_count": 31,
   "id": "8ec19f7f",
   "metadata": {},
   "outputs": [
    {
     "data": {
      "text/plain": [
       "'key1=1&key2=foo&key2=bar'"
      ]
     },
     "execution_count": 31,
     "metadata": {},
     "output_type": "execute_result"
    }
   ],
   "source": [
    "# 1つのキーに複数の値が存在すると解釈される\n",
    "parse.urlencode(query, doseq=True)"
   ]
  },
  {
   "cell_type": "code",
   "execution_count": 32,
   "id": "5ad841dc",
   "metadata": {},
   "outputs": [
    {
     "data": {
      "text/plain": [
       "'key1=+'"
      ]
     },
     "execution_count": 32,
     "metadata": {},
     "output_type": "execute_result"
    }
   ],
   "source": [
    "query = {\"key1\": \" \"}\n",
    "parse.urlencode(query)"
   ]
  },
  {
   "cell_type": "code",
   "execution_count": 33,
   "id": "5a4dc065",
   "metadata": {},
   "outputs": [
    {
     "data": {
      "text/plain": [
       "'key1=%20'"
      ]
     },
     "execution_count": 33,
     "metadata": {},
     "output_type": "execute_result"
    }
   ],
   "source": [
    "parse.urlencode(query, quote_via=parse.quote)"
   ]
  },
  {
   "cell_type": "markdown",
   "id": "2e6ed1f7",
   "metadata": {},
   "source": [
    "### URL として使用できる文字列に変換 - quote(), quote_plus()\n"
   ]
  },
  {
   "cell_type": "code",
   "execution_count": 34,
   "id": "e6e68b00",
   "metadata": {},
   "outputs": [
    {
     "data": {
      "text/plain": [
       "'https%3A//ja.wikipedia.org/wiki/%E3%83%91%E3%82%A4%E3%82%BD%E3%83%B3'"
      ]
     },
     "execution_count": 34,
     "metadata": {},
     "output_type": "execute_result"
    }
   ],
   "source": [
    "url = \"https://ja.wikipedia.org/wiki/パイソン\"\n",
    "parse.quote(url)"
   ]
  },
  {
   "cell_type": "code",
   "execution_count": 35,
   "id": "662434e4",
   "metadata": {},
   "outputs": [
    {
     "data": {
      "text/plain": [
       "'https%3A%2F%2Fja.wikipedia.org%2Fwiki%2F%E3%83%91%E3%82%A4%E3%82%BD%E3%83%B3'"
      ]
     },
     "execution_count": 35,
     "metadata": {},
     "output_type": "execute_result"
    }
   ],
   "source": [
    "parse.quote_plus(url)"
   ]
  },
  {
   "cell_type": "code",
   "execution_count": 36,
   "id": "f700894a",
   "metadata": {},
   "outputs": [
    {
     "data": {
      "text/plain": [
       "'_.-~'"
      ]
     },
     "execution_count": 36,
     "metadata": {},
     "output_type": "execute_result"
    }
   ],
   "source": [
    "parse.quote(\"_.-~\")"
   ]
  },
  {
   "cell_type": "code",
   "execution_count": 39,
   "id": "3a10affb",
   "metadata": {},
   "outputs": [
    {
     "data": {
      "text/plain": [
       "'_.-~'"
      ]
     },
     "execution_count": 39,
     "metadata": {},
     "output_type": "execute_result"
    }
   ],
   "source": [
    "# 3.6以前はチルダをエンコードされないようにするにはsafeを指定する\n",
    "parse.quote_plus(\"_.-~\", safe=\"/~\")"
   ]
  },
  {
   "cell_type": "markdown",
   "id": "a87e4d92",
   "metadata": {},
   "source": [
    "### URL を結合する - urljoin()\n"
   ]
  },
  {
   "cell_type": "code",
   "execution_count": 41,
   "id": "13c62a65",
   "metadata": {},
   "outputs": [
    {
     "data": {
      "text/plain": [
       "'https://ja.wikipedia.org/wiki/Python'"
      ]
     },
     "execution_count": 41,
     "metadata": {},
     "output_type": "execute_result"
    }
   ],
   "source": [
    "parse.urljoin(\"https://ja.wikipedia.org\", \"/wiki/Python\")"
   ]
  },
  {
   "cell_type": "code",
   "execution_count": 44,
   "id": "c04b307d",
   "metadata": {},
   "outputs": [
    {
     "data": {
      "text/plain": [
       "'https://ja.wikipedia.org/wiki/Python#ライブラリ'"
      ]
     },
     "execution_count": 44,
     "metadata": {},
     "output_type": "execute_result"
    }
   ],
   "source": [
    "parse.urljoin(\"https://ja.wikipedia.org/wiki/Python\", \"#ライブラリ\")"
   ]
  },
  {
   "cell_type": "code",
   "execution_count": 45,
   "id": "dbbe1ddc",
   "metadata": {},
   "outputs": [
    {
     "data": {
      "text/plain": [
       "'https://ja.wikipedia.org/wiki/Python'"
      ]
     },
     "execution_count": 45,
     "metadata": {},
     "output_type": "execute_result"
    }
   ],
   "source": [
    "# 相対パスにするとそれを埋めるように設定される\n",
    "parse.urljoin(\"https://ja.wikipedia.org/test/path\", \"../../wiki/Python\")"
   ]
  },
  {
   "cell_type": "code",
   "execution_count": 46,
   "id": "0fc3b52a",
   "metadata": {},
   "outputs": [
    {
     "data": {
      "text/plain": [
       "'https://www.example.com'"
      ]
     },
     "execution_count": 46,
     "metadata": {},
     "output_type": "execute_result"
    }
   ],
   "source": [
    "parse.urljoin(\"https://www.python.org/\", \"https://www.example.com\")"
   ]
  },
  {
   "cell_type": "code",
   "execution_count": 47,
   "id": "c9fc76fb",
   "metadata": {},
   "outputs": [
    {
     "data": {
      "text/plain": [
       "{'q': ['python'], 'oq': ['python;sourceid=chrome'], 'ie': ['UTF-8']}"
      ]
     },
     "execution_count": 47,
     "metadata": {},
     "output_type": "execute_result"
    }
   ],
   "source": [
    "qs = \"q=python&oq=python;sourceid=chrome&ie=UTF-8\"\n",
    "parse.parse_qs(qs)"
   ]
  },
  {
   "cell_type": "code",
   "execution_count": 50,
   "id": "fc06fe5f",
   "metadata": {},
   "outputs": [
    {
     "data": {
      "text/plain": [
       "{'q': ['python&oq=python'], 'sourceid': ['chrome&ie=UTF-8']}"
      ]
     },
     "execution_count": 50,
     "metadata": {},
     "output_type": "execute_result"
    }
   ],
   "source": [
    "# バージョンによっては引数使用ができないため、注意が必要\n",
    "parse.parse_qs(qs, separator=\";\")"
   ]
  },
  {
   "cell_type": "code",
   "execution_count": 49,
   "id": "9d5016f5",
   "metadata": {},
   "outputs": [
    {
     "data": {
      "text/plain": [
       "{'q': ['python&oq=python;sourceid=chrome&ie=UTF-8']}"
      ]
     },
     "execution_count": 49,
     "metadata": {},
     "output_type": "execute_result"
    }
   ],
   "source": [
    "parse.parse_qs(qs, separator=\"&;\")"
   ]
  },
  {
   "cell_type": "markdown",
   "id": "23bdf6b0",
   "metadata": {},
   "source": [
    "## URL を開く - urllib.request\n"
   ]
  },
  {
   "cell_type": "code",
   "execution_count": 55,
   "id": "2bc651c1",
   "metadata": {},
   "outputs": [
    {
     "data": {
      "text/plain": [
       "b'{\\n  \"args\": {}, \\n  \"headers\": {\\n    \"Accept-Encoding\": \"identity\", \\n    \"Host\": \"httpbin.org'"
      ]
     },
     "execution_count": 55,
     "metadata": {},
     "output_type": "execute_result"
    }
   ],
   "source": [
    "from urllib import request\n",
    "\n",
    "with request.urlopen(\"https://httpbin.org/get\") as f:\n",
    "    res = f.read()[:92]\n",
    "\n",
    "res"
   ]
  },
  {
   "cell_type": "code",
   "execution_count": 57,
   "id": "9fb276cb",
   "metadata": {},
   "outputs": [],
   "source": [
    "file_data = request.urlopen(\"https://httpbin.org/image/jpeg\").read()\n",
    "with open(\"tmpfiles/test.jpg\", \"wb\") as f:\n",
    "    f.write(file_data)"
   ]
  },
  {
   "cell_type": "code",
   "execution_count": 58,
   "id": "cece5d94",
   "metadata": {},
   "outputs": [
    {
     "data": {
      "text/plain": [
       "200"
      ]
     },
     "execution_count": 58,
     "metadata": {},
     "output_type": "execute_result"
    }
   ],
   "source": [
    "data = \"key1=value1&key2=value2\"\n",
    "res = request.urlopen(\"https://httpbin.org/post\", data=data.encode())\n",
    "res.status"
   ]
  },
  {
   "cell_type": "markdown",
   "id": "ebe9fe39",
   "metadata": {},
   "source": [
    "### GET, POST 以外の HTTP メソッドを扱う\n",
    "\n",
    "- [class urllib.request.Request](https://docs.python.org/ja/3.13/library/urllib.request.html#urllib.request.Request)\n"
   ]
  },
  {
   "cell_type": "code",
   "execution_count": 73,
   "id": "d54de848",
   "metadata": {},
   "outputs": [
    {
     "name": "stdout",
     "output_type": "stream",
     "text": [
      "200\n",
      "b'{\\n  \"args\": {}, \\n  \"data\": \"\", \\n  \"files\": {}, \\n  \"form\": {\\n    \"key1\": \"value1\", \\n    \"key2\": \"value2\"\\n  }, \\n'\n"
     ]
    }
   ],
   "source": [
    "# 基本はtry except使って正しく処理する\n",
    "req = request.Request(\"https://httpbin.org/delete\", data=data.encode(), method=\"DELETE\")\n",
    "with request.urlopen(req) as f:\n",
    "    res_body = f.read()[:110]\n",
    "    res_status = res.status\n",
    "\n",
    "print(res_status)\n",
    "print(res_body)"
   ]
  },
  {
   "cell_type": "code",
   "execution_count": 106,
   "id": "5eabcd50",
   "metadata": {},
   "outputs": [
    {
     "data": {
      "text/plain": [
       "{'_full_url': 'https://httpbin.org/get',\n",
       " 'fragment': None,\n",
       " 'type': 'https',\n",
       " 'host': 'httpbin.org',\n",
       " 'selector': '/get',\n",
       " 'headers': {'Accept': 'application/json'},\n",
       " 'unredirected_hdrs': {},\n",
       " '_data': None,\n",
       " '_tunnel_host': None,\n",
       " 'origin_req_host': 'httpbin.org',\n",
       " 'unverifiable': False}"
      ]
     },
     "execution_count": 106,
     "metadata": {},
     "output_type": "execute_result"
    }
   ],
   "source": [
    "headers = {\"Accept\": \"application/json\"}\n",
    "res = request.Request(\"https://httpbin.org/get\", headers=headers)\n",
    "res.__dict__"
   ]
  },
  {
   "cell_type": "code",
   "execution_count": 78,
   "id": "43914b32",
   "metadata": {},
   "outputs": [
    {
     "name": "stdout",
     "output_type": "stream",
     "text": [
      "{'Accept': 'application/json'}\n"
     ]
    }
   ],
   "source": [
    "print(res.headers)"
   ]
  },
  {
   "cell_type": "markdown",
   "id": "b19234b5",
   "metadata": {},
   "source": [
    "## Base16, Base64 などへエンコードする - base64\n"
   ]
  },
  {
   "cell_type": "code",
   "execution_count": 114,
   "id": "d5751abb",
   "metadata": {},
   "outputs": [
    {
     "ename": "TypeError",
     "evalue": "a bytes-like object is required, not 'str'",
     "output_type": "error",
     "traceback": [
      "\u001b[31m---------------------------------------------------------------------------\u001b[39m",
      "\u001b[31mTypeError\u001b[39m                                 Traceback (most recent call last)",
      "\u001b[36mCell\u001b[39m\u001b[36m \u001b[39m\u001b[32mIn[114]\u001b[39m\u001b[32m, line 4\u001b[39m\n\u001b[32m      1\u001b[39m \u001b[38;5;28;01mimport\u001b[39;00m\u001b[38;5;250m \u001b[39m\u001b[34;01mbase64\u001b[39;00m\n\u001b[32m      3\u001b[39m s = \u001b[33m\"\u001b[39m\u001b[33mPythonは簡単に学習でき、それでいて強力な言語の一つです。\u001b[39m\u001b[33m\"\u001b[39m\n\u001b[32m----> \u001b[39m\u001b[32m4\u001b[39m \u001b[43mbase64\u001b[49m\u001b[43m.\u001b[49m\u001b[43mb64encode\u001b[49m\u001b[43m(\u001b[49m\u001b[43ms\u001b[49m\u001b[43m)\u001b[49m\n",
      "\u001b[36mFile \u001b[39m\u001b[32m~/.pyenv/versions/3.13.0/lib/python3.13/base64.py:58\u001b[39m, in \u001b[36mb64encode\u001b[39m\u001b[34m(s, altchars)\u001b[39m\n\u001b[32m     51\u001b[39m \u001b[38;5;28;01mdef\u001b[39;00m\u001b[38;5;250m \u001b[39m\u001b[34mb64encode\u001b[39m(s, altchars=\u001b[38;5;28;01mNone\u001b[39;00m):\n\u001b[32m     52\u001b[39m \u001b[38;5;250m    \u001b[39m\u001b[33;03m\"\"\"Encode the bytes-like object s using Base64 and return a bytes object.\u001b[39;00m\n\u001b[32m     53\u001b[39m \n\u001b[32m     54\u001b[39m \u001b[33;03m    Optional altchars should be a byte string of length 2 which specifies an\u001b[39;00m\n\u001b[32m     55\u001b[39m \u001b[33;03m    alternative alphabet for the '+' and '/' characters.  This allows an\u001b[39;00m\n\u001b[32m     56\u001b[39m \u001b[33;03m    application to e.g. generate url or filesystem safe Base64 strings.\u001b[39;00m\n\u001b[32m     57\u001b[39m \u001b[33;03m    \"\"\"\u001b[39;00m\n\u001b[32m---> \u001b[39m\u001b[32m58\u001b[39m     encoded = \u001b[43mbinascii\u001b[49m\u001b[43m.\u001b[49m\u001b[43mb2a_base64\u001b[49m\u001b[43m(\u001b[49m\u001b[43ms\u001b[49m\u001b[43m,\u001b[49m\u001b[43m \u001b[49m\u001b[43mnewline\u001b[49m\u001b[43m=\u001b[49m\u001b[38;5;28;43;01mFalse\u001b[39;49;00m\u001b[43m)\u001b[49m\n\u001b[32m     59\u001b[39m     \u001b[38;5;28;01mif\u001b[39;00m altchars \u001b[38;5;129;01mis\u001b[39;00m \u001b[38;5;129;01mnot\u001b[39;00m \u001b[38;5;28;01mNone\u001b[39;00m:\n\u001b[32m     60\u001b[39m         \u001b[38;5;28;01massert\u001b[39;00m \u001b[38;5;28mlen\u001b[39m(altchars) == \u001b[32m2\u001b[39m, \u001b[38;5;28mrepr\u001b[39m(altchars)\n",
      "\u001b[31mTypeError\u001b[39m: a bytes-like object is required, not 'str'"
     ]
    }
   ],
   "source": [
    "import base64\n",
    "\n",
    "s = \"Pythonは簡単に学習でき、それでいて強力な言語の一つです。\"\n",
    "base64.b64encode(s)"
   ]
  },
  {
   "cell_type": "code",
   "execution_count": 122,
   "id": "d91cdcd6",
   "metadata": {},
   "outputs": [
    {
     "data": {
      "text/plain": [
       "b'UHl0aG9u44Gv57Ch5Y2Y44Gr5a2m57+S44Gn44GN44CB44Gd44KM44Gn44GE44Gm5by35Yqb44Gq6KiA6Kqe44Gu5LiA44Gk44Gn44GZ44CC'"
      ]
     },
     "execution_count": 122,
     "metadata": {},
     "output_type": "execute_result"
    }
   ],
   "source": [
    "bs = base64.b64encode(s.encode())\n",
    "bs"
   ]
  },
  {
   "cell_type": "code",
   "execution_count": null,
   "id": "90e07822",
   "metadata": {},
   "outputs": [
    {
     "data": {
      "text/plain": [
       "b'UHl0aG9u44Gv57Ch5Y2Y44Gr5a2m57@S44Gn44GN44CB44Gd44KM44Gn44GE44Gm5by35Yqb44Gq6KiA6Kqe44Gu5LiA44Gk44Gn44GZ44CC'"
      ]
     },
     "execution_count": 116,
     "metadata": {},
     "output_type": "execute_result"
    }
   ],
   "source": [
    "base64.b64encode(s.encode(), altchars=b\"@*\")"
   ]
  },
  {
   "cell_type": "code",
   "execution_count": 123,
   "id": "9b1886e6",
   "metadata": {},
   "outputs": [
    {
     "data": {
      "text/plain": [
       "'Pythonは簡単に学習でき、それでいて強力な言語の一つです。'"
      ]
     },
     "execution_count": 123,
     "metadata": {},
     "output_type": "execute_result"
    }
   ],
   "source": [
    "base64.b64decode(bs).decode()"
   ]
  },
  {
   "cell_type": "code",
   "execution_count": 130,
   "id": "6ffd0cca",
   "metadata": {},
   "outputs": [
    {
     "name": "stdout",
     "output_type": "stream",
     "text": [
      "200\n",
      "b'{\\n  \"args\": {}, \\n  \"data\": \"\", \\n  \"files\": {}, \\n  \"form\": {\\n    \"key1\": \"value1\", \\n    \"key2\": \"valu'\n"
     ]
    }
   ],
   "source": [
    "data = \"key1=value1&key2=value2\"\n",
    "\n",
    "with request.urlopen(\"https://httpbin.org/post\", data=data.encode()) as req:\n",
    "    print(req.status)\n",
    "    print(req.read()[:100])"
   ]
  },
  {
   "cell_type": "code",
   "execution_count": null,
   "id": "57fe97e1",
   "metadata": {},
   "outputs": [],
   "source": []
  }
 ],
 "metadata": {
  "kernelspec": {
   "display_name": "Python (snippets-hub)",
   "language": "python",
   "name": "python-snippets-hub"
  },
  "language_info": {
   "codemirror_mode": {
    "name": "ipython",
    "version": 3
   },
   "file_extension": ".py",
   "mimetype": "text/x-python",
   "name": "python",
   "nbconvert_exporter": "python",
   "pygments_lexer": "ipython3",
   "version": "3.13.0"
  }
 },
 "nbformat": 4,
 "nbformat_minor": 5
}
