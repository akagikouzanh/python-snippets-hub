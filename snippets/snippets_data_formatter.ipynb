{
 "cells": [
  {
   "cell_type": "markdown",
   "id": "63f1e1e1",
   "metadata": {},
   "source": [
    "## データフォーマットを扱う\n"
   ]
  },
  {
   "cell_type": "markdown",
   "id": "3019e632",
   "metadata": {},
   "source": [
    "### CSV を扱う\n"
   ]
  },
  {
   "cell_type": "code",
   "execution_count": 1,
   "id": "8729385f",
   "metadata": {},
   "outputs": [
    {
     "name": "stdout",
     "output_type": "stream",
     "text": [
      "['\\ufeffid', '都道府県', '人口(人)', '面積(km2)']\n",
      "['1', '東京都', '13900000', '2194.5']\n",
      "['2', '神奈川県', '9200000', '2416.1']\n",
      "['3', '千葉県', '6200000', '5157.5']\n",
      "['4', '埼玉県', '7300000', '3797.75']\n"
     ]
    }
   ],
   "source": [
    "import csv\n",
    "\n",
    "with open(\"tmpfiles/sample.csv\", mode=\"r\", encoding=\"utf-8\") as f:\n",
    "    reader = csv.reader(f)\n",
    "    for row in reader:\n",
    "        print(row)"
   ]
  },
  {
   "cell_type": "code",
   "execution_count": 9,
   "id": "770af07d",
   "metadata": {},
   "outputs": [
    {
     "name": "stdout",
     "output_type": "stream",
     "text": [
      "['id', '都道府県', '人口(人)', '面積(km2)']\n",
      "['1', '東京都', '#13900000#', '#2194.5#']\n",
      "['2', '神奈川県', '#9200000#', '#2416.1#']\n",
      "['3', '千葉県', '#6200000#', '#5157.5#']\n",
      "['4', '埼玉県', '#7300000#', '#3797.75#']\n"
     ]
    }
   ],
   "source": [
    "with open(\"tmpfiles/sample2.tsv\", mode=\"r\") as f:\n",
    "    reader = csv.reader(f, delimiter=\"\\t\")\n",
    "    for row in reader:\n",
    "        print(row)"
   ]
  },
  {
   "cell_type": "code",
   "execution_count": 10,
   "id": "6dea3622",
   "metadata": {},
   "outputs": [
    {
     "name": "stdout",
     "output_type": "stream",
     "text": [
      "['id', '都道府県', '人口(人)', '面積(km2)']\n",
      "['1', '東京都', '13900000', '2194.5']\n",
      "['2', '神奈川県', '9200000', '2416.1']\n",
      "['3', '千葉県', '6200000', '5157.5']\n",
      "['4', '埼玉県', '7300000', '3797.75']\n"
     ]
    }
   ],
   "source": [
    "with open(\"tmpfiles/sample2.tsv\", mode=\"r\") as f:\n",
    "    reader = csv.reader(f, delimiter=\"\\t\", quotechar=\"#\")\n",
    "    for row in reader:\n",
    "        print(row)"
   ]
  },
  {
   "cell_type": "code",
   "execution_count": 14,
   "id": "792e26c3",
   "metadata": {},
   "outputs": [],
   "source": [
    "# 書き込み\n",
    "with open(\"tmpfiles/sample.csv\", mode=\"r\") as read_file:\n",
    "    reader = csv.reader(read_file)\n",
    "    next(reader)\n",
    "\n",
    "    with open(\n",
    "        \"tmpfiles/result.tsv\", newline=\"\", mode=\"w\", encoding=\"utf-8\"\n",
    "    ) as write_file:\n",
    "        # tabで書き込む\n",
    "        writer = csv.writer(write_file, delimiter=\"\\t\")\n",
    "        writer.writerow([\"都道府県\", \"人口密度(人/km2)\"])\n",
    "\n",
    "        for row in reader:\n",
    "            population_density = float(row[2]) / float(row[3])\n",
    "            writer.writerow([row[1], int(population_density)])"
   ]
  },
  {
   "cell_type": "code",
   "execution_count": 16,
   "id": "b621e0e6",
   "metadata": {},
   "outputs": [
    {
     "name": "stdout",
     "output_type": "stream",
     "text": [
      "['都道府県', '人口密度(人/km2)']\n",
      "['東京都', '6334']\n",
      "['神奈川県', '3807']\n",
      "['千葉県', '1202']\n",
      "['埼玉県', '1922']\n"
     ]
    }
   ],
   "source": [
    "# 作成したファイルを読み込む\n",
    "with open(\"tmpfiles/result.tsv\", mode=\"r\") as f:\n",
    "    reader = csv.reader(f, delimiter=\"\\t\", quotechar=\"#\")\n",
    "    for row in reader:\n",
    "        print(row)"
   ]
  },
  {
   "cell_type": "code",
   "execution_count": 17,
   "id": "b8475cb3",
   "metadata": {},
   "outputs": [
    {
     "name": "stdout",
     "output_type": "stream",
     "text": [
      "{'\\ufeffid': '1', '都道府県': '東京都', '人口(人)': '13900000', '面積(km2)': '2194.5'}\n",
      "{'\\ufeffid': '2', '都道府県': '神奈川県', '人口(人)': '9200000', '面積(km2)': '2416.1'}\n",
      "{'\\ufeffid': '3', '都道府県': '千葉県', '人口(人)': '6200000', '面積(km2)': '5157.5'}\n",
      "{'\\ufeffid': '4', '都道府県': '埼玉県', '人口(人)': '7300000', '面積(km2)': '3797.75'}\n"
     ]
    }
   ],
   "source": [
    "with open(\"tmpfiles/sample.csv\", mode=\"r\", encoding=\"utf-8\") as f:\n",
    "    for row in csv.DictReader(f):\n",
    "        print(row)"
   ]
  },
  {
   "cell_type": "code",
   "execution_count": 18,
   "id": "6a3d0c15",
   "metadata": {},
   "outputs": [],
   "source": [
    "data = [\n",
    "    {\"都道府県\": \"東京都\", \"人口密度(人/km2)\": \"6335\"},\n",
    "    {\"都道府県\": \"神奈川県\", \"人口密度(人/km2)\": \"3807\"},\n",
    "    {\"都道府県\": \"千葉県\", \"人口密度(人/km2)\": \"1202\"},\n",
    "    {\"都道府県\": \"埼玉県\", \"人口密度(人/km2)\": \"1922\"},\n",
    "]\n",
    "\n",
    "with open(\"tmpfiles/result.csv\", mode=\"w\", encoding=\"utf-8\") as f:\n",
    "    field_name = [\"都道府県\", \"人口密度(人/km2)\"]\n",
    "    writer = csv.DictWriter(f, fieldnames=field_name)\n",
    "    writer.writeheader()\n",
    "    writer.writerows(data)"
   ]
  },
  {
   "cell_type": "code",
   "execution_count": 19,
   "id": "0e91ddc5",
   "metadata": {},
   "outputs": [
    {
     "name": "stdout",
     "output_type": "stream",
     "text": [
      "{'都道府県': '東京都', '人口密度(人/km2)': '6335'}\n",
      "{'都道府県': '神奈川県', '人口密度(人/km2)': '3807'}\n",
      "{'都道府県': '千葉県', '人口密度(人/km2)': '1202'}\n",
      "{'都道府県': '埼玉県', '人口密度(人/km2)': '1922'}\n"
     ]
    }
   ],
   "source": [
    "with open(\"tmpfiles/result.csv\", mode=\"r\", encoding=\"utf-8\") as f:\n",
    "    for row in csv.DictReader(f):\n",
    "        print(row)"
   ]
  },
  {
   "cell_type": "code",
   "execution_count": 20,
   "id": "3f9ea83d",
   "metadata": {},
   "outputs": [
    {
     "name": "stdout",
     "output_type": "stream",
     "text": [
      "['都道府県', '人口密度(人/km2)']\n",
      "['東京都', '6334']\n",
      "['神奈川県', '3807']\n",
      "['千葉県', '1202']\n",
      "['埼玉県', '1922']\n"
     ]
    }
   ],
   "source": [
    "# Snifferクラスを使用したデータ形式の推測によるコード\n",
    "with open(\"tmpfiles/result.tsv\", newline=\"\") as f:\n",
    "    dialect = csv.Sniffer().sniff(f.read(1024))\n",
    "\n",
    "    f.seek(0)\n",
    "    reader = csv.reader(f, dialect)\n",
    "    for row in reader:\n",
    "        print(row)"
   ]
  },
  {
   "cell_type": "markdown",
   "id": "c459e766",
   "metadata": {},
   "source": [
    "### JSON を扱う\n"
   ]
  },
  {
   "cell_type": "code",
   "execution_count": 21,
   "id": "223104f6",
   "metadata": {},
   "outputs": [
    {
     "name": "stdout",
     "output_type": "stream",
     "text": [
      "[\n",
      "  {\n",
      "    \"id\": 123,\n",
      "    \"entitles\": {\n",
      "      \"url\": \"python.org\",\n",
      "      \"hashtags\": [\n",
      "        \"#python\",\n",
      "        \"pythonjp\"\n",
      "      ]\n",
      "    }\n",
      "  }\n",
      "]\n"
     ]
    }
   ],
   "source": [
    "import json\n",
    "\n",
    "data = [\n",
    "    {\"id\": 123, \"entitles\": {\"url\": \"python.org\", \"hashtags\": [\"#python\", \"pythonjp\"]}},\n",
    "]\n",
    "print(json.dumps(data, indent=2))"
   ]
  },
  {
   "cell_type": "code",
   "execution_count": 23,
   "id": "e996e688",
   "metadata": {},
   "outputs": [
    {
     "name": "stdout",
     "output_type": "stream",
     "text": [
      "[\n",
      "    {\n",
      "        \"entitles\": {\n",
      "            \"hashtags\": [\n",
      "                \"#python\",\n",
      "                \"pythonjp\"\n",
      "            ],\n",
      "            \"url\": \"python.org\"\n",
      "        },\n",
      "        \"id\": 123\n",
      "    }\n",
      "]\n"
     ]
    }
   ],
   "source": [
    "# keyを元にしてソートして出力する\n",
    "print(json.dumps(data, indent=4, sort_keys=True))"
   ]
  },
  {
   "cell_type": "code",
   "execution_count": null,
   "id": "aee9ec40",
   "metadata": {},
   "outputs": [
    {
     "name": "stdout",
     "output_type": "stream",
     "text": [
      "['ham', 1, 'egg', 1.0, {'a': False, 'b': None}]\n",
      "['ham', 1, 'egg', Decimal('1.0'), {'a': False, 'b': None}]\n",
      "['ham', 1.0, 'egg', 1.0, {'a': False, 'b': None}]\n"
     ]
    }
   ],
   "source": [
    "from decimal import Decimal\n",
    "\n",
    "json_str = '[\"ham\", 1, \"egg\", 1.0, {\"a\": false, \"b\": null}]'\n",
    "print(json.loads(json_str))\n",
    "# 指定した方でキャストする\n",
    "print(json.loads(json_str, parse_float=Decimal))\n",
    "print(json.loads(json_str, parse_int=float))"
   ]
  },
  {
   "cell_type": "code",
   "execution_count": 30,
   "id": "3cff07e5",
   "metadata": {},
   "outputs": [
    {
     "name": "stdout",
     "output_type": "stream",
     "text": [
      "[{'entitles': {'hashtags': ['#python', 'pythonjp'], 'url': 'python.org'}, 'id': 123}]\n"
     ]
    }
   ],
   "source": [
    "with open(\"tmpfiles/sample.json\", mode=\"r\") as f:\n",
    "    json_str = json.load(f)\n",
    "    print(json_str)\n",
    "\n",
    "json_str[0][\"entitles\"][\"hashtags\"].append(\"#pyhack\")\n",
    "\n",
    "with open(\"tmpfiles/dump.json\", mode=\"w\") as f:\n",
    "    json.dump(json_str, f, indent=2)"
   ]
  },
  {
   "cell_type": "code",
   "execution_count": 31,
   "id": "5bd0cbf6",
   "metadata": {},
   "outputs": [
    {
     "name": "stdout",
     "output_type": "stream",
     "text": [
      "[{'entitles': {'hashtags': ['#python', 'pythonjp', '#pyhack'], 'url': 'python.org'}, 'id': 123}]\n"
     ]
    }
   ],
   "source": [
    "with open(\"tmpfiles/dump.json\", mode=\"r\") as f:\n",
    "    json_str = json.load(f)\n",
    "    print(json_str)"
   ]
  },
  {
   "cell_type": "markdown",
   "id": "600a1ec5",
   "metadata": {},
   "source": [
    "curl で api | python -m json.tool とすることで、dumps できる\n"
   ]
  },
  {
   "cell_type": "code",
   "execution_count": null,
   "id": "29c4de98",
   "metadata": {},
   "outputs": [],
   "source": []
  }
 ],
 "metadata": {
  "kernelspec": {
   "display_name": "Python (snippets-hub)",
   "language": "python",
   "name": "python-snippets-hub"
  },
  "language_info": {
   "codemirror_mode": {
    "name": "ipython",
    "version": 3
   },
   "file_extension": ".py",
   "mimetype": "text/x-python",
   "name": "python",
   "nbconvert_exporter": "python",
   "pygments_lexer": "ipython3",
   "version": "3.13.0"
  }
 },
 "nbformat": 4,
 "nbformat_minor": 5
}
