{
 "cells": [
  {
   "cell_type": "markdown",
   "id": "63f1e1e1",
   "metadata": {},
   "source": [
    "## 型ヒント\n",
    "\n",
    "- 型アノテーションをつける型ヒントの仕組みについてと型ヒントのサポート typing の使用方法について記載します\n",
    "\n",
    "  - ちなみに実行時に型をチェックするわけではないため注意\n",
    "  - あくまでもコーディングをしていく中で明示的に指定しておくことでの書きやすさ、読みやすさ、バグの軽減の一助しているような位置付けです\n",
    "\n",
    "- 基本のヒントデータ型(プリミティブ/コンテナ)\n",
    "  - str\n",
    "  - int\n",
    "  - float\n",
    "  - bytes\n",
    "  - bool\n",
    "  - list\n",
    "  - dict\n",
    "  - tuple\n",
    "  - set\n"
   ]
  },
  {
   "cell_type": "code",
   "execution_count": null,
   "id": "c9c02eda",
   "metadata": {},
   "outputs": [],
   "source": [
    "# 型ヒントの書き方\n",
    "message: str = \"Hello World\"\n",
    "fruits: list[str] = [\"apple\", \"banana\", \"orange\"]\n",
    "# Tupleについては、各要素のデータ型を定義しなければならず、同様の値を使う場合は、...で対応することができる\n",
    "cup_size: tuple[str, ...] = (\"Short\", \"Tall\", \"Grande\", \"Venti\")\n",
    "primes: set[int] = {2, 3, 5, 7, 11, 13}\n",
    "languages: dict[str, str] = {\n",
    "    \"ja_JP\": \"日本語\",\n",
    "    \"en_UK\": \"イギリス\",\n",
    "    \"en_US\": \"アメリカ\",\n",
    "}"
   ]
  },
  {
   "cell_type": "code",
   "execution_count": 11,
   "id": "dc9e1891",
   "metadata": {},
   "outputs": [
    {
     "name": "stdout",
     "output_type": "stream",
     "text": [
      "田中太郎さん こんにちは！\n"
     ]
    }
   ],
   "source": [
    "# 関数の場合\n",
    "def greeting(name: str) -> str:\n",
    "    return f\"{name}さん こんにちは！\"\n",
    "\n",
    "\n",
    "print(greeting(\"田中太郎\"))"
   ]
  },
  {
   "cell_type": "code",
   "execution_count": 13,
   "id": "5fede19c",
   "metadata": {},
   "outputs": [],
   "source": [
    "# クラスの場合\n",
    "from dataclasses import dataclass\n",
    "\n",
    "\n",
    "@dataclass\n",
    "class User:\n",
    "    name: str\n",
    "    age: int\n",
    "    address: str"
   ]
  },
  {
   "cell_type": "code",
   "execution_count": 16,
   "id": "82f13c30",
   "metadata": {},
   "outputs": [
    {
     "name": "stdout",
     "output_type": "stream",
     "text": [
      "User(name='太郎', age=32, address='JP-HK')\n"
     ]
    }
   ],
   "source": [
    "# クラスを型として使用する場合\n",
    "from operator import attrgetter\n",
    "\n",
    "\n",
    "def most_young(users: list[User]) -> User:\n",
    "    return sorted(users, key=attrgetter(\"age\"))[0]\n",
    "\n",
    "\n",
    "users = [\n",
    "    User(\"john\", 58, \"US-LA\"),\n",
    "    User(\"太郎\", 32, \"JP-HK\"),\n",
    "    User(\"Griezmann\", 34, \"FR-MC\"),\n",
    "]\n",
    "\n",
    "younger: User = most_young(users)\n",
    "print(younger)"
   ]
  },
  {
   "cell_type": "markdown",
   "id": "41b7a112",
   "metadata": {},
   "source": [
    "### typing を使用した型ヒント\n",
    "\n",
    "- Union\n",
    "- Optional\n",
    "- Literal\n",
    "- Any\n",
    "- TypeVar\n",
    "- TypedDict\n"
   ]
  },
  {
   "cell_type": "code",
   "execution_count": 17,
   "id": "a95a0671",
   "metadata": {},
   "outputs": [],
   "source": [
    "# 複数の型を許容するUnion-Optional\n",
    "# この値は複数のデータ型を利用することがあるといった場合に使用する\n",
    "from typing import Union, Optional\n",
    "\n",
    "\n",
    "# Unionは複数のデータ型を許容するようにする\n",
    "def union_type(number: Union[int, str]) -> int:\n",
    "    pass\n",
    "\n",
    "\n",
    "# OptionalはNoneと指定した型を許容することができます\n",
    "option_type: Optional[int]"
   ]
  },
  {
   "cell_type": "code",
   "execution_count": 18,
   "id": "aa04f53d",
   "metadata": {},
   "outputs": [],
   "source": [
    "# Python3.10以降の複数の値の書き方\n",
    "# from __future__ import annotations  # 3.10以前では必要\n",
    "\n",
    "\n",
    "def new_union_type(number: int | str) -> int:\n",
    "    pass\n",
    "\n",
    "\n",
    "new_option_type: int | None"
   ]
  },
  {
   "cell_type": "code",
   "execution_count": 7,
   "id": "74c8f416",
   "metadata": {},
   "outputs": [],
   "source": [
    "# 特定の値のみを許可するLiteral\n",
    "from typing import Literal\n",
    "\n",
    "FILE_TYPE = Literal[\"csv\", \"json\", \"xml\"]\n",
    "\n",
    "\n",
    "def access_file(file: str, file_type: FILE_TYPE):\n",
    "    pass\n",
    "\n",
    "\n",
    "access_file(\"hello.csv\", \"csv\")\n",
    "\n",
    "# 含まれていないためNG(mypyなどでチェックすることで警告される、実行は通る)\n",
    "access_file(\"hello.txt\", \"text\")"
   ]
  },
  {
   "cell_type": "code",
   "execution_count": 1,
   "id": "4ffd391f",
   "metadata": {},
   "outputs": [],
   "source": [
    "# どのような形でも許容するAny\n",
    "# どの型の値が返ってくるのか不明になるため、可能であれば避けておきたい\n",
    "from typing import Any\n",
    "\n",
    "\n",
    "def any_type(args: Any) -> Any:\n",
    "    pass\n",
    "\n",
    "\n",
    "outputs: Any = any_type(\"\")"
   ]
  },
  {
   "cell_type": "code",
   "execution_count": null,
   "id": "53751e12",
   "metadata": {},
   "outputs": [],
   "source": [
    "# 型変数を定義するTypeVar\n",
    "# ジェネリクスを実現するための機能であり、型に依存せずコードを書きたい場合に使用します\n",
    "from typing import Generic, TypeVar\n",
    "\n",
    "T = TypeVar(\"T\")\n",
    "\n",
    "\n",
    "def t_var(x: T, y: T) -> T:\n",
    "    pass\n",
    "\n",
    "\n",
    "# classで使用する場合は、明示的にclassがジェネリクスを使うと示さなければなりません\n",
    "class Foo(Generic[T]):\n",
    "\n",
    "    def __init__(self, bar: T):\n",
    "        self.bar = bar"
   ]
  },
  {
   "cell_type": "code",
   "execution_count": null,
   "id": "c1e25d43",
   "metadata": {},
   "outputs": [],
   "source": [
    "# 辞書キーと型を指定するTypedDict\n",
    "# dictの型付けよりも厳密に行うことができる\n",
    "# dataclassとの使い分けはメソッドが必要とされるか(されていくか)をベースに考えると良さそう\n",
    "from typing import TypedDict\n",
    "\n",
    "\n",
    "class BookDict(TypedDict):\n",
    "    title: str\n",
    "    author: str\n",
    "    price: int\n",
    "\n",
    "\n",
    "new_book: BookDict = {\n",
    "    \"title\": \"何でもやってみよう\",\n",
    "    \"author\": \"どこかの誰か\",\n",
    "    \"price\": 2025,\n",
    "}"
   ]
  },
  {
   "cell_type": "markdown",
   "id": "87b2f6a2",
   "metadata": {},
   "source": [
    "### mypy でチェックする\n",
    "\n",
    "- 範囲外のため今回はスキップ\n"
   ]
  },
  {
   "cell_type": "code",
   "execution_count": null,
   "id": "fccd5ea1",
   "metadata": {},
   "outputs": [],
   "source": []
  }
 ],
 "metadata": {
  "kernelspec": {
   "display_name": "Python (snippets-hub)",
   "language": "python",
   "name": "python-snippets-hub"
  },
  "language_info": {
   "codemirror_mode": {
    "name": "ipython",
    "version": 3
   },
   "file_extension": ".py",
   "mimetype": "text/x-python",
   "name": "python",
   "nbconvert_exporter": "python",
   "pygments_lexer": "ipython3",
   "version": "3.13.0"
  }
 },
 "nbformat": 4,
 "nbformat_minor": 5
}
