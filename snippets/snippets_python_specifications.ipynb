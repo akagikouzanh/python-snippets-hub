{
 "cells": [
  {
   "cell_type": "markdown",
   "id": "63f1e1e1",
   "metadata": {},
   "source": [
    "## Python の言語仕様\n"
   ]
  },
  {
   "cell_type": "markdown",
   "id": "82273338",
   "metadata": {},
   "source": [
    "## 例外処理\n",
    "\n",
    "### 例外を処理する\n"
   ]
  },
  {
   "cell_type": "code",
   "execution_count": 1,
   "id": "e20c0414",
   "metadata": {},
   "outputs": [
    {
     "ename": "ZeroDivisionError",
     "evalue": "division by zero",
     "output_type": "error",
     "traceback": [
      "\u001b[31m---------------------------------------------------------------------------\u001b[39m",
      "\u001b[31mZeroDivisionError\u001b[39m                         Traceback (most recent call last)",
      "\u001b[36mCell\u001b[39m\u001b[36m \u001b[39m\u001b[32mIn[1]\u001b[39m\u001b[32m, line 1\u001b[39m\n\u001b[32m----> \u001b[39m\u001b[32m1\u001b[39m num = \u001b[32;43m10\u001b[39;49m\u001b[43m \u001b[49m\u001b[43m/\u001b[49m\u001b[43m \u001b[49m\u001b[32;43m0\u001b[39;49m\n",
      "\u001b[31mZeroDivisionError\u001b[39m: division by zero"
     ]
    }
   ],
   "source": [
    "num = 10 / 0"
   ]
  },
  {
   "cell_type": "code",
   "execution_count": 2,
   "id": "05a85a1e",
   "metadata": {},
   "outputs": [
    {
     "name": "stdout",
     "output_type": "stream",
     "text": [
      "0で割ることはできません\n"
     ]
    }
   ],
   "source": [
    "try:\n",
    "    num = 10 / 0\n",
    "except ZeroDivisionError:\n",
    "    print(\"0で割ることはできません\")"
   ]
  },
  {
   "cell_type": "markdown",
   "id": "3c584ccb",
   "metadata": {},
   "source": [
    "### 複数の例外を捕捉する\n"
   ]
  },
  {
   "cell_type": "code",
   "execution_count": 3,
   "id": "83a1cc11",
   "metadata": {},
   "outputs": [
    {
     "name": "stdout",
     "output_type": "stream",
     "text": [
      "文字列で割ることはできません\n"
     ]
    }
   ],
   "source": [
    "try:\n",
    "    num = 10 / \"2\"\n",
    "except ZeroDivisionError:\n",
    "    print(\"0で割ることはできません\")\n",
    "except TypeError:\n",
    "    print(\"文字列で割ることはできません\")"
   ]
  },
  {
   "cell_type": "markdown",
   "id": "868912a4",
   "metadata": {},
   "source": [
    "### as キーワードで捕捉する\n",
    "\n",
    "- except 節はタプルを使用して複数の例外を指定することが可能\n",
    "- as(一時変数)を使用して、例外オブジェクトを取得できる\n"
   ]
  },
  {
   "cell_type": "code",
   "execution_count": 5,
   "id": "0be23493",
   "metadata": {},
   "outputs": [
    {
     "name": "stdout",
     "output_type": "stream",
     "text": [
      "Exceptions class: <class 'ZeroDivisionError'>\n",
      "Exceptions occurd: division by zero\n"
     ]
    }
   ],
   "source": [
    "try:\n",
    "    num = 10 / 0\n",
    "except (ZeroDivisionError, TypeError, NameError) as e:\n",
    "    print(f\"Exceptions class: {type(e)}\")\n",
    "    print(f\"Exceptions occurd: {e}\")"
   ]
  },
  {
   "cell_type": "markdown",
   "id": "76c735f8",
   "metadata": {},
   "source": [
    "### else 節\n",
    "\n",
    "- 例外が送出されなかった場合に実行される処理を書きます\n",
    "- else 節を設ける場合、except よりも後ろに書く必要がある\n",
    "- 例外が発生した場合は、else 節には入りません\n"
   ]
  },
  {
   "cell_type": "code",
   "execution_count": 7,
   "id": "2a5909e6",
   "metadata": {},
   "outputs": [
    {
     "name": "stdout",
     "output_type": "stream",
     "text": [
      "除算の結果は 2.0 になります\n"
     ]
    }
   ],
   "source": [
    "try:\n",
    "    num = 10 / 5\n",
    "except ZeroDivisionError:\n",
    "    print(\"0で割ることはできません\")\n",
    "else:\n",
    "    print(f\"除算の結果は {num} になります\")"
   ]
  },
  {
   "cell_type": "markdown",
   "id": "ebd787a1",
   "metadata": {},
   "source": [
    "### finally 節\n",
    "\n",
    "- 例外の有無に関わらず必ず実行される処理を記載する\n",
    "- どんな場合でも処理したい場合に実行するものがある場合に記載をする\n"
   ]
  },
  {
   "cell_type": "code",
   "execution_count": 1,
   "id": "e03bb18c",
   "metadata": {},
   "outputs": [
    {
     "name": "stdout",
     "output_type": "stream",
     "text": [
      "ファイルを閉じました\n"
     ]
    },
    {
     "ename": "NameError",
     "evalue": "name 'data' is not defined",
     "output_type": "error",
     "traceback": [
      "\u001b[31m---------------------------------------------------------------------------\u001b[39m",
      "\u001b[31mNameError\u001b[39m                                 Traceback (most recent call last)",
      "\u001b[36mCell\u001b[39m\u001b[36m \u001b[39m\u001b[32mIn[1]\u001b[39m\u001b[32m, line 4\u001b[39m\n\u001b[32m      2\u001b[39m \u001b[38;5;28;01mtry\u001b[39;00m:\n\u001b[32m      3\u001b[39m     f = \u001b[38;5;28mopen\u001b[39m(\u001b[33m\"\u001b[39m\u001b[33mpython.txt\u001b[39m\u001b[33m\"\u001b[39m, mode=\u001b[33m\"\u001b[39m\u001b[33mw\u001b[39m\u001b[33m\"\u001b[39m)\n\u001b[32m----> \u001b[39m\u001b[32m4\u001b[39m     f.write(\u001b[43mdata\u001b[49m)\n\u001b[32m      5\u001b[39m \u001b[38;5;28;01mfinally\u001b[39;00m:\n\u001b[32m      6\u001b[39m     \u001b[38;5;28;01mif\u001b[39;00m f:\n",
      "\u001b[31mNameError\u001b[39m: name 'data' is not defined"
     ]
    }
   ],
   "source": [
    "f = None\n",
    "try:\n",
    "    f = open(\"python.txt\", mode=\"w\")\n",
    "    f.write(data)\n",
    "finally:\n",
    "    if f:\n",
    "        f.close()\n",
    "        print(\"ファイルを閉じました\")"
   ]
  },
  {
   "cell_type": "markdown",
   "id": "bdb7446f",
   "metadata": {},
   "source": [
    "### 基底クラスで例外を捕捉する\n",
    "\n",
    "- ZeroDivisionError の基底クラス、ArithmeticError を指定\n",
    "- ArithmeticError で捕捉するが、実際の例外は ZeroDivisionError と出力される\n"
   ]
  },
  {
   "cell_type": "code",
   "execution_count": 1,
   "id": "74f413eb",
   "metadata": {},
   "outputs": [
    {
     "name": "stdout",
     "output_type": "stream",
     "text": [
      "Exceptions class: <class 'ZeroDivisionError'>\n",
      "Exceptions occurd: division by zero\n"
     ]
    }
   ],
   "source": [
    "try:\n",
    "    num = 10 / 0\n",
    "    print(f\"除算の結果は {num} になります\")\n",
    "except ArithmeticError as e:\n",
    "    print(f\"Exceptions class: {type(e)}\")\n",
    "    print(f\"Exceptions occurd: {e}\")"
   ]
  },
  {
   "cell_type": "markdown",
   "id": "cc2661ca",
   "metadata": {},
   "source": [
    "### 独自の例外を定義し、送出する\n",
    "\n",
    "- Exception を継承して独自の例外を新しく作成する\n",
    "- raise を使用して独自のエラーを発生させる\n"
   ]
  },
  {
   "cell_type": "code",
   "execution_count": 3,
   "id": "0b744b5b-b40d-468d-9650-30c27f181c72",
   "metadata": {},
   "outputs": [],
   "source": [
    "class MyError(Exception):\n",
    "    pass"
   ]
  },
  {
   "cell_type": "code",
   "execution_count": 5,
   "id": "a9510a46",
   "metadata": {},
   "outputs": [
    {
     "ename": "MyError",
     "evalue": "MyErrorが発生しました。",
     "output_type": "error",
     "traceback": [
      "\u001b[31m---------------------------------------------------------------------------\u001b[39m",
      "\u001b[31mMyError\u001b[39m                                   Traceback (most recent call last)",
      "\u001b[36mCell\u001b[39m\u001b[36m \u001b[39m\u001b[32mIn[5]\u001b[39m\u001b[32m, line 1\u001b[39m\n\u001b[32m----> \u001b[39m\u001b[32m1\u001b[39m \u001b[38;5;28;01mraise\u001b[39;00m MyError(\u001b[33m\"\u001b[39m\u001b[33mMyErrorが発生しました。\u001b[39m\u001b[33m\"\u001b[39m)\n",
      "\u001b[31mMyError\u001b[39m: MyErrorが発生しました。"
     ]
    }
   ],
   "source": [
    "raise MyError(\"MyErrorが発生しました。\")"
   ]
  },
  {
   "cell_type": "code",
   "execution_count": 1,
   "id": "87acea57",
   "metadata": {},
   "outputs": [],
   "source": [
    "class MyValidateError(Exception):\n",
    "    title = None\n",
    "    detail = None\n",
    "\n",
    "    def __str__(self):\n",
    "        return str(self.title)"
   ]
  },
  {
   "cell_type": "code",
   "execution_count": 2,
   "id": "2959d985",
   "metadata": {},
   "outputs": [],
   "source": [
    "class MyTypeError(MyValidateError):\n",
    "    title = \"Type error\"\n",
    "    detail = \"数値で入力してください\"\n",
    "\n",
    "\n",
    "class MyMinError(MyValidateError):\n",
    "    title = \"Min error\"\n",
    "    detail = \"Min値 50以上の値を入力してください\""
   ]
  },
  {
   "cell_type": "code",
   "execution_count": 3,
   "id": "fdb5a01b",
   "metadata": {},
   "outputs": [],
   "source": [
    "def validate_num(num):\n",
    "    try:\n",
    "        num = int(num)\n",
    "    except ValueError:\n",
    "        raise MyTypeError\n",
    "    if num < 50:\n",
    "        raise MyMinError"
   ]
  },
  {
   "cell_type": "code",
   "execution_count": 8,
   "id": "233c6196",
   "metadata": {},
   "outputs": [
    {
     "name": "stdout",
     "output_type": "stream",
     "text": [
      "Min errorの例外が発生しました\n",
      "detail=Min値 50以上の値を入力してください\n"
     ]
    }
   ],
   "source": [
    "try:\n",
    "    input_number = input(\"検証する値を入れてください=>\")\n",
    "    validate_num(input_number)\n",
    "except MyValidateError as e:\n",
    "    print(f\"{e}の例外が発生しました\")\n",
    "    print(f\"detail={e.detail}\")"
   ]
  },
  {
   "cell_type": "markdown",
   "id": "ecde1703",
   "metadata": {},
   "source": [
    "## with 文\n",
    "\n",
    "- with 文は try-finally の利用パターンを再利用するために作られた機能\n",
    "- X 処理の前後の処理を再利用可能にする便利な機能\n",
    "\n",
    "### よくある使い方\n",
    "\n",
    "- try-finally の再利用\n",
    "- ファイルやネットワークのコネクションの open/close\n",
    "- 限られた範囲での特別な処理\n",
    "\n",
    "[8.5. with 文](https://docs.python.org/ja/3.13/reference/compound_stmts.html#the-with-statement)\n"
   ]
  },
  {
   "cell_type": "code",
   "execution_count": null,
   "id": "4ebefdfd",
   "metadata": {},
   "outputs": [
    {
     "name": "stdout",
     "output_type": "stream",
     "text": [
      "{\n",
      " \"cells\": [\n",
      "  {\n",
      "   \"cell_type\": \"markdown\",\n",
      "   \"id\": \"63f1e1e1\",\n",
      "   \"metadata\": {},\n",
      "   \"source\": [\n",
      "    \"### 対象のライブラリ\\n\",\n",
      "    \"\\n\",\n",
      "    \"`対象のライブラリ`は xxxx 標準ライブラリ\\n\",\n",
      "    \"\\n\",\n",
      "    \"- 特徴\\n\",\n",
      "    \"- 主な使用用途\\n\",\n",
      "    \"\\n\",\n",
      "    \"- 注意\\n\",\n",
      "    \"\\n\",\n",
      "    \"### 資料\\n\",\n",
      "    \"\\n\",\n",
      "    \"[ドキュメント]()\\n\"\n",
      "   ]\n",
      "  }\n",
      " ],\n",
      " \"metadata\": {\n",
      "  \"kernelspec\": {\n",
      "   \"display_name\": \"Python 3\",\n",
      "   \"language\": \"python\",\n",
      "   \"name\": \"python3\"\n",
      "  },\n",
      "  \"language_info\": {\n",
      "   \"codemirror_mode\": {\n",
      "    \"name\": \"ipython\",\n",
      "    \"version\": 3\n",
      "   },\n",
      "   \"file_extension\": \".py\",\n",
      "   \"mimetype\": \"text/x-python\",\n",
      "   \"name\": \"python\",\n",
      "   \"nbconvert_exporter\": \"python\",\n",
      "   \"pygments_lexer\": \"ipython3\",\n",
      "   \"version\": \"3.13.0\"\n",
      "  }\n",
      " },\n",
      " \"nbformat\": 4,\n",
      " \"nbformat_minor\": 5\n",
      "}\n",
      "\n"
     ]
    }
   ],
   "source": [
    "with open(\"snippets_tmplate.ipynb\") as f:\n",
    "    print(f.read())\n",
    "\n",
    "# 以下と同等\n",
    "# f = None\n",
    "# try:\n",
    "#     f = open(\"snippets_tmplate.ipynb\")\n",
    "#     print(f.read())\n",
    "# finally:\n",
    "#     if f:\n",
    "#         f.close()"
   ]
  },
  {
   "cell_type": "markdown",
   "id": "dac82de1",
   "metadata": {},
   "source": [
    "### コンテキストマネージャー(context manager)\n",
    "\n",
    "- with 文に渡すオブジェクトをコンテキストマネージャーという\n",
    "- コンテキストマネージャーは`__enter__`と`__exit__`を実装したクラスのインスタンス\n",
    "- 上記の例だと、open が返すファイルオブジェクトがコンテキストマネージャーになる\n"
   ]
  },
  {
   "cell_type": "code",
   "execution_count": 15,
   "id": "cae69f54",
   "metadata": {},
   "outputs": [
    {
     "name": "stdout",
     "output_type": "stream",
     "text": [
      "['_CHUNK_SIZE', '__class__', '__del__', '__delattr__', '__dict__', '__dir__', '__doc__', '__enter__', '__eq__', '__exit__', '__format__', '__ge__', '__getattribute__', '__getstate__', '__gt__', '__hash__', '__init__', '__init_subclass__', '__iter__', '__le__', '__lt__', '__module__', '__ne__', '__new__', '__next__', '__reduce__', '__reduce_ex__', '__repr__', '__setattr__', '__sizeof__', '__str__', '__subclasshook__', '_checkClosed', '_checkReadable', '_checkSeekable', '_checkWritable', '_finalizing', 'buffer', 'close', 'closed', 'detach', 'encoding', 'errors', 'fileno', 'flush', 'isatty', 'line_buffering', 'mode', 'name', 'newlines', 'read', 'readable', 'readline', 'readlines', 'reconfigure', 'seek', 'seekable', 'tell', 'truncate', 'writable', 'write', 'write_through', 'writelines']\n",
      "True\n",
      "True\n"
     ]
    }
   ],
   "source": [
    "file_obj = open(\"snippets_tmplate.ipynb\")\n",
    "file_dir = dir(file_obj)\n",
    "print(file_dir)\n",
    "\n",
    "print(\"__enter__\" in file_dir)\n",
    "print(\"__exit__\" in file_dir)"
   ]
  },
  {
   "cell_type": "code",
   "execution_count": 18,
   "id": "f3b17372",
   "metadata": {},
   "outputs": [],
   "source": [
    "class MyContextManager:\n",
    "    def __init__(self, file_name: str):\n",
    "        self.file_name: str = file_name\n",
    "\n",
    "    def __enter__(self):\n",
    "        print(\"__enter__ : ファイルをオープンします\")\n",
    "        self.file_obj = open(self.file_name)\n",
    "        return self.file_obj\n",
    "\n",
    "    def __exit__(self, type, value, traceback):\n",
    "        print(\"__exit__ : ファイルをクローズします\")\n",
    "        self.file_obj.close()"
   ]
  },
  {
   "cell_type": "code",
   "execution_count": 20,
   "id": "bdcb7894",
   "metadata": {},
   "outputs": [
    {
     "name": "stdout",
     "output_type": "stream",
     "text": [
      "__enter__ : ファイルをオープンします\n",
      "{\n",
      " \"cells\": [\n",
      "  {\n",
      "   \"cell_type\": \"markdown\",\n",
      "   \"id\": \"63f1e1e1\",\n",
      "   \"metadata\": {},\n",
      "   \"source\": [\n",
      "    \"### 対象のライブラリ\\n\",\n",
      "    \"\\n\",\n",
      "    \"`対象のライブラリ`は xxxx 標準ライブラリ\\n\",\n",
      "    \"\\n\",\n",
      "    \"- 特徴\\n\",\n",
      "    \"- 主な使用用途\\n\",\n",
      "    \"\\n\",\n",
      "    \"- 注意\\n\",\n",
      "    \"\\n\",\n",
      "    \"### 資料\\n\",\n",
      "    \"\\n\",\n",
      "    \"[ドキュメント]()\\n\"\n",
      "   ]\n",
      "  }\n",
      " ],\n",
      " \"metadata\": {\n",
      "  \"kernelspec\": {\n",
      "   \"display_name\": \"Python 3\",\n",
      "   \"language\": \"python\",\n",
      "   \"name\": \"python3\"\n",
      "  },\n",
      "  \"language_info\": {\n",
      "   \"codemirror_mode\": {\n",
      "    \"name\": \"ipython\",\n",
      "    \"version\": 3\n",
      "   },\n",
      "   \"file_extension\": \".py\",\n",
      "   \"mimetype\": \"text/x-python\",\n",
      "   \"name\": \"python\",\n",
      "   \"nbconvert_exporter\": \"python\",\n",
      "   \"pygments_lexer\": \"ipython3\",\n",
      "   \"version\": \"3.13.0\"\n",
      "  }\n",
      " },\n",
      " \"nbformat\": 4,\n",
      " \"nbformat_minor\": 5\n",
      "}\n",
      "\n",
      "__exit__ : ファイルをクローズします\n"
     ]
    }
   ],
   "source": [
    "with MyContextManager(\"snippets_tmplate.ipynb\") as f:\n",
    "    print(f.read())"
   ]
  },
  {
   "cell_type": "code",
   "execution_count": 10,
   "id": "36661ac4",
   "metadata": {},
   "outputs": [],
   "source": [
    "# exitで例外を受け取ることができるが、ここで捕捉しない限りは再送出される\n",
    "# return Trueにした場合は、そこでエラーが握りつぶされる\n",
    "\n",
    "\n",
    "class MyContextManager:\n",
    "    def __init__(self, file_name: str):\n",
    "        self.file_name: str = file_name\n",
    "\n",
    "    def __enter__(self):\n",
    "        print(\"__enter__ : ファイルをオープンします\")\n",
    "        self.file_obj = open(self.file_name)\n",
    "        return self.file_obj\n",
    "\n",
    "    def __exit__(self, type, value, traceback):\n",
    "        print(f\"__exit__ (type): {type}\")\n",
    "        print(f\"__exit__ (value): {value}\")\n",
    "        print(f\"__exit__ (traceback): {traceback}\")\n",
    "        print(\"__exit__ : ファイルをクローズします\")\n",
    "        self.file_obj.close()"
   ]
  },
  {
   "cell_type": "code",
   "execution_count": 11,
   "id": "725c2676",
   "metadata": {},
   "outputs": [
    {
     "name": "stdout",
     "output_type": "stream",
     "text": [
      "__enter__ : ファイルをオープンします\n",
      "{\n",
      " \"cells\": [\n",
      "  {\n",
      "   \"cell_type\": \"markdown\",\n",
      "   \"id\": \"63f1e1e1\",\n",
      "   \"metadata\": {},\n",
      "   \"source\": [\n",
      "    \"### 対象のライブラリ\\n\",\n",
      "    \"\\n\",\n",
      "    \"`対象のライブラリ`は xxxx 標準ライブラリ\\n\",\n",
      "    \"\\n\",\n",
      "    \"- 特徴\\n\",\n",
      "    \"- 主な使用用途\\n\",\n",
      "    \"\\n\",\n",
      "    \"- 注意\\n\",\n",
      "    \"\\n\",\n",
      "    \"### 資料\\n\",\n",
      "    \"\\n\",\n",
      "    \"[ドキュメント]()\\n\"\n",
      "   ]\n",
      "  }\n",
      " ],\n",
      " \"metadata\": {\n",
      "  \"kernelspec\": {\n",
      "   \"display_name\": \"Python 3\",\n",
      "   \"language\": \"python\",\n",
      "   \"name\": \"python3\"\n",
      "  },\n",
      "  \"language_info\": {\n",
      "   \"codemirror_mode\": {\n",
      "    \"name\": \"ipython\",\n",
      "    \"version\": 3\n",
      "   },\n",
      "   \"file_extension\": \".py\",\n",
      "   \"mimetype\": \"text/x-python\",\n",
      "   \"name\": \"python\",\n",
      "   \"nbconvert_exporter\": \"python\",\n",
      "   \"pygments_lexer\": \"ipython3\",\n",
      "   \"version\": \"3.13.0\"\n",
      "  }\n",
      " },\n",
      " \"nbformat\": 4,\n",
      " \"nbformat_minor\": 5\n",
      "}\n",
      "\n",
      "__exit__ (type): <class 'ValueError'>\n",
      "__exit__ (value): my context manager error\n",
      "__exit__ (traceback): <traceback object at 0x113422f40>\n",
      "__exit__ : ファイルをクローズします\n"
     ]
    },
    {
     "ename": "ValueError",
     "evalue": "my context manager error",
     "output_type": "error",
     "traceback": [
      "\u001b[31m---------------------------------------------------------------------------\u001b[39m",
      "\u001b[31mValueError\u001b[39m                                Traceback (most recent call last)",
      "\u001b[36mCell\u001b[39m\u001b[36m \u001b[39m\u001b[32mIn[11]\u001b[39m\u001b[32m, line 3\u001b[39m\n\u001b[32m      1\u001b[39m \u001b[38;5;28;01mwith\u001b[39;00m MyContextManager(\u001b[33m\"\u001b[39m\u001b[33msnippets_tmplate.ipynb\u001b[39m\u001b[33m\"\u001b[39m) \u001b[38;5;28;01mas\u001b[39;00m f:\n\u001b[32m      2\u001b[39m     \u001b[38;5;28mprint\u001b[39m(f.read())\n\u001b[32m----> \u001b[39m\u001b[32m3\u001b[39m     \u001b[38;5;28;01mraise\u001b[39;00m \u001b[38;5;167;01mValueError\u001b[39;00m(\u001b[33m\"\u001b[39m\u001b[33mmy context manager error\u001b[39m\u001b[33m\"\u001b[39m)\n",
      "\u001b[31mValueError\u001b[39m: my context manager error"
     ]
    }
   ],
   "source": [
    "with MyContextManager(\"snippets_tmplate.ipynb\") as f:\n",
    "    print(f.read())\n",
    "    raise ValueError(\"my context manager error\")"
   ]
  },
  {
   "cell_type": "markdown",
   "id": "6ec05f1b",
   "metadata": {},
   "source": [
    "### コンテキストマネージャデコレータ(標準ライブラリ)\n"
   ]
  },
  {
   "cell_type": "code",
   "execution_count": 13,
   "id": "f226a11a",
   "metadata": {},
   "outputs": [
    {
     "name": "stdout",
     "output_type": "stream",
     "text": [
      "__enter__ : ファイルをオープンします\n",
      "# python-snippets-hub\n",
      "\n",
      "__exit__ : ファイルをクローズします\n"
     ]
    }
   ],
   "source": [
    "# 上記のclassと同様のもの\n",
    "# yieldより前が__enter__\n",
    "# yieldより後が__exit__的な処理\n",
    "\n",
    "import contextlib\n",
    "import traceback\n",
    "\n",
    "\n",
    "@contextlib.contextmanager\n",
    "def my_open_context_manager(file_name: str):\n",
    "    file_obj = open(file_name, \"r\")\n",
    "    try:\n",
    "        print(\"__enter__ : ファイルをオープンします\")\n",
    "        yield file_obj\n",
    "    except Exception as e:\n",
    "        print(f\"__exit__ (type): {type(e)}\")\n",
    "        print(f\"__exit__ : {e}\")\n",
    "        print(\n",
    "            f\"__exit__ (traceback): {list(traceback.TracebackException.from_exception(e).format())}\"\n",
    "        )\n",
    "        raise\n",
    "    finally:\n",
    "        file_obj.close()\n",
    "        print(\"__exit__ : ファイルをクローズします\")\n",
    "\n",
    "\n",
    "with my_open_context_manager(\"../README.md\") as f:\n",
    "    print(f.read())"
   ]
  },
  {
   "cell_type": "code",
   "execution_count": 16,
   "id": "cb574472",
   "metadata": {},
   "outputs": [
    {
     "name": "stdout",
     "output_type": "stream",
     "text": [
      "__enter__ : ファイルをオープンします\n",
      "# python-snippets-hub\n",
      "\n",
      "__exit__ : ファイルをクローズします\n",
      "__enter__ : ファイルをオープンします\n",
      "# python-snippets-hub\n",
      "\n"
     ]
    },
    {
     "ename": "ValueError",
     "evalue": "my context manager2 error",
     "output_type": "error",
     "traceback": [
      "\u001b[31m---------------------------------------------------------------------------\u001b[39m",
      "\u001b[31mValueError\u001b[39m                                Traceback (most recent call last)",
      "\u001b[36mCell\u001b[39m\u001b[36m \u001b[39m\u001b[32mIn[16]\u001b[39m\u001b[32m, line 18\u001b[39m\n\u001b[32m     16\u001b[39m \u001b[38;5;28;01mwith\u001b[39;00m my_open_context_manager2(\u001b[33m\"\u001b[39m\u001b[33m../README.md\u001b[39m\u001b[33m\"\u001b[39m) \u001b[38;5;28;01mas\u001b[39;00m f:\n\u001b[32m     17\u001b[39m     \u001b[38;5;28mprint\u001b[39m(f.read())\n\u001b[32m---> \u001b[39m\u001b[32m18\u001b[39m     \u001b[38;5;28;01mraise\u001b[39;00m \u001b[38;5;167;01mValueError\u001b[39;00m(\u001b[33m\"\u001b[39m\u001b[33mmy context manager2 error\u001b[39m\u001b[33m\"\u001b[39m)\n",
      "\u001b[31mValueError\u001b[39m: my context manager2 error"
     ]
    }
   ],
   "source": [
    "# try-finallyなし\n",
    "\n",
    "\n",
    "@contextlib.contextmanager\n",
    "def my_open_context_manager2(file_name: str):\n",
    "    file_obj = open(file_name, \"r\")\n",
    "    print(\"__enter__ : ファイルをオープンします\")\n",
    "    yield file_obj\n",
    "    print(\"__exit__ : ファイルをクローズします\")\n",
    "    file_obj.close()\n",
    "\n",
    "\n",
    "with my_open_context_manager2(\"../README.md\") as f:\n",
    "    print(f.read())\n",
    "\n",
    "with my_open_context_manager2(\"../README.md\") as f:\n",
    "    print(f.read())\n",
    "    raise ValueError(\"my context manager2 error\")"
   ]
  },
  {
   "cell_type": "code",
   "execution_count": 17,
   "id": "dfbac704",
   "metadata": {},
   "outputs": [],
   "source": [
    "import os\n",
    "\n",
    "# fileがなくてもエラーをシカトする\n",
    "with contextlib.suppress(FileNotFoundError):\n",
    "    os.remove(\"hello.txt\")"
   ]
  },
  {
   "cell_type": "code",
   "execution_count": 19,
   "id": "b35eaa60",
   "metadata": {},
   "outputs": [],
   "source": [
    "# 標準出力をターゲット(redirect_stdout(ターゲット))に変更する\n",
    "with open(\"./logs/hello.txt\", \"w\") as f:\n",
    "    with contextlib.redirect_stdout(f):\n",
    "        print(\"log write\")"
   ]
  },
  {
   "cell_type": "markdown",
   "id": "10467142",
   "metadata": {},
   "source": [
    "## 関数の引数\n",
    "\n",
    "- 関数を定義する際の引数の指定方法\n",
    "- 関数を定義するときに使う引数(仮引数)を parameter\n",
    "- 関数を使用するときに使う引数(実引数)を argument\n"
   ]
  },
  {
   "cell_type": "markdown",
   "id": "f096cc6f",
   "metadata": {},
   "source": [
    "### 位置引数\n",
    "\n",
    "- 関数の呼び出し時に、引数の位置に対応した形で指定する\n",
    "  - 渡した引数と同じ位置の仮引数がその値を受け取る\n"
   ]
  },
  {
   "cell_type": "code",
   "execution_count": 20,
   "id": "4192dd9d",
   "metadata": {},
   "outputs": [
    {
     "name": "stdout",
     "output_type": "stream",
     "text": [
      "ham, egg, corn\n"
     ]
    }
   ],
   "source": [
    "def sample_func(param1, param2, param3):\n",
    "    print(f\"{param1}, {param2}, {param3}\")\n",
    "\n",
    "\n",
    "sample_func(\"ham\", \"egg\", \"corn\")"
   ]
  },
  {
   "cell_type": "markdown",
   "id": "dfd8943e",
   "metadata": {},
   "source": [
    "### キーワード引数\n",
    "\n",
    "- 仮引数のキーワードと同様の名称を指定して実引数を渡す\n"
   ]
  },
  {
   "cell_type": "code",
   "execution_count": 23,
   "id": "dbc81c47",
   "metadata": {},
   "outputs": [
    {
     "name": "stdout",
     "output_type": "stream",
     "text": [
      "ham, egg, corn\n",
      "ham, egg, corn\n"
     ]
    }
   ],
   "source": [
    "sample_func(param1=\"ham\", param2=\"egg\", param3=\"corn\")\n",
    "\n",
    "# キーワードを全て指定していれば、順番はテレコでも良い\n",
    "sample_func(param3=\"corn\", param1=\"ham\", param2=\"egg\")"
   ]
  },
  {
   "cell_type": "markdown",
   "id": "ea6e5c1a",
   "metadata": {},
   "source": [
    "### 位置引数とキーワード引数の混在\n",
    "\n",
    "- 位置引数とキーワード引数の両方を使用して定義することもできる\n",
    "  - ただし、位置引数 -> キーワード引数の順で渡す必要がある\n"
   ]
  },
  {
   "cell_type": "code",
   "execution_count": 26,
   "id": "d735af1f",
   "metadata": {},
   "outputs": [
    {
     "name": "stdout",
     "output_type": "stream",
     "text": [
      "ham, egg, corn\n"
     ]
    },
    {
     "ename": "TypeError",
     "evalue": "sample_func() got multiple values for argument 'param1'",
     "output_type": "error",
     "traceback": [
      "\u001b[31m---------------------------------------------------------------------------\u001b[39m",
      "\u001b[31mTypeError\u001b[39m                                 Traceback (most recent call last)",
      "\u001b[36mCell\u001b[39m\u001b[36m \u001b[39m\u001b[32mIn[26]\u001b[39m\u001b[32m, line 4\u001b[39m\n\u001b[32m      1\u001b[39m sample_func(\u001b[33m\"\u001b[39m\u001b[33mham\u001b[39m\u001b[33m\"\u001b[39m, \u001b[33m\"\u001b[39m\u001b[33megg\u001b[39m\u001b[33m\"\u001b[39m, param3=\u001b[33m\"\u001b[39m\u001b[33mcorn\u001b[39m\u001b[33m\"\u001b[39m)\n\u001b[32m      3\u001b[39m \u001b[38;5;66;03m# NGパターン、既に位置引数としてparam1と2が指定されている状態のためエラーとなる\u001b[39;00m\n\u001b[32m----> \u001b[39m\u001b[32m4\u001b[39m \u001b[43msample_func\u001b[49m\u001b[43m(\u001b[49m\u001b[33;43m\"\u001b[39;49m\u001b[33;43mham\u001b[39;49m\u001b[33;43m\"\u001b[39;49m\u001b[43m,\u001b[49m\u001b[43m \u001b[49m\u001b[33;43m\"\u001b[39;49m\u001b[33;43megg\u001b[39;49m\u001b[33;43m\"\u001b[39;49m\u001b[43m,\u001b[49m\u001b[43m \u001b[49m\u001b[43mparam1\u001b[49m\u001b[43m=\u001b[49m\u001b[33;43m\"\u001b[39;49m\u001b[33;43mcorn\u001b[39;49m\u001b[33;43m\"\u001b[39;49m\u001b[43m)\u001b[49m\n",
      "\u001b[31mTypeError\u001b[39m: sample_func() got multiple values for argument 'param1'"
     ]
    }
   ],
   "source": [
    "sample_func(\"ham\", \"egg\", param3=\"corn\")\n",
    "\n",
    "# NGパターン、既に位置引数としてparam1と2が指定されている状態のためエラーとなる\n",
    "sample_func(\"ham\", \"egg\", param1=\"corn\")"
   ]
  },
  {
   "cell_type": "markdown",
   "id": "ebd1dbe8",
   "metadata": {},
   "source": [
    "### デフォルト値引数\n",
    "\n",
    "- 仮引数にはデフォルトの値を設定することができ、実引数を省略することができる\n",
    "  - また、デフォルト値はイミュータブルオブジェクトを指定する\n"
   ]
  },
  {
   "cell_type": "code",
   "execution_count": 30,
   "id": "3074c5ce",
   "metadata": {},
   "outputs": [
    {
     "name": "stdout",
     "output_type": "stream",
     "text": [
      "ham, egg, corn\n",
      "spam, rice, corn\n",
      "spam, egg, rice\n"
     ]
    }
   ],
   "source": [
    "def default_param_func(param1, param2=\"egg\", param3=\"corn\"):\n",
    "    print(f\"{param1}, {param2}, {param3}\")\n",
    "\n",
    "\n",
    "default_param_func(\"ham\")\n",
    "default_param_func(\"spam\", \"rice\")\n",
    "default_param_func(\"spam\", param3=\"rice\")"
   ]
  },
  {
   "cell_type": "code",
   "execution_count": 32,
   "id": "2e363ea6",
   "metadata": {},
   "outputs": [
    {
     "ename": "SyntaxError",
     "evalue": "parameter without a default follows parameter with a default (2138080526.py, line 2)",
     "output_type": "error",
     "traceback": [
      "  \u001b[36mCell\u001b[39m\u001b[36m \u001b[39m\u001b[32mIn[32]\u001b[39m\u001b[32m, line 2\u001b[39m\n\u001b[31m    \u001b[39m\u001b[31mdef ng_default_param_func(param1, param2=\"egg\", param3):\u001b[39m\n                                                    ^\n\u001b[31mSyntaxError\u001b[39m\u001b[31m:\u001b[39m parameter without a default follows parameter with a default\n"
     ]
    }
   ],
   "source": [
    "# NGパターン、デフォルト引数を設定したら以降の引数もデフォルトの引数を設定しなければならない\n",
    "def ng_default_param_func(param1, param2=\"egg\", param3):\n",
    "    print(f\"{param1}, {param2}, {param3}\")"
   ]
  },
  {
   "cell_type": "markdown",
   "id": "64be198f",
   "metadata": {},
   "source": [
    "### 可変長引数\n",
    "\n",
    "- 仮引数にアスタリスクをつけると任意の数の引数を定義することができます\n",
    "  - 慣例で`*args` とすることが多い\n",
    "- print や max などの組み込み関数がそれに対応しています\n"
   ]
  },
  {
   "cell_type": "code",
   "execution_count": 33,
   "id": "0288aaa5",
   "metadata": {},
   "outputs": [
    {
     "data": {
      "text/plain": [
       "15"
      ]
     },
     "execution_count": 33,
     "metadata": {},
     "output_type": "execute_result"
    }
   ],
   "source": [
    "def total_func(*args):\n",
    "    total = 0\n",
    "    for i in args:\n",
    "        total += i\n",
    "\n",
    "    return total\n",
    "\n",
    "\n",
    "total_func(1, 2, 3, 4, 5)"
   ]
  },
  {
   "cell_type": "code",
   "execution_count": 40,
   "id": "9e1b1fc1",
   "metadata": {},
   "outputs": [
    {
     "name": "stdout",
     "output_type": "stream",
     "text": [
      "15\n",
      "15\n"
     ]
    }
   ],
   "source": [
    "# リストを渡す\n",
    "num_list = [1, 2, 3, 4, 5]\n",
    "num_tuple = (1, 2, 3, 4, 5)\n",
    "\n",
    "print(total_func(*num_list))\n",
    "print(total_func(*num_tuple))"
   ]
  },
  {
   "cell_type": "code",
   "execution_count": 41,
   "id": "ea64da2b",
   "metadata": {},
   "outputs": [
    {
     "name": "stdout",
     "output_type": "stream",
     "text": [
      "param1=1\n",
      "param2=2\n",
      "args=(3, 4, 5)\n"
     ]
    }
   ],
   "source": [
    "# *argsは他の引数の後ろに定義する\n",
    "def sample_args(param1, param2, *args):\n",
    "    print(f\"{param1=}\")\n",
    "    print(f\"{param2=}\")\n",
    "    print(f\"{args=}\")\n",
    "\n",
    "\n",
    "sample_args(1, 2, 3, 4, 5)"
   ]
  },
  {
   "cell_type": "code",
   "execution_count": 47,
   "id": "a918ac71",
   "metadata": {},
   "outputs": [],
   "source": [
    "# 可変長引数の前にデフォルト引数を定義すると呼び出し側でキーワード引数が使えなくなるので、基本的にはその使用方法は避ける\n",
    "def avoid_func(param1, default_arg=0, *args):\n",
    "    print(f\"{param1=}\")\n",
    "    print(f\"{default_arg=}\")\n",
    "    print(f\"{args=}\")"
   ]
  },
  {
   "cell_type": "code",
   "execution_count": 135,
   "id": "9d20c906",
   "metadata": {},
   "outputs": [
    {
     "ename": "SyntaxError",
     "evalue": "positional argument follows keyword argument (1614057389.py, line 2)",
     "output_type": "error",
     "traceback": [
      "  \u001b[36mCell\u001b[39m\u001b[36m \u001b[39m\u001b[32mIn[135]\u001b[39m\u001b[32m, line 2\u001b[39m\n\u001b[31m    \u001b[39m\u001b[31mavoid_func(1, default_arg=10, 1, 2, 3)\u001b[39m\n                                         ^\n\u001b[31mSyntaxError\u001b[39m\u001b[31m:\u001b[39m positional argument follows keyword argument\n"
     ]
    }
   ],
   "source": [
    "# NGパターン 構文エラーになるため定義できない\n",
    "avoid_func(1, default_arg=10, 1, 2, 3)"
   ]
  },
  {
   "cell_type": "code",
   "execution_count": null,
   "id": "aded592c",
   "metadata": {},
   "outputs": [
    {
     "ename": "NameError",
     "evalue": "name 'avoid_func' is not defined",
     "output_type": "error",
     "traceback": [
      "\u001b[31m---------------------------------------------------------------------------\u001b[39m",
      "\u001b[31mNameError\u001b[39m                                 Traceback (most recent call last)",
      "\u001b[36mCell\u001b[39m\u001b[36m \u001b[39m\u001b[32mIn[45]\u001b[39m\u001b[32m, line 2\u001b[39m\n\u001b[32m      1\u001b[39m \u001b[38;5;66;03m# NGパターン2\u001b[39;00m\n\u001b[32m----> \u001b[39m\u001b[32m2\u001b[39m \u001b[43mavoid_func\u001b[49m(\u001b[32m1\u001b[39m, \u001b[32m1\u001b[39m, \u001b[32m2\u001b[39m, \u001b[32m3\u001b[39m, default_arg=\u001b[32m10\u001b[39m)\n",
      "\u001b[31mNameError\u001b[39m: name 'avoid_func' is not defined"
     ]
    }
   ],
   "source": [
    "# NGパターン2\n",
    "avoid_func(1, 1, 2, 3, default_arg=10)"
   ]
  },
  {
   "cell_type": "code",
   "execution_count": 50,
   "id": "cefdfe74",
   "metadata": {},
   "outputs": [
    {
     "name": "stdout",
     "output_type": "stream",
     "text": [
      "param1=1\n",
      "default_arg=10\n",
      "args=(1, 2, 3)\n"
     ]
    }
   ],
   "source": [
    "# キーワード引数なしで行えば問題ないが、可読性が下がる\n",
    "avoid_func(1, 10, 1, 2, 3)"
   ]
  },
  {
   "cell_type": "markdown",
   "id": "e97a54bf",
   "metadata": {},
   "source": [
    "### 可変長キーワード引数\n",
    "\n",
    "- 可変長引数と同様で、アスタリスクを 2 つ付けることで可変長のキーワード引数を定義することができます\n",
    "- また、可変長キーワード引数は辞書として受け取ることになります\n",
    "  - 慣例で`**kwargs` とすることが多い\n",
    "- 可変長引数は引数の一番最後に指定しなければなりません\n"
   ]
  },
  {
   "cell_type": "code",
   "execution_count": 53,
   "id": "cf93b389",
   "metadata": {},
   "outputs": [
    {
     "name": "stdout",
     "output_type": "stream",
     "text": [
      "name='John'\n",
      "age : 30\n",
      "address : john@sample.com\n"
     ]
    }
   ],
   "source": [
    "def user_data(name, **kwargs):\n",
    "    print(f\"{name=}\")\n",
    "    for k, v in kwargs.items():\n",
    "        print(f\"{k} : {v}\")\n",
    "\n",
    "\n",
    "user_data(\"John\", age=30, address=\"john@sample.com\")"
   ]
  },
  {
   "cell_type": "code",
   "execution_count": 54,
   "id": "e9a3cb1c",
   "metadata": {},
   "outputs": [
    {
     "name": "stdout",
     "output_type": "stream",
     "text": [
      "name='John'\n",
      "age : 30\n",
      "address : john@sample.com\n"
     ]
    }
   ],
   "source": [
    "john = {\"name\": \"John\", \"age\": 30, \"address\": \"john@sample.com\"}\n",
    "user_data(**john)"
   ]
  },
  {
   "cell_type": "markdown",
   "id": "535268bb",
   "metadata": {},
   "source": [
    "- 今まで説明した全ての引数を 1 つの関数で適宜することができますが、以下の順序で定義する必要があります\n",
    "\n",
    "1. 位置引数\n",
    "2. 可変長位置引数\n",
    "3. デフォルト付きの引数(呼び出し側でキーワードとして指定したい場合は、可変長位置引数の後に指定する)\n",
    "4. 可変長キーワード引数\n",
    "\n",
    "- ※基本的には必要な引数を定義しましょう、可読性が低くなったりどのような引数が来るのかが分かりづらくなることもあり不具合に繋がりやすくなります\n"
   ]
  },
  {
   "cell_type": "code",
   "execution_count": 55,
   "id": "e9cf819d",
   "metadata": {},
   "outputs": [
    {
     "name": "stdout",
     "output_type": "stream",
     "text": [
      "param1=1\n",
      "args=(2, 3)\n",
      "default_arg=100\n",
      "kwargs={'kw1': 'hello', 'kw2': 'world'}\n"
     ]
    }
   ],
   "source": [
    "# デフォルト引数をキーワード引数として利用したい場合\n",
    "def sample_default_kwargs(param1, *args, default_arg=0, **kwargs):\n",
    "    print(f\"{param1=}\")\n",
    "    print(f\"{args=}\")\n",
    "    print(f\"{default_arg=}\")\n",
    "    print(f\"{kwargs=}\")\n",
    "\n",
    "\n",
    "sample_default_kwargs(1, 2, 3, default_arg=100, kw1=\"hello\", kw2=\"world\")"
   ]
  },
  {
   "cell_type": "markdown",
   "id": "a0e107c7",
   "metadata": {},
   "source": [
    "### キーワード専用引数\n",
    "\n",
    "- アスタリスクの後に定義された引数はキーワード専用引数と呼ばれ、指定しなければ呼び出せないという制限をつけることができます\n",
    "- キーワード引数を明示的にした方が可読性は上がるため、強要したい場合に使用します\n",
    "  - Bool 値の場合、何に対しての bool なのかが判断がつきづらくなるため、使用したりします\n"
   ]
  },
  {
   "cell_type": "code",
   "execution_count": 58,
   "id": "8faa2adf",
   "metadata": {},
   "outputs": [
    {
     "name": "stdout",
     "output_type": "stream",
     "text": [
      "ham, True\n"
     ]
    },
    {
     "ename": "TypeError",
     "evalue": "necessary_kwarg() takes 1 positional argument but 2 were given",
     "output_type": "error",
     "traceback": [
      "\u001b[31m---------------------------------------------------------------------------\u001b[39m",
      "\u001b[31mTypeError\u001b[39m                                 Traceback (most recent call last)",
      "\u001b[36mCell\u001b[39m\u001b[36m \u001b[39m\u001b[32mIn[58]\u001b[39m\u001b[32m, line 7\u001b[39m\n\u001b[32m      5\u001b[39m necessary_kwarg(\u001b[33m\"\u001b[39m\u001b[33mham\u001b[39m\u001b[33m\"\u001b[39m, kwarg=\u001b[38;5;28;01mTrue\u001b[39;00m)\n\u001b[32m      6\u001b[39m \u001b[38;5;66;03m# NGパターン\u001b[39;00m\n\u001b[32m----> \u001b[39m\u001b[32m7\u001b[39m \u001b[43mnecessary_kwarg\u001b[49m\u001b[43m(\u001b[49m\u001b[33;43m\"\u001b[39;49m\u001b[33;43mham\u001b[39;49m\u001b[33;43m\"\u001b[39;49m\u001b[43m,\u001b[49m\u001b[43m \u001b[49m\u001b[38;5;28;43;01mFalse\u001b[39;49;00m\u001b[43m)\u001b[49m\n",
      "\u001b[31mTypeError\u001b[39m: necessary_kwarg() takes 1 positional argument but 2 were given"
     ]
    }
   ],
   "source": [
    "def necessary_kwarg(param1, *, kwarg):\n",
    "    print(f\"{param1}, {kwarg}\")\n",
    "\n",
    "\n",
    "necessary_kwarg(\"ham\", kwarg=True)\n",
    "# NGパターン\n",
    "necessary_kwarg(\"ham\", False)"
   ]
  },
  {
   "cell_type": "markdown",
   "id": "4bfc7920",
   "metadata": {},
   "source": [
    "### 位置専用引数\n",
    "\n",
    "- /の前に定義された引数は位置専用引数と呼ばれ、位置引数として指定しなければ呼び出せません\n"
   ]
  },
  {
   "cell_type": "code",
   "execution_count": 77,
   "id": "fd69fd89",
   "metadata": {},
   "outputs": [
    {
     "ename": "TypeError",
     "evalue": "add() got some positional-only arguments passed as keyword arguments: 'x, y'",
     "output_type": "error",
     "traceback": [
      "\u001b[31m---------------------------------------------------------------------------\u001b[39m",
      "\u001b[31mTypeError\u001b[39m                                 Traceback (most recent call last)",
      "\u001b[36mCell\u001b[39m\u001b[36m \u001b[39m\u001b[32mIn[77]\u001b[39m\u001b[32m, line 7\u001b[39m\n\u001b[32m      5\u001b[39m add(\u001b[32m1\u001b[39m, \u001b[32m2\u001b[39m)\n\u001b[32m      6\u001b[39m \u001b[38;5;66;03m# NGパターン\u001b[39;00m\n\u001b[32m----> \u001b[39m\u001b[32m7\u001b[39m \u001b[43madd\u001b[49m\u001b[43m(\u001b[49m\u001b[43my\u001b[49m\u001b[43m=\u001b[49m\u001b[32;43m2\u001b[39;49m\u001b[43m,\u001b[49m\u001b[43m \u001b[49m\u001b[43mx\u001b[49m\u001b[43m=\u001b[49m\u001b[32;43m1\u001b[39;49m\u001b[43m)\u001b[49m\n",
      "\u001b[31mTypeError\u001b[39m: add() got some positional-only arguments passed as keyword arguments: 'x, y'"
     ]
    }
   ],
   "source": [
    "def add(x, y, /):\n",
    "    return x + y\n",
    "\n",
    "\n",
    "add(1, 2)\n",
    "# NGパターン\n",
    "add(y=2, x=1)"
   ]
  },
  {
   "cell_type": "markdown",
   "id": "c85b3a0e",
   "metadata": {},
   "source": [
    "### 引数のよくある使い方\n",
    "\n",
    "- 特定のケースにおいて引数の値を変更したい場合などがあります\n",
    "  - この場合は、デフォルト値を設定することで対応します\n",
    "  - ノーマルケースでは引数を省略し、特定のケースだけ引数を設定する形です\n"
   ]
  },
  {
   "cell_type": "code",
   "execution_count": 2,
   "id": "8031c316",
   "metadata": {},
   "outputs": [
    {
     "name": "stdout",
     "output_type": "stream",
     "text": [
      "6\n",
      "106\n"
     ]
    }
   ],
   "source": [
    "# 例えば、組み込みのsum関数、ノーマルケースはstart0です、特定の場合のみstartを変えて行います\n",
    "# sum(iterable, /, start=0)\n",
    "\n",
    "num = [1, 2, 3]\n",
    "print(sum(num))\n",
    "print(sum(num, start=100))"
   ]
  },
  {
   "cell_type": "markdown",
   "id": "d3afb9d8",
   "metadata": {},
   "source": [
    "### 関数を定義する際の注意点\n",
    "\n",
    "- デフォルト付き引数は定義された最初だけしか評価されないため、デフォルト付き引数に list などを用いる場合は注意が必要\n"
   ]
  },
  {
   "cell_type": "code",
   "execution_count": 14,
   "id": "7ceac726",
   "metadata": {},
   "outputs": [],
   "source": [
    "# NGな例\n",
    "def caution_func(param1, param2, param3=[]):\n",
    "    param3.append(param1 + param2)\n",
    "    return param3"
   ]
  },
  {
   "cell_type": "code",
   "execution_count": 15,
   "id": "b2c63f24",
   "metadata": {},
   "outputs": [
    {
     "data": {
      "text/plain": [
       "[110]"
      ]
     },
     "execution_count": 15,
     "metadata": {},
     "output_type": "execute_result"
    }
   ],
   "source": [
    "caution_func(10, 100)"
   ]
  },
  {
   "cell_type": "code",
   "execution_count": 16,
   "id": "0da394ab",
   "metadata": {},
   "outputs": [
    {
     "data": {
      "text/plain": [
       "[110, 220]"
      ]
     },
     "execution_count": 16,
     "metadata": {},
     "output_type": "execute_result"
    }
   ],
   "source": [
    "# 過去の呼び出しが残っている状態\n",
    "caution_func(20, 200)"
   ]
  },
  {
   "cell_type": "code",
   "execution_count": 17,
   "id": "13fc5aa5",
   "metadata": {},
   "outputs": [],
   "source": [
    "# 正しい例\n",
    "def ok_caution_func(param1, param2, param3=None):\n",
    "    if param3 is None:\n",
    "        param3 = []\n",
    "    param3.append(param1 + param2)\n",
    "    return param3"
   ]
  },
  {
   "cell_type": "code",
   "execution_count": 18,
   "id": "ac06c43d",
   "metadata": {},
   "outputs": [
    {
     "data": {
      "text/plain": [
       "[110]"
      ]
     },
     "execution_count": 18,
     "metadata": {},
     "output_type": "execute_result"
    }
   ],
   "source": [
    "ok_caution_func(10, 100)"
   ]
  },
  {
   "cell_type": "code",
   "execution_count": 19,
   "id": "cb08c5fb",
   "metadata": {},
   "outputs": [
    {
     "data": {
      "text/plain": [
       "[220]"
      ]
     },
     "execution_count": 19,
     "metadata": {},
     "output_type": "execute_result"
    }
   ],
   "source": [
    "ok_caution_func(20, 200)"
   ]
  },
  {
   "cell_type": "markdown",
   "id": "94779521",
   "metadata": {},
   "source": [
    "## アンパック\n",
    "\n",
    "- タプル、リスト、辞書から複数の要素を取り出して、変数に格納したりすることができます\n",
    "\n",
    "[タプルとシーケンス](https://docs.python.org/ja/3/tutorial/datastructures.html#tuples-and-sequences)\n"
   ]
  },
  {
   "cell_type": "code",
   "execution_count": 21,
   "id": "42442a5d",
   "metadata": {},
   "outputs": [
    {
     "name": "stdout",
     "output_type": "stream",
     "text": [
      "1, 2, 3\n"
     ]
    }
   ],
   "source": [
    "tp = (1, 2, 3)\n",
    "a, b, c = tp\n",
    "print(f\"{a}, {b}, {c}\")"
   ]
  },
  {
   "cell_type": "code",
   "execution_count": 22,
   "id": "a628ac73",
   "metadata": {},
   "outputs": [
    {
     "name": "stdout",
     "output_type": "stream",
     "text": [
      "4, 5, 6\n"
     ]
    }
   ],
   "source": [
    "d, e, f = 4, 5, 6\n",
    "print(f\"{d}, {e}, {f}\")"
   ]
  },
  {
   "cell_type": "code",
   "execution_count": 23,
   "id": "15bce212",
   "metadata": {},
   "outputs": [
    {
     "name": "stdout",
     "output_type": "stream",
     "text": [
      "1, 2, 3\n"
     ]
    }
   ],
   "source": [
    "li = [1, 2, 3]\n",
    "la, lb, lc = li\n",
    "print(f\"{la}, {lb}, {lc}\")"
   ]
  },
  {
   "cell_type": "code",
   "execution_count": 28,
   "id": "955d66a3",
   "metadata": {},
   "outputs": [
    {
     "name": "stdout",
     "output_type": "stream",
     "text": [
      "('a', 1), ('b', 2), ('c', 3)\n",
      "a, b, c\n",
      "1, 2, 3\n"
     ]
    }
   ],
   "source": [
    "my_dict = {\"a\": 1, \"b\": 2, \"c\": 3}\n",
    "\n",
    "item1, item2, item3 = my_dict.items()\n",
    "print(f\"{item1}, {item2}, {item3}\")\n",
    "\n",
    "key1, key2, key3 = my_dict\n",
    "print(f\"{key1}, {key2}, {key3}\")\n",
    "\n",
    "value1, value2, value3 = my_dict.values()\n",
    "print(f\"{value1}, {value2}, {value3}\")"
   ]
  },
  {
   "cell_type": "code",
   "execution_count": 31,
   "id": "7fd79a7a",
   "metadata": {},
   "outputs": [
    {
     "ename": "ValueError",
     "evalue": "too many values to unpack (expected 2)",
     "output_type": "error",
     "traceback": [
      "\u001b[31m---------------------------------------------------------------------------\u001b[39m",
      "\u001b[31mValueError\u001b[39m                                Traceback (most recent call last)",
      "\u001b[36mCell\u001b[39m\u001b[36m \u001b[39m\u001b[32mIn[31]\u001b[39m\u001b[32m, line 2\u001b[39m\n\u001b[32m      1\u001b[39m \u001b[38;5;66;03m# NGケース1：変数の数が一致しない\u001b[39;00m\n\u001b[32m----> \u001b[39m\u001b[32m2\u001b[39m a, b = \u001b[32m1\u001b[39m, \u001b[32m2\u001b[39m, \u001b[32m3\u001b[39m\n",
      "\u001b[31mValueError\u001b[39m: too many values to unpack (expected 2)"
     ]
    }
   ],
   "source": [
    "# NGケース1：変数の数が一致しない\n",
    "a, b = 1, 2, 3"
   ]
  },
  {
   "cell_type": "code",
   "execution_count": 32,
   "id": "e42502a9",
   "metadata": {},
   "outputs": [
    {
     "ename": "ValueError",
     "evalue": "not enough values to unpack (expected 3, got 2)",
     "output_type": "error",
     "traceback": [
      "\u001b[31m---------------------------------------------------------------------------\u001b[39m",
      "\u001b[31mValueError\u001b[39m                                Traceback (most recent call last)",
      "\u001b[36mCell\u001b[39m\u001b[36m \u001b[39m\u001b[32mIn[32]\u001b[39m\u001b[32m, line 2\u001b[39m\n\u001b[32m      1\u001b[39m \u001b[38;5;66;03m# NGケース2：変数の数が一致しない\u001b[39;00m\n\u001b[32m----> \u001b[39m\u001b[32m2\u001b[39m a, b, c = \u001b[32m1\u001b[39m, \u001b[32m2\u001b[39m\n",
      "\u001b[31mValueError\u001b[39m: not enough values to unpack (expected 3, got 2)"
     ]
    }
   ],
   "source": [
    "# NGケース2：変数の数が一致しない\n",
    "a, b, c = 1, 2"
   ]
  },
  {
   "cell_type": "markdown",
   "id": "5cb5e6ae",
   "metadata": {},
   "source": [
    "### ネストしたアンパック\n"
   ]
  },
  {
   "cell_type": "code",
   "execution_count": 34,
   "id": "2388e1c4",
   "metadata": {},
   "outputs": [
    {
     "name": "stdout",
     "output_type": "stream",
     "text": [
      "0, 1, (2, 3, 4)\n",
      "0, 1, 2, 3, 4\n"
     ]
    }
   ],
   "source": [
    "nested_tp = (0, 1, (2, 3, 4))\n",
    "na, nb, nc = nested_tp\n",
    "print(f\"{na}, {nb}, {nc}\")\n",
    "\n",
    "na, nb, (nc, nd, ne) = nested_tp\n",
    "print(f\"{na}, {nb}, {nc}, {nd}, {ne}\")"
   ]
  },
  {
   "cell_type": "code",
   "execution_count": 36,
   "id": "1d96d292",
   "metadata": {},
   "outputs": [
    {
     "name": "stdout",
     "output_type": "stream",
     "text": [
      "0, 1, [2, 3, 4]\n",
      "0, 1, 2, 3, 4\n"
     ]
    }
   ],
   "source": [
    "nested_list = [0, 1, [2, 3, 4]]\n",
    "nla, nlb, nlc = nested_list\n",
    "print(f\"{nla}, {nlb}, {nlc}\")\n",
    "\n",
    "nla, nlb, [nlc, nld, nle] = nested_list\n",
    "print(f\"{nla}, {nlb}, {nlc}, {nld}, {nle}\")"
   ]
  },
  {
   "cell_type": "code",
   "execution_count": 47,
   "id": "2496e9b9",
   "metadata": {},
   "outputs": [
    {
     "name": "stdout",
     "output_type": "stream",
     "text": [
      "('a', 0), ('b', 1), ('c', {'d': 2, 'e': 3, 'f': 4})\n",
      "('a', 0), ('b', 1), c, {'d': 2, 'e': 3, 'f': 4}, ('d', 2), ('e', 3), ('f', 4)\n"
     ]
    }
   ],
   "source": [
    "nested_dict = {\"a\": 0, \"b\": 1, \"c\": {\"d\": 2, \"e\": 3, \"f\": 4}}\n",
    "nda, ndb, ndc = nested_dict.items()\n",
    "print(f\"{nda}, {ndb}, {ndc}\")\n",
    "\n",
    "# 2段構えしないといけない(通常keyだけが対象になってしまうため)\n",
    "nda, ndb, (ndck, ndcv) = nested_dict.items()\n",
    "ndd, nde, ndf = ndcv.items()\n",
    "print(f\"{nda}, {ndb}, {ndck}, {ndcv}, {ndd}, {nde}, {ndf}\")"
   ]
  },
  {
   "cell_type": "markdown",
   "id": "38fb6046",
   "metadata": {},
   "source": [
    "### アスタリスクを使ったアンパック\n",
    "\n",
    "- 代入される側の変数にアスタリスクをつけることでその変数にまとめて格納することができる\n",
    "  - どの変数でも良いが、1 つのみの設定が可能です\n"
   ]
  },
  {
   "cell_type": "code",
   "execution_count": 52,
   "id": "bd0e1033",
   "metadata": {},
   "outputs": [
    {
     "name": "stdout",
     "output_type": "stream",
     "text": [
      "0, 1, [2, 3, 4]\n",
      "0, [1, 2, 3], 4\n"
     ]
    }
   ],
   "source": [
    "tp = (0, 1, 2, 3, 4)\n",
    "# 残りはリストとして格納される\n",
    "a, b, *c = tp\n",
    "print(f\"{a}, {b}, {c}\")\n",
    "\n",
    "a, *b, c = tp\n",
    "print(f\"{a}, {b}, {c}\")"
   ]
  },
  {
   "cell_type": "code",
   "execution_count": 53,
   "id": "b9287607",
   "metadata": {},
   "outputs": [
    {
     "ename": "SyntaxError",
     "evalue": "multiple starred expressions in assignment (2184158152.py, line 2)",
     "output_type": "error",
     "traceback": [
      "  \u001b[36mCell\u001b[39m\u001b[36m \u001b[39m\u001b[32mIn[53]\u001b[39m\u001b[32m, line 2\u001b[39m\n\u001b[31m    \u001b[39m\u001b[31ma, *b, *c = tp\u001b[39m\n    ^\n\u001b[31mSyntaxError\u001b[39m\u001b[31m:\u001b[39m multiple starred expressions in assignment\n"
     ]
    }
   ],
   "source": [
    "# NGパターン\n",
    "a, *b, *c = tp\n",
    "print(f\"{a}, {b}, {c}\")"
   ]
  },
  {
   "cell_type": "markdown",
   "id": "7475f3d7",
   "metadata": {},
   "source": [
    "### 関数の引数のアンパック\n",
    "\n",
    "- 可変長引数、可変長キーワード引数で実施した時と同様です\n",
    "  - 中身を展開して渡すことができます\n"
   ]
  },
  {
   "cell_type": "code",
   "execution_count": 54,
   "id": "421d418c",
   "metadata": {},
   "outputs": [
    {
     "name": "stdout",
     "output_type": "stream",
     "text": [
      "1, 2, 3\n"
     ]
    }
   ],
   "source": [
    "def unpack_func(param1, param2, param3):\n",
    "    print(f\"{param1}, {param2}, {param3}\")\n",
    "\n",
    "\n",
    "args = [1, 2, 3]\n",
    "unpack_func(*args)"
   ]
  },
  {
   "cell_type": "code",
   "execution_count": 57,
   "id": "09e7a83b",
   "metadata": {},
   "outputs": [
    {
     "name": "stdout",
     "output_type": "stream",
     "text": [
      "太郎, 30, 日本\n"
     ]
    }
   ],
   "source": [
    "def unpack_dict_func(name, age, country):\n",
    "    print(f\"{name}, {age}, {country}\")\n",
    "\n",
    "\n",
    "user = {\"name\": \"太郎\", \"age\": 30, \"country\": \"日本\"}\n",
    "# dictの時はキーを合わせることと、アスタリスクを2つつける必要があります\n",
    "unpack_dict_func(**user)"
   ]
  },
  {
   "cell_type": "markdown",
   "id": "3521558b",
   "metadata": {},
   "source": [
    "### アンパックのよくある使い方\n"
   ]
  },
  {
   "cell_type": "code",
   "execution_count": 60,
   "id": "4857cc24",
   "metadata": {},
   "outputs": [
    {
     "name": "stdout",
     "output_type": "stream",
     "text": [
      "ja_JP : 日本語\n",
      "en_US : 英語（アメリカ）\n",
      "en_GB : 英語（イギリス）\n",
      "fr_FR : フランス語\n"
     ]
    }
   ],
   "source": [
    "language_code = {\n",
    "    \"ja_JP\": \"日本語\",\n",
    "    \"en_US\": \"英語（アメリカ）\",\n",
    "    \"en_GB\": \"英語（イギリス）\",\n",
    "    \"fr_FR\": \"フランス語\",\n",
    "}\n",
    "\n",
    "# Key, Value形式で一度で受け取る方法\n",
    "for k, v in language_code.items():\n",
    "    print(f\"{k} : {v}\")"
   ]
  },
  {
   "cell_type": "code",
   "execution_count": 61,
   "id": "257c2fbd",
   "metadata": {},
   "outputs": [
    {
     "name": "stdout",
     "output_type": "stream",
     "text": [
      "0番目の色はRedです\n",
      "1番目の色はBlueです\n",
      "2番目の色はGreenです\n",
      "3番目の色はYellowです\n"
     ]
    }
   ],
   "source": [
    "color_list = [\"Red\", \"Blue\", \"Green\", \"Yellow\"]\n",
    "\n",
    "# iterableをインデックスと同時に受け取る形\n",
    "for i, color in enumerate(color_list):\n",
    "    print(f\"{i}番目の色は{color}です\")"
   ]
  },
  {
   "cell_type": "markdown",
   "id": "9192322e",
   "metadata": {},
   "source": [
    "## 内包表記、ジェネレータ式\n",
    "\n",
    "- 内包表記は、簡潔なコードでリストを作成することができる\n",
    "- ジェネレータ式はリストや内包表記と違い、呼び出しが行われた際にデータを生成する(遅延評価)\n"
   ]
  },
  {
   "cell_type": "code",
   "execution_count": 63,
   "id": "0f24c54f",
   "metadata": {},
   "outputs": [
    {
     "name": "stdout",
     "output_type": "stream",
     "text": [
      "[0, 1, 4, 9, 16, 25, 36, 49, 64, 81]\n",
      "[0, 1, 4, 9, 16, 25, 36, 49, 64, 81]\n"
     ]
    }
   ],
   "source": [
    "# 内包表記法\n",
    "# [変数を使った処理 for 変数 in iterableオブジェクト]\n",
    "# [変数を使った処理 for 変数 in iterableオブジェクト if 条件]\n",
    "\n",
    "# 通常のリスト作成\n",
    "num_list_for = []\n",
    "for num in range(10):\n",
    "    num_list_for.append(num**2)\n",
    "\n",
    "print(num_list_for)\n",
    "\n",
    "# 内包表記での作成\n",
    "num_list = [num**2 for num in range(10)]\n",
    "print(num_list)"
   ]
  },
  {
   "cell_type": "code",
   "execution_count": 64,
   "id": "64f85185",
   "metadata": {},
   "outputs": [
    {
     "name": "stdout",
     "output_type": "stream",
     "text": [
      "[0, 4, 16, 36, 64]\n"
     ]
    }
   ],
   "source": [
    "# 偶数のみの内包表記\n",
    "num_list = [num**2 for num in range(10) if num % 2 == 0]\n",
    "print(num_list)"
   ]
  },
  {
   "cell_type": "code",
   "execution_count": 67,
   "id": "a6272243",
   "metadata": {},
   "outputs": [
    {
     "name": "stdout",
     "output_type": "stream",
     "text": [
      "[('humburger', 'coke'), ('humburger', 'cider'), ('humburger', 'tea'), ('humburger', 'coffee'), ('cheese humburger', 'coke'), ('cheese humburger', 'cider'), ('cheese humburger', 'tea'), ('cheese humburger', 'coffee')]\n"
     ]
    }
   ],
   "source": [
    "# ネストした内包表記(複雑になる場合は、避けましょう)\n",
    "drinks = [\"coke\", \"cider\", \"tea\", \"coffee\"]\n",
    "burgers = [\"humburger\", \"cheese humburger\"]\n",
    "set_menu = [(burger, drink) for burger in burgers for drink in drinks]\n",
    "\n",
    "print(set_menu)"
   ]
  },
  {
   "cell_type": "markdown",
   "id": "eea3ba0d",
   "metadata": {},
   "source": [
    "### 集合内包表記(set)、辞書内包表記\n"
   ]
  },
  {
   "cell_type": "code",
   "execution_count": null,
   "id": "dd2c5804",
   "metadata": {},
   "outputs": [
    {
     "name": "stdout",
     "output_type": "stream",
     "text": [
      "{0, 1, 4, 5, 6, 9}\n",
      "{0: 0, 1: 1, 2: 4, 3: 9, 4: 6, 5: 5, 6: 6, 7: 9, 8: 4, 9: 1}\n"
     ]
    }
   ],
   "source": [
    "print({num**2 % 10 for num in range(10)})\n",
    "print({num: num**2 % 10 for num in range(10)})"
   ]
  },
  {
   "cell_type": "markdown",
   "id": "874193e1",
   "metadata": {},
   "source": [
    "### ジェネレータ式\n",
    "\n",
    "- 内包表記を丸括弧で実施することでジェネレータとして定義することができます\n"
   ]
  },
  {
   "cell_type": "code",
   "execution_count": null,
   "id": "b0cd3573",
   "metadata": {},
   "outputs": [
    {
     "name": "stdout",
     "output_type": "stream",
     "text": [
      "0\n",
      "1\n",
      "4\n",
      "9\n",
      "16\n",
      "25\n",
      "36\n",
      "49\n",
      "64\n",
      "81\n"
     ]
    }
   ],
   "source": [
    "g = (i**2 for i in range(10))\n",
    "type(g)\n",
    "\n",
    "# i**2の結果が返される\n",
    "for num in g:\n",
    "    print(num)"
   ]
  },
  {
   "cell_type": "markdown",
   "id": "4438f5cb",
   "metadata": {},
   "source": [
    "### 内包表記、ジェネレータ式のよくある使い方\n",
    "\n",
    "- map や filter 組み込み関数を一緒に使う\n"
   ]
  },
  {
   "cell_type": "code",
   "execution_count": 81,
   "id": "1a24a925",
   "metadata": {},
   "outputs": [
    {
     "name": "stdout",
     "output_type": "stream",
     "text": [
      "[1, 2, 4, 2, 9]\n",
      "[4, 9]\n",
      "[4, 9]\n"
     ]
    }
   ],
   "source": [
    "float_list = [1.4, 2.0, 3.5, 2.25, 9.2]\n",
    "# 小数点を丸めたリストを作成する\n",
    "print(list(map(round, float_list)))\n",
    "\n",
    "# 小数点を丸めた3以上のリストを作成する(mapやfilterなどを使って行うこともできたりするが、複雑になる場合はやめる)\n",
    "print(list(map(round, filter(lambda n: n > 3, float_list))))\n",
    "\n",
    "# 同じこと\n",
    "print([round(num) for num in float_list if num > 3])"
   ]
  },
  {
   "cell_type": "markdown",
   "id": "ce3d8c2c",
   "metadata": {},
   "source": [
    "## ジェネレーター\n",
    "\n",
    "- ジェネレーターはイテレータを返す関数\n",
    "- 大量のデータを繰り返し利用する場合は、その分のメモリリソースが必要になる\n",
    "\n",
    "  - ジェネレーターはタイミングに応じて結果を返すことができるため、メモリリソースを抑えることができる\n",
    "\n",
    "- 通常の関数では return に指定された結果を返し終了する\n",
    "- 関数ないで yield を使用するとそれはジェネレータオブジェクトと判断される\n",
    "- yield は実行された時点の値を返し、その位置で一時停止し次の実行を待つ\n",
    "- ※ジェネレータは一度使用されると中身が空(イテレータが消費される)になるため注意。必要であれば、事前に `list()` などで実体を確保しておく。\n"
   ]
  },
  {
   "cell_type": "code",
   "execution_count": null,
   "id": "498424db",
   "metadata": {},
   "outputs": [
    {
     "name": "stdout",
     "output_type": "stream",
     "text": [
      "<class 'list'>\n",
      "[0, 1, 2, 3, 4, 5]\n"
     ]
    }
   ],
   "source": [
    "# 通常の関数\n",
    "def multiplier(values):\n",
    "    ret = []\n",
    "    for i in values:\n",
    "        ret.append(i**2)\n",
    "\n",
    "    return ret\n",
    "\n",
    "\n",
    "values = [0, 1, 2, 3, 4, 5]\n",
    "ret = multiplier(values)\n",
    "print(type(ret))\n",
    "print(ret)"
   ]
  },
  {
   "cell_type": "code",
   "execution_count": null,
   "id": "287e844b",
   "metadata": {},
   "outputs": [
    {
     "name": "stdout",
     "output_type": "stream",
     "text": [
      "<class 'generator'>\n",
      "<generator object gen_multiplier at 0x118052260>\n"
     ]
    }
   ],
   "source": [
    "# ジェネレータ(returnの代わりにyieldを使用する)\n",
    "# 通常の関数\n",
    "def gen_multiplier(values):\n",
    "    for i in values:\n",
    "        yield i**2\n",
    "\n",
    "\n",
    "values = [0, 1, 2, 3, 4, 5]\n",
    "ret = gen_multiplier(values)\n",
    "print(type(ret))\n",
    "print(ret)"
   ]
  },
  {
   "cell_type": "code",
   "execution_count": 85,
   "id": "010b1d67",
   "metadata": {},
   "outputs": [
    {
     "name": "stdout",
     "output_type": "stream",
     "text": [
      "0\n",
      "1\n",
      "4\n",
      "9\n",
      "16\n",
      "25\n"
     ]
    }
   ],
   "source": [
    "# for i in gen_multiplier(values): と同様\n",
    "for i in ret:\n",
    "    print(i)"
   ]
  },
  {
   "cell_type": "markdown",
   "id": "24993cdf",
   "metadata": {},
   "source": [
    "### next()関数の使用\n",
    "\n",
    "- ジェネレーターの実行、再度に実行された位置から再開します\n",
    "\n",
    "  - 返す値が無ければ、StopIteration 例外を送出します\n",
    "\n",
    "- 連続したデータを処理するわけではなく、特定のタイミングでデータを処理したい場合に使用されることが多い\n",
    "  - 通常の関数では計算結果を保持しなければならないが、ジェネレータであれば無限に値を取り出すことが可能\n"
   ]
  },
  {
   "cell_type": "code",
   "execution_count": 86,
   "id": "ed62d0cf",
   "metadata": {},
   "outputs": [
    {
     "name": "stdout",
     "output_type": "stream",
     "text": [
      "<generator object while_multiplier at 0x118039240>\n"
     ]
    }
   ],
   "source": [
    "def while_multiplier():\n",
    "    num = 1\n",
    "    while True:\n",
    "        yield num\n",
    "        num *= 2\n",
    "\n",
    "\n",
    "g = while_multiplier()\n",
    "print(g)"
   ]
  },
  {
   "cell_type": "code",
   "execution_count": 87,
   "id": "80ef1446",
   "metadata": {},
   "outputs": [
    {
     "data": {
      "text/plain": [
       "1"
      ]
     },
     "execution_count": 87,
     "metadata": {},
     "output_type": "execute_result"
    }
   ],
   "source": [
    "next(g)"
   ]
  },
  {
   "cell_type": "code",
   "execution_count": 88,
   "id": "1cde405c",
   "metadata": {},
   "outputs": [
    {
     "data": {
      "text/plain": [
       "2"
      ]
     },
     "execution_count": 88,
     "metadata": {},
     "output_type": "execute_result"
    }
   ],
   "source": [
    "next(g)"
   ]
  },
  {
   "cell_type": "code",
   "execution_count": 89,
   "id": "f03a37b1",
   "metadata": {},
   "outputs": [
    {
     "data": {
      "text/plain": [
       "4"
      ]
     },
     "execution_count": 89,
     "metadata": {},
     "output_type": "execute_result"
    }
   ],
   "source": [
    "next(g)"
   ]
  },
  {
   "cell_type": "code",
   "execution_count": 90,
   "id": "79173378",
   "metadata": {},
   "outputs": [
    {
     "data": {
      "text/plain": [
       "8"
      ]
     },
     "execution_count": 90,
     "metadata": {},
     "output_type": "execute_result"
    }
   ],
   "source": [
    "next(g)"
   ]
  },
  {
   "cell_type": "code",
   "execution_count": 92,
   "id": "911279e4",
   "metadata": {},
   "outputs": [
    {
     "data": {
      "text/plain": [
       "[0, 1, 4, 9, 16, 25]"
      ]
     },
     "execution_count": 92,
     "metadata": {},
     "output_type": "execute_result"
    }
   ],
   "source": [
    "# 最終的にジェネレータをリストに変換したい場合(正味、listをはじめから作る予定なら内包表記で十分です)\n",
    "values = [0, 1, 2, 3, 4, 5]\n",
    "ret = list(gen_multiplier(values))\n",
    "ret"
   ]
  },
  {
   "cell_type": "markdown",
   "id": "917d5488",
   "metadata": {},
   "source": [
    "### ジェネレータのよくある使い方\n",
    "\n",
    "- 処理の途中で結果を受け取って、受け取った結果に応じて処理を行いたい場合\n",
    "- ループの途中で処理を再開したい場合\n",
    "- メモリを節約しながら大きいデータを反復的に扱いたい場合\n",
    "- リストへの追加処理はメモリを消費しやすいため、リスト使用よりも高速化したい場合\n"
   ]
  },
  {
   "cell_type": "code",
   "execution_count": 95,
   "id": "1beb2f98",
   "metadata": {},
   "outputs": [
    {
     "name": "stdout",
     "output_type": "stream",
     "text": [
      "リストのメモリ:8448728\n",
      "ジェネレーターのメモリ:200\n"
     ]
    }
   ],
   "source": [
    "# 参考にメモリ量\n",
    "import sys\n",
    "\n",
    "\n",
    "l = [i**2 for i in range(1_000_001)]\n",
    "print(f\"リストのメモリ:{sys.getsizeof(l)}\")\n",
    "\n",
    "g = (i**2 for i in range(1_000_001))\n",
    "print(f\"ジェネレーターのメモリ:{sys.getsizeof(g)}\")"
   ]
  },
  {
   "cell_type": "code",
   "execution_count": 97,
   "id": "d772ce2f",
   "metadata": {},
   "outputs": [
    {
     "name": "stdout",
     "output_type": "stream",
     "text": [
      "リストのメモリ:184\n",
      "ジェネレーターのメモリ:200\n"
     ]
    }
   ],
   "source": [
    "# 本体サイズを見ているので、リストのサイズが小さい場合はメモリが小さく見えるのは当たり前といえば当たり前\n",
    "l = [i**2 for i in range(10)]\n",
    "print(f\"リストのメモリ:{sys.getsizeof(l)}\")\n",
    "\n",
    "g = (i**2 for i in range(10))\n",
    "print(f\"ジェネレーターのメモリ:{sys.getsizeof(g)}\")"
   ]
  },
  {
   "cell_type": "markdown",
   "id": "41956891",
   "metadata": {},
   "source": [
    "## デコレーター\n",
    "\n",
    "- 関数やメソッド、クラスをデコレートする機能です\n",
    "- デコレータを扱うだけで、その実装そのものに変更を加えず共通のロジックを適用することができます\n"
   ]
  },
  {
   "cell_type": "code",
   "execution_count": 99,
   "id": "fbc24fe2",
   "metadata": {},
   "outputs": [
    {
     "data": {
      "text/plain": [
       "'\\n@デコレーター\\ndef デコレート対象():\\n    pass\\n\\n# 以下はシンタックスシュガー(複雑でわかりづらいものをシンプリに書く方法)です\\n@my_decorator\\ndef func():\\n    pass\\n\\n\\n# 上の実装と全く同じです\\ndef func():\\n    pass\\n\\n\\nfunc = my_decorator(func)\\n'"
      ]
     },
     "execution_count": 99,
     "metadata": {},
     "output_type": "execute_result"
    }
   ],
   "source": [
    "# デコレータの適用例\n",
    "\n",
    "\"\"\"\n",
    "@デコレーター\n",
    "def デコレート対象():\n",
    "    pass\n",
    "\n",
    "# 以下はシンタックスシュガー(複雑でわかりづらいものをシンプリに書く方法)です\n",
    "@my_decorator\n",
    "def func():\n",
    "    pass\n",
    "\n",
    "\n",
    "# 上の実装と全く同じです\n",
    "def func():\n",
    "    pass\n",
    "\n",
    "\n",
    "func = my_decorator(func)\n",
    "\"\"\""
   ]
  },
  {
   "cell_type": "code",
   "execution_count": 100,
   "id": "06f6e66b",
   "metadata": {},
   "outputs": [
    {
     "name": "stdout",
     "output_type": "stream",
     "text": [
      "Collecting retrying\n",
      "  Downloading retrying-1.3.4-py3-none-any.whl.metadata (6.9 kB)\n",
      "Requirement already satisfied: six>=1.7.0 in /Users/akagikouzanh/dev/backend/python-snippets-hub/.env/lib/python3.13/site-packages (from retrying) (1.17.0)\n",
      "Downloading retrying-1.3.4-py3-none-any.whl (11 kB)\n",
      "Installing collected packages: retrying\n",
      "Successfully installed retrying-1.3.4\n",
      "Note: you may need to restart the kernel to use updated packages.\n"
     ]
    }
   ],
   "source": [
    "%pip install retrying"
   ]
  },
  {
   "cell_type": "code",
   "execution_count": 137,
   "id": "49875a3b",
   "metadata": {},
   "outputs": [
    {
     "name": "stdout",
     "output_type": "stream",
     "text": [
      "raise ValueError\n",
      "raise ValueError\n",
      "raise ValueError\n",
      "raise ValueError\n",
      "raise ValueError\n",
      "raise ValueError\n",
      "5が出た！\n"
     ]
    }
   ],
   "source": [
    "import random\n",
    "from retrying import retry\n",
    "\n",
    "\n",
    "# 0~10をランダムに生成し、5以外の場合は例外を送出しリトライさせるという実装です\n",
    "# retryにはstop_max_attempt_numberがあり、最大リトライ回数を指定することも可能です\n",
    "# @retry(stop_max_attempt_number=2)\n",
    "@retry\n",
    "def my_func():\n",
    "    if random.randint(0, 10) == 5:\n",
    "        print(\"5が出た！\")\n",
    "    else:\n",
    "        print(\"raise ValueError\")\n",
    "        raise ValueError(\"5ではありません\")\n",
    "\n",
    "\n",
    "my_func()"
   ]
  },
  {
   "cell_type": "markdown",
   "id": "96ec71d6",
   "metadata": {},
   "source": [
    "### クラスデコレータを使用する\n",
    "\n",
    "- クラスやクラスメソッドにもデコレータを適用することは可能\n"
   ]
  },
  {
   "cell_type": "code",
   "execution_count": 104,
   "id": "cfd5e57f",
   "metadata": {},
   "outputs": [],
   "source": [
    "from dataclasses import dataclass\n",
    "\n",
    "\n",
    "@dataclass\n",
    "class User:\n",
    "    pass\n",
    "\n",
    "\n",
    "@dataclass(frozen=True)\n",
    "class User2:\n",
    "    pass"
   ]
  },
  {
   "cell_type": "markdown",
   "id": "00620dd5",
   "metadata": {},
   "source": [
    "### 2 つ以上のデコレータを適用する\n",
    "\n",
    "- デコレータは 1 つではなく、複数設定することが可能です\n",
    "  - その際は、一番関数に近いデコレーターから適用されます\n"
   ]
  },
  {
   "cell_type": "code",
   "execution_count": 109,
   "id": "6ecfeb01",
   "metadata": {},
   "outputs": [
    {
     "data": {
      "text/plain": [
       "'\\n@my_decorator1  # 実行2\\n@my_decorator2  # 実行1\\ndef func():\\n    pass\\n\\n\\n# 上記と同様\\ndef func():\\n    pass\\n\\n\\nfunc = my_decorator1(my_decorator2(func))\\n'"
      ]
     },
     "execution_count": 109,
     "metadata": {},
     "output_type": "execute_result"
    }
   ],
   "source": [
    "\"\"\"\n",
    "@my_decorator1  # 実行2\n",
    "@my_decorator2  # 実行1\n",
    "def func():\n",
    "    pass\n",
    "\n",
    "\n",
    "# 上記と同様\n",
    "def func():\n",
    "    pass\n",
    "\n",
    "\n",
    "func = my_decorator1(my_decorator2(func))\n",
    "\"\"\""
   ]
  },
  {
   "cell_type": "markdown",
   "id": "51f8dc84",
   "metadata": {},
   "source": [
    "### デコレータを自作する\n"
   ]
  },
  {
   "cell_type": "code",
   "execution_count": 111,
   "id": "5c18895f",
   "metadata": {},
   "outputs": [
    {
     "data": {
      "text/plain": [
       "<function __main__.func_greeting.<locals>.print_greeting()>"
      ]
     },
     "execution_count": 111,
     "metadata": {},
     "output_type": "execute_result"
    }
   ],
   "source": [
    "# 関数に関数を定義する\n",
    "def func_greeting(name):\n",
    "    def print_greeting():\n",
    "        print(f\"hello {name}\")\n",
    "\n",
    "    return print_greeting\n",
    "\n",
    "\n",
    "func = func_greeting(\"john\")\n",
    "func"
   ]
  },
  {
   "cell_type": "code",
   "execution_count": 112,
   "id": "5aeffb8a",
   "metadata": {},
   "outputs": [
    {
     "name": "stdout",
     "output_type": "stream",
     "text": [
      "hello john\n"
     ]
    }
   ],
   "source": [
    "func()"
   ]
  },
  {
   "cell_type": "code",
   "execution_count": 113,
   "id": "82959557",
   "metadata": {},
   "outputs": [
    {
     "name": "stdout",
     "output_type": "stream",
     "text": [
      "hello john\n",
      "Have a good day!\n"
     ]
    }
   ],
   "source": [
    "# 関数を別の関数への引数として与える\n",
    "def after_greeting(func, name):\n",
    "    func(name)\n",
    "    print(\"Have a good day!\")\n",
    "\n",
    "\n",
    "def greeting(name):\n",
    "    print(f\"hello {name}\")\n",
    "\n",
    "\n",
    "after_greeting(greeting, \"john\")"
   ]
  },
  {
   "cell_type": "code",
   "execution_count": 123,
   "id": "1b3a08d0",
   "metadata": {},
   "outputs": [
    {
     "data": {
      "text/plain": [
       "<function __main__.my_deco.<locals>.wrap_func()>"
      ]
     },
     "execution_count": 123,
     "metadata": {},
     "output_type": "execute_result"
    }
   ],
   "source": [
    "# 実際にデコレータを定義する\n",
    "def my_deco(func):\n",
    "    def wrap_func():\n",
    "        \"\"\"wrap_funcのdocstring\"\"\"\n",
    "        func()\n",
    "        print(f\"func : {func.__name__} called\")\n",
    "\n",
    "    return wrap_func\n",
    "\n",
    "\n",
    "def greeting():\n",
    "    print(\"Hello World\")\n",
    "\n",
    "\n",
    "greeting = my_deco(greeting)\n",
    "greeting"
   ]
  },
  {
   "cell_type": "code",
   "execution_count": 124,
   "id": "70c30806",
   "metadata": {},
   "outputs": [
    {
     "name": "stdout",
     "output_type": "stream",
     "text": [
      "Hello World\n",
      "func : greeting called\n"
     ]
    }
   ],
   "source": [
    "greeting()"
   ]
  },
  {
   "cell_type": "code",
   "execution_count": 125,
   "id": "9c0e500f",
   "metadata": {},
   "outputs": [
    {
     "name": "stdout",
     "output_type": "stream",
     "text": [
      "Hello World\n",
      "func : greeting_deco called\n"
     ]
    }
   ],
   "source": [
    "# 実際にデコレートしてみる\n",
    "@my_deco\n",
    "def greeting_deco():\n",
    "    \"\"\"greeting_decoのdocstring\"\"\"\n",
    "    print(\"Hello World\")\n",
    "\n",
    "\n",
    "greeting_deco()"
   ]
  },
  {
   "cell_type": "markdown",
   "id": "c57de5d3",
   "metadata": {},
   "source": [
    "### functools.wraps を使用してみる\n",
    "\n",
    "- デコレータを使用すると元の関数名や docstring が失われてしまいます\n",
    "  - 回避方法が、functools.wraps を使用した方法\n"
   ]
  },
  {
   "cell_type": "code",
   "execution_count": 126,
   "id": "584d2943",
   "metadata": {},
   "outputs": [
    {
     "data": {
      "text/plain": [
       "<function __main__.my_deco.<locals>.wrap_func()>"
      ]
     },
     "execution_count": 126,
     "metadata": {},
     "output_type": "execute_result"
    }
   ],
   "source": [
    "greeting_deco"
   ]
  },
  {
   "cell_type": "code",
   "execution_count": 127,
   "id": "9ef11c4b",
   "metadata": {},
   "outputs": [
    {
     "data": {
      "text/plain": [
       "'wrap_func'"
      ]
     },
     "execution_count": 127,
     "metadata": {},
     "output_type": "execute_result"
    }
   ],
   "source": [
    "greeting_deco.__name__"
   ]
  },
  {
   "cell_type": "code",
   "execution_count": 128,
   "id": "0c55b37a",
   "metadata": {},
   "outputs": [
    {
     "data": {
      "text/plain": [
       "'wrap_funcのdocstring'"
      ]
     },
     "execution_count": 128,
     "metadata": {},
     "output_type": "execute_result"
    }
   ],
   "source": [
    "greeting_deco.__doc__"
   ]
  },
  {
   "cell_type": "code",
   "execution_count": 131,
   "id": "cec7810c",
   "metadata": {},
   "outputs": [
    {
     "name": "stdout",
     "output_type": "stream",
     "text": [
      "Hello World\n",
      "func : greeting_deco called\n"
     ]
    }
   ],
   "source": [
    "# wrapしている関数に@wraps(func)をつけるだけ\n",
    "\n",
    "from functools import wraps\n",
    "\n",
    "\n",
    "def my_deco2(func):\n",
    "    @wraps(func)\n",
    "    def wrap_func():\n",
    "        \"\"\"wrap_funcのdocstring\"\"\"\n",
    "        func()\n",
    "        print(f\"func : {func.__name__} called\")\n",
    "\n",
    "    return wrap_func\n",
    "\n",
    "\n",
    "# my_deco2に設定\n",
    "@my_deco2\n",
    "def greeting_deco2():\n",
    "    \"\"\"greeting_decoのdocstring\"\"\"\n",
    "    print(\"Hello World\")\n",
    "\n",
    "\n",
    "greeting_deco()"
   ]
  },
  {
   "cell_type": "code",
   "execution_count": 132,
   "id": "46a0f85e",
   "metadata": {},
   "outputs": [
    {
     "data": {
      "text/plain": [
       "'greeting_deco2'"
      ]
     },
     "execution_count": 132,
     "metadata": {},
     "output_type": "execute_result"
    }
   ],
   "source": [
    "greeting_deco2.__name__"
   ]
  },
  {
   "cell_type": "code",
   "execution_count": 134,
   "id": "738b2b22",
   "metadata": {},
   "outputs": [
    {
     "data": {
      "text/plain": [
       "'greeting_decoのdocstring'"
      ]
     },
     "execution_count": 134,
     "metadata": {},
     "output_type": "execute_result"
    }
   ],
   "source": [
    "greeting_deco2.__doc__"
   ]
  },
  {
   "cell_type": "markdown",
   "id": "07965f87",
   "metadata": {},
   "source": [
    "### デコレータのよくある使われ方\n",
    "\n",
    "- すでにある関数やクラス、メソッドの定義を変更せず共通の処理を加えたい場合\n",
    "- ログ、トランザクション、セキュリティ、例外処理、キャッシュなどなど\n",
    "- ほかにも functools には便利なデコレータがあるため、時間がある時に試してみるといいかもしれません\n",
    "\n",
    "[functools のドキュメント](https://docs.python.org/ja/3.13/library/functools.html)\n"
   ]
  },
  {
   "cell_type": "code",
   "execution_count": null,
   "id": "1b518dcf",
   "metadata": {},
   "outputs": [],
   "source": []
  }
 ],
 "metadata": {
  "kernelspec": {
   "display_name": "Python (snippets-hub)",
   "language": "python",
   "name": "python-snippets-hub"
  },
  "language_info": {
   "codemirror_mode": {
    "name": "ipython",
    "version": 3
   },
   "file_extension": ".py",
   "mimetype": "text/x-python",
   "name": "python",
   "nbconvert_exporter": "python",
   "pygments_lexer": "ipython3",
   "version": "3.13.0"
  }
 },
 "nbformat": 4,
 "nbformat_minor": 5
}
