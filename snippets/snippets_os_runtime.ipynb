{
 "cells": [
  {
   "cell_type": "markdown",
   "id": "63f1e1e1",
   "metadata": {},
   "source": [
    "## OS/ランタイム\n",
    "\n",
    "- 実行中のプロセス属性の調査\n",
    "- ファイルとディレクトリの操作\n",
    "- プロセス管理\n",
    "- さまざまなシステム情報へのアクセス\n",
    "- スケジューラへのインターフェース\n",
    "- ランダムな文字列の生成\n",
    "\n",
    "...etc\n",
    "\n",
    "- [os --- 雑多なオペレーティングシステムインターフェース](https://docs.python.org/ja/3.13/library/os.html)\n"
   ]
  },
  {
   "cell_type": "code",
   "execution_count": 1,
   "id": "5e9181cd",
   "metadata": {},
   "outputs": [
    {
     "name": "stdout",
     "output_type": "stream",
     "text": [
      "egg\n"
     ]
    }
   ],
   "source": [
    "import os\n",
    "\n",
    "# 環境変数\n",
    "# print(os.environ[\"HOME\"])\n",
    "os.environ[\"HAM\"] = \"egg\"\n",
    "print(os.environ[\"HAM\"])\n",
    "\n",
    "# ユーザID\n",
    "# print(os.getuid())  # 現在のプロセスの実ユーザIDを返す\n",
    "# print(os.geteuid())  # 現在のプロセスの実効ユーザIDを返す\n",
    "# 他にもsetuid(プロセスのユーザIDを設定する)\n",
    "\n",
    "# グループID\n",
    "# print(os.getgid())  # 現在のプロセスの実グループIDを返す\n",
    "# print(os.getgroups())  # 現在のプロセスに関連付けられて従属グループIDのリストを返す\n",
    "# print(os.getgrouplist(\"user\", os.getgid())) # 特定のユーザグループのリストを返す\n",
    "\n",
    "# プロセスID\n",
    "# print(os.getpid())  # 現在のプロセスIDを返す\n",
    "# print(os.getpgid(os.getpid())) # プロセスIDのプロセスのグループIDを返す\n",
    "# print(os.getppid()) # 親のプロセスIDを返す、親のプロセスが終了していた場合、Unixではinitプロセスのid(1)が返され、windowsの場合は親のプロセスidだったものが返させる(別のプロセスが使用しているかもしれない)\n",
    "\n",
    "# スケジューリング優先度\n",
    "# who=優先度を検索するするプロセスIDを指定する\n",
    "# print(os.getpriority(os.PRIO_PROCESS, os.getpid()))"
   ]
  },
  {
   "cell_type": "markdown",
   "id": "7d9be508",
   "metadata": {},
   "source": [
    "### ファイルとディレクトリ操作\n",
    "\n",
    "- 他にも chown や chmod があるが、windwos では使用できない\n",
    "- rename は src, dist を指定して src から dist へ変更することができる\n"
   ]
  },
  {
   "cell_type": "code",
   "execution_count": null,
   "id": "a43889e3",
   "metadata": {},
   "outputs": [
    {
     "name": "stdout",
     "output_type": "stream",
     "text": [
      "/Users/akagikouzanh/dev/backend/python-snippets-hub/snippets\n",
      "/Users/akagikouzanh/dev/backend/python-snippets-hub/snippets/logs\n"
     ]
    }
   ],
   "source": [
    "base_dir = os.getcwd()\n",
    "print(base_dir)  # 現在の作業ディレクトリを返す\n",
    "os.chdir(base_dir + \"/logs\")  # logsディレクトリに移動(絶対パス)\n",
    "# os.chdir(\"./logs\") 相対パス\n",
    "print(os.getcwd())  # 現在の作業ディレクトリを返す"
   ]
  },
  {
   "cell_type": "code",
   "execution_count": 3,
   "id": "7869a04e",
   "metadata": {},
   "outputs": [
    {
     "name": "stdout",
     "output_type": "stream",
     "text": [
      "['test', 'hello.txt']\n",
      "['hello.txt']\n"
     ]
    }
   ],
   "source": [
    "os.mkdir(\"test\")  # ディレクトリの作成\n",
    "print(os.listdir(\".\"))  # 現在のディレクトリ内のディレクトリ / ファイルのリストを返す\n",
    "os.rmdir(\"test\")  # ディレクトリの削除\n",
    "print(os.listdir(\".\"))"
   ]
  },
  {
   "cell_type": "code",
   "execution_count": 4,
   "id": "4eaded05",
   "metadata": {},
   "outputs": [
    {
     "name": "stdout",
     "output_type": "stream",
     "text": [
      "['test1', 'hello.txt']\n",
      "['test2']\n",
      "['test3']\n"
     ]
    }
   ],
   "source": [
    "os.makedirs(\"test1/test2/test3\")  # 指定されたディレクトリを再帰的に作成する\n",
    "print(os.listdir(\".\"))\n",
    "os.chdir(os.getcwd() + \"/test1\")\n",
    "print(os.listdir(\".\"))\n",
    "os.chdir(os.getcwd() + \"/test2\")\n",
    "print(os.listdir(\".\"))"
   ]
  },
  {
   "cell_type": "code",
   "execution_count": 5,
   "id": "4845f73b",
   "metadata": {},
   "outputs": [
    {
     "name": "stdout",
     "output_type": "stream",
     "text": [
      "/Users/akagikouzanh/dev/backend/python-snippets-hub/snippets/logs ['test1', 'hello.txt']\n"
     ]
    }
   ],
   "source": [
    "os.chdir(base_dir + \"/logs\")\n",
    "print(os.getcwd(), os.listdir(\".\"))\n",
    "os.removedirs(\"test1/test2/test3\")\n",
    "os.chdir(base_dir)"
   ]
  },
  {
   "cell_type": "code",
   "execution_count": 8,
   "id": "71e545f2",
   "metadata": {},
   "outputs": [
    {
     "name": "stdout",
     "output_type": "stream",
     "text": [
      "/Users/akagikouzanh/dev/backend/python-snippets-hub/snippets ['hello.txt']\n"
     ]
    }
   ],
   "source": [
    "print(os.getcwd(), os.listdir(\"./logs\"))"
   ]
  },
  {
   "cell_type": "code",
   "execution_count": null,
   "id": "7d066c87",
   "metadata": {},
   "outputs": [
    {
     "name": "stdout",
     "output_type": "stream",
     "text": [
      "['snippets_python_environments.ipynb', 'loggers', 'snippets_tmplate.ipynb', 'snippets_os_runtime.ipynb', 'snippets_python_specifications.ipynb', 'snippets_classes.ipynb', 'snippets_type_hint.ipynb', 'snippets_data_type_and_algorithms.ipynb', 'snippets_io.ipynb', 'snippets_timeit.ipynb', 'snippets_secrets.ipynb', 'snippets_datetime.ipynb', 'snippets_class_special_methods.ipynb', 'snippets_collections.ipynb', 'snippets_unicodedata.ipynb', 'snippets_text_process.ipynb', 'snippets_coding_conventions.ipynb']\n"
     ]
    }
   ],
   "source": [
    "# 対象のディレクトリ、ファイル名をリネームする\n",
    "os.rename(\"./logs\", \"./loggers\")\n",
    "print(os.listdir(\".\"))"
   ]
  },
  {
   "cell_type": "code",
   "execution_count": null,
   "id": "b0111e6d",
   "metadata": {},
   "outputs": [
    {
     "name": "stdout",
     "output_type": "stream",
     "text": [
      "['snippets_python_environments.ipynb', 'snippets_tmplate.ipynb', 'snippets_os_runtime.ipynb', 'snippets_python_specifications.ipynb', 'snippets_classes.ipynb', 'snippets_type_hint.ipynb', 'snippets_data_type_and_algorithms.ipynb', 'snippets_io.ipynb', 'snippets_timeit.ipynb', 'snippets_secrets.ipynb', 'snippets_datetime.ipynb', 'logs', 'snippets_class_special_methods.ipynb', 'snippets_collections.ipynb', 'snippets_unicodedata.ipynb', 'snippets_text_process.ipynb', 'snippets_coding_conventions.ipynb']\n"
     ]
    }
   ],
   "source": [
    "# 指定したディレクトリ、ファイル名を再帰的に処理してリネームする\n",
    "os.renames(\"./loggers/hello.txt\", \"./logs/helloworld.txt\")\n",
    "print(os.listdir(\".\"))"
   ]
  },
  {
   "cell_type": "code",
   "execution_count": 14,
   "id": "c8e29078",
   "metadata": {},
   "outputs": [
    {
     "name": "stdout",
     "output_type": "stream",
     "text": [
      "['helloworld.txt']\n"
     ]
    }
   ],
   "source": [
    "print(os.listdir(\"./logs\"))"
   ]
  },
  {
   "cell_type": "code",
   "execution_count": 15,
   "id": "4cbe0478",
   "metadata": {},
   "outputs": [
    {
     "ename": "OSError",
     "evalue": "[Errno 66] Directory not empty: './logs'",
     "output_type": "error",
     "traceback": [
      "\u001b[31m---------------------------------------------------------------------------\u001b[39m",
      "\u001b[31mOSError\u001b[39m                                   Traceback (most recent call last)",
      "\u001b[36mCell\u001b[39m\u001b[36m \u001b[39m\u001b[32mIn[15]\u001b[39m\u001b[32m, line 2\u001b[39m\n\u001b[32m      1\u001b[39m \u001b[38;5;66;03m# ディレクトリがからでない場合はエラーが発生する\u001b[39;00m\n\u001b[32m----> \u001b[39m\u001b[32m2\u001b[39m \u001b[43mos\u001b[49m\u001b[43m.\u001b[49m\u001b[43mrmdir\u001b[49m\u001b[43m(\u001b[49m\u001b[33;43m\"\u001b[39;49m\u001b[33;43m./logs\u001b[39;49m\u001b[33;43m\"\u001b[39;49m\u001b[43m)\u001b[49m\n",
      "\u001b[31mOSError\u001b[39m: [Errno 66] Directory not empty: './logs'"
     ]
    }
   ],
   "source": [
    "# ディレクトリがからでない場合はエラーが発生する\n",
    "os.rmdir(\"./logs\")"
   ]
  },
  {
   "cell_type": "code",
   "execution_count": 37,
   "id": "1d19ae17",
   "metadata": {},
   "outputs": [
    {
     "name": "stdout",
     "output_type": "stream",
     "text": [
      "os.curdir=.\n",
      "os.pardir=..\n",
      "os.sep=/\n",
      "os.extsep=.\n",
      "os.linesep=\n",
      "\n",
      "12\n",
      "(2.0361328125, 2.62841796875, 2.22314453125)\n"
     ]
    }
   ],
   "source": [
    "print(f\"os.curdir={os.curdir}\")\n",
    "print(f\"os.pardir={os.pardir}\")\n",
    "print(f\"os.sep={os.sep}\")\n",
    "print(f\"os.extsep={os.extsep}\")\n",
    "print(f\"os.linesep={os.linesep}\")\n",
    "# print(os.confstr_names) # confstrが受け取る名前をOSで定義している整数値に対応つけた辞書\n",
    "# print(f\"os.confstr('CS_PATH')={os.confstr(\"CS_PATH\")}\") # システム設定値を文字列で返す\n",
    "# print(os.sysconf_names) # sysconfが受け取る名前をOSで定義している整数値に対応つけた辞書\n",
    "# print(os.sysconf(\"SC_2_CHAR_TERM\")) # 整数値のシステム値を返す\n",
    "print(os.cpu_count())  # CPUの数を取得\n",
    "print(os.getloadavg())  # 1, 5, 15分間のシステム実行時のキューの平均プロセス数を返す"
   ]
  },
  {
   "cell_type": "markdown",
   "id": "fd89ddbd",
   "metadata": {},
   "source": [
    "### ランダムな文字列操作\n",
    "\n",
    "- セキュリティ用途では、通常の random ではなく、os の urandom または secrets モジュールを利用することを推奨している\n"
   ]
  },
  {
   "cell_type": "code",
   "execution_count": 40,
   "id": "5992a38b",
   "metadata": {},
   "outputs": [
    {
     "name": "stdout",
     "output_type": "stream",
     "text": [
      "b'\\x91t\\x1cjbn9\\x0e)\\xc1'\n"
     ]
    }
   ],
   "source": [
    "# 指定したサイズのランダムなバイト列を返す\n",
    "print(os.urandom(10))"
   ]
  },
  {
   "cell_type": "markdown",
   "id": "b3e191aa",
   "metadata": {},
   "source": [
    "## ストリームを扱う - io\n",
    "\n",
    "- [snippet IO](https://github.com/akagikouzanh/python-snippets-hub/blob/master/snippets/snippets_io.ipynb)\n",
    "\n",
    "### 復習\n"
   ]
  },
  {
   "cell_type": "code",
   "execution_count": 41,
   "id": "f79c961c",
   "metadata": {},
   "outputs": [
    {
     "data": {
      "text/plain": [
       "'this is te'"
      ]
     },
     "execution_count": 41,
     "metadata": {},
     "output_type": "execute_result"
    }
   ],
   "source": [
    "import io\n",
    "\n",
    "stream = io.StringIO(\"this is test\\n\")\n",
    "stream.read(10)  # 指定したサイズ読み込む"
   ]
  },
  {
   "cell_type": "code",
   "execution_count": 42,
   "id": "43e5acb3",
   "metadata": {},
   "outputs": [
    {
     "data": {
      "text/plain": [
       "10"
      ]
     },
     "execution_count": 42,
     "metadata": {},
     "output_type": "execute_result"
    }
   ],
   "source": [
    "stream.tell()  # 現在のオフセットを返す"
   ]
  },
  {
   "cell_type": "code",
   "execution_count": 43,
   "id": "f063bba1",
   "metadata": {},
   "outputs": [
    {
     "data": {
      "text/plain": [
       "13"
      ]
     },
     "execution_count": 43,
     "metadata": {},
     "output_type": "execute_result"
    }
   ],
   "source": [
    "stream.seek(0, io.SEEK_END)  # ストリームを末尾にする"
   ]
  },
  {
   "cell_type": "code",
   "execution_count": null,
   "id": "804e4240",
   "metadata": {},
   "outputs": [
    {
     "data": {
      "text/plain": [
       "5"
      ]
     },
     "execution_count": 44,
     "metadata": {},
     "output_type": "execute_result"
    }
   ],
   "source": [
    "stream.write(\"hello\")  # 文字列を書き込む"
   ]
  },
  {
   "cell_type": "code",
   "execution_count": 46,
   "id": "b609465e",
   "metadata": {},
   "outputs": [
    {
     "name": "stdout",
     "output_type": "stream",
     "text": [
      "this is test\n",
      "hello\n"
     ]
    }
   ],
   "source": [
    "print(stream.getvalue())  # ストリームが保持するデータを全て出力する"
   ]
  },
  {
   "cell_type": "code",
   "execution_count": 47,
   "id": "9161ba4b",
   "metadata": {},
   "outputs": [],
   "source": [
    "stream.close()  # クローズする"
   ]
  },
  {
   "cell_type": "code",
   "execution_count": 49,
   "id": "c48665f9",
   "metadata": {},
   "outputs": [
    {
     "name": "stdout",
     "output_type": "stream",
     "text": [
      "\n",
      "\n",
      "ひとひらの光が\n",
      "\n",
      "静かな朝をつらぬいて\n",
      "\n",
      "まだ見ぬ道を照らす\n",
      "\n",
      "ためらいも連れて\n",
      "\n",
      "それでも僕らは歩き出す\n",
      "\n"
     ]
    }
   ],
   "source": [
    "poem = \"\"\"\n",
    "ひとひらの光が\n",
    "静かな朝をつらぬいて\n",
    "まだ見ぬ道を照らす\n",
    "ためらいも連れて\n",
    "それでも僕らは歩き出す\n",
    "\"\"\"\n",
    "stream = io.StringIO(poem)\n",
    "for line in stream:\n",
    "    print(line)"
   ]
  },
  {
   "cell_type": "code",
   "execution_count": 54,
   "id": "627d942e",
   "metadata": {},
   "outputs": [],
   "source": [
    "from unittest.mock import patch\n",
    "\n",
    "\n",
    "def print_hoge():\n",
    "    print(\"hoge\")\n",
    "\n",
    "\n",
    "@patch(\"sys.stdout\", new_callable=io.StringIO)\n",
    "def test_print_hoge(mocked_object):\n",
    "    print_hoge()\n",
    "\n",
    "    assert mocked_object.getvalue() == \"hoge\\n\"\n",
    "\n",
    "\n",
    "test_print_hoge()"
   ]
  },
  {
   "cell_type": "markdown",
   "id": "202fec2c",
   "metadata": {},
   "source": [
    "## インタープリタに関わる情報を取得、操作する - sys\n"
   ]
  },
  {
   "cell_type": "code",
   "execution_count": 78,
   "id": "d0ecfdef",
   "metadata": {},
   "outputs": [
    {
     "name": "stdout",
     "output_type": "stream",
     "text": [
      "standard output message\n",
      "24\n"
     ]
    }
   ],
   "source": [
    "import sys\n",
    "\n",
    "# コマンドライン引数を取得する ex) python xxxx.py -a xxxxの場合 python 以降の値がlistとして取得される\n",
    "# print(sys.argv)\n",
    "\n",
    "# ライブラリのインポートパスを操作する\n",
    "# print(sys.path)\n",
    "\n",
    "# プログラムを終了する\n",
    "# sys.exit()\n",
    "\n",
    "# コンソールの入出力を扱う\n",
    "# print()に置き換えることが可能\n",
    "print(sys.stdout.write(\"standard output message\\n\"))"
   ]
  },
  {
   "cell_type": "code",
   "execution_count": 61,
   "id": "0c5080af",
   "metadata": {},
   "outputs": [
    {
     "name": "stdout",
     "output_type": "stream",
     "text": [
      "23\n"
     ]
    },
    {
     "name": "stderr",
     "output_type": "stream",
     "text": [
      "standard error message\n"
     ]
    }
   ],
   "source": [
    "print(sys.stderr.write(\"standard error message\\n\"))"
   ]
  },
  {
   "cell_type": "code",
   "execution_count": 62,
   "id": "424b8927",
   "metadata": {},
   "outputs": [
    {
     "ename": "UnsupportedOperation",
     "evalue": "not writable",
     "output_type": "error",
     "traceback": [
      "\u001b[31m---------------------------------------------------------------------------\u001b[39m",
      "\u001b[31mUnsupportedOperation\u001b[39m                      Traceback (most recent call last)",
      "\u001b[36mCell\u001b[39m\u001b[36m \u001b[39m\u001b[32mIn[62]\u001b[39m\u001b[32m, line 1\u001b[39m\n\u001b[32m----> \u001b[39m\u001b[32m1\u001b[39m \u001b[38;5;28mprint\u001b[39m(\u001b[43msys\u001b[49m\u001b[43m.\u001b[49m\u001b[43mstdin\u001b[49m\u001b[43m.\u001b[49m\u001b[43mwrite\u001b[49m\u001b[43m(\u001b[49m\u001b[33;43m\"\u001b[39;49m\u001b[33;43mstandard input message?\u001b[39;49m\u001b[38;5;130;43;01m\\n\u001b[39;49;00m\u001b[33;43m\"\u001b[39;49m\u001b[43m)\u001b[49m)\n",
      "\u001b[31mUnsupportedOperation\u001b[39m: not writable"
     ]
    }
   ],
   "source": [
    "print(sys.stdin.write(\"standard input message?\\n\"))"
   ]
  },
  {
   "cell_type": "code",
   "execution_count": 77,
   "id": "54a0bfcd",
   "metadata": {},
   "outputs": [
    {
     "name": "stdout",
     "output_type": "stream",
     "text": [
      "Hello World\n",
      "\n"
     ]
    }
   ],
   "source": [
    "# terminalからインタプリタを起動すれば、インタラクティブにできる\n",
    "# input()に置き換えることも可能\n",
    "sys.stdin = io.StringIO(\"Hello World\\n\")\n",
    "data = sys.stdin.read()\n",
    "print(data)"
   ]
  },
  {
   "cell_type": "code",
   "execution_count": 75,
   "id": "62148fb9",
   "metadata": {},
   "outputs": [
    {
     "name": "stdout",
     "output_type": "stream",
     "text": [
      "start\n",
      "hello\n",
      "end\n"
     ]
    }
   ],
   "source": [
    "# breakpoint実行時のフック関数 - breakpoint()\n",
    "\n",
    "\n",
    "def print_hello():\n",
    "    print(\"hello\")\n",
    "\n",
    "\n",
    "sys.breakpointhook = print_hello\n",
    "\n",
    "print(\"start\")\n",
    "breakpoint()\n",
    "print(\"end\")"
   ]
  },
  {
   "cell_type": "code",
   "execution_count": 76,
   "id": "7d9ad12c",
   "metadata": {},
   "outputs": [
    {
     "data": {
      "text/plain": [
       "sys.version_info(major=3, minor=13, micro=0, releaselevel='final', serial=0)"
      ]
     },
     "execution_count": 76,
     "metadata": {},
     "output_type": "execute_result"
    }
   ],
   "source": [
    "# Pythonのバージョン番号を調べる\n",
    "sys.version_info"
   ]
  },
  {
   "cell_type": "markdown",
   "id": "59c41057",
   "metadata": {},
   "source": [
    "## コマンドラインオプション、引数を扱う - argparse\n",
    "\n",
    "- [argparse --- Parser for command-line options, arguments and subcommands](https://docs.python.org/ja/3.13/library/argparse.html)\n"
   ]
  },
  {
   "cell_type": "code",
   "execution_count": 249,
   "id": "cd9f75f3",
   "metadata": {},
   "outputs": [
    {
     "name": "stdout",
     "output_type": "stream",
     "text": [
      "田中太郎田中太郎田中太郎田中太郎田中太郎 Parents About\n"
     ]
    }
   ],
   "source": [
    "import argparse\n",
    "\n",
    "# パーサーのインスタンスを作成\n",
    "parser = argparse.ArgumentParser(description=\"Example command\")\n",
    "\n",
    "# 文字列を受け取る-sオプションを設定\n",
    "parser.add_argument(\"-s\", \"--string\", type=str, help=\"string to display\", required=True)\n",
    "\n",
    "# 数値を受け取る-nオプションを設定\n",
    "parser.add_argument(\n",
    "    \"-n\",\n",
    "    \"--num\",\n",
    "    type=int,\n",
    "    help=\"number of times repeatdly display the string\",\n",
    "    default=2,\n",
    ")\n",
    "\n",
    "parser.add_argument(\n",
    "    \"-a\", \"--about\", type=str, help=\"string to display\", default=\"Parents About\"\n",
    ")\n",
    "\n",
    "\n",
    "# pyファイルを実行する際に引数を指定した場合\n",
    "# args = parser.parse_args() # Namespace(string='田中太郎', num=5)\n",
    "\n",
    "# Jupyterで実行する場合はargsにデータを設定する\n",
    "args = parser.parse_args(args=[\"-s\", \"田中太郎\", \"-n\", \"5\"])\n",
    "\n",
    "print(args.string * args.num, args.about)"
   ]
  },
  {
   "cell_type": "code",
   "execution_count": 250,
   "id": "5f66c668",
   "metadata": {},
   "outputs": [
    {
     "name": "stdout",
     "output_type": "stream",
     "text": [
      "usage: py file [options]\n",
      "\n",
      "これはコマンドライン引数のサンプルです\n",
      "\n",
      "options:\n",
      "  -h, --help           show this help message and exit\n",
      "  -s, --string STRING  string to display (default: None)\n",
      "  -n, --num NUM        number of times repeatdly display the string (default:\n",
      "                       2)\n",
      "  -f, --foo FOO        Old foo (default: Hello World1)\n",
      "  -b, --bar BAR\n",
      "  -a, --about ABOUT    string to display (default: Child About)\n",
      "\n",
      "これは最後の行に表示されるよ\n",
      "\n",
      "Namespace(string='Over Write', num=5, foo='Hello World1', about='Child About')\n",
      "Over WriteOver WriteOver WriteOver WriteOver Write Hello World1 Child About\n"
     ]
    }
   ],
   "source": [
    "# ArgumentParserの使い方\n",
    "\n",
    "# formatter_classは4種類あり、\n",
    "# RawDescriptionHelpFormatter と RawTextHelpFormatterはテキストの表示方法を指定できる\n",
    "# ArgumentDefaultsHelpFormatterは各引数のデフォルトを自動的にヘルプへ追加する\n",
    "# MetavarTypeHelpFormatterはtype引数の値を使用することを表示できる\n",
    "parser_usage = argparse.ArgumentParser(\n",
    "    prog=\"py file\",  # progはsys.args[0]なので基本不要\n",
    "    usage=\"%(prog)s [options]\",  # 利用法を記述する\n",
    "    description=\"これはコマンドライン引数のサンプルです\",  # このプログラムの詳細\n",
    "    epilog=\"これは最後の行に表示されるよ\",  # エピローグみたいなもの\n",
    "    parents=[parser],  # 指定した親の引数が追加される\n",
    "    formatter_class=argparse.ArgumentDefaultsHelpFormatter,\n",
    "    prefix_chars=\"-\",  # 通常 「-」だが、prefixにできる形を指定することができる、例えば「+」とか、しかし、parentを指定している場合、親と一緒のprefixにする必要がある\n",
    "    fromfile_prefix_chars=\"@\",  # 入力にファイルを用いたい場合、読み込むファイルの前に文字を指定することで読み込める\n",
    "    argument_default=argparse.SUPPRESS,  # SUPPRESS=指定されなかった引数をargsに存在しないようにすることができる(defaultを指定している場合はこの限りではない)\n",
    "    conflict_handler=\"resolve\",  # 同じオプションがあった場合の対応方法、通常はエラー、resolveで浮水引数を上書きすることができる\n",
    "    add_help=False,  # -hオプションを追加するかどうかを制御できる(default=True)\n",
    "    exit_on_error=False,  # プログラム内で例外をキャッチしたいのであればFalseに設定\n",
    "    allow_abbrev=False,  # 長いオプションを短縮しても認識されるようにするか(default=True)\n",
    ")\n",
    "\n",
    "parser_usage.add_argument(\n",
    "    \"-f\", \"--foo\", type=str, default=\"Hello World1\", help=\"Old foo\"\n",
    ")\n",
    "parser_usage.add_argument(\"-b\", \"--bar\", type=int, required=False)\n",
    "\n",
    "# 例えば\n",
    "# -s/--string のように複数の option string を持つ引数を子で「両方とも」上書きすると、\n",
    "# 親のアクションは option_strings=[] の「名無し引数」として残る。\n",
    "# しかも required=Trueの場合は、そのまま必須として残ることになり、引数不足エラーになる。\n",
    "# conflict_handler=\"resolve\" ではこの状態は解消されないため、注意が必要。\n",
    "parser_usage.add_argument(\n",
    "    \"-a\", \"--about\", type=str, help=\"string to display\", default=\"Child About\"\n",
    ")\n",
    "\n",
    "parser_usage.print_help()\n",
    "\n",
    "print()\n",
    "\n",
    "try:\n",
    "    args2 = parser_usage.parse_args(args=[\"-s\", \"Over Write\", \"-n\", \"5\"])\n",
    "    print(args2)\n",
    "    print(args2.string * args2.num, args2.foo, args2.about)\n",
    "except Exception as e:\n",
    "    print(f\"エラーだよー: {e}\")"
   ]
  },
  {
   "cell_type": "code",
   "execution_count": 251,
   "id": "a986ea5d",
   "metadata": {},
   "outputs": [
    {
     "name": "stdout",
     "output_type": "stream",
     "text": [
      "['-h', '--help'], required=False, default===SUPPRESS==\n",
      "['-s', '--string'], required=True, default=None\n",
      "['-n', '--num'], required=False, default=2\n",
      "['-f', '--foo'], required=False, default=Hello World1\n",
      "['-b', '--bar'], required=False, default===SUPPRESS==\n",
      "['-a', '--about'], required=False, default=Child About\n"
     ]
    }
   ],
   "source": [
    "for action in parser_usage._actions:\n",
    "    print(\n",
    "        f\"{action.option_strings}, required={action.required}, default={action.default}\"\n",
    "    )"
   ]
  },
  {
   "cell_type": "code",
   "execution_count": 256,
   "id": "dfae2080",
   "metadata": {},
   "outputs": [
    {
     "data": {
      "text/plain": [
       "Namespace(foo=None, bar='BAR')"
      ]
     },
     "execution_count": 256,
     "metadata": {},
     "output_type": "execute_result"
    }
   ],
   "source": [
    "# name, flagsについて\n",
    "parser_add_argument = argparse.ArgumentParser()\n",
    "# 一連のフラグか単一引数かのどちらか\n",
    "parser_add_argument.add_argument(\"-f\", \"--foo\")\n",
    "# 位置引数の場合、「-」により認識され、それ以外の引数は位置引数として扱われる\n",
    "parser_add_argument.add_argument(\"bar\")\n",
    "\n",
    "# 位置引数になるので左側から解決されるため、正しく利用したい場合は引数として用意した方がいい\n",
    "parser_add_argument.parse_args([\"BAR\"])"
   ]
  },
  {
   "cell_type": "code",
   "execution_count": 257,
   "id": "c01a99c2",
   "metadata": {},
   "outputs": [
    {
     "data": {
      "text/plain": [
       "Namespace(foo='FOO', bar='BAR')"
      ]
     },
     "execution_count": 257,
     "metadata": {},
     "output_type": "execute_result"
    }
   ],
   "source": [
    "parser_add_argument.parse_args([\"BAR\", \"--foo\", \"FOO\"])"
   ]
  },
  {
   "cell_type": "code",
   "execution_count": 258,
   "id": "2200b2c3",
   "metadata": {},
   "outputs": [
    {
     "name": "stderr",
     "output_type": "stream",
     "text": [
      "usage: ipykernel_launcher.py [-h] [-f FOO] bar\n",
      "ipykernel_launcher.py: error: the following arguments are required: bar\n"
     ]
    },
    {
     "ename": "SystemExit",
     "evalue": "2",
     "output_type": "error",
     "traceback": [
      "An exception has occurred, use %tb to see the full traceback.\n",
      "\u001b[31mSystemExit\u001b[39m\u001b[31m:\u001b[39m 2\n"
     ]
    },
    {
     "name": "stderr",
     "output_type": "stream",
     "text": [
      "/Users/akagikouzanh/dev/backend/python-snippets-hub/.env/lib/python3.13/site-packages/IPython/core/interactiveshell.py:3675: UserWarning: To exit: use 'exit', 'quit', or Ctrl-D.\n",
      "  warn(\"To exit: use 'exit', 'quit', or Ctrl-D.\", stacklevel=1)\n"
     ]
    }
   ],
   "source": [
    "parser_add_argument.parse_args([\"--foo\", \"FOO\"])"
   ]
  },
  {
   "cell_type": "code",
   "execution_count": 278,
   "id": "a3e80169",
   "metadata": {},
   "outputs": [
    {
     "name": "stdout",
     "output_type": "stream",
     "text": [
      "Namespace(foo_const=30, foo_true=True, foo_false=False, foo_append=None, types=None, nargs=None, choice=None)\n",
      "Namespace(foo_const=None, foo_true=False, foo_false=True, foo_append=['1', '2'], types=None, nargs=None, choice=None)\n",
      "Namespace(foo_const=None, foo_true=False, foo_false=True, foo_append=None, types=[<class 'str'>, <class 'int'>], nargs=None, choice=None)\n",
      "Namespace(foo_const=None, foo_true=False, foo_false=True, foo_append=None, types=None, nargs=['a', 'b'], choice=None)\n",
      "Namespace(foo_const=None, foo_true=False, foo_false=True, foo_append=None, types=None, nargs=None, choice=4)\n"
     ]
    }
   ],
   "source": [
    "# actionによって、引数の処理方法を変更することができる(default=\"store\")\n",
    "parser_actions = argparse.ArgumentParser()\n",
    "parser_actions.add_argument(\"--foo_const\", action=\"store_const\", const=30)\n",
    "parser_actions.add_argument(\"--foo_true\", action=\"store_true\")\n",
    "parser_actions.add_argument(\"--foo_false\", action=\"store_false\")\n",
    "parser_actions.add_argument(\"--foo_append\", action=\"append\")\n",
    "parser_actions.add_argument(\"--str\", dest=\"types\", action=\"append_const\", const=str)\n",
    "parser_actions.add_argument(\"--int\", dest=\"types\", action=\"append_const\", const=int)\n",
    "parser_actions.add_argument(\"--nargs\", nargs=2)  # 引数をnargs個渡せる\n",
    "parser_actions.add_argument(\n",
    "    \"--choice\", type=int, choices=range(1, 5)\n",
    ")  # 引数指定した範囲または列挙した値を選択して対象を確認する(対象になっているものではなければエラーとなる)\n",
    "print(\n",
    "    parser_actions.parse_args(\n",
    "        [\n",
    "            \"--foo_const\",\n",
    "            \"--foo_true\",\n",
    "            \"--foo_false\",\n",
    "        ]\n",
    "    )\n",
    ")\n",
    "print(parser_actions.parse_args(\"--foo_append 1 --foo_append 2\".split()))\n",
    "print(parser_actions.parse_args(\"--str --int\".split()))\n",
    "print(parser_actions.parse_args([\"--nargs\", \"a\", \"b\"]))\n",
    "print(parser_actions.parse_args([\"--choice\", \"4\"]))"
   ]
  },
  {
   "cell_type": "code",
   "execution_count": null,
   "id": "e42c99ac",
   "metadata": {},
   "outputs": [],
   "source": []
  },
  {
   "cell_type": "code",
   "execution_count": null,
   "id": "2c63a811",
   "metadata": {},
   "outputs": [],
   "source": []
  }
 ],
 "metadata": {
  "kernelspec": {
   "display_name": "Python (snippets-hub)",
   "language": "python",
   "name": "python-snippets-hub"
  },
  "language_info": {
   "codemirror_mode": {
    "name": "ipython",
    "version": 3
   },
   "file_extension": ".py",
   "mimetype": "text/x-python",
   "name": "python",
   "nbconvert_exporter": "python",
   "pygments_lexer": "ipython3",
   "version": "3.13.0"
  }
 },
 "nbformat": 4,
 "nbformat_minor": 5
}
