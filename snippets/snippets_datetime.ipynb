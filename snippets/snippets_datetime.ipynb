{
 "cells": [
  {
   "cell_type": "markdown",
   "id": "63f1e1e1",
   "metadata": {},
   "source": [
    "## 日付や時刻を使う datetime\n",
    "\n",
    "- [datetime --- 基本的な日付と時間の型](https://docs.python.org/ja/3.13/library/datetime.html)\n"
   ]
  },
  {
   "cell_type": "code",
   "execution_count": null,
   "id": "a66ffef6",
   "metadata": {},
   "outputs": [
    {
     "name": "stdout",
     "output_type": "stream",
     "text": [
      "2025-01-01\n",
      "2025 1 1\n",
      "2\n",
      "2025-01-01\n",
      "2025-01-01\n",
      "2025 Jan 01 (Wed)\n"
     ]
    }
   ],
   "source": [
    "from datetime import date\n",
    "\n",
    "\n",
    "# 日付を扱うdate\n",
    "new_year = date(2025, 1, 1)\n",
    "print(new_year)\n",
    "print(new_year.year, new_year.month, new_year.day)\n",
    "print(new_year.weekday())  # 今年の元日は水曜\n",
    "print(date.fromisoformat(\"20250101\"))  # フォーマットで与えられたstrに対応するdateを返す\n",
    "print(str(new_year))\n",
    "print(new_year.strftime(\"%Y %b %d (%a)\"))"
   ]
  },
  {
   "cell_type": "code",
   "execution_count": 43,
   "id": "f8636e5b",
   "metadata": {},
   "outputs": [
    {
     "name": "stdout",
     "output_type": "stream",
     "text": [
      "00:00:00\n",
      "23:59:59.999999\n",
      "23 59 59 999999\n",
      "23:59:59.999999\n",
      "12:16:18.123400\n",
      "12:16:18+04:00\n",
      "datetime.time(12, 16, 18, tzinfo=datetime.timezone(datetime.timedelta(seconds=14400)))\n",
      "23:59\n",
      "'23:59:59.999999'\n"
     ]
    }
   ],
   "source": [
    "from datetime import time\n",
    "\n",
    "# 時刻を扱うtime\n",
    "\n",
    "print(time())\n",
    "now = time(23, 59, 59, 999999)\n",
    "print(now)\n",
    "print(now.hour, now.minute, now.second, now.microsecond)\n",
    "print(now.isoformat())\n",
    "print(time.fromisoformat(\"12:16:18.1234\"))\n",
    "print(time.fromisoformat(\"12:16:18+04:00\"))\n",
    "print(repr(time.fromisoformat(\"12:16:18+04:00\")))\n",
    "print(now.strftime(\"%H:%M\"))\n",
    "print(repr(str(now)))"
   ]
  },
  {
   "cell_type": "code",
   "execution_count": null,
   "id": "aa48af6d",
   "metadata": {},
   "outputs": [
    {
     "name": "stdout",
     "output_type": "stream",
     "text": [
      "2025-04-29 20:08:26.858150\n",
      "2025-04-29 20:08:26.858231\n",
      "2025-04-29 11:08:26.858265+00:00\n",
      "2025-04-29\n",
      "'2025-04-29T20:08:26.858150'\n",
      "'2025/04/29 20:08:26'\n",
      "datetime.datetime(2025, 4, 29, 0, 0)\n",
      "datetime.datetime(2025, 4, 29, 23, 59, 59, 999999, tzinfo=zoneinfo.ZoneInfo(key='Asia/Tokyo'))\n"
     ]
    }
   ],
   "source": [
    "from datetime import datetime, timezone\n",
    "\n",
    "# 日時を扱うdatetime\n",
    "# https://docs.python.org/ja/3.13/library/datetime.html#datetime-objects\n",
    "\n",
    "today = datetime.today()\n",
    "print(today)\n",
    "print(datetime.now())\n",
    "# .utcnow()は非推奨のため、以下で呼び出す必要がある\n",
    "print(datetime.now(timezone.utc))\n",
    "print(today.date())\n",
    "print(repr(today.isoformat()))\n",
    "print(repr(today.strftime(\"%Y/%m/%d %H:%M:%S\")))\n",
    "print(repr(datetime.strptime(\"2025/04/29\", \"%Y/%m/%d\")))\n",
    "\n",
    "from zoneinfo import ZoneInfo\n",
    "\n",
    "print(repr(datetime(2025, 4, 29, 23, 59, 59, 999999, tzinfo=ZoneInfo(\"Asia/Tokyo\"))))"
   ]
  },
  {
   "cell_type": "markdown",
   "id": "54d35728",
   "metadata": {},
   "source": [
    "### Aware、Naive の違い\n",
    "\n",
    "- Aware はタイムゾーン(tzinfo)を持つ datetime オブジェクト\n",
    "- Naive はそれを含まないオブジェクトである\n",
    "\n",
    "- 日付比較の際に Aware と Naive を意識する必要があり、別のオブジェクトとして扱われるため差分を求めたり比較演算を行うと例外が発生する\n"
   ]
  },
  {
   "cell_type": "code",
   "execution_count": null,
   "id": "f7f286d3",
   "metadata": {},
   "outputs": [
    {
     "name": "stdout",
     "output_type": "stream",
     "text": [
      "datetime.datetime(2025, 4, 29, 23, 59, 59, 999999, tzinfo=zoneinfo.ZoneInfo(key='Asia/Tokyo'))\n",
      "datetime.datetime(2025, 4, 29, 22, 59, 59, 999999)\n"
     ]
    },
    {
     "ename": "TypeError",
     "evalue": "can't subtract offset-naive and offset-aware datetimes",
     "output_type": "error",
     "traceback": [
      "\u001b[31m---------------------------------------------------------------------------\u001b[39m",
      "\u001b[31mTypeError\u001b[39m                                 Traceback (most recent call last)",
      "\u001b[36mCell\u001b[39m\u001b[36m \u001b[39m\u001b[32mIn[66]\u001b[39m\u001b[32m, line 6\u001b[39m\n\u001b[32m      4\u001b[39m \u001b[38;5;28mprint\u001b[39m(\u001b[38;5;28mrepr\u001b[39m(aware_date))\n\u001b[32m      5\u001b[39m \u001b[38;5;28mprint\u001b[39m(\u001b[38;5;28mrepr\u001b[39m(naive_date))\n\u001b[32m----> \u001b[39m\u001b[32m6\u001b[39m \u001b[38;5;28mprint\u001b[39m(\u001b[43maware_date\u001b[49m\u001b[43m \u001b[49m\u001b[43m-\u001b[49m\u001b[43m \u001b[49m\u001b[43mnaive_date\u001b[49m)\n\u001b[32m      7\u001b[39m \u001b[38;5;28mprint\u001b[39m(aware_date > naive_date)\n",
      "\u001b[31mTypeError\u001b[39m: can't subtract offset-naive and offset-aware datetimes"
     ]
    }
   ],
   "source": [
    "aware_date = datetime(2025, 4, 29, 23, 59, 59, 999999, tzinfo=ZoneInfo(\"Asia/Tokyo\"))\n",
    "naive_date = datetime(2025, 4, 29, 22, 59, 59, 999999)\n",
    "\n",
    "print(repr(aware_date))\n",
    "print(repr(naive_date))\n",
    "print(aware_date - naive_date)"
   ]
  },
  {
   "cell_type": "code",
   "execution_count": 67,
   "id": "89b2e7ee",
   "metadata": {},
   "outputs": [
    {
     "ename": "TypeError",
     "evalue": "can't compare offset-naive and offset-aware datetimes",
     "output_type": "error",
     "traceback": [
      "\u001b[31m---------------------------------------------------------------------------\u001b[39m",
      "\u001b[31mTypeError\u001b[39m                                 Traceback (most recent call last)",
      "\u001b[36mCell\u001b[39m\u001b[36m \u001b[39m\u001b[32mIn[67]\u001b[39m\u001b[32m, line 1\u001b[39m\n\u001b[32m----> \u001b[39m\u001b[32m1\u001b[39m \u001b[38;5;28mprint\u001b[39m(\u001b[43maware_date\u001b[49m\u001b[43m \u001b[49m\u001b[43m>\u001b[49m\u001b[43m \u001b[49m\u001b[43mnaive_date\u001b[49m)\n",
      "\u001b[31mTypeError\u001b[39m: can't compare offset-naive and offset-aware datetimes"
     ]
    }
   ],
   "source": [
    "print(aware_date > naive_date)"
   ]
  },
  {
   "cell_type": "markdown",
   "id": "f82b1adc",
   "metadata": {},
   "source": [
    "## 時刻を扱う time\n",
    "\n",
    "- [time --- 時刻データへのアクセスと変換](https://docs.python.org/ja/3.13/library/time.html#module-time)\n"
   ]
  },
  {
   "cell_type": "code",
   "execution_count": 75,
   "id": "5a90c27d",
   "metadata": {},
   "outputs": [
    {
     "name": "stdout",
     "output_type": "stream",
     "text": [
      "time.struct_time(tm_year=2025, tm_mon=4, tm_mday=29, tm_hour=11, tm_min=29, tm_sec=9, tm_wday=1, tm_yday=119, tm_isdst=0)\n",
      "time.struct_time(tm_year=2025, tm_mon=4, tm_mday=29, tm_hour=20, tm_min=29, tm_sec=9, tm_wday=1, tm_yday=119, tm_isdst=0)\n",
      "2025-04-29\n",
      "1745926149.0309892\n",
      "JST 32400\n",
      "UTC 0\n"
     ]
    }
   ],
   "source": [
    "import time\n",
    "\n",
    "# UTCの現在時刻を返す\n",
    "print(time.gmtime())\n",
    "print(time.localtime())\n",
    "print(time.strftime(\"%Y-%m-%d\", time.localtime()))\n",
    "print(time.time())\n",
    "local = time.localtime()\n",
    "# タイムゾーンとUTCからのオフセットを返す(32400=9時間)\n",
    "print(local.tm_zone, local.tm_gmtoff)\n",
    "utc = time.gmtime()\n",
    "print(utc.tm_zone, utc.tm_gmtoff)"
   ]
  },
  {
   "cell_type": "code",
   "execution_count": 77,
   "id": "f4abb12a",
   "metadata": {},
   "outputs": [
    {
     "name": "stdout",
     "output_type": "stream",
     "text": [
      "1745926225.0006511\n",
      "1745926226.0012841\n",
      "1745926227.0066612\n",
      "1745926228.012183\n",
      "1745926229.017628\n"
     ]
    }
   ],
   "source": [
    "# sleep スレッドの一時停止\n",
    "\n",
    "for i in range(5):\n",
    "    print(time.time())\n",
    "    time.sleep(1)"
   ]
  },
  {
   "cell_type": "markdown",
   "id": "8fd81861",
   "metadata": {},
   "source": [
    "## strftime、strptime の違い(date, datetime, time)\n",
    "\n",
    "- strftime はオブジェクトに与えられた、書式に従って文字列に変換する(インスタンスメソッド)\n",
    "- strptmie は指定された対応する書式で文字列を解析し、オブジェクトに変換する(クラスメソッド)\n"
   ]
  },
  {
   "cell_type": "markdown",
   "id": "9bdea616",
   "metadata": {},
   "source": [
    "## IANA タイムゾーンデータベースを使う - zoneinfo\n",
    "\n",
    "- [zoneinfo --- IANA タイムゾーンのサポート](https://docs.python.org/ja/3/library/zoneinfo.html#module-zoneinfo)\n"
   ]
  },
  {
   "cell_type": "code",
   "execution_count": 119,
   "id": "36df7424",
   "metadata": {},
   "outputs": [
    {
     "name": "stdout",
     "output_type": "stream",
     "text": [
      "zoneinfo.ZoneInfo(key='Asia/Tokyo')\n",
      "datetime.datetime(2025, 4, 29, 23, 0, tzinfo=zoneinfo.ZoneInfo(key='Asia/Tokyo'))\n",
      "to Los: 2025-04-29 07:00:00-07:00\n",
      "2025-11-02 01:30:00-07:00\n",
      "2025-11-02 01:30:00-08:00\n"
     ]
    }
   ],
   "source": [
    "from zoneinfo import ZoneInfo\n",
    "\n",
    "# import pytz # Zoneを列挙できる\n",
    "\n",
    "# https://gist.github.com/heyalexej/8bf688fd67d7199be4a1682b3eec7568\n",
    "\n",
    "\n",
    "ASIA_TOKYO = ZoneInfo(\"Asia/Tokyo\")\n",
    "print(repr(ASIA_TOKYO))\n",
    "\n",
    "from datetime import datetime\n",
    "\n",
    "dt = datetime(2025, 4, 29, 23, tzinfo=ASIA_TOKYO)\n",
    "print(repr(dt))\n",
    "\n",
    "# 日本時間をロス時間へ変換\n",
    "print(\"to Los:\", dt.astimezone(ZoneInfo(\"America/Los_Angeles\")))\n",
    "los_dt = datetime(2025, 11, 2, 1, 30, tzinfo=ZoneInfo(\"America/Los_Angeles\"))\n",
    "print(los_dt.replace(fold=0))  # fold=0は曖昧時間(夏時間)が設定される\n",
    "print(los_dt.replace(fold=1))  # 通常時間"
   ]
  },
  {
   "cell_type": "markdown",
   "id": "135bc229",
   "metadata": {},
   "source": []
  }
 ],
 "metadata": {
  "kernelspec": {
   "display_name": "Python (snippets-hub)",
   "language": "python",
   "name": "python-snippets-hub"
  },
  "language_info": {
   "codemirror_mode": {
    "name": "ipython",
    "version": 3
   },
   "file_extension": ".py",
   "mimetype": "text/x-python",
   "name": "python",
   "nbconvert_exporter": "python",
   "pygments_lexer": "ipython3",
   "version": "3.13.0"
  }
 },
 "nbformat": 4,
 "nbformat_minor": 5
}
