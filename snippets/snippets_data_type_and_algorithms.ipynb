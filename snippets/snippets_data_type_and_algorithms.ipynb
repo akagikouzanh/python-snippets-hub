{
 "cells": [
  {
   "cell_type": "markdown",
   "id": "63f1e1e1",
   "metadata": {},
   "source": [
    "## データ型とアルゴリズム\n"
   ]
  },
  {
   "cell_type": "markdown",
   "id": "3cf78bb7",
   "metadata": {},
   "source": [
    "### ソート - sorted, sort, operator\n",
    "\n",
    "- sorted() リストを返す 非破壊的\n",
    "- reversed() イテレータを返す 非破壊的\n",
    "- list.sort() None 破壊的\n",
    "- list.reverse() None 破壊的\n"
   ]
  },
  {
   "cell_type": "code",
   "execution_count": 29,
   "id": "7ad08fdc",
   "metadata": {},
   "outputs": [
    {
     "name": "stdout",
     "output_type": "stream",
     "text": [
      "[340, 277, 120, 487, 906]\n",
      "[120, 277, 340, 487, 906] [340, 277, 120, 487, 906]\n",
      "[906, 487, 340, 277, 120]\n",
      "['egg', 'ham', 'spam'] ['spam', 'ham', 'egg']\n"
     ]
    },
    {
     "ename": "TypeError",
     "evalue": "'<' not supported between instances of 'int' and 'str'",
     "output_type": "error",
     "traceback": [
      "\u001b[31m---------------------------------------------------------------------------\u001b[39m",
      "\u001b[31mTypeError\u001b[39m                                 Traceback (most recent call last)",
      "\u001b[36mCell\u001b[39m\u001b[36m \u001b[39m\u001b[32mIn[29]\u001b[39m\u001b[32m, line 15\u001b[39m\n\u001b[32m     12\u001b[39m \u001b[33m\"\u001b[39m\u001b[33megg\u001b[39m\u001b[33m\"\u001b[39m < \u001b[33m\"\u001b[39m\u001b[33mham\u001b[39m\u001b[33m\"\u001b[39m\n\u001b[32m     14\u001b[39m \u001b[38;5;66;03m# エラーパターン\u001b[39;00m\n\u001b[32m---> \u001b[39m\u001b[32m15\u001b[39m \u001b[38;5;28mprint\u001b[39m(\u001b[38;5;28;43msorted\u001b[39;49m\u001b[43m(\u001b[49m\u001b[43m[\u001b[49m\u001b[33;43m\"\u001b[39;49m\u001b[33;43mspam\u001b[39;49m\u001b[33;43m\"\u001b[39;49m\u001b[43m,\u001b[49m\u001b[43m \u001b[49m\u001b[33;43m\"\u001b[39;49m\u001b[33;43megg\u001b[39;49m\u001b[33;43m\"\u001b[39;49m\u001b[43m,\u001b[49m\u001b[43m \u001b[49m\u001b[32;43m10\u001b[39;49m\u001b[43m]\u001b[49m\u001b[43m)\u001b[49m)\n",
      "\u001b[31mTypeError\u001b[39m: '<' not supported between instances of 'int' and 'str'"
     ]
    }
   ],
   "source": [
    "import random\n",
    "\n",
    "seq = [random.randint(0, 1000) for _ in range(5)]\n",
    "print(seq)\n",
    "print(sorted(seq), seq)\n",
    "print(sorted(seq, reverse=True))\n",
    "\n",
    "# リストが文字列の場合\n",
    "seq_str = [\"spam\", \"ham\", \"egg\"]\n",
    "print(sorted(seq_str), seq_str)\n",
    "\n",
    "\"egg\" < \"ham\"\n",
    "\n",
    "# エラーパターン\n",
    "print(sorted([\"spam\", \"egg\", 10]))"
   ]
  },
  {
   "cell_type": "code",
   "execution_count": 19,
   "id": "48d464ba",
   "metadata": {},
   "outputs": [
    {
     "name": "stdout",
     "output_type": "stream",
     "text": [
      "[0, 1, 2, 3, 7, 9]\n",
      "['a', 'b', 'c']\n",
      "[('a', 1), ('b', 2), ('c', 3)]\n",
      "['3', 'P', 'h', 'n', 'o', 't', 'y', 'の', 'コ', 'ド', 'ー']\n"
     ]
    }
   ],
   "source": [
    "# リスト以外の場合\n",
    "# Tupleのソート\n",
    "print(sorted((1, 9, 3, 7, 2, 0)))\n",
    "\n",
    "# dictのソート\n",
    "print(sorted({\"a\": 1, \"b\": 2, \"c\": 3}))\n",
    "print(sorted({\"a\": 1, \"b\": 2, \"c\": 3}.items()))\n",
    "\n",
    "# 文字のソート\n",
    "print(sorted(\"Python3のコード\"))"
   ]
  },
  {
   "cell_type": "code",
   "execution_count": 27,
   "id": "a2f8d988",
   "metadata": {},
   "outputs": [
    {
     "name": "stdout",
     "output_type": "stream",
     "text": [
      "<list_reverseiterator object at 0x105c5afb0> <class 'list_reverseiterator'> [589, 571, 422, 74, 505] [505, 74, 422, 571, 589]\n"
     ]
    }
   ],
   "source": [
    "# シーケンスの順序を逆にする\n",
    "rev_seq = [random.randint(0, 1000) for _ in range(5)]\n",
    "rev = reversed(rev_seq)\n",
    "print(rev, type(rev), list(rev), rev_seq)"
   ]
  },
  {
   "cell_type": "code",
   "execution_count": 31,
   "id": "7f482f0c",
   "metadata": {},
   "outputs": [
    {
     "name": "stdout",
     "output_type": "stream",
     "text": [
      "[719, 942, 781, 610, 119]\n",
      "None [119, 610, 719, 781, 942]\n",
      "[282, 153, 140, 706, 852]\n",
      "None [140, 153, 282, 706, 852]\n"
     ]
    }
   ],
   "source": [
    "li_seq = [random.randint(0, 1000) for _ in range(5)]\n",
    "print(li_seq)\n",
    "print(li_seq.sort(), li_seq)\n",
    "\n",
    "li_rev_seq = [random.randint(0, 1000) for _ in range(5)]\n",
    "print(li_rev_seq)\n",
    "print(li_rev_seq.sort(), li_rev_seq)"
   ]
  },
  {
   "cell_type": "code",
   "execution_count": 32,
   "id": "617c44b9",
   "metadata": {},
   "outputs": [
    {
     "name": "stdout",
     "output_type": "stream",
     "text": [
      "['A', 'b', 's', 'V']\n"
     ]
    }
   ],
   "source": [
    "# key引数\n",
    "str_li = [\"s\", \"V\", \"A\", \"b\"]\n",
    "# keyにstr.lowerを指定して、小文字で比較するようにする\n",
    "print(sorted(str_li, key=str.lower))"
   ]
  },
  {
   "cell_type": "markdown",
   "id": "5f33efad",
   "metadata": {},
   "source": [
    "### operator\n",
    "\n",
    "- ソートキーに使いやすい関数を提供する\n",
    "  - itemgetter()\n",
    "    - リストやタプルの要素やインデックス値でソートの順序を決めることができる\n",
    "    - もしも、同じ値がある場合は、元の順序を保持したままでソートされる\n",
    "  - attrgetter()\n",
    "    - ドットで取得できるものを指定し、ソートすることができる\n"
   ]
  },
  {
   "cell_type": "code",
   "execution_count": 37,
   "id": "07efbdf7",
   "metadata": {},
   "outputs": [
    {
     "name": "stdout",
     "output_type": "stream",
     "text": [
      "[(1, 30, 300), (1, 40, 200), (2, 20, 300), (3, 10, 100)]\n",
      "[(3, 10, 100), (1, 40, 200), (2, 20, 300), (1, 30, 300)]\n",
      "[(3, 10, 100), (1, 40, 200), (1, 30, 300), (2, 20, 300)]\n",
      "[('c', 1), ('a', 2), ('b', 3)]\n",
      "[{'name': 'ohotani', 'age': 17}, {'name': 'ichro', 'age': 51}, {'name': 'matsui', 'age': 55}]\n"
     ]
    }
   ],
   "source": [
    "# itemgetter()\n",
    "from operator import itemgetter\n",
    "\n",
    "data = [(1, 40, 200), (3, 10, 100), (2, 20, 300), (1, 30, 300)]\n",
    "print(sorted(data))\n",
    "# インデックス2でソートし、そのほかはそのまま\n",
    "print(sorted(data, key=itemgetter(2)))\n",
    "# index2でソートし、同じ場合はindex0でソート\n",
    "print(sorted(data, key=itemgetter(2, 0)))\n",
    "\n",
    "# dictの場合\n",
    "dic_data = {\"a\": 2, \"c\": 1, \"b\": 3}\n",
    "# itemsは各要素でタプルになるので、index1で指定\n",
    "print(sorted(dic_data.items(), key=itemgetter(1)))\n",
    "\n",
    "users = [\n",
    "    {\"name\": \"ichro\", \"age\": 51},\n",
    "    {\"name\": \"ohotani\", \"age\": 17},\n",
    "    {\"name\": \"matsui\", \"age\": 55},\n",
    "]\n",
    "# 年齢でソートする\n",
    "print(sorted(users, key=itemgetter(\"age\")))"
   ]
  },
  {
   "cell_type": "code",
   "execution_count": 41,
   "id": "1d6c9471",
   "metadata": {},
   "outputs": [
    {
     "name": "stdout",
     "output_type": "stream",
     "text": [
      "11\n",
      "28\n",
      "[datetime.date(1988, 2, 1), datetime.date(2025, 4, 30), datetime.date(1995, 11, 11)]\n",
      "[User(name='ohotani', birthday=datetime.date(1988, 2, 1)), User(name='matsui', birthday=datetime.date(2025, 4, 30)), User(name='ichiro', birthday=datetime.date(1995, 11, 11))]\n"
     ]
    }
   ],
   "source": [
    "# attrgetter\n",
    "from operator import attrgetter\n",
    "from datetime import date\n",
    "\n",
    "print(date(1970, 11, 28).month)\n",
    "print(date(1970, 11, 28).day)\n",
    "\n",
    "birth = [\n",
    "    date(1995, 11, 11),\n",
    "    date(1988, 2, 1),\n",
    "    date(2025, 4, 30),\n",
    "]\n",
    "print(sorted(birth, key=attrgetter(\"month\", \"day\")))\n",
    "\n",
    "from dataclasses import dataclass\n",
    "\n",
    "\n",
    "@dataclass\n",
    "class User:\n",
    "    name: str\n",
    "    birthday: date\n",
    "\n",
    "\n",
    "users_data = [\n",
    "    User(\"ichiro\", date(1995, 11, 11)),\n",
    "    User(\"ohotani\", date(1988, 2, 1)),\n",
    "    User(\"matsui\", date(2025, 4, 30)),\n",
    "]\n",
    "print(sorted(users_data, key=attrgetter(\"birthday.month\", \"birthday.day\")))"
   ]
  },
  {
   "cell_type": "markdown",
   "id": "274a0777",
   "metadata": {},
   "source": [
    "### collections Counter\n",
    "\n",
    "- [参考：collections](https://github.com/akagikouzanh/python-snippets-hub/blob/master/snippets/snippets_collections.ipynb)\n"
   ]
  },
  {
   "cell_type": "markdown",
   "id": "71a46fe0",
   "metadata": {},
   "source": [
    "### 列挙型による定数の定義を行う enum\n",
    "\n",
    "- [enum --- 列挙型のサポート](https://docs.python.org/ja/3.13/library/enum.html)\n"
   ]
  },
  {
   "cell_type": "code",
   "execution_count": 2,
   "id": "10659a86",
   "metadata": {},
   "outputs": [],
   "source": [
    "import enum\n",
    "\n",
    "\n",
    "# このような定義の仕方でも良いが\n",
    "class Nengo(enum.Enum):\n",
    "    SHOWA = 1\n",
    "    HEISEI = 2\n",
    "    REIWA = 3\n",
    "\n",
    "\n",
    "class NengoAuto(enum.Enum):\n",
    "    SHOWA = enum.auto()\n",
    "    HEISEI = enum.auto()\n",
    "    REIWA = enum.auto()"
   ]
  },
  {
   "cell_type": "code",
   "execution_count": 3,
   "id": "36b49af5",
   "metadata": {},
   "outputs": [
    {
     "ename": "ValueError",
     "evalue": "duplicate values found in <enum 'Spam'>: EGG -> HAM",
     "output_type": "error",
     "traceback": [
      "\u001b[31m---------------------------------------------------------------------------\u001b[39m",
      "\u001b[31mValueError\u001b[39m                                Traceback (most recent call last)",
      "\u001b[36mCell\u001b[39m\u001b[36m \u001b[39m\u001b[32mIn[3]\u001b[39m\u001b[32m, line 4\u001b[39m\n\u001b[32m      1\u001b[39m \u001b[38;5;66;03m# ユニークを指定して、重複を防ぐ\u001b[39;00m\n\u001b[32m----> \u001b[39m\u001b[32m4\u001b[39m \u001b[38;5;129;43m@enum\u001b[39;49m\u001b[43m.\u001b[49m\u001b[43munique\u001b[49m\n\u001b[32m      5\u001b[39m \u001b[38;5;28;43;01mclass\u001b[39;49;00m\u001b[38;5;250;43m \u001b[39;49m\u001b[34;43;01mSpam\u001b[39;49;00m\u001b[43m(\u001b[49m\u001b[43menum\u001b[49m\u001b[43m.\u001b[49m\u001b[43mEnum\u001b[49m\u001b[43m)\u001b[49m\u001b[43m:\u001b[49m\n\u001b[32m      6\u001b[39m \u001b[43m    \u001b[49m\u001b[43mHAM\u001b[49m\u001b[43m \u001b[49m\u001b[43m=\u001b[49m\u001b[43m \u001b[49m\u001b[32;43m1\u001b[39;49m\n\u001b[32m      7\u001b[39m \u001b[43m    \u001b[49m\u001b[43mEGG\u001b[49m\u001b[43m \u001b[49m\u001b[43m=\u001b[49m\u001b[43m \u001b[49m\u001b[32;43m1\u001b[39;49m\n",
      "\u001b[36mFile \u001b[39m\u001b[32m~/.pyenv/versions/3.13.0/lib/python3.13/enum.py:1653\u001b[39m, in \u001b[36munique\u001b[39m\u001b[34m(enumeration)\u001b[39m\n\u001b[32m   1650\u001b[39m \u001b[38;5;28;01mif\u001b[39;00m duplicates:\n\u001b[32m   1651\u001b[39m     alias_details = \u001b[33m'\u001b[39m\u001b[33m, \u001b[39m\u001b[33m'\u001b[39m.join(\n\u001b[32m   1652\u001b[39m             [\u001b[33m\"\u001b[39m\u001b[38;5;132;01m%s\u001b[39;00m\u001b[33m -> \u001b[39m\u001b[38;5;132;01m%s\u001b[39;00m\u001b[33m\"\u001b[39m % (alias, name) \u001b[38;5;28;01mfor\u001b[39;00m (alias, name) \u001b[38;5;129;01min\u001b[39;00m duplicates])\n\u001b[32m-> \u001b[39m\u001b[32m1653\u001b[39m     \u001b[38;5;28;01mraise\u001b[39;00m \u001b[38;5;167;01mValueError\u001b[39;00m(\u001b[33m'\u001b[39m\u001b[33mduplicate values found in \u001b[39m\u001b[38;5;132;01m%r\u001b[39;00m\u001b[33m: \u001b[39m\u001b[38;5;132;01m%s\u001b[39;00m\u001b[33m'\u001b[39m %\n\u001b[32m   1654\u001b[39m             (enumeration, alias_details))\n\u001b[32m   1655\u001b[39m \u001b[38;5;28;01mreturn\u001b[39;00m enumeration\n",
      "\u001b[31mValueError\u001b[39m: duplicate values found in <enum 'Spam'>: EGG -> HAM"
     ]
    }
   ],
   "source": [
    "# ユニークを指定して、重複を防ぐ\n",
    "\n",
    "\n",
    "@enum.unique\n",
    "class Spam(enum.Enum):\n",
    "    HAM = 1\n",
    "    EGG = 1"
   ]
  },
  {
   "cell_type": "code",
   "execution_count": 5,
   "id": "37178906",
   "metadata": {},
   "outputs": [
    {
     "name": "stdout",
     "output_type": "stream",
     "text": [
      "Nengo.REIWA\n",
      "SHOWA\n",
      "1\n"
     ]
    }
   ],
   "source": [
    "# 定数の呼び出し\n",
    "print(Nengo.REIWA)\n",
    "# 定数の名前と値を見る\n",
    "print(Nengo.SHOWA.name)\n",
    "print(Nengo.SHOWA.value)"
   ]
  },
  {
   "cell_type": "code",
   "execution_count": 6,
   "id": "99e55358",
   "metadata": {},
   "outputs": [
    {
     "data": {
      "text/plain": [
       "[<Spam.HAM: 1>, <Spam.EGG: 2>]"
      ]
     },
     "execution_count": 6,
     "metadata": {},
     "output_type": "execute_result"
    }
   ],
   "source": [
    "# 列挙型は定数を定義順にイテレータを取得する\n",
    "# 重複の場合は1つしか取得しない\n",
    "class Spam(enum.Enum):\n",
    "    HAM = 1\n",
    "    EGG = 2\n",
    "    BACON = 1\n",
    "\n",
    "\n",
    "list(Spam)"
   ]
  },
  {
   "cell_type": "code",
   "execution_count": 9,
   "id": "e495daa6",
   "metadata": {},
   "outputs": [
    {
     "name": "stdout",
     "output_type": "stream",
     "text": [
      "True\n",
      "True\n",
      "True\n"
     ]
    }
   ],
   "source": [
    "# 定数同士の比較\n",
    "print(isinstance(Spam.HAM, Spam))\n",
    "print(Spam.HAM == Spam.HAM)\n",
    "print(Spam.HAM == Spam.BACON)"
   ]
  },
  {
   "cell_type": "code",
   "execution_count": 10,
   "id": "db59fc89",
   "metadata": {},
   "outputs": [],
   "source": [
    "class OtherSpam(enum.Enum):\n",
    "    HAM = 1\n",
    "    EGG = 2\n",
    "    BACON = 2"
   ]
  },
  {
   "cell_type": "code",
   "execution_count": 11,
   "id": "6b1de216",
   "metadata": {},
   "outputs": [
    {
     "name": "stdout",
     "output_type": "stream",
     "text": [
      "False\n",
      "False\n"
     ]
    }
   ],
   "source": [
    "print(Spam.HAM == OtherSpam.HAM)\n",
    "print(Spam.HAM == 1)"
   ]
  },
  {
   "cell_type": "code",
   "execution_count": 15,
   "id": "f7c0e5f7",
   "metadata": {},
   "outputs": [
    {
     "name": "stdout",
     "output_type": "stream",
     "text": [
      "RED\n",
      "BLACK\n",
      "Blue\n"
     ]
    }
   ],
   "source": [
    "# 役立つ知識\n",
    "class Color(enum.Enum):\n",
    "    RED = enum.auto()\n",
    "    BLACK = enum.auto()\n",
    "\n",
    "    def __str__(self):\n",
    "        return self.name\n",
    "\n",
    "\n",
    "def print_color(color: Color) -> None:\n",
    "    print(color)\n",
    "\n",
    "\n",
    "print_color(Color.RED)\n",
    "print_color(Color.BLACK)\n",
    "# mypy入れればエラーになってくれる\n",
    "print_color(\"Blue\")"
   ]
  },
  {
   "cell_type": "markdown",
   "id": "65441c9d",
   "metadata": {},
   "source": [
    "### イテレータの組み合わせで処理を組み立てる - itertools\n",
    "\n",
    "- [itertools --- 効率的なループ用のイテレータ生成関数群](https://docs.python.org/ja/3.13/library/itertools.html)\n"
   ]
  },
  {
   "cell_type": "code",
   "execution_count": 18,
   "id": "2ae2f190",
   "metadata": {},
   "outputs": [
    {
     "name": "stdout",
     "output_type": "stream",
     "text": [
      "A\n",
      "B\n",
      "a\n",
      "b\n",
      "0\n",
      "1\n",
      "2\n"
     ]
    }
   ],
   "source": [
    "# イテラブルオブジェクトを連結する\n",
    "\n",
    "import itertools\n",
    "\n",
    "# 複数のイテラブルオブジェクトを1つイテレータとして返す\n",
    "it = itertools.chain([\"A\", \"B\"], \"ab\", range(3))\n",
    "for element in it:\n",
    "    print(element)"
   ]
  },
  {
   "cell_type": "code",
   "execution_count": 21,
   "id": "f9ef114f",
   "metadata": {},
   "outputs": [
    {
     "name": "stdout",
     "output_type": "stream",
     "text": [
      "a: ['a', 'a', 'a']\n",
      "b: ['b', 'b']\n",
      "c: ['c']\n",
      "d: ['d', 'd', 'd']\n",
      "a: ['a', 'a']\n",
      "b: ['b', 'b']\n"
     ]
    }
   ],
   "source": [
    "# 連続する値をまとめる\n",
    "# グループ化したイテレータが返される\n",
    "for val, group in itertools.groupby(\"aaabbcdddaabb\"):\n",
    "    print(f\"{val}: {list(group)}\")"
   ]
  },
  {
   "cell_type": "code",
   "execution_count": 23,
   "id": "e5d3faab",
   "metadata": {},
   "outputs": [
    {
     "name": "stdout",
     "output_type": "stream",
     "text": [
      "a: ['a', 'a', 'a', 'a', 'a']\n",
      "b: ['b', 'b', 'b', 'b']\n",
      "c: ['c']\n",
      "d: ['d', 'd', 'd']\n"
     ]
    }
   ],
   "source": [
    "# 上記のように連続していないと別グループとして扱われるため、\n",
    "# ソートしてから返す\n",
    "\n",
    "text = sorted(\"aaabbcdddaabb\")\n",
    "for val, group in itertools.groupby(text):\n",
    "    print(f\"{val}: {list(group)}\")"
   ]
  },
  {
   "cell_type": "code",
   "execution_count": 25,
   "id": "594c3fea",
   "metadata": {},
   "outputs": [
    {
     "name": "stdout",
     "output_type": "stream",
     "text": [
      "False: [10, 20]\n",
      "True: [31, 11, 3]\n",
      "False: [4]\n"
     ]
    }
   ],
   "source": [
    "# keyに関数を指定することで、関数の結果でグループ化することができる\n",
    "def is_odd(num: int) -> bool:\n",
    "    return num % 2 == 1\n",
    "\n",
    "\n",
    "numbers = [10, 20, 31, 11, 3, 4]\n",
    "for val, group in itertools.groupby(numbers, is_odd):\n",
    "    print(f\"{val}: {list(group)}\")"
   ]
  },
  {
   "cell_type": "code",
   "execution_count": 28,
   "id": "081d8d87",
   "metadata": {},
   "outputs": [
    {
     "name": "stdout",
     "output_type": "stream",
     "text": [
      "[0, 1, 2, 3, 4, 5, 6, 7, 8, 9]\n",
      "<itertools.islice object at 0x10ca3aca0>\n",
      "[0, 1, 2, 3, 4]\n"
     ]
    }
   ],
   "source": [
    "# イテレータから範囲を指定して値を取得する\n",
    "li = list(range(10))\n",
    "print(li)\n",
    "\n",
    "# リストの最初の5要素を返す\n",
    "islice_object = itertools.islice(li, 5)\n",
    "print(islice_object)\n",
    "print(list(islice_object))"
   ]
  },
  {
   "cell_type": "code",
   "execution_count": 31,
   "id": "4f9850d5",
   "metadata": {},
   "outputs": [
    {
     "name": "stdout",
     "output_type": "stream",
     "text": [
      "(1, 'abc', 'あ')\n",
      "(2, 'ABC', 'い')\n",
      "(3, '123', 'う')\n"
     ]
    }
   ],
   "source": [
    "# 複数のイテラブルオブジェクトの要素からタプルを作成する\n",
    "it1 = (1, 2, 3)\n",
    "it2 = [\"abc\", \"ABC\", \"123\"]\n",
    "it3 = \"あいう\"\n",
    "\n",
    "# 全ての値を返すと終了するが、長さの違うイテラブルオブジェクトの場合、もっとも短いものを基準とするため注意が必要\n",
    "# 3.10からはstrictが追加され、長さが違う場合は例外が送出される\n",
    "for v in zip(it1, it2, it3):\n",
    "    print(v)"
   ]
  },
  {
   "cell_type": "code",
   "execution_count": 33,
   "id": "746fe736",
   "metadata": {},
   "outputs": [
    {
     "name": "stdout",
     "output_type": "stream",
     "text": [
      "(1, 'abc')\n",
      "(2, 'ABC')\n",
      "(3, '123')\n",
      "(4, None)\n",
      "(5, None)\n"
     ]
    }
   ],
   "source": [
    "it1 = (1, 2, 3, 4, 5)\n",
    "it2 = [\"abc\", \"ABC\", \"123\"]\n",
    "\n",
    "# zipとは異なり、もっとも長いものを基準にして値を返す、少ない部分はNoneとして返される\n",
    "for v in itertools.zip_longest(it1, it2):\n",
    "    print(v)"
   ]
  },
  {
   "cell_type": "code",
   "execution_count": 34,
   "id": "9bfa32f9",
   "metadata": {},
   "outputs": [
    {
     "name": "stdout",
     "output_type": "stream",
     "text": [
      "('a', '1', 'あ')\n",
      "('b', '2', 'い')\n",
      "('c', '3', 'う')\n",
      "('d', '-', 'え')\n",
      "('e', '-', '-')\n"
     ]
    }
   ],
   "source": [
    "# fillvalueに値を指定するとNoneの代わりの値になる\n",
    "for v in itertools.zip_longest(\"abcde\", \"123\", \"あいうえ\", fillvalue=\"-\"):\n",
    "    print(v)"
   ]
  },
  {
   "cell_type": "markdown",
   "id": "c4e60ad7",
   "metadata": {},
   "source": [
    "#### データを組み合わせたイテレータを取得する\n"
   ]
  },
  {
   "cell_type": "code",
   "execution_count": 42,
   "id": "0543107a",
   "metadata": {},
   "outputs": [
    {
     "name": "stdout",
     "output_type": "stream",
     "text": [
      "[('a', 1), ('a', 2), ('a', 3), ('b', 1), ('b', 2), ('b', 3), ('c', 1), ('c', 2), ('c', 3)]\n",
      "['AA', 'AB', 'AC', 'BA', 'BB', 'BC', 'CA', 'CB', 'CC']\n",
      "['AA', 'AB', 'AC', 'BA', 'BB', 'BC', 'CA', 'CB', 'CC']\n"
     ]
    }
   ],
   "source": [
    "# デカルト積、ネストしたforループと同様\n",
    "\n",
    "print(list(itertools.product(\"abc\", [1, 2, 3])))\n",
    "# 組み合わせる回数\n",
    "print([r[0] + r[1] for r in itertools.product(\"ABC\", repeat=2)])\n",
    "\n",
    "# productと全く同じ結果\n",
    "result = []\n",
    "for i in \"ABC\":\n",
    "    for j in \"ABC\":\n",
    "        result.append(i + j)\n",
    "\n",
    "print(result)"
   ]
  },
  {
   "cell_type": "code",
   "execution_count": 53,
   "id": "c90fafe8",
   "metadata": {},
   "outputs": [
    {
     "name": "stdout",
     "output_type": "stream",
     "text": [
      "[('A', 'B', 'C'), ('A', 'C', 'B'), ('B', 'A', 'C'), ('B', 'C', 'A'), ('C', 'A', 'B'), ('C', 'B', 'A')]\n",
      "['AB', 'AC', 'AD', 'BA', 'BC', 'BD', 'CA', 'CB', 'CD', 'DA', 'DB', 'DC']\n"
     ]
    }
   ],
   "source": [
    "# 順列を取得する\n",
    "print(list(itertools.permutations(\"ABC\")))\n",
    "# 長さを指定\n",
    "results = itertools.permutations(\"ABCD\", 2)\n",
    "print([r[0] + r[1] for r in results])"
   ]
  },
  {
   "cell_type": "code",
   "execution_count": 67,
   "id": "fa391cbc",
   "metadata": {},
   "outputs": [
    {
     "name": "stdout",
     "output_type": "stream",
     "text": [
      "[('A', 'B'), ('A', 'C'), ('B', 'C')]\n",
      "['AB', 'AC', 'AD', 'BC', 'BD', 'CD']\n",
      "['AB', 'AC', 'AD', 'BA', 'BC', 'BD', 'CA', 'CB', 'CD', 'DA', 'DB', 'DC']\n"
     ]
    }
   ],
   "source": [
    "# 重複なしの組み合わせを返す\n",
    "# 組み合わせの長さを指定して返す\n",
    "print(list(itertools.combinations(\"ABC\", 2)))\n",
    "results = itertools.combinations(\"ABCD\", 2)\n",
    "print([r[0] + r[1] for r in results])\n",
    "# permutationsとの比較\n",
    "results = itertools.permutations(\"ABCD\", 2)\n",
    "print([r[0] + r[1] for r in results])"
   ]
  },
  {
   "cell_type": "code",
   "execution_count": 70,
   "id": "9e344c48",
   "metadata": {},
   "outputs": [
    {
     "name": "stdout",
     "output_type": "stream",
     "text": [
      "[('A', 'A'), ('A', 'B'), ('A', 'C'), ('B', 'B'), ('B', 'C'), ('C', 'C')]\n"
     ]
    }
   ],
   "source": [
    "# 重複あり(同じ要素の繰り返しを含む)の組み合わせ\n",
    "print(list(itertools.combinations_with_replacement(\"ABC\", 2)))\n",
    "results = itertools.combinations(\"ABCD\", 2)"
   ]
  },
  {
   "cell_type": "markdown",
   "id": "a159b64d",
   "metadata": {},
   "source": [
    "### ミュータブルなオブジェクトをコピーする\n",
    "\n",
    "- [copy --- 浅いコピーおよび深いコピー操作](https://docs.python.org/ja/3.13/library/copy.html)\n"
   ]
  },
  {
   "cell_type": "code",
   "execution_count": 87,
   "id": "29c9115a",
   "metadata": {},
   "outputs": [
    {
     "name": "stdout",
     "output_type": "stream",
     "text": [
      "['a', 'b', 'c', 'd']\n",
      "4507339008 4507339008\n",
      "['a', 'e', 'c', 'd']\n",
      "['a', 'e', 'c', 'd']\n",
      "['a', 'b', 'c', 'd']\n",
      "4508843520 4508843072\n",
      "['a', 'e', 'c', 'd']\n",
      "['a', 'b', 'c', 'd']\n",
      "[[0, 1], [2, 3], [4, 5]]\n",
      "4507931008 4507931008\n",
      "[[0, 1], [2, 3], [4, 5], [6, 7]]\n",
      "[[0, 1], [2, 3], [4, 5]]\n",
      "[[0, 1], [9, 3], [4, 5], [6, 7]]\n",
      "[[0, 1], [9, 3], [4, 5]]\n"
     ]
    }
   ],
   "source": [
    "# 浅いコピー(shallow copy)\n",
    "# ※ネストしたデータはコピーされないので注意(浅いコピーのため)\n",
    "\n",
    "values = [\"a\", \"b\", \"c\", \"d\"]\n",
    "v_ref = values\n",
    "\n",
    "print(v_ref)\n",
    "print(id(v_ref), id(values))\n",
    "\n",
    "v_ref[1] = \"e\"\n",
    "print(v_ref)\n",
    "print(values)\n",
    "\n",
    "import copy\n",
    "\n",
    "values = [\"a\", \"b\", \"c\", \"d\"]\n",
    "val_cp = copy.copy(values)\n",
    "print(val_cp)\n",
    "print(id(val_cp), id(values))\n",
    "val_cp[1] = \"e\"\n",
    "print(val_cp)\n",
    "print(values)\n",
    "\n",
    "# ネストした値\n",
    "values = [[0, 1], [2, 3], [4, 5]]\n",
    "val_cp = copy.copy(values)\n",
    "print(val_cp)\n",
    "print(id(val_cp[0]), id(values[0]))\n",
    "\n",
    "val_cp.append([6, 7])\n",
    "print(val_cp)\n",
    "# 一階層目のため変更は影響していない\n",
    "print(values)\n",
    "\n",
    "val_cp[1][0] = 9\n",
    "print(val_cp)\n",
    "# これは変更されてしまう\n",
    "print(values)"
   ]
  },
  {
   "cell_type": "code",
   "execution_count": 86,
   "id": "d2aad6ff",
   "metadata": {},
   "outputs": [
    {
     "name": "stdout",
     "output_type": "stream",
     "text": [
      "[[0, 1], [2, 3], [4, 5]]\n",
      "4507931008 4507934528\n",
      "[[0, 1], [2, 3], [4, 5]]\n",
      "[[0, 1], [9, 3], [4, 5]]\n"
     ]
    }
   ],
   "source": [
    "values = [[0, 1], [2, 3], [4, 5]]\n",
    "val_cp = copy.deepcopy(values)\n",
    "print(val_cp)\n",
    "print(id(val_cp[0]), id(values[0]))\n",
    "\n",
    "val_cp[1][0] = 9\n",
    "print(values)\n",
    "print(val_cp)"
   ]
  },
  {
   "cell_type": "code",
   "execution_count": 88,
   "id": "e95ee400",
   "metadata": {},
   "outputs": [
    {
     "data": {
      "text/plain": [
       "[{'attribute': 'author', 'name': 'natsume'},\n",
       " {'attribute': 'author', 'name': 'dazai'},\n",
       " {'attribute': 'author', 'name': 'masaoka'}]"
      ]
     },
     "execution_count": 88,
     "metadata": {},
     "output_type": "execute_result"
    }
   ],
   "source": [
    "authors = [\"natsume\", \"dazai\", \"masaoka\"]\n",
    "attrib = {\"attribute\": \"author\"}\n",
    "book_authors = []\n",
    "\n",
    "for name in authors:\n",
    "    cp_attrib = copy.copy(attrib)\n",
    "    cp_attrib[\"name\"] = name\n",
    "    book_authors.append(cp_attrib)\n",
    "\n",
    "\n",
    "book_authors"
   ]
  },
  {
   "cell_type": "code",
   "execution_count": 90,
   "id": "95063ff3",
   "metadata": {},
   "outputs": [
    {
     "name": "stdout",
     "output_type": "stream",
     "text": [
      "natsume 49\n",
      "dazai 38\n",
      "tanaka 49\n"
     ]
    }
   ],
   "source": [
    "# インスタンスもコピー可能\n",
    "class Author:\n",
    "    def __init__(self, name: str, age: int) -> None:\n",
    "        self.name = name\n",
    "        self.age = age\n",
    "\n",
    "\n",
    "auther1 = Author(\"natsume\", 49)\n",
    "auther2 = Author(\"dazai\", 38)\n",
    "auther3 = copy.deepcopy(auther1)\n",
    "auther3.name = \"tanaka\"\n",
    "\n",
    "print(auther1.name, auther1.age)\n",
    "print(auther2.name, auther2.age)\n",
    "print(auther3.name, auther3.age)"
   ]
  },
  {
   "cell_type": "code",
   "execution_count": 92,
   "id": "23a12b10",
   "metadata": {},
   "outputs": [
    {
     "name": "stdout",
     "output_type": "stream",
     "text": [
      "4509474496 4509482816\n",
      "4509467520 4507268800\n",
      "4507144256 4507267392\n",
      "4508919040 4508919488\n"
     ]
    }
   ],
   "source": [
    "# import copyせずに同じように浅いコピーする方法\n",
    "\n",
    "values = [0, 1, 2, 3, 4, 5]\n",
    "# スライスで全体を渡す\n",
    "val_cp = values[:]\n",
    "\n",
    "print(id(values), id(val_cp))\n",
    "\n",
    "val_li = [0, 1, 2, 3, 4, 5]\n",
    "val_dic = {\"k1\": \"v1\", \"k2\": \"v2\"}\n",
    "val_set = {1, 2, 3, 4, 5}\n",
    "val_li_cp = list(val_li)\n",
    "val_dic_cp = dict(val_dic)\n",
    "val_set_cp = set(val_set)\n",
    "\n",
    "print(id(val_li), id(val_li_cp))\n",
    "print(id(val_dic), id(val_dic_cp))\n",
    "print(id(val_set), id(val_set_cp))"
   ]
  },
  {
   "cell_type": "markdown",
   "id": "9060d143",
   "metadata": {},
   "source": []
  }
 ],
 "metadata": {
  "kernelspec": {
   "display_name": "Python (snippets-hub)",
   "language": "python",
   "name": "python-snippets-hub"
  },
  "language_info": {
   "codemirror_mode": {
    "name": "ipython",
    "version": 3
   },
   "file_extension": ".py",
   "mimetype": "text/x-python",
   "name": "python",
   "nbconvert_exporter": "python",
   "pygments_lexer": "ipython3",
   "version": "3.13.0"
  }
 },
 "nbformat": 4,
 "nbformat_minor": 5
}
