{
 "cells": [
  {
   "cell_type": "markdown",
   "id": "da91d0ba",
   "metadata": {},
   "source": [
    "### timeit\n",
    "\n",
    "`timeit`は実行時間を計測する標準ライブラリ\n",
    "\n",
    "- 特徴\n",
    "\n",
    "  - あまり大きくない(snippet)コード群のパフォーマンスチェックを行うことができる\n",
    "\n",
    "- 主な使用用途\n",
    "\n",
    "  - パフォーマンスチェック\n",
    "\n",
    "- 注意\n",
    "  - 名前空間を認識させないとエラーになる\n",
    "\n",
    "### 資料\n",
    "\n",
    "[ドキュメント](https://docs.python.org/ja/3.13/library/timeit.html)\n",
    "\n",
    "- command line case\n",
    "\n",
    "```bash\n",
    "python -m timeit <option>\n",
    "```\n",
    "\n",
    "```\n",
    "option:\n",
    "-n N, --number=N: 実行回数\n",
    "-r N, --repeat=N: timer を繰り返す回数\n",
    "-s S, --setup=S: 初回に 1 回だけ実行する文(デフォルトは pass)\n",
    "-p, --process: 実時間ではなくプロセス時間を計測\n",
    "-u, --unit=U: timer の出力単位を指定(nsec, usec, msec, sec)\n",
    "-v, --verbose: 計測結果詳細を数値で繰り返し表示する\n",
    "-h, --help: ヘルプの表示\n",
    "```\n",
    "\n",
    "```bash sample-case\n",
    "#　option -sでtextをセットアップ, その後、`test`がtextにあるかチェックしている\n",
    "python -m timeit -s 'text = \"this is a test.\"; char = \"test\"' 'char in text'\n",
    "\n",
    "20000000 loops, best of 5: 15.3 nsec per loop\n",
    "```\n"
   ]
  },
  {
   "cell_type": "code",
   "execution_count": 2,
   "id": "9549e640",
   "metadata": {},
   "outputs": [],
   "source": [
    "import timeit"
   ]
  },
  {
   "cell_type": "code",
   "execution_count": 3,
   "id": "05103690",
   "metadata": {},
   "outputs": [
    {
     "name": "stdout",
     "output_type": "stream",
     "text": [
      "[0.006587915995623916, 0.005402375012636185, 0.005062249954789877, 0.004679500008933246, 0.004520207992754877]\n",
      "0.024980833986774087\n",
      "0.3129951250157319\n",
      "30.97569791699061\n",
      "1回あたりの平均実行時間: 0.00003011秒\n"
     ]
    }
   ],
   "source": [
    "# 5回分のタイムを出力する\n",
    "# sample: [0.003027708036825061, 0.0028882090118713677, 0.0030957499984651804, 0.002981124969664961, 0.0029137920355424285]\n",
    "print(timeit.repeat('\"here we go!\"'))\n",
    "\n",
    "# setupを利用した例\n",
    "print(timeit.timeit(\"text.find(char)\", setup='text = \"hello world\"; char = \"d\"'))\n",
    "\n",
    "# 複数行の場合(インデントをしっかりしないとダメ)\n",
    "S = \"\"\"try:\n",
    "    \"This is a test\".__bool__\n",
    "except AttributeError:\n",
    "    pass\n",
    "\"\"\"\n",
    "# sample: 0.28930195805151016\n",
    "print(timeit.timeit(stmt=S))\n",
    "\n",
    "def my_func() -> list:\n",
    "    \"\"\"0から999までの整数を2乗したリストを生成して返す関数。\n",
    "\n",
    "    Returns:\n",
    "        list: 各整数の2乗値を格納したリスト\n",
    "    \"\"\"\n",
    "    return [x**2 for x in range(1000)]\n",
    "\n",
    "# グローバル名前空間内で実行する(対象の関数をグローバルで探す)\n",
    "# グローバルなしでやるのであれば、そのままmy_funcを渡せばOK\n",
    "# 1000000回実行にかかった秒数\n",
    "# sample: 30.015518333006185\n",
    "print(timeit.timeit(\"my_func()\", globals=globals()))\n",
    "total = timeit.timeit(my_func, number=10)\n",
    "print(f\"1回あたりの平均実行時間: {total / 10:.8f}秒\")\n"
   ]
  }
 ],
 "metadata": {
  "kernelspec": {
   "display_name": "Python 3",
   "language": "python",
   "name": "python3"
  },
  "language_info": {
   "codemirror_mode": {
    "name": "ipython",
    "version": 3
   },
   "file_extension": ".py",
   "mimetype": "text/x-python",
   "name": "python",
   "nbconvert_exporter": "python",
   "pygments_lexer": "ipython3",
   "version": "3.13.0"
  }
 },
 "nbformat": 4,
 "nbformat_minor": 5
}
