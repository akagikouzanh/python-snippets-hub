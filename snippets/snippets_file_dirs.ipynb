{
 "cells": [
  {
   "cell_type": "markdown",
   "id": "63f1e1e1",
   "metadata": {},
   "source": [
    "## ファイルとディレクトリアクセス\n"
   ]
  },
  {
   "cell_type": "markdown",
   "id": "c47b5423",
   "metadata": {},
   "source": [
    "### ファイルパス操作を直感的に行う - pathlib\n",
    "\n",
    "- [pathlib --- オブジェクト指向のファイルシステムパス](https://docs.python.org/ja/3.13/library/pathlib.html)\n"
   ]
  },
  {
   "cell_type": "code",
   "execution_count": 1,
   "id": "53fcfa3f",
   "metadata": {},
   "outputs": [
    {
     "data": {
      "text/plain": [
       "PosixPath('.')"
      ]
     },
     "execution_count": 1,
     "metadata": {},
     "output_type": "execute_result"
    }
   ],
   "source": [
    "from pathlib import Path\n",
    "\n",
    "Path()"
   ]
  },
  {
   "cell_type": "markdown",
   "id": "65808454",
   "metadata": {},
   "source": [
    "- PurePath は純粋パスを表すクラス\n"
   ]
  },
  {
   "cell_type": "code",
   "execution_count": 2,
   "id": "71a8c822",
   "metadata": {},
   "outputs": [
    {
     "data": {
      "text/plain": [
       "PurePosixPath('spam.txt')"
      ]
     },
     "execution_count": 2,
     "metadata": {},
     "output_type": "execute_result"
    }
   ],
   "source": [
    "from pathlib import PurePath, Path\n",
    "\n",
    "PurePath(\"spam.txt\")"
   ]
  },
  {
   "cell_type": "code",
   "execution_count": 3,
   "id": "28a755c0",
   "metadata": {},
   "outputs": [
    {
     "data": {
      "text/plain": [
       "PurePosixPath('spam/ham/egg.txt')"
      ]
     },
     "execution_count": 3,
     "metadata": {},
     "output_type": "execute_result"
    }
   ],
   "source": [
    "PurePath(\"spam\", \"ham\", \"egg.txt\")"
   ]
  },
  {
   "cell_type": "code",
   "execution_count": 4,
   "id": "1d282412",
   "metadata": {},
   "outputs": [
    {
     "data": {
      "text/plain": [
       "PurePosixPath('spam/ham/egg.txt')"
      ]
     },
     "execution_count": 4,
     "metadata": {},
     "output_type": "execute_result"
    }
   ],
   "source": [
    "PurePath(\"spam/ham\", \"egg.txt\")"
   ]
  },
  {
   "cell_type": "code",
   "execution_count": 5,
   "id": "fd0d4cff",
   "metadata": {},
   "outputs": [
    {
     "data": {
      "text/plain": [
       "PurePosixPath('spam/ham/egg.txt')"
      ]
     },
     "execution_count": 5,
     "metadata": {},
     "output_type": "execute_result"
    }
   ],
   "source": [
    "PurePath(Path(\"spam\"), Path(\"ham\"), \"egg.txt\")"
   ]
  },
  {
   "cell_type": "code",
   "execution_count": 6,
   "id": "18b5bf4d",
   "metadata": {},
   "outputs": [
    {
     "data": {
      "text/plain": [
       "PurePosixPath('.')"
      ]
     },
     "execution_count": 6,
     "metadata": {},
     "output_type": "execute_result"
    }
   ],
   "source": [
    "PurePath()"
   ]
  },
  {
   "cell_type": "code",
   "execution_count": 7,
   "id": "e1e379c0",
   "metadata": {},
   "outputs": [
    {
     "data": {
      "text/plain": [
       "PosixPath('/usr')"
      ]
     },
     "execution_count": 7,
     "metadata": {},
     "output_type": "execute_result"
    }
   ],
   "source": [
    "p = Path(\"/usr\")\n",
    "p"
   ]
  },
  {
   "cell_type": "code",
   "execution_count": 8,
   "id": "6d3f93e4",
   "metadata": {},
   "outputs": [
    {
     "data": {
      "text/plain": [
       "PosixPath('/usr/bin/python3')"
      ]
     },
     "execution_count": 8,
     "metadata": {},
     "output_type": "execute_result"
    }
   ],
   "source": [
    "p / \"bin\" / \"python3\""
   ]
  },
  {
   "cell_type": "code",
   "execution_count": 9,
   "id": "acb47ca5",
   "metadata": {},
   "outputs": [
    {
     "data": {
      "text/plain": [
       "PosixPath('usr/hosts')"
      ]
     },
     "execution_count": 9,
     "metadata": {},
     "output_type": "execute_result"
    }
   ],
   "source": [
    "q = Path(\"hosts\")\n",
    "\"usr\" / q"
   ]
  },
  {
   "cell_type": "code",
   "execution_count": 10,
   "id": "fe65fdf7",
   "metadata": {},
   "outputs": [
    {
     "data": {
      "text/plain": [
       "('spam', 'ham', 'egg.txt')"
      ]
     },
     "execution_count": 10,
     "metadata": {},
     "output_type": "execute_result"
    }
   ],
   "source": [
    "# パスの要素をタプルで返す\n",
    "p = PurePath(\"spam\", \"ham\", \"egg.txt\")\n",
    "p.parts"
   ]
  },
  {
   "cell_type": "code",
   "execution_count": 11,
   "id": "fc03b04c",
   "metadata": {},
   "outputs": [
    {
     "data": {
      "text/plain": [
       "''"
      ]
     },
     "execution_count": 11,
     "metadata": {},
     "output_type": "execute_result"
    }
   ],
   "source": [
    "cur_path = PurePath(\"/Users\", \"xxxxx\", \"python-snippets-hub\")\n",
    "# Linux系の場合は空文字列になる, Windowsなどはc:などが取得できるかと\n",
    "cur_path.drive"
   ]
  },
  {
   "cell_type": "code",
   "execution_count": 12,
   "id": "62ee802b",
   "metadata": {},
   "outputs": [
    {
     "data": {
      "text/plain": [
       "'/'"
      ]
     },
     "execution_count": 12,
     "metadata": {},
     "output_type": "execute_result"
    }
   ],
   "source": [
    "# ルードを表す文字列を返す\n",
    "cur_path.root"
   ]
  },
  {
   "cell_type": "code",
   "execution_count": 13,
   "id": "eb52a517",
   "metadata": {},
   "outputs": [
    {
     "data": {
      "text/plain": [
       "'/'"
      ]
     },
     "execution_count": 13,
     "metadata": {},
     "output_type": "execute_result"
    }
   ],
   "source": [
    "# ドライブとルートを結合した文字列を返す\n",
    "cur_path.anchor"
   ]
  },
  {
   "cell_type": "code",
   "execution_count": 14,
   "id": "59d4e38f",
   "metadata": {},
   "outputs": [
    {
     "data": {
      "text/plain": [
       "(PurePosixPath('/Users/xxxxx'), PurePosixPath('/Users'), PurePosixPath('/'))"
      ]
     },
     "execution_count": 14,
     "metadata": {},
     "output_type": "execute_result"
    }
   ],
   "source": [
    "# 上位パスにアクセ腕きるシーケンスを返す\n",
    "cur_path.parents[:]"
   ]
  },
  {
   "cell_type": "code",
   "execution_count": 15,
   "id": "239ce7f2",
   "metadata": {},
   "outputs": [
    {
     "data": {
      "text/plain": [
       "PurePosixPath('/Users/xxxxx')"
      ]
     },
     "execution_count": 15,
     "metadata": {},
     "output_type": "execute_result"
    }
   ],
   "source": [
    "# パスの直接の上位パスを返す\n",
    "cur_path.parent"
   ]
  },
  {
   "cell_type": "code",
   "execution_count": 16,
   "id": "4bef17ca",
   "metadata": {},
   "outputs": [
    {
     "data": {
      "text/plain": [
       "'python-snippets-hub'"
      ]
     },
     "execution_count": 16,
     "metadata": {},
     "output_type": "execute_result"
    }
   ],
   "source": [
    "# パス要素の末尾を表す文字列を消す\n",
    "cur_path.name"
   ]
  },
  {
   "cell_type": "code",
   "execution_count": 17,
   "id": "24ecc5dd",
   "metadata": {},
   "outputs": [
    {
     "data": {
      "text/plain": [
       "'.txt'"
      ]
     },
     "execution_count": 17,
     "metadata": {},
     "output_type": "execute_result"
    }
   ],
   "source": [
    "# 末尾の拡張子を返す\n",
    "p.suffix\n",
    "# 拡張子が複数連なっている場合\n",
    "# p.suffixes"
   ]
  },
  {
   "cell_type": "code",
   "execution_count": 18,
   "id": "72f38195",
   "metadata": {},
   "outputs": [
    {
     "data": {
      "text/plain": [
       "'egg'"
      ]
     },
     "execution_count": 18,
     "metadata": {},
     "output_type": "execute_result"
    }
   ],
   "source": [
    "# 末尾の拡張子を除いたものを返す\n",
    "p.stem"
   ]
  },
  {
   "cell_type": "code",
   "execution_count": 19,
   "id": "e786eeef",
   "metadata": {},
   "outputs": [
    {
     "data": {
      "text/plain": [
       "True"
      ]
     },
     "execution_count": 19,
     "metadata": {},
     "output_type": "execute_result"
    }
   ],
   "source": [
    "# パスが絶対パスである場合にTrue\n",
    "cur_path.is_absolute()"
   ]
  },
  {
   "cell_type": "code",
   "execution_count": 20,
   "id": "8f1c5169",
   "metadata": {},
   "outputs": [
    {
     "name": "stdout",
     "output_type": "stream",
     "text": [
      "True\n",
      "False\n"
     ]
    }
   ],
   "source": [
    "# 指定したパスに対して相対であればTrue\n",
    "print(cur_path.is_relative_to(\"/Users\"))\n",
    "print(cur_path.is_relative_to(\"/xxxxx\"))"
   ]
  },
  {
   "cell_type": "markdown",
   "id": "55c74ebf",
   "metadata": {},
   "source": [
    "- glob とはワイルドカードとファイル名/ディレクトリ名をセットで指定するパターンのこと\n"
   ]
  },
  {
   "cell_type": "code",
   "execution_count": 21,
   "id": "4fc88cb9",
   "metadata": {},
   "outputs": [
    {
     "data": {
      "text/plain": [
       "True"
      ]
     },
     "execution_count": 21,
     "metadata": {},
     "output_type": "execute_result"
    }
   ],
   "source": [
    "# glob形式の引数patternと一致する場合True\n",
    "p.match(\"*.txt\")"
   ]
  },
  {
   "cell_type": "code",
   "execution_count": 22,
   "id": "b3dc2103",
   "metadata": {},
   "outputs": [
    {
     "data": {
      "text/plain": [
       "PurePosixPath('/Users/xxxxx/examples')"
      ]
     },
     "execution_count": 22,
     "metadata": {},
     "output_type": "execute_result"
    }
   ],
   "source": [
    "# パスのname部分を引数で指定したものに変更したパスを返す\n",
    "cur_path.with_name(\"examples\")"
   ]
  },
  {
   "cell_type": "code",
   "execution_count": 23,
   "id": "b27702ef",
   "metadata": {},
   "outputs": [
    {
     "data": {
      "text/plain": [
       "PurePosixPath('spam/ham/tests.txt')"
      ]
     },
     "execution_count": 23,
     "metadata": {},
     "output_type": "execute_result"
    }
   ],
   "source": [
    "# パスのstem部分を引数で指定したものにして返す\n",
    "p.with_stem(\"tests\")"
   ]
  },
  {
   "cell_type": "code",
   "execution_count": 24,
   "id": "c4505e92",
   "metadata": {},
   "outputs": [
    {
     "data": {
      "text/plain": [
       "PurePosixPath('spam/ham/egg.md')"
      ]
     },
     "execution_count": 24,
     "metadata": {},
     "output_type": "execute_result"
    }
   ],
   "source": [
    "# パスの拡張子を引数で変更したものを返す\n",
    "p.with_suffix(\".md\")"
   ]
  },
  {
   "cell_type": "code",
   "execution_count": 25,
   "id": "e1a50196",
   "metadata": {},
   "outputs": [
    {
     "data": {
      "text/plain": [
       "PosixPath('/Users/akagikouzanh/dev/backend/python-snippets-hub/snippets')"
      ]
     },
     "execution_count": 25,
     "metadata": {},
     "output_type": "execute_result"
    }
   ],
   "source": [
    "# 現在のディレクトリを表すパスオブジェクト\n",
    "Path.cwd()"
   ]
  },
  {
   "cell_type": "code",
   "execution_count": 26,
   "id": "3b7e06d6",
   "metadata": {},
   "outputs": [
    {
     "data": {
      "text/plain": [
       "PosixPath('/Users/akagikouzanh')"
      ]
     },
     "execution_count": 26,
     "metadata": {},
     "output_type": "execute_result"
    }
   ],
   "source": [
    "# ユーザのホームディレクトリを表すパスオブジェクト\n",
    "Path.home()"
   ]
  },
  {
   "cell_type": "code",
   "execution_count": 27,
   "id": "94c26f8e",
   "metadata": {},
   "outputs": [
    {
     "data": {
      "text/plain": [
       "os.stat_result(st_mode=33188, st_ino=30378279, st_dev=16777233, st_nlink=1, st_uid=501, st_gid=20, st_size=0, st_atime=1746809694, st_mtime=1746809694, st_ctime=1746809694)"
      ]
     },
     "execution_count": 27,
     "metadata": {},
     "output_type": "execute_result"
    }
   ],
   "source": [
    "# ファイルの各種情報を返す\n",
    "p = Path(str(Path.cwd()) + \"/logs/helloworld.txt\")\n",
    "p.exists()\n",
    "p.stat()"
   ]
  },
  {
   "cell_type": "code",
   "execution_count": 28,
   "id": "e7e9d033",
   "metadata": {},
   "outputs": [
    {
     "data": {
      "text/plain": [
       "33152"
      ]
     },
     "execution_count": 28,
     "metadata": {},
     "output_type": "execute_result"
    }
   ],
   "source": [
    "# 権限の変更\n",
    "p.chmod(0o600)\n",
    "p.stat().st_mode"
   ]
  },
  {
   "cell_type": "code",
   "execution_count": 29,
   "id": "45ccb341",
   "metadata": {},
   "outputs": [
    {
     "data": {
      "text/plain": [
       "True"
      ]
     },
     "execution_count": 29,
     "metadata": {},
     "output_type": "execute_result"
    }
   ],
   "source": [
    "# パスがファイルである場合True\n",
    "p.is_file()"
   ]
  },
  {
   "cell_type": "code",
   "execution_count": 30,
   "id": "0b98ff15",
   "metadata": {},
   "outputs": [
    {
     "name": "stdout",
     "output_type": "stream",
     "text": [
      "\n"
     ]
    },
    {
     "data": {
      "text/plain": [
       "8"
      ]
     },
     "execution_count": 30,
     "metadata": {},
     "output_type": "execute_result"
    }
   ],
   "source": [
    "with p.open(encoding=\"utf-8\") as f:\n",
    "    print(f.read())\n",
    "\n",
    "# ファイルの内容を書き込む、書き込んだ文字数を返す\n",
    "p.write_text(\"ハムハムハムハム\", encoding=\"utf-8\")"
   ]
  },
  {
   "cell_type": "code",
   "execution_count": 31,
   "id": "c731bc45",
   "metadata": {},
   "outputs": [
    {
     "data": {
      "text/plain": [
       "'ハムハムハムハム'"
      ]
     },
     "execution_count": 31,
     "metadata": {},
     "output_type": "execute_result"
    }
   ],
   "source": [
    "# ファイルの内容を文字列で返す\n",
    "p.read_text(encoding=\"utf-8\")"
   ]
  },
  {
   "cell_type": "code",
   "execution_count": 32,
   "id": "f91dba88",
   "metadata": {},
   "outputs": [],
   "source": [
    "# ファイルの削除\n",
    "p.unlink()"
   ]
  },
  {
   "cell_type": "code",
   "execution_count": 33,
   "id": "15dafb6a",
   "metadata": {},
   "outputs": [
    {
     "data": {
      "text/plain": [
       "False"
      ]
     },
     "execution_count": 33,
     "metadata": {},
     "output_type": "execute_result"
    }
   ],
   "source": [
    "p.exists()"
   ]
  },
  {
   "cell_type": "code",
   "execution_count": 34,
   "id": "b05faa9c",
   "metadata": {},
   "outputs": [],
   "source": [
    "# ファイルの作成\n",
    "p.touch()"
   ]
  },
  {
   "cell_type": "code",
   "execution_count": 35,
   "id": "76c094b6",
   "metadata": {},
   "outputs": [
    {
     "data": {
      "text/plain": [
       "PosixPath('/Users/akagikouzanh/dev/backend/python-snippets-hub/snippets/logs/helloworld.txt')"
      ]
     },
     "execution_count": 35,
     "metadata": {},
     "output_type": "execute_result"
    }
   ],
   "source": [
    "# 絶対パスにし、シンボリックリンクを解決(絶対パスの取得)\n",
    "p.resolve()"
   ]
  },
  {
   "cell_type": "code",
   "execution_count": 36,
   "id": "ec2a6558",
   "metadata": {},
   "outputs": [
    {
     "data": {
      "text/plain": [
       "<map at 0x108b964a0>"
      ]
     },
     "execution_count": 36,
     "metadata": {},
     "output_type": "execute_result"
    }
   ],
   "source": [
    "p = Path()\n",
    "p.iterdir()"
   ]
  },
  {
   "cell_type": "code",
   "execution_count": 37,
   "id": "a0d5db26",
   "metadata": {},
   "outputs": [
    {
     "data": {
      "text/plain": [
       "[PosixPath('logs'),\n",
       " PosixPath('snippets_class_special_methods.ipynb'),\n",
       " PosixPath('snippets_classes.ipynb'),\n",
       " PosixPath('snippets_coding_conventions.ipynb'),\n",
       " PosixPath('snippets_collections.ipynb'),\n",
       " PosixPath('snippets_data_type_and_algorithms.ipynb'),\n",
       " PosixPath('snippets_datetime.ipynb'),\n",
       " PosixPath('snippets_file_dirs.ipynb'),\n",
       " PosixPath('snippets_io.ipynb'),\n",
       " PosixPath('snippets_os_runtime.ipynb'),\n",
       " PosixPath('snippets_python_environments.ipynb'),\n",
       " PosixPath('snippets_python_specifications.ipynb'),\n",
       " PosixPath('snippets_secrets.ipynb'),\n",
       " PosixPath('snippets_text_process.ipynb'),\n",
       " PosixPath('snippets_timeit.ipynb'),\n",
       " PosixPath('snippets_tmplate.ipynb'),\n",
       " PosixPath('snippets_type_hint.ipynb'),\n",
       " PosixPath('snippets_unicodedata.ipynb')]"
      ]
     },
     "execution_count": 37,
     "metadata": {},
     "output_type": "execute_result"
    }
   ],
   "source": [
    "sorted(p.iterdir())"
   ]
  },
  {
   "cell_type": "code",
   "execution_count": 38,
   "id": "5ea662b5",
   "metadata": {},
   "outputs": [
    {
     "data": {
      "text/plain": [
       "[PosixPath('snippets_class_special_methods.ipynb'),\n",
       " PosixPath('snippets_classes.ipynb'),\n",
       " PosixPath('snippets_coding_conventions.ipynb'),\n",
       " PosixPath('snippets_collections.ipynb'),\n",
       " PosixPath('snippets_data_type_and_algorithms.ipynb'),\n",
       " PosixPath('snippets_datetime.ipynb'),\n",
       " PosixPath('snippets_file_dirs.ipynb'),\n",
       " PosixPath('snippets_io.ipynb'),\n",
       " PosixPath('snippets_os_runtime.ipynb'),\n",
       " PosixPath('snippets_python_environments.ipynb'),\n",
       " PosixPath('snippets_python_specifications.ipynb'),\n",
       " PosixPath('snippets_secrets.ipynb'),\n",
       " PosixPath('snippets_text_process.ipynb'),\n",
       " PosixPath('snippets_timeit.ipynb'),\n",
       " PosixPath('snippets_tmplate.ipynb'),\n",
       " PosixPath('snippets_type_hint.ipynb'),\n",
       " PosixPath('snippets_unicodedata.ipynb')]"
      ]
     },
     "execution_count": 38,
     "metadata": {},
     "output_type": "execute_result"
    }
   ],
   "source": [
    "sorted(p.glob(\"*.ipynb\"))"
   ]
  },
  {
   "cell_type": "markdown",
   "id": "fe88f73a",
   "metadata": {},
   "source": [
    "### 一時的なファイルやディレクトリを生成する - tempfile\n",
    "\n",
    "- [tempfile --- 一時ファイルやディレクトリの作成](https://docs.python.org/ja/3.13/library/tempfile.html)\n"
   ]
  },
  {
   "cell_type": "code",
   "execution_count": 39,
   "id": "1d80136e",
   "metadata": {},
   "outputs": [
    {
     "name": "stdout",
     "output_type": "stream",
     "text": [
      "15\n",
      "0\n",
      "b'test test test\\n'\n"
     ]
    }
   ],
   "source": [
    "# 一時ファイルを作成する\n",
    "import tempfile\n",
    "\n",
    "with tempfile.TemporaryFile() as tmpf:\n",
    "    print(tmpf.write(b\"test test test\\n\"))\n",
    "    print(tmpf.seek(0))\n",
    "    print(tmpf.read())"
   ]
  },
  {
   "cell_type": "code",
   "execution_count": 40,
   "id": "131757e0",
   "metadata": {},
   "outputs": [
    {
     "name": "stdout",
     "output_type": "stream",
     "text": [
      "15\n",
      "0\n",
      "b'Hello tempfile\\n'\n"
     ]
    }
   ],
   "source": [
    "tmpf = tempfile.TemporaryFile()\n",
    "print(tmpf.write(b\"Hello tempfile\\n\"))\n",
    "print(tmpf.seek(0))\n",
    "print(tmpf.read())\n",
    "tmpf.close()"
   ]
  },
  {
   "cell_type": "code",
   "execution_count": 42,
   "id": "337de38c",
   "metadata": {},
   "outputs": [
    {
     "name": "stdout",
     "output_type": "stream",
     "text": [
      "/var/folders/8f/5bctm_kd3qg_4dv_z9xc0lch0000gn/T/tmpvtdqtl0a\n",
      "True\n",
      "False\n"
     ]
    }
   ],
   "source": [
    "# 一時ファイルは名前を持ったファイルとして作成される保証はないため、ファイル名が必要な場合は以下を使用する(ファイルを削除したくなければdelete=Falseにする)\n",
    "tmpf = tempfile.NamedTemporaryFile()\n",
    "print(tmpf.name)\n",
    "p = Path(tmpf.name)\n",
    "print(p.exists())\n",
    "tmpf.close()\n",
    "print(p.exists())"
   ]
  },
  {
   "cell_type": "code",
   "execution_count": 43,
   "id": "e6aa3e47",
   "metadata": {},
   "outputs": [
    {
     "name": "stdout",
     "output_type": "stream",
     "text": [
      "/var/folders/8f/5bctm_kd3qg_4dv_z9xc0lch0000gn/T/tmp9_9uqu07\n",
      "True\n",
      "True\n"
     ]
    }
   ],
   "source": [
    "# 一時ディレクトリを作成する\n",
    "with tempfile.TemporaryDirectory() as tmpd:\n",
    "    print(tmpd)\n",
    "    p = Path(tmpd)\n",
    "    print(p.exists())\n",
    "    p2 = p / \"hoge.txt\"\n",
    "    p2.touch()\n",
    "    print(p2.exists())"
   ]
  },
  {
   "cell_type": "code",
   "execution_count": 44,
   "id": "e0571ba9",
   "metadata": {},
   "outputs": [
    {
     "data": {
      "text/plain": [
       "False"
      ]
     },
     "execution_count": 44,
     "metadata": {},
     "output_type": "execute_result"
    }
   ],
   "source": [
    "p.exists()"
   ]
  },
  {
   "cell_type": "code",
   "execution_count": 45,
   "id": "d1c587f7",
   "metadata": {},
   "outputs": [
    {
     "data": {
      "text/plain": [
       "False"
      ]
     },
     "execution_count": 45,
     "metadata": {},
     "output_type": "execute_result"
    }
   ],
   "source": [
    "p2.exists()"
   ]
  },
  {
   "cell_type": "code",
   "execution_count": 50,
   "id": "2152ba0b",
   "metadata": {},
   "outputs": [
    {
     "name": "stdout",
     "output_type": "stream",
     "text": [
      "/var/folders/8f/5bctm_kd3qg_4dv_z9xc0lch0000gn/T/tmpubf77j84\n",
      "True\n",
      "False\n"
     ]
    }
   ],
   "source": [
    "# コンテキストマネージャを使用せず、明示的にディレクトリを削除したい場合は、cleanup()を呼び出す\n",
    "tmpdir = tempfile.TemporaryDirectory()\n",
    "print(tmpdir.name)\n",
    "p = Path(tmpdir.name)\n",
    "print(p.exists())\n",
    "tmpdir.cleanup()\n",
    "print(p.exists())"
   ]
  },
  {
   "cell_type": "markdown",
   "id": "8dc7aaea",
   "metadata": {},
   "source": [
    "### 高レベルなファイル操作を行う - shutil\n",
    "\n",
    "- [shutil --- 高水準のファイル操作](https://docs.python.org/ja/3.13/library/shutil.html)\n"
   ]
  },
  {
   "cell_type": "code",
   "execution_count": null,
   "id": "cf0f2f7a",
   "metadata": {},
   "outputs": [
    {
     "data": {
      "text/plain": [
       "'logs/helloworld2.txt'"
      ]
     },
     "execution_count": 53,
     "metadata": {},
     "output_type": "execute_result"
    }
   ],
   "source": [
    "import shutil\n",
    "\n",
    "# ファイルのデータのみをコピーする(dstにディレクトリは指定できない)\n",
    "shutil.copyfile(\"logs/helloworld.txt\", \"logs/helloworld2.txt\")"
   ]
  },
  {
   "cell_type": "code",
   "execution_count": 54,
   "id": "4f5eb1ef",
   "metadata": {},
   "outputs": [
    {
     "data": {
      "text/plain": [
       "'logs/helloworld3.txt'"
      ]
     },
     "execution_count": 54,
     "metadata": {},
     "output_type": "execute_result"
    }
   ],
   "source": [
    "# 　ファイルのコピーとパーミッションも含めてコピーする\n",
    "shutil.copy(\"logs/helloworld.txt\", \"logs/helloworld3.txt\")"
   ]
  },
  {
   "cell_type": "code",
   "execution_count": 55,
   "id": "d4f57cb9",
   "metadata": {},
   "outputs": [
    {
     "data": {
      "text/plain": [
       "'logs/helloworld4.txt'"
      ]
     },
     "execution_count": 55,
     "metadata": {},
     "output_type": "execute_result"
    }
   ],
   "source": [
    "# copyの機能に加え全てのメタデータを含みコピーする\n",
    "shutil.copy2(\"logs/helloworld.txt\", \"logs/helloworld4.txt\")\n",
    "\n",
    "# パーミッションをコピーする\n",
    "# shutil.copymode(\"logs/helloworld.txt\", \"logs/helloworldX.txt\")\n",
    "\n",
    "# パーミッション、最終アクセス/最終変更時間、その他のファイル情報をコピーする\n",
    "# shutil.copystat(\"logs/helloworld.txt\", \"logs/helloworldX.txt\")"
   ]
  },
  {
   "cell_type": "code",
   "execution_count": 58,
   "id": "37448b6b",
   "metadata": {},
   "outputs": [
    {
     "name": "stdout",
     "output_type": "stream",
     "text": [
      "total 0\n",
      "drwxr-xr-x@  6 akagikouzanh  staff  192 May 10 02:34 \u001b[34m.\u001b[m\u001b[m/\n",
      "drwxr-xr-x@ 20 akagikouzanh  staff  640 May 10 01:11 \u001b[34m..\u001b[m\u001b[m/\n",
      "-rw-r--r--@  1 akagikouzanh  staff    0 May 10 02:18 helloworld.txt\n",
      "-rw-r--r--@  1 akagikouzanh  staff    0 May 10 02:29 helloworld2.txt\n",
      "-rw-r--r--@  1 akagikouzanh  staff    0 May 10 02:30 helloworld3.txt\n",
      "-rw-r--r--@  1 akagikouzanh  staff    0 May 10 02:18 helloworld4.txt\n"
     ]
    }
   ],
   "source": [
    "ls -la logs/"
   ]
  },
  {
   "cell_type": "code",
   "execution_count": 59,
   "id": "cdb71fbb",
   "metadata": {},
   "outputs": [],
   "source": [
    "# 事前準備\n",
    "p = Path(\"logs2\")\n",
    "p.mkdir()"
   ]
  },
  {
   "cell_type": "code",
   "execution_count": 64,
   "id": "52d650a0",
   "metadata": {},
   "outputs": [
    {
     "data": {
      "text/plain": [
       "PosixPath('logs/hello.md')"
      ]
     },
     "execution_count": 64,
     "metadata": {},
     "output_type": "execute_result"
    }
   ],
   "source": [
    "# 事前準備２\n",
    "p2 = Path(\"logs/helloworld.txt\")\n",
    "p2.rename(\"logs/hello.md\")"
   ]
  },
  {
   "cell_type": "code",
   "execution_count": 65,
   "id": "072cc24a",
   "metadata": {},
   "outputs": [
    {
     "data": {
      "text/plain": [
       "PosixPath('logs/world.py')"
      ]
     },
     "execution_count": 65,
     "metadata": {},
     "output_type": "execute_result"
    }
   ],
   "source": [
    "# 事前準備3\n",
    "p3 = Path(\"logs/helloworld3.txt\")\n",
    "p3.rename(\"logs/world.py\")"
   ]
  },
  {
   "cell_type": "code",
   "execution_count": 67,
   "id": "dbdedc5f",
   "metadata": {},
   "outputs": [
    {
     "name": "stdout",
     "output_type": "stream",
     "text": [
      "<function ignore_patterns.<locals>._ignore_patterns at 0x10f7cc040>\n"
     ]
    },
    {
     "data": {
      "text/plain": [
       "'./logs3'"
      ]
     },
     "execution_count": 67,
     "metadata": {},
     "output_type": "execute_result"
    }
   ],
   "source": [
    "ignore = shutil.ignore_patterns(\"*.txt\", \"*.py\")\n",
    "print(ignore)\n",
    "shutil.copytree(\"./logs\", \"./logs3\", ignore=ignore)"
   ]
  },
  {
   "cell_type": "code",
   "execution_count": 68,
   "id": "781533a9",
   "metadata": {},
   "outputs": [
    {
     "name": "stdout",
     "output_type": "stream",
     "text": [
      "hello.md         helloworld2.txt  helloworld4.txt  world.py\n"
     ]
    }
   ],
   "source": [
    "ls logs"
   ]
  },
  {
   "cell_type": "code",
   "execution_count": 69,
   "id": "20833c26",
   "metadata": {},
   "outputs": [
    {
     "name": "stdout",
     "output_type": "stream",
     "text": [
      "hello.md\n"
     ]
    }
   ],
   "source": [
    "ls logs3"
   ]
  },
  {
   "cell_type": "code",
   "execution_count": null,
   "id": "53ad24f9",
   "metadata": {},
   "outputs": [],
   "source": [
    "# パスで指定したディレクトリ以下を全て削除する\n",
    "# shutil.rmtree(path, ignore=xxxx)\n",
    "\n",
    "# src -> distへ再帰的に移動させる, copy時の関数を指定できる\n",
    "# shutil.move(src, dist, copy_function=shutil.copy)"
   ]
  },
  {
   "cell_type": "code",
   "execution_count": 74,
   "id": "8c9f3002",
   "metadata": {},
   "outputs": [
    {
     "data": {
      "text/plain": [
       "PosixPath('example.md')"
      ]
     },
     "execution_count": 74,
     "metadata": {},
     "output_type": "execute_result"
    }
   ],
   "source": [
    "p = Path(\"example.txt\")\n",
    "p2 = Path(\"example.md\")\n",
    "p\n",
    "p2"
   ]
  },
  {
   "cell_type": "code",
   "execution_count": 75,
   "id": "f17ee3ba",
   "metadata": {},
   "outputs": [],
   "source": [
    "p.touch()\n",
    "p2.touch()"
   ]
  },
  {
   "cell_type": "code",
   "execution_count": 78,
   "id": "654b4817",
   "metadata": {},
   "outputs": [
    {
     "data": {
      "text/plain": [
       "'./backup'"
      ]
     },
     "execution_count": 78,
     "metadata": {},
     "output_type": "execute_result"
    }
   ],
   "source": [
    "ignore = shutil.ignore_patterns(\"*.txt\", \"*.ipynb\", \"*logs*\")\n",
    "shutil.copytree(\"./\", \"./backup\", ignore=ignore)"
   ]
  },
  {
   "cell_type": "code",
   "execution_count": 88,
   "id": "7ee1da8c",
   "metadata": {},
   "outputs": [
    {
     "name": "stdout",
     "output_type": "stream",
     "text": [
      "./src ['helloworld2.txt', 'helloworld4.txt', 'hello.md']\n"
     ]
    },
    {
     "data": {
      "text/plain": [
       "'./archive'"
      ]
     },
     "execution_count": 88,
     "metadata": {},
     "output_type": "execute_result"
    }
   ],
   "source": [
    "def ignorefiles(path, names):\n",
    "    print(path, names)\n",
    "    # return [f for f in names if f.endswith((\".py\", \".md\"))]\n",
    "    return [f for f in names if Path(f).suffix in [\".py\", \".md\"]]\n",
    "\n",
    "\n",
    "shutil.copytree(\"./src\", \"./archive\", ignore=ignorefiles)"
   ]
  },
  {
   "cell_type": "markdown",
   "id": "de03641f",
   "metadata": {},
   "source": [
    "### まとめ\n",
    "\n",
    "| 目的                                   | 使用モジュール   | 主な API                | フィルタ手法                         | 備考                          |\n",
    "| -------------------------------------- | ---------------- | ----------------------- | ------------------------------------ | ----------------------------- |\n",
    "| ディレクトリ全体をコピー（全ファイル） | shutil           | `copytree()`            | なし                                 | 最も基本的なコピー            |\n",
    "| `.txt` 以外を除外してコピー            | shutil           | `copytree()` + `ignore` | 自作関数（`not f.endswith('.txt')`） | ignore 関数でホワイトリスト化 |\n",
    "| `.py` と `.md` だけコピー              | shutil           | `copytree()` + `ignore` | `Path(f).suffix in ['.py', '.md']`   | 任意拡張子リストで制御        |\n",
    "| 任意のファイルのみを個別にコピー       | pathlib + shutil | `glob()` + `copy()`     | `Path.glob()`                        | 明示的な選択に最適            |\n",
    "| 全 `.txt` を構造維持せず 1 箇所に集約  | pathlib + shutil | `rglob()` + `copy()`    | `**/*.txt`                           | flatten コピー用              |\n",
    "\n",
    "### コピー系 まとめ\n",
    "\n",
    "| 関数名                      | 説明                                                                           |\n",
    "| --------------------------- | ------------------------------------------------------------------------------ |\n",
    "| `shutil.copyfile(src, dst)` | ファイルの**内容のみ**をコピー。メタデータは含まれない                         |\n",
    "| `shutil.copy(src, dst)`     | ファイルの**内容＋パーミッション**をコピー（`copymode()` を内部的に呼ぶ）      |\n",
    "| `shutil.copy2(src, dst)`    | `copy()` に加えて、**最終アクセス時刻や更新時刻など全メタデータを保持**        |\n",
    "| `shutil.copymode(src, dst)` | **パーミッションだけ**を `src` から `dst` にコピー                             |\n",
    "| `shutil.copystat(src, dst)` | パーミッション＋**最終アクセス時刻・更新時刻など**をコピー（`copy2()` に近い） |\n"
   ]
  },
  {
   "cell_type": "code",
   "execution_count": null,
   "id": "f5d42e11",
   "metadata": {},
   "outputs": [],
   "source": []
  }
 ],
 "metadata": {
  "kernelspec": {
   "display_name": "Python (snippets-hub)",
   "language": "python",
   "name": "python-snippets-hub"
  },
  "language_info": {
   "codemirror_mode": {
    "name": "ipython",
    "version": 3
   },
   "file_extension": ".py",
   "mimetype": "text/x-python",
   "name": "python",
   "nbconvert_exporter": "python",
   "pygments_lexer": "ipython3",
   "version": "3.13.0"
  }
 },
 "nbformat": 4,
 "nbformat_minor": 5
}
