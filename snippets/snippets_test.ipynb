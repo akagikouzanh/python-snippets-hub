{
 "cells": [
  {
   "cell_type": "markdown",
   "id": "63f1e1e1",
   "metadata": {},
   "source": [
    "## テスト\n"
   ]
  },
  {
   "cell_type": "markdown",
   "id": "bd4986af",
   "metadata": {},
   "source": [
    "### 対話的な実行例をテストする - doctest\n",
    "\n",
    "- [doctest --- 対話型の Python の例をテストする](https://docs.python.org/ja/3.13/library/doctest.html)\n"
   ]
  },
  {
   "cell_type": "code",
   "execution_count": 13,
   "id": "1995467c",
   "metadata": {},
   "outputs": [],
   "source": [
    "\"\"\"\n",
    "与えられた引数について、a / bを行う関数です\n",
    "\n",
    ">>> div(5, 2)\n",
    "2.5\n",
    "\"\"\"\n",
    "\n",
    "\n",
    "def div(a: int, b: int) -> float:\n",
    "    \"\"\"\n",
    "    答えは少数で返ってきます\n",
    "\n",
    "    >>> [div(n, 2) for n in range(5)]\n",
    "    [0.0, 0.5, 1.0, 1.5, 2.0]\n",
    "\n",
    "    Args:\n",
    "        a (int): 割られる数\n",
    "        b (int): 割る数\n",
    "\n",
    "    Returns:\n",
    "        float: 商\n",
    "    \"\"\"\n",
    "    return a / b\n",
    "\n",
    "\n",
    "import doctest\n",
    "\n",
    "# tst = doctest.testmod()\n",
    "# repr(tst)"
   ]
  },
  {
   "cell_type": "code",
   "execution_count": 14,
   "id": "529787f7",
   "metadata": {},
   "outputs": [
    {
     "name": "stdout",
     "output_type": "stream",
     "text": [
      "Trying:\n",
      "    div(5, 2)\n",
      "Expecting:\n",
      "    2.5\n",
      "ok\n",
      "Trying:\n",
      "    div(1, 0)\n",
      "Expecting:\n",
      "    Traceback (most recent call last):\n",
      "        ...\n",
      "    ZeroDivisionError: division by zero\n",
      "ok\n",
      "\u001b[32m2 items passed all tests:\u001b[0m\n",
      " \u001b[32m  1 test in __main__\u001b[0m\n",
      " \u001b[32m  1 test in __main__.div\u001b[0m\n",
      "2 tests in 2 items.\n",
      "\u001b[32m2 passed\u001b[0m.\n",
      "\u001b[1;32mTest passed.\u001b[0m\n"
     ]
    },
    {
     "data": {
      "text/plain": [
       "TestResults(failed=0, attempted=2)"
      ]
     },
     "execution_count": 14,
     "metadata": {},
     "output_type": "execute_result"
    }
   ],
   "source": [
    "# エラーテスト\n",
    "\n",
    "\n",
    "def div(a: int, b: int) -> float:\n",
    "    \"\"\"\n",
    "    第二引数が0だった場合は、ゼロ除算エラーが発生します\n",
    "\n",
    "    >>> div(1, 0)\n",
    "    Traceback (most recent call last):\n",
    "        ...\n",
    "    ZeroDivisionError: division by zero\n",
    "\n",
    "    Args:\n",
    "        a (int): 割られる数\n",
    "        b (int): 割る数\n",
    "\n",
    "    Returns:\n",
    "        float: 商\n",
    "    \"\"\"\n",
    "    return a / b\n",
    "\n",
    "\n",
    "doctest.testmod(verbose=True)"
   ]
  },
  {
   "cell_type": "code",
   "execution_count": 24,
   "id": "d79b596e",
   "metadata": {},
   "outputs": [
    {
     "name": "stdout",
     "output_type": "stream",
     "text": [
      "**********************************************************************\n",
      "File \"./tmpfiles/test.txt\", line 5, in test.txt\n",
      "Failed example:\n",
      "    div(6, 2)\n",
      "Expected:\n",
      "    4.0\n",
      "Got:\n",
      "    3.0\n",
      "\u001b[31m**********************************************************************\u001b[0m\n",
      "1 item had failures:\n",
      "   1 of   1 in test.txt\n",
      "\u001b[1;31m***Test Failed*** 1 failure\u001b[0m.\n"
     ]
    },
    {
     "data": {
      "text/plain": [
       "TestResults(failed=1, attempted=1)"
      ]
     },
     "execution_count": 24,
     "metadata": {},
     "output_type": "execute_result"
    }
   ],
   "source": [
    "# Jupyterの場合はimportとかではないので、globsで対象のテスト関数を定義しておいたり、globals()で取得することができるようにしておく\n",
    "# また、module_relativeをFalseに設定することで、OSに依存したパスを設定することができる\n",
    "doctest.testfile(\"./tmpfiles/test.txt\", module_relative=False, globs={\"div\": div})"
   ]
  },
  {
   "cell_type": "markdown",
   "id": "0310877b",
   "metadata": {},
   "source": [
    "### ユニットテストフレームワークを利用する - unittest\n",
    "\n",
    "- テストの自動化\n",
    "- 初期設定と終了処理の共有\n",
    "- テストの分類\n",
    "- テスト実行と結果レポートの分離\n"
   ]
  },
  {
   "cell_type": "code",
   "execution_count": 25,
   "id": "3f074458",
   "metadata": {},
   "outputs": [],
   "source": [
    "def add(a: int, b: int) -> int:\n",
    "    \"\"\"2つの整数の合計を取得する\n",
    "    あえて失敗させるためのバグを仕込む\n",
    "    \"\"\"\n",
    "    if a == 1 and b == 3:\n",
    "        return 3\n",
    "    elif a == 3 and b == 3:\n",
    "        return 7\n",
    "    return a + b"
   ]
  },
  {
   "cell_type": "code",
   "execution_count": 31,
   "id": "3b7f4eba",
   "metadata": {},
   "outputs": [
    {
     "name": "stderr",
     "output_type": "stream",
     "text": [
      ".\n",
      "----------------------------------------------------------------------\n",
      "Ran 1 test in 0.001s\n",
      "\n",
      "OK\n"
     ]
    },
    {
     "data": {
      "text/plain": [
       "<unittest.main.TestProgram at 0x114301090>"
      ]
     },
     "execution_count": 31,
     "metadata": {},
     "output_type": "execute_result"
    }
   ],
   "source": [
    "import unittest\n",
    "\n",
    "\n",
    "class AddTest(unittest.TestCase):\n",
    "    def test_get_the_sum_of_two_integers(self):\n",
    "        \"\"\"\n",
    "        add関数のテストコード\n",
    "        \"\"\"\n",
    "        actual = add(1, 2)\n",
    "        expected = 3\n",
    "        self.assertEqual(actual, expected)\n",
    "\n",
    "\n",
    "unittest.main(argv=[\"first-arg-is-ignored\"], exit=False)"
   ]
  },
  {
   "cell_type": "code",
   "execution_count": 32,
   "id": "323b18ad",
   "metadata": {},
   "outputs": [
    {
     "name": "stderr",
     "output_type": "stream",
     "text": [
      "F\n",
      "======================================================================\n",
      "FAIL: test_get_the_sum_of_two_integers (__main__.AddTest.test_get_the_sum_of_two_integers)\n",
      "add関数のテストコード、失敗するケース\n",
      "----------------------------------------------------------------------\n",
      "Traceback (most recent call last):\n",
      "  File \"/var/folders/8f/5bctm_kd3qg_4dv_z9xc0lch0000gn/T/ipykernel_21187/2097895976.py\", line 8, in test_get_the_sum_of_two_integers\n",
      "    self.assertEqual(actual, expected)\n",
      "    ~~~~~~~~~~~~~~~~^^^^^^^^^^^^^^^^^^\n",
      "AssertionError: 3 != 4\n",
      "\n",
      "----------------------------------------------------------------------\n",
      "Ran 1 test in 0.001s\n",
      "\n",
      "FAILED (failures=1)\n"
     ]
    },
    {
     "data": {
      "text/plain": [
       "<unittest.main.TestProgram at 0x111f7a3f0>"
      ]
     },
     "execution_count": 32,
     "metadata": {},
     "output_type": "execute_result"
    }
   ],
   "source": [
    "class AddTest(unittest.TestCase):\n",
    "    def test_get_the_sum_of_two_integers(self):\n",
    "        \"\"\"\n",
    "        add関数のテストコード、失敗するケース\n",
    "        \"\"\"\n",
    "        actual = add(1, 3)\n",
    "        expected = 4\n",
    "        self.assertEqual(actual, expected)\n",
    "\n",
    "\n",
    "unittest.main(argv=[\"first-arg-is-ignored\"], exit=False)"
   ]
  },
  {
   "cell_type": "code",
   "execution_count": 33,
   "id": "3c1f0f84",
   "metadata": {},
   "outputs": [
    {
     "name": "stderr",
     "output_type": "stream",
     "text": [
      "FF\n",
      "======================================================================\n",
      "FAIL: test_get_the_sum_of_two_integers (__main__.AddTest.test_get_the_sum_of_two_integers) [1 + 3 = 4] (idx=1)\n",
      "----------------------------------------------------------------------\n",
      "Traceback (most recent call last):\n",
      "  File \"/var/folders/8f/5bctm_kd3qg_4dv_z9xc0lch0000gn/T/ipykernel_21187/1848870928.py\", line 12, in test_get_the_sum_of_two_integers\n",
      "    self.assertEqual(add(a, b), expected)\n",
      "    ~~~~~~~~~~~~~~~~^^^^^^^^^^^^^^^^^^^^^\n",
      "AssertionError: 3 != 4\n",
      "\n",
      "======================================================================\n",
      "FAIL: test_get_the_sum_of_two_integers (__main__.AddTest.test_get_the_sum_of_two_integers) [3 + 3 = 6] (idx=2)\n",
      "----------------------------------------------------------------------\n",
      "Traceback (most recent call last):\n",
      "  File \"/var/folders/8f/5bctm_kd3qg_4dv_z9xc0lch0000gn/T/ipykernel_21187/1848870928.py\", line 12, in test_get_the_sum_of_two_integers\n",
      "    self.assertEqual(add(a, b), expected)\n",
      "    ~~~~~~~~~~~~~~~~^^^^^^^^^^^^^^^^^^^^^\n",
      "AssertionError: 7 != 6\n",
      "\n",
      "----------------------------------------------------------------------\n",
      "Ran 1 test in 0.002s\n",
      "\n",
      "FAILED (failures=2)\n"
     ]
    },
    {
     "data": {
      "text/plain": [
       "<unittest.main.TestProgram at 0x111f79e00>"
      ]
     },
     "execution_count": 33,
     "metadata": {},
     "output_type": "execute_result"
    }
   ],
   "source": [
    "# 複数のアサーションを行いたい場合\n",
    "class AddTest(unittest.TestCase):\n",
    "    def test_get_the_sum_of_two_integers(self):\n",
    "        examples = [\n",
    "            [1, 2, 3],\n",
    "            [1, 3, 4],\n",
    "            [3, 3, 6],\n",
    "        ]\n",
    "        for idx, exsample in enumerate(examples):\n",
    "            a, b, expected = exsample\n",
    "            with self.subTest(f\"{a} + {b} = {expected}\", idx=idx):\n",
    "                self.assertEqual(add(a, b), expected)\n",
    "\n",
    "\n",
    "unittest.main(argv=[\"first-arg-is-ignored\"], exit=False)"
   ]
  },
  {
   "cell_type": "markdown",
   "id": "ed0dfbad",
   "metadata": {},
   "source": [
    "#### テストを実行する前後処理\n"
   ]
  },
  {
   "cell_type": "code",
   "execution_count": 37,
   "id": "4662be0e",
   "metadata": {},
   "outputs": [
    {
     "name": "stderr",
     "output_type": "stream",
     "text": [
      "FF..\n",
      "======================================================================\n",
      "FAIL: test_get_the_sum_of_two_integers (__main__.AddTest.test_get_the_sum_of_two_integers) [1 + 3 = 4] (idx=1)\n",
      "----------------------------------------------------------------------\n",
      "Traceback (most recent call last):\n",
      "  File \"/var/folders/8f/5bctm_kd3qg_4dv_z9xc0lch0000gn/T/ipykernel_21187/1848870928.py\", line 12, in test_get_the_sum_of_two_integers\n",
      "    self.assertEqual(add(a, b), expected)\n",
      "    ~~~~~~~~~~~~~~~~^^^^^^^^^^^^^^^^^^^^^\n",
      "AssertionError: 3 != 4\n",
      "\n",
      "======================================================================\n",
      "FAIL: test_get_the_sum_of_two_integers (__main__.AddTest.test_get_the_sum_of_two_integers) [3 + 3 = 6] (idx=2)\n",
      "----------------------------------------------------------------------\n",
      "Traceback (most recent call last):\n",
      "  File \"/var/folders/8f/5bctm_kd3qg_4dv_z9xc0lch0000gn/T/ipykernel_21187/1848870928.py\", line 12, in test_get_the_sum_of_two_integers\n",
      "    self.assertEqual(add(a, b), expected)\n",
      "    ~~~~~~~~~~~~~~~~^^^^^^^^^^^^^^^^^^^^^\n",
      "AssertionError: 7 != 6\n",
      "\n",
      "----------------------------------------------------------------------\n",
      "Ran 3 tests in 0.002s\n",
      "\n",
      "FAILED (failures=2)\n"
     ]
    },
    {
     "name": "stdout",
     "output_type": "stream",
     "text": [
      "setUpClass実行\n",
      "setUp実行\n",
      "test_example1実行\n",
      "setUp実行\n",
      "test_example2実行\n"
     ]
    },
    {
     "data": {
      "text/plain": [
       "<unittest.main.TestProgram at 0x11448b050>"
      ]
     },
     "execution_count": 37,
     "metadata": {},
     "output_type": "execute_result"
    }
   ],
   "source": [
    "class SetUpAndSetUpClassTest(unittest.TestCase):\n",
    "    def setUp(self):\n",
    "        # テスト毎に呼び出されるメソッド\n",
    "        print(\"setUp実行\")\n",
    "\n",
    "    @classmethod\n",
    "    def setUpClass(cls):\n",
    "        # テストが実行される前に1度だけ実行されるクラスメソッド\n",
    "        print(\"setUpClass実行\")\n",
    "\n",
    "    def test_example1(self):\n",
    "        print(\"test_example1実行\")\n",
    "\n",
    "    def test_example2(self):\n",
    "        print(\"test_example2実行\")\n",
    "\n",
    "\n",
    "unittest.main(argv=[\"first-arg-is-ignored\"], exit=False)"
   ]
  },
  {
   "cell_type": "code",
   "execution_count": 39,
   "id": "c0a4b86a",
   "metadata": {},
   "outputs": [
    {
     "name": "stderr",
     "output_type": "stream",
     "text": [
      "FF....\n",
      "======================================================================\n",
      "FAIL: test_get_the_sum_of_two_integers (__main__.AddTest.test_get_the_sum_of_two_integers) [1 + 3 = 4] (idx=1)\n",
      "----------------------------------------------------------------------\n",
      "Traceback (most recent call last):\n",
      "  File \"/var/folders/8f/5bctm_kd3qg_4dv_z9xc0lch0000gn/T/ipykernel_21187/1848870928.py\", line 12, in test_get_the_sum_of_two_integers\n",
      "    self.assertEqual(add(a, b), expected)\n",
      "    ~~~~~~~~~~~~~~~~^^^^^^^^^^^^^^^^^^^^^\n",
      "AssertionError: 3 != 4\n",
      "\n",
      "======================================================================\n",
      "FAIL: test_get_the_sum_of_two_integers (__main__.AddTest.test_get_the_sum_of_two_integers) [3 + 3 = 6] (idx=2)\n",
      "----------------------------------------------------------------------\n",
      "Traceback (most recent call last):\n",
      "  File \"/var/folders/8f/5bctm_kd3qg_4dv_z9xc0lch0000gn/T/ipykernel_21187/1848870928.py\", line 12, in test_get_the_sum_of_two_integers\n",
      "    self.assertEqual(add(a, b), expected)\n",
      "    ~~~~~~~~~~~~~~~~^^^^^^^^^^^^^^^^^^^^^\n",
      "AssertionError: 7 != 6\n",
      "\n",
      "----------------------------------------------------------------------\n",
      "Ran 5 tests in 0.004s\n",
      "\n",
      "FAILED (failures=2)\n"
     ]
    },
    {
     "name": "stdout",
     "output_type": "stream",
     "text": [
      "setUpClass実行\n",
      "setUp実行\n",
      "test_example1実行\n",
      "setUp実行\n",
      "test_example2実行\n",
      "test_example1実行\n",
      "tearDown実行\n",
      "test_example2実行\n",
      "tearDown実行\n",
      "tearDownClass実行\n"
     ]
    },
    {
     "data": {
      "text/plain": [
       "<unittest.main.TestProgram at 0x114399250>"
      ]
     },
     "execution_count": 39,
     "metadata": {},
     "output_type": "execute_result"
    }
   ],
   "source": [
    "class TearDownAndTearDownClassTest(unittest.TestCase):\n",
    "    def tearDown(self):\n",
    "        # テスト完了毎に実行されるメソッド\n",
    "        print(\"tearDown実行\")\n",
    "\n",
    "    @classmethod\n",
    "    def tearDownClass(cls):\n",
    "        # テストの一番最後に1度のみ実行されるクラスメソッド\n",
    "        print(\"tearDownClass実行\")\n",
    "\n",
    "    def test_example1(self):\n",
    "        print(\"test_example1実行\")\n",
    "\n",
    "    def test_example2(self):\n",
    "        print(\"test_example2実行\")\n",
    "\n",
    "\n",
    "unittest.main(argv=[\"first-arg-is-ignored\"], exit=False)"
   ]
  },
  {
   "cell_type": "markdown",
   "id": "7aea399c",
   "metadata": {},
   "source": [
    "#### モックを利用してユニットテストを行う - unittest.mock\n"
   ]
  },
  {
   "cell_type": "code",
   "execution_count": 1,
   "id": "ffd2ee48",
   "metadata": {},
   "outputs": [],
   "source": [
    "class ShoppingSiteAPI:\n",
    "    \"\"\"架空のショッピングサイトのAPIを呼ぶクラス\"\"\"\n",
    "\n",
    "    def search_items(self, name: str) -> list[str]:\n",
    "        \"\"\"\n",
    "        該当する名前の商品を検索する\n",
    "        実際にはAPIの結果を返す必要があるが、架空のため固定値\n",
    "        \"\"\"\n",
    "        return [\"商品1\", \"商品2\", \"商品3\"]\n",
    "\n",
    "    def purchase(self, item_id: str):\n",
    "        \"\"\"\n",
    "        商品を購入する\n",
    "        実際には外部APIを呼ぶが、架空のため何も返さない\n",
    "        \"\"\"\n",
    "        pass"
   ]
  },
  {
   "cell_type": "code",
   "execution_count": 2,
   "id": "bdb50645",
   "metadata": {},
   "outputs": [
    {
     "name": "stdout",
     "output_type": "stream",
     "text": [
      "<function my_processing at 0x10583d260>\n"
     ]
    }
   ],
   "source": [
    "# 単体テストを行いたい処理\n",
    "def my_processing():\n",
    "    api = ShoppingSiteAPI()\n",
    "    return \",\".join(api.search_items(\"商品\")) + \"が見つかりました\"\n",
    "\n",
    "\n",
    "print(my_processing)"
   ]
  },
  {
   "cell_type": "markdown",
   "id": "3708e039",
   "metadata": {},
   "source": [
    "- my_processing で使用される API をモックオブジェクトとして置き換えテストする\n"
   ]
  },
  {
   "cell_type": "code",
   "execution_count": 42,
   "id": "0c890adb",
   "metadata": {},
   "outputs": [
    {
     "data": {
      "text/plain": [
       "<MagicMock id='4600801536'>"
      ]
     },
     "execution_count": 42,
     "metadata": {},
     "output_type": "execute_result"
    }
   ],
   "source": [
    "from unittest.mock import MagicMock\n",
    "\n",
    "api = ShoppingSiteAPI()\n",
    "api.search_items = MagicMock()\n",
    "\n",
    "api.search_items"
   ]
  },
  {
   "cell_type": "code",
   "execution_count": 43,
   "id": "64c00ed9",
   "metadata": {},
   "outputs": [
    {
     "data": {
      "text/plain": [
       "['モック商品1', 'モック商品2', 'モック商品3']"
      ]
     },
     "execution_count": 43,
     "metadata": {},
     "output_type": "execute_result"
    }
   ],
   "source": [
    "# 関数の戻り値を設定\n",
    "api.search_items.return_value = [\"モック商品1\", \"モック商品2\", \"モック商品3\"]\n",
    "\n",
    "api.search_items(\"商品\")"
   ]
  },
  {
   "cell_type": "code",
   "execution_count": 46,
   "id": "36e6b0af",
   "metadata": {},
   "outputs": [
    {
     "ename": "Exception",
     "evalue": "例外を設定する",
     "output_type": "error",
     "traceback": [
      "\u001b[31m---------------------------------------------------------------------------\u001b[39m",
      "\u001b[31mException\u001b[39m                                 Traceback (most recent call last)",
      "\u001b[36mCell\u001b[39m\u001b[36m \u001b[39m\u001b[32mIn[46]\u001b[39m\u001b[32m, line 4\u001b[39m\n\u001b[32m      1\u001b[39m \u001b[38;5;66;03m# 例外の設定\u001b[39;00m\n\u001b[32m      2\u001b[39m api.search_items.side_effect = \u001b[38;5;167;01mException\u001b[39;00m(\u001b[33m\"\u001b[39m\u001b[33m例外を設定する\u001b[39m\u001b[33m\"\u001b[39m)\n\u001b[32m----> \u001b[39m\u001b[32m4\u001b[39m \u001b[43mapi\u001b[49m\u001b[43m.\u001b[49m\u001b[43msearch_items\u001b[49m\u001b[43m(\u001b[49m\u001b[33;43m\"\u001b[39;49m\u001b[33;43m商品\u001b[39;49m\u001b[33;43m\"\u001b[39;49m\u001b[43m)\u001b[49m\n",
      "\u001b[36mFile \u001b[39m\u001b[32m~/.pyenv/versions/3.13.0/lib/python3.13/unittest/mock.py:1167\u001b[39m, in \u001b[36mCallableMixin.__call__\u001b[39m\u001b[34m(self, *args, **kwargs)\u001b[39m\n\u001b[32m   1165\u001b[39m \u001b[38;5;28mself\u001b[39m._mock_check_sig(*args, **kwargs)\n\u001b[32m   1166\u001b[39m \u001b[38;5;28mself\u001b[39m._increment_mock_call(*args, **kwargs)\n\u001b[32m-> \u001b[39m\u001b[32m1167\u001b[39m \u001b[38;5;28;01mreturn\u001b[39;00m \u001b[38;5;28;43mself\u001b[39;49m\u001b[43m.\u001b[49m\u001b[43m_mock_call\u001b[49m\u001b[43m(\u001b[49m\u001b[43m*\u001b[49m\u001b[43margs\u001b[49m\u001b[43m,\u001b[49m\u001b[43m \u001b[49m\u001b[43m*\u001b[49m\u001b[43m*\u001b[49m\u001b[43mkwargs\u001b[49m\u001b[43m)\u001b[49m\n",
      "\u001b[36mFile \u001b[39m\u001b[32m~/.pyenv/versions/3.13.0/lib/python3.13/unittest/mock.py:1171\u001b[39m, in \u001b[36mCallableMixin._mock_call\u001b[39m\u001b[34m(self, *args, **kwargs)\u001b[39m\n\u001b[32m   1170\u001b[39m \u001b[38;5;28;01mdef\u001b[39;00m\u001b[38;5;250m \u001b[39m\u001b[34m_mock_call\u001b[39m(\u001b[38;5;28mself\u001b[39m, /, *args, **kwargs):\n\u001b[32m-> \u001b[39m\u001b[32m1171\u001b[39m     \u001b[38;5;28;01mreturn\u001b[39;00m \u001b[38;5;28;43mself\u001b[39;49m\u001b[43m.\u001b[49m\u001b[43m_execute_mock_call\u001b[49m\u001b[43m(\u001b[49m\u001b[43m*\u001b[49m\u001b[43margs\u001b[49m\u001b[43m,\u001b[49m\u001b[43m \u001b[49m\u001b[43m*\u001b[49m\u001b[43m*\u001b[49m\u001b[43mkwargs\u001b[49m\u001b[43m)\u001b[49m\n",
      "\u001b[36mFile \u001b[39m\u001b[32m~/.pyenv/versions/3.13.0/lib/python3.13/unittest/mock.py:1226\u001b[39m, in \u001b[36mCallableMixin._execute_mock_call\u001b[39m\u001b[34m(self, *args, **kwargs)\u001b[39m\n\u001b[32m   1224\u001b[39m \u001b[38;5;28;01mif\u001b[39;00m effect \u001b[38;5;129;01mis\u001b[39;00m \u001b[38;5;129;01mnot\u001b[39;00m \u001b[38;5;28;01mNone\u001b[39;00m:\n\u001b[32m   1225\u001b[39m     \u001b[38;5;28;01mif\u001b[39;00m _is_exception(effect):\n\u001b[32m-> \u001b[39m\u001b[32m1226\u001b[39m         \u001b[38;5;28;01mraise\u001b[39;00m effect\n\u001b[32m   1227\u001b[39m     \u001b[38;5;28;01melif\u001b[39;00m \u001b[38;5;129;01mnot\u001b[39;00m _callable(effect):\n\u001b[32m   1228\u001b[39m         result = \u001b[38;5;28mnext\u001b[39m(effect)\n",
      "\u001b[31mException\u001b[39m: 例外を設定する"
     ]
    }
   ],
   "source": [
    "# 例外の設定\n",
    "api.search_items.side_effect = Exception(\"例外を設定する\")\n",
    "\n",
    "api.search_items(\"商品\")"
   ]
  },
  {
   "cell_type": "markdown",
   "id": "55a86a91",
   "metadata": {},
   "source": [
    "- Mock と MagicMock の違いについて\n",
    "  - MagicMock は Mock クラスのサブクラスとして定義されており、Mock クラスの持つ機能に加えて、Python のもつ特殊メソッドをサポートしている\n",
    "  - 特に理由がない場合は MagicMock を利用する\n"
   ]
  },
  {
   "cell_type": "code",
   "execution_count": 48,
   "id": "7277ab31",
   "metadata": {},
   "outputs": [
    {
     "data": {
      "text/plain": [
       "1"
      ]
     },
     "execution_count": 48,
     "metadata": {},
     "output_type": "execute_result"
    }
   ],
   "source": [
    "from unittest.mock import Mock, MagicMock\n",
    "\n",
    "magic_mock = MagicMock()\n",
    "int(magic_mock)"
   ]
  },
  {
   "cell_type": "code",
   "execution_count": 49,
   "id": "5c093c0f",
   "metadata": {},
   "outputs": [
    {
     "ename": "TypeError",
     "evalue": "int() argument must be a string, a bytes-like object or a real number, not 'Mock'",
     "output_type": "error",
     "traceback": [
      "\u001b[31m---------------------------------------------------------------------------\u001b[39m",
      "\u001b[31mTypeError\u001b[39m                                 Traceback (most recent call last)",
      "\u001b[36mCell\u001b[39m\u001b[36m \u001b[39m\u001b[32mIn[49]\u001b[39m\u001b[32m, line 2\u001b[39m\n\u001b[32m      1\u001b[39m mock = Mock()\n\u001b[32m----> \u001b[39m\u001b[32m2\u001b[39m \u001b[38;5;28;43mint\u001b[39;49m\u001b[43m(\u001b[49m\u001b[43mmock\u001b[49m\u001b[43m)\u001b[49m\n",
      "\u001b[31mTypeError\u001b[39m: int() argument must be a string, a bytes-like object or a real number, not 'Mock'"
     ]
    }
   ],
   "source": [
    "mock = Mock()\n",
    "int(mock)"
   ]
  },
  {
   "cell_type": "code",
   "execution_count": 51,
   "id": "88172777",
   "metadata": {},
   "outputs": [
    {
     "data": {
      "text/plain": [
       "1"
      ]
     },
     "execution_count": 51,
     "metadata": {},
     "output_type": "execute_result"
    }
   ],
   "source": [
    "# intを利用したい場合は、特殊メソッド__int__を定義する必要がある\n",
    "mock.__int__ = Mock(return_value=1)\n",
    "int(mock)"
   ]
  },
  {
   "cell_type": "markdown",
   "id": "3e456fea",
   "metadata": {},
   "source": [
    "#### クラスやメソッドをモックで置き換える - patch()\n"
   ]
  },
  {
   "cell_type": "code",
   "execution_count": 7,
   "id": "82127de7",
   "metadata": {},
   "outputs": [
    {
     "name": "stderr",
     "output_type": "stream",
     "text": [
      ".\n",
      "----------------------------------------------------------------------\n",
      "Ran 1 test in 0.001s\n",
      "\n",
      "OK\n"
     ]
    },
    {
     "data": {
      "text/plain": [
       "<unittest.main.TestProgram at 0x11216a2c0>"
      ]
     },
     "execution_count": 7,
     "metadata": {},
     "output_type": "execute_result"
    }
   ],
   "source": [
    "import unittest\n",
    "from unittest.mock import patch\n",
    "\n",
    "\n",
    "class ExampleTest(unittest.TestCase):\n",
    "    # トップレベルのコードと同じ場所にモック対象がある場合は、明示的にそれを指定しないと参照してくれない\n",
    "    @patch(\"__main__.ShoppingSiteAPI\")\n",
    "    def test_my_processing(self, APIMock):\n",
    "        api = APIMock()\n",
    "        api.search_items.return_value = [\"モック商品1\", \"モック商品2\", \"モック商品3\"]\n",
    "\n",
    "        self.assertEqual(\n",
    "            my_processing(), \"モック商品1,モック商品2,モック商品3が見つかりました\"\n",
    "        )\n",
    "\n",
    "\n",
    "unittest.main(argv=[\"first-arg-is-ignored\"], exit=False)"
   ]
  },
  {
   "cell_type": "code",
   "execution_count": 8,
   "id": "4ffefb05",
   "metadata": {},
   "outputs": [
    {
     "name": "stderr",
     "output_type": "stream",
     "text": [
      "..\n",
      "----------------------------------------------------------------------\n",
      "Ran 2 tests in 0.002s\n",
      "\n",
      "OK\n"
     ]
    },
    {
     "data": {
      "text/plain": [
       "<unittest.main.TestProgram at 0x11232a8d0>"
      ]
     },
     "execution_count": 8,
     "metadata": {},
     "output_type": "execute_result"
    }
   ],
   "source": [
    "class ExampleTest2(unittest.TestCase):\n",
    "    def test_my_processing(self):\n",
    "        with patch(\"__main__.ShoppingSiteAPI\") as APIMock:\n",
    "            api = APIMock()\n",
    "            api.search_items.return_value = [\n",
    "                \"モック商品1\",\n",
    "                \"モック商品2\",\n",
    "                \"モック商品3\",\n",
    "            ]\n",
    "\n",
    "            # コンテキストマネージャーを使用したアサート\n",
    "            self.assertEqual(\n",
    "                my_processing(), \"モック商品1,モック商品2,モック商品3が見つかりました\"\n",
    "            )\n",
    "\n",
    "        # パッチ適用されていない\n",
    "        self.assertEqual(my_processing(), \"商品1,商品2,商品3が見つかりました\")\n",
    "\n",
    "\n",
    "unittest.main(argv=[\"first-arg-is-ignored\"], exit=False)"
   ]
  },
  {
   "cell_type": "markdown",
   "id": "23acc31c",
   "metadata": {},
   "source": [
    "#### モックオブジェクトが呼び出されたか確認する\n"
   ]
  },
  {
   "cell_type": "code",
   "execution_count": 5,
   "id": "6aebc6ec",
   "metadata": {},
   "outputs": [
    {
     "name": "stderr",
     "output_type": "stream",
     "text": [
      "F\n",
      "======================================================================\n",
      "FAIL: test_example (__main__.ExampleTest3.test_example)\n",
      "----------------------------------------------------------------------\n",
      "Traceback (most recent call last):\n",
      "  File \"/Users/akagikouzanh/.pyenv/versions/3.13.0/lib/python3.13/unittest/mock.py\", line 1423, in patched\n",
      "    return func(*newargs, **newkeywargs)\n",
      "  File \"/var/folders/8f/5bctm_kd3qg_4dv_z9xc0lch0000gn/T/ipykernel_81075/2779125567.py\", line 19, in test_example\n",
      "    purchace_mock.assert_called()\n",
      "    ~~~~~~~~~~~~~~~~~~~~~~~~~~~^^\n",
      "  File \"/Users/akagikouzanh/.pyenv/versions/3.13.0/lib/python3.13/unittest/mock.py\", line 946, in assert_called\n",
      "    raise AssertionError(msg)\n",
      "AssertionError: Expected 'purchase' to have been called.\n",
      "\n",
      "----------------------------------------------------------------------\n",
      "Ran 1 test in 0.002s\n",
      "\n",
      "FAILED (failures=1)\n"
     ]
    },
    {
     "data": {
      "text/plain": [
       "<unittest.main.TestProgram at 0x1058b7390>"
      ]
     },
     "execution_count": 5,
     "metadata": {},
     "output_type": "execute_result"
    }
   ],
   "source": [
    "import unittest\n",
    "from unittest.mock import patch\n",
    "\n",
    "\n",
    "class ExampleTest3(unittest.TestCase):\n",
    "    @patch(\"__main__.ShoppingSiteAPI.search_items\")\n",
    "    @patch(\"__main__.ShoppingSiteAPI.purchase\")\n",
    "    def test_example(self, purchace_mock, search_items_mock):\n",
    "        search_items_mock.return_value = [\n",
    "            \"モック商品1\",\n",
    "            \"モック商品2\",\n",
    "            \"モック商品3\",\n",
    "        ]\n",
    "\n",
    "        actual = my_processing()\n",
    "        expected = \"モック商品1,モック商品2,モック商品3が見つかりました\"\n",
    "        self.assertEqual(actual, expected)\n",
    "        search_items_mock.assert_called()\n",
    "        purchace_mock.assert_called()\n",
    "\n",
    "\n",
    "unittest.main(argv=[\"first-arg-is-ignored\"], exit=False)"
   ]
  },
  {
   "cell_type": "markdown",
   "id": "e5027a64",
   "metadata": {},
   "source": [
    "## Tips\n"
   ]
  },
  {
   "cell_type": "code",
   "execution_count": 10,
   "id": "50002095",
   "metadata": {},
   "outputs": [
    {
     "name": "stdout",
     "output_type": "stream",
     "text": [
      "Requirement already satisfied: freezegun in /Users/akagikouzanh/dev/backend/python-snippets-hub/.env/lib/python3.13/site-packages (1.5.1)\n",
      "Requirement already satisfied: python-dateutil>=2.7 in /Users/akagikouzanh/dev/backend/python-snippets-hub/.env/lib/python3.13/site-packages (from freezegun) (2.9.0.post0)\n",
      "Requirement already satisfied: six>=1.5 in /Users/akagikouzanh/dev/backend/python-snippets-hub/.env/lib/python3.13/site-packages (from python-dateutil>=2.7->freezegun) (1.17.0)\n",
      "\n",
      "\u001b[1m[\u001b[0m\u001b[34;49mnotice\u001b[0m\u001b[1;39;49m]\u001b[0m\u001b[39;49m A new release of pip is available: \u001b[0m\u001b[31;49m25.0.1\u001b[0m\u001b[39;49m -> \u001b[0m\u001b[32;49m25.1.1\u001b[0m\n",
      "\u001b[1m[\u001b[0m\u001b[34;49mnotice\u001b[0m\u001b[1;39;49m]\u001b[0m\u001b[39;49m To update, run: \u001b[0m\u001b[32;49mpip install --upgrade pip\u001b[0m\n",
      "Note: you may need to restart the kernel to use updated packages.\n"
     ]
    }
   ],
   "source": [
    "%pip install freezegun"
   ]
  },
  {
   "cell_type": "code",
   "execution_count": 1,
   "id": "7c267602",
   "metadata": {},
   "outputs": [
    {
     "name": "stderr",
     "output_type": "stream",
     "text": [
      "..\n",
      "----------------------------------------------------------------------\n",
      "Ran 2 tests in 0.044s\n",
      "\n",
      "OK\n"
     ]
    },
    {
     "data": {
      "text/plain": [
       "<unittest.main.TestProgram at 0x10379aa50>"
      ]
     },
     "execution_count": 1,
     "metadata": {},
     "output_type": "execute_result"
    }
   ],
   "source": [
    "# 日時取得するパターンのコードのテスト\n",
    "\n",
    "from datetime import datetime\n",
    "import unittest\n",
    "\n",
    "import freezegun\n",
    "\n",
    "\n",
    "class ExampleTest4(unittest.TestCase):\n",
    "    @freezegun.freeze_time(\"2021-01-01 00:00:00\")\n",
    "    def test_example(self):\n",
    "        self.assertEqual(datetime.utcnow(), datetime(2021, 1, 1, 0, 0, 0))\n",
    "\n",
    "    def test_example2(self):\n",
    "        with freezegun.freeze_time(\"2021-01-01 00:00:00\"):\n",
    "            self.assertEqual(datetime.utcnow(), datetime(2021, 1, 1, 0, 0, 0))\n",
    "\n",
    "\n",
    "unittest.main(argv=[\"first-arg-is-ignored\"], exit=False)"
   ]
  },
  {
   "cell_type": "markdown",
   "id": "e4a06467",
   "metadata": {},
   "source": []
  }
 ],
 "metadata": {
  "kernelspec": {
   "display_name": "Python (snippets-hub)",
   "language": "python",
   "name": "python-snippets-hub"
  },
  "language_info": {
   "codemirror_mode": {
    "name": "ipython",
    "version": 3
   },
   "file_extension": ".py",
   "mimetype": "text/x-python",
   "name": "python",
   "nbconvert_exporter": "python",
   "pygments_lexer": "ipython3",
   "version": "3.13.0"
  }
 },
 "nbformat": 4,
 "nbformat_minor": 5
}
