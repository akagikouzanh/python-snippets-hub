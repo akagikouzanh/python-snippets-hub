{
 "cells": [
  {
   "cell_type": "markdown",
   "id": "63f1e1e1",
   "metadata": {},
   "source": [
    "## 暗号関連\n"
   ]
  },
  {
   "cell_type": "markdown",
   "id": "c4285c12",
   "metadata": {},
   "source": [
    "### 安全な乱数を生成する\n",
    "\n",
    "- [secrets snippets](https://github.com/akagikouzanh/python-snippets-hub/blob/master/snippets/snippets_secrets.ipynb)\n"
   ]
  },
  {
   "cell_type": "code",
   "execution_count": 1,
   "id": "a9e82ffd",
   "metadata": {},
   "outputs": [
    {
     "name": "stdout",
     "output_type": "stream",
     "text": [
      "abcdefghijklmnopqrstuvwxyzABCDEFGHIJKLMNOPQRSTUVWXYZ0123456789\n",
      "3ivjDzOo\n"
     ]
    }
   ],
   "source": [
    "# パスワード乱数の生成\n",
    "import secrets\n",
    "import string\n",
    "\n",
    "alpha_num = string.ascii_letters + string.digits\n",
    "print(alpha_num)\n",
    "\n",
    "password = \"\".join(secrets.choice(alpha_num) for i in range(8))\n",
    "print(password)"
   ]
  },
  {
   "cell_type": "code",
   "execution_count": 4,
   "id": "e890b7e1",
   "metadata": {},
   "outputs": [
    {
     "name": "stdout",
     "output_type": "stream",
     "text": [
      "secrets.token_bytes()=b'@h\\xee\\x80N\\x8c\\x81\\x1b\\xfa\\x0b^VX\\x1e\\xce\\xd3`\\x18_\\xc3)N\\xc3gpjj\\xc1\"\\xba\\rt'\n",
      "secrets.token_bytes(8)=b'%\\x00\\xfa\\x9dt\\xd1]\\x94'\n",
      "secrets.token_hex()='23156d16fc33b5f8f0c52da3f296b7c691a3291be42c381ad10f8886c0ebb5dd'\n",
      "secrets.token_hex(8)='2c5d445fbd19b33d'\n",
      "secrets.token_urlsafe()='Znglx1V9s5GE9swmcigY8TUJgwQpf5SLbXOsi_5xuj0'\n",
      "secrets.token_urlsafe(8)='APQeyLH4TOE'\n"
     ]
    }
   ],
   "source": [
    "# トークンの生成\n",
    "print(f\"{secrets.token_bytes()=}\")  # バイト列を返す\n",
    "print(f\"{secrets.token_bytes(8)=}\")  # 8バイト列を返す\n",
    "print(f\"{secrets.token_hex()=}\")\n",
    "print(f\"{secrets.token_hex(8)=}\")  # 16進数文字列を返す\n",
    "print(f\"{secrets.token_urlsafe()=}\")\n",
    "print(f\"{secrets.token_urlsafe(8)=}\")  # Base64エンコードされた文字列を返す"
   ]
  },
  {
   "cell_type": "code",
   "execution_count": 5,
   "id": "edb4fa59",
   "metadata": {},
   "outputs": [
    {
     "name": "stdout",
     "output_type": "stream",
     "text": [
      "url='https://example.com/?reset=OyQuw4Tks9UeZmCGhcw1q-5QBAsaPgGYxhEA6nAA8_Y'\n",
      "qs={'reset': ['OyQuw4Tks9UeZmCGhcw1q-5QBAsaPgGYxhEA6nAA8_Y']}\n",
      "True\n"
     ]
    }
   ],
   "source": [
    "from urllib import parse\n",
    "\n",
    "reset_token = secrets.token_urlsafe()\n",
    "url = \"https://example.com/?reset=\" + reset_token\n",
    "print(f\"{url=}\")\n",
    "\n",
    "url_parse = parse.urlparse(url)\n",
    "qs = parse.parse_qs(url_parse.query)\n",
    "print(f\"{qs=}\")\n",
    "\n",
    "print(secrets.compare_digest(reset_token, qs[\"reset\"][0]))"
   ]
  },
  {
   "cell_type": "markdown",
   "id": "cd1f335b",
   "metadata": {},
   "source": [
    "### ハッシュ値を生成する - hashlib\n"
   ]
  },
  {
   "cell_type": "code",
   "execution_count": 6,
   "id": "68a6c30f",
   "metadata": {},
   "outputs": [
    {
     "data": {
      "text/plain": [
       "{'blake2b',\n",
       " 'blake2s',\n",
       " 'md5',\n",
       " 'md5-sha1',\n",
       " 'ripemd160',\n",
       " 'sha1',\n",
       " 'sha224',\n",
       " 'sha256',\n",
       " 'sha384',\n",
       " 'sha3_224',\n",
       " 'sha3_256',\n",
       " 'sha3_384',\n",
       " 'sha3_512',\n",
       " 'sha512',\n",
       " 'sha512_224',\n",
       " 'sha512_256',\n",
       " 'shake_128',\n",
       " 'shake_256',\n",
       " 'sm3'}"
      ]
     },
     "execution_count": 6,
     "metadata": {},
     "output_type": "execute_result"
    }
   ],
   "source": [
    "import hashlib\n",
    "\n",
    "hashlib.algorithms_available"
   ]
  },
  {
   "cell_type": "code",
   "execution_count": 8,
   "id": "8c1c9936",
   "metadata": {},
   "outputs": [
    {
     "name": "stdout",
     "output_type": "stream",
     "text": [
      "hash_sha256.hexdigest()='feb7058093ca35f79765685fffb806583683718714502f2faafbcc188c1885b3'\n",
      "hashlib.sha256(b\"Python library book 2\").hexdigest()='feb7058093ca35f79765685fffb806583683718714502f2faafbcc188c1885b3'\n"
     ]
    }
   ],
   "source": [
    "import hashlib\n",
    "\n",
    "hash_sha256 = hashlib.sha256()\n",
    "hash_sha256.update(b\"Python library book 2\")\n",
    "\n",
    "# 出力は同一\n",
    "print(f\"{hash_sha256.hexdigest()=}\")\n",
    "print(f\"{hashlib.sha256(b\"Python library book 2\").hexdigest()=}\")"
   ]
  },
  {
   "cell_type": "code",
   "execution_count": 9,
   "id": "ad8cc799",
   "metadata": {},
   "outputs": [
    {
     "name": "stdout",
     "output_type": "stream",
     "text": [
      "hashlib.md5(b\"Python library book 2\").hexdigest()='6a68d97b9bd04b673b12d354078aea27'\n",
      "hashlib.sha1(b\"Python library book 2\").hexdigest()='d52bd15b58fe7761d8dd1e4b4f2b27f2dc0aa0b2'\n",
      "hashlib.sha512(b\"Python library book 2\").hexdigest()='594b43bb099f8845c5ab85dd7a12a400a234f50424f962a6dc6681716f85aae33570744b7d8bd138a93e42965bf341823e810fbde4e08568d2957d0c0d1a1369'\n",
      "hashlib.sha3_512(b\"Python library book 2\").hexdigest()='e6366d61a6b2705e0291ea144434dc7396b9919a303d9d3f4ed553aea10d8f146937e64a10501a6bc6fb4a2dbe9754061f73ec2af50c1bbd2d94e559cb720837'\n"
     ]
    }
   ],
   "source": [
    "print(f\"{hashlib.md5(b\"Python library book 2\").hexdigest()=}\")\n",
    "print(f\"{hashlib.sha1(b\"Python library book 2\").hexdigest()=}\")\n",
    "print(f\"{hashlib.sha512(b\"Python library book 2\").hexdigest()=}\")\n",
    "print(f\"{hashlib.sha3_512(b\"Python library book 2\").hexdigest()=}\")"
   ]
  },
  {
   "cell_type": "code",
   "execution_count": 10,
   "id": "97155700",
   "metadata": {},
   "outputs": [
    {
     "name": "stdout",
     "output_type": "stream",
     "text": [
      "hashed_password='68edb4f6fa8d876b6b479c002dc618efe739ed96c986420e8e57cb7d67278699'\n"
     ]
    }
   ],
   "source": [
    "password = b\"user_password\"\n",
    "salt = b\"your_secret_salt\"\n",
    "iterations = 100000\n",
    "hashed_password = hashlib.pbkdf2_hmac(\"sha256\", password, salt, iterations).hex()\n",
    "print(f\"{hashed_password=}\")"
   ]
  },
  {
   "cell_type": "code",
   "execution_count": null,
   "id": "e500a26a",
   "metadata": {},
   "outputs": [],
   "source": []
  }
 ],
 "metadata": {
  "kernelspec": {
   "display_name": "Python (snippets-hub)",
   "language": "python",
   "name": "python-snippets-hub"
  },
  "language_info": {
   "codemirror_mode": {
    "name": "ipython",
    "version": 3
   },
   "file_extension": ".py",
   "mimetype": "text/x-python",
   "name": "python",
   "nbconvert_exporter": "python",
   "pygments_lexer": "ipython3",
   "version": "3.13.0"
  }
 },
 "nbformat": 4,
 "nbformat_minor": 5
}
