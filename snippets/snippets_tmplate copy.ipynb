{
 "cells": [
  {
   "cell_type": "markdown",
   "id": "63f1e1e1",
   "metadata": {},
   "source": [
    "## クラス構文\n",
    "\n",
    "### プログラミングパラダイム\n",
    "\n",
    "- Python はマルチパラダイムプログラミング言語と呼ばれている\n",
    "- パラダイム\n",
    "  - オブジェクト指向プログラミング(オブジェクトを操作)\n",
    "  - 手続型プログラミング(処理順序を記述)\n",
    "  - 関数型プログラミング(状態と処理を分離)\n",
    "\n",
    "[特殊メソッドについて](https://github.com/akagikouzanh/python-snippets-hub/blob/master/snippets/snippets_class_special_methods.ipynb)\n"
   ]
  },
  {
   "cell_type": "markdown",
   "id": "b40c8e2f",
   "metadata": {},
   "source": [
    "### クラス定義\n"
   ]
  },
  {
   "cell_type": "code",
   "execution_count": null,
   "id": "0bd6949f",
   "metadata": {},
   "outputs": [
    {
     "data": {
      "text/plain": [
       "'\\nclass クラス名:\\n    属性 = 値\\n\\n    def メソッド名(self):\\n        pass\\n'"
      ]
     },
     "execution_count": 2,
     "metadata": {},
     "output_type": "execute_result"
    }
   ],
   "source": [
    "\"\"\"\n",
    "class クラス名:\n",
    "    属性 = 値\n",
    "\n",
    "    def メソッド名(self):\n",
    "        pass\n",
    "\"\"\""
   ]
  },
  {
   "cell_type": "code",
   "execution_count": 13,
   "id": "5f7cc850",
   "metadata": {},
   "outputs": [],
   "source": [
    "class User:\n",
    "    user_type = None\n",
    "\n",
    "    def __init__(self, name, age, address):\n",
    "        self.name = name\n",
    "        self.age = age\n",
    "        self.address = address\n",
    "\n",
    "    def __repr__(self):\n",
    "        return f\"<User id:{id(self)} name:{self.name}>\"\n",
    "\n",
    "    def increment_age(self):\n",
    "        \"\"\"年齢を1つ増やす\"\"\"\n",
    "        self.age += 1\n",
    "\n",
    "    def start_name(self):\n",
    "        \"\"\"名前の1文字目をとる\"\"\"\n",
    "        if len(self.name) > 0:\n",
    "            return self.name[0]\n",
    "\n",
    "        return \"\""
   ]
  },
  {
   "cell_type": "markdown",
   "id": "615c4bf5",
   "metadata": {},
   "source": [
    "### インスタンス化と self\n",
    "\n",
    "- インスタンスは定義したクラスの実態を作成します\n",
    "- self は自身のインスタンスですよというもので、自身のデータやメソッドの変更実行をクラスの中で行うことができる\n"
   ]
  },
  {
   "cell_type": "code",
   "execution_count": 14,
   "id": "ec2ebe8c",
   "metadata": {},
   "outputs": [
    {
     "data": {
      "text/plain": [
       "__main__.User"
      ]
     },
     "execution_count": 14,
     "metadata": {},
     "output_type": "execute_result"
    }
   ],
   "source": [
    "# Userを元に実態を作成する\n",
    "u1 = User(\"田中太郎\", 35, \"東京都豊島区\")\n",
    "type(u1)"
   ]
  },
  {
   "cell_type": "code",
   "execution_count": 6,
   "id": "c7b88d46",
   "metadata": {},
   "outputs": [
    {
     "name": "stdout",
     "output_type": "stream",
     "text": [
      "田中太郎 36\n",
      "田中太郎 37\n",
      "田\n"
     ]
    }
   ],
   "source": [
    "print(u1.name, u1.age)\n",
    "u1.increment_age()\n",
    "print(u1.name, u1.age)\n",
    "print(u1.start_name())"
   ]
  },
  {
   "cell_type": "code",
   "execution_count": 15,
   "id": "d8392d53",
   "metadata": {},
   "outputs": [
    {
     "name": "stdout",
     "output_type": "stream",
     "text": [
      "山田花子 32\n",
      "山田花子 33\n",
      "山\n"
     ]
    }
   ],
   "source": [
    "u2 = User(\"山田花子\", 32, \"東京都中央区\")\n",
    "print(u2.name, u2.age)\n",
    "u2.increment_age()\n",
    "print(u2.name, u2.age)\n",
    "print(u2.start_name())"
   ]
  },
  {
   "cell_type": "code",
   "execution_count": 10,
   "id": "fe5ae4ed",
   "metadata": {},
   "outputs": [
    {
     "name": "stdout",
     "output_type": "stream",
     "text": [
      "4592120400 4592122960\n"
     ]
    }
   ],
   "source": [
    "# 別々のインスタンス\n",
    "print(id(u1), id(u2))"
   ]
  },
  {
   "cell_type": "markdown",
   "id": "0e154887",
   "metadata": {},
   "source": [
    "### 属性とメソッド\n",
    "\n",
    "- コンストラクターメソッド\n",
    "  - クラスが初期化されたタイミングで呼び出されます(\\_\\_init\\_\\_のこと)\n",
    "  - クラスの定義を実態にする際に指定したおかげで、name や age の参照変更を行うことができている\n",
    "- データ属性\n",
    "  - クラス変数\n",
    "    - クラスにグローバルに定義されており、インスタンス化しなくとも参照することができます\n",
    "  - インスタンス変数\n",
    "    - インスタンス化された際にのみ参照することができる\n",
    "    - self.xxx の形で定義し値の格納、変更などを行うことができる\n",
    "- メソッド\n",
    "  - クラスメソッド\n",
    "    - クラスオブジェクトを第 1 引数にとる、特殊なメソッドで、@classmethod デコレータを使用することで定義します\n",
    "  - インスタンスメソッド\n",
    "    - インスタンスかされたクラスで実行されるメソッド\n",
    "  - 静的メソッド\n",
    "    - インスタンス化させずに使うことを前提にしたメソッドを定義でき、@staticmethod デコレータを使用できます\n",
    "    - 引数は特に取らず、クラスオブジェクトやインスタンスメソッド内では使用しない(グローバルに関数モジュールを定義できるため、使用頻度としては)\n"
   ]
  },
  {
   "cell_type": "code",
   "execution_count": 16,
   "id": "bf79b9d8",
   "metadata": {},
   "outputs": [
    {
     "data": {
      "text/plain": [
       "<bound method User.__repr__ of <User id:4595080496 name:田中太郎>>"
      ]
     },
     "execution_count": 16,
     "metadata": {},
     "output_type": "execute_result"
    }
   ],
   "source": [
    "u1.__repr__"
   ]
  },
  {
   "cell_type": "code",
   "execution_count": 17,
   "id": "1d6a14d0",
   "metadata": {},
   "outputs": [
    {
     "data": {
      "text/plain": [
       "<bound method User.__repr__ of <User id:4592122320 name:山田花子>>"
      ]
     },
     "execution_count": 17,
     "metadata": {},
     "output_type": "execute_result"
    }
   ],
   "source": [
    "u2.__repr__"
   ]
  },
  {
   "cell_type": "markdown",
   "id": "0c7f5f57",
   "metadata": {},
   "source": [
    "### 特殊メソッド\n",
    "\n",
    "[特殊メソッドについてはこちら](https://github.com/akagikouzanh/python-snippets-hub/blob/master/snippets/snippets_class_special_methods.ipynb)\n"
   ]
  },
  {
   "cell_type": "markdown",
   "id": "b2c834d0",
   "metadata": {},
   "source": [
    "### プロパティ化\n",
    "\n",
    "- インスタンスメソッドをプロパティかするとカッコなしで呼び出しが可能になる\n"
   ]
  },
  {
   "cell_type": "code",
   "execution_count": 27,
   "id": "6c44875b",
   "metadata": {},
   "outputs": [],
   "source": [
    "class User2:\n",
    "    user_type = None\n",
    "\n",
    "    def __init__(self, name, age, address):\n",
    "        self.name = name\n",
    "        self.age = age\n",
    "        self.address = address\n",
    "\n",
    "    def __repr__(self):\n",
    "        return f\"<User id:{id(self)} name:{self.name}>\"\n",
    "\n",
    "    def increment_age(self):\n",
    "        \"\"\"年齢を1つ増やす\"\"\"\n",
    "        self.age += 1\n",
    "\n",
    "    @property\n",
    "    def start_name(self):\n",
    "        \"\"\"名前の1文字目をとる\"\"\"\n",
    "        if len(self.name) > 0:\n",
    "            return self.name[0]\n",
    "\n",
    "        return \"\"\n",
    "\n",
    "    @start_name.setter\n",
    "    def start_name(self, value):\n",
    "        \"\"\"新しい一文字目をセットすることができる\n",
    "\n",
    "        Args:\n",
    "            value (str): 名前の一文字目\n",
    "        \"\"\"\n",
    "        self.name = value + self.name[1:]\n",
    "\n",
    "    @start_name.deleter\n",
    "    def start_name(self):\n",
    "        \"\"\"値を削除する\"\"\"\n",
    "        del self.name"
   ]
  },
  {
   "cell_type": "code",
   "execution_count": 28,
   "id": "0fb66f24",
   "metadata": {},
   "outputs": [],
   "source": [
    "u3 = User2(\"佐藤二郎\", \"55\", \"愛知県\")"
   ]
  },
  {
   "cell_type": "code",
   "execution_count": 29,
   "id": "d7dab3e2",
   "metadata": {},
   "outputs": [
    {
     "data": {
      "text/plain": [
       "'佐'"
      ]
     },
     "execution_count": 29,
     "metadata": {},
     "output_type": "execute_result"
    }
   ],
   "source": [
    "u3.start_name"
   ]
  },
  {
   "cell_type": "code",
   "execution_count": 31,
   "id": "fbaf987c",
   "metadata": {},
   "outputs": [
    {
     "data": {
      "text/plain": [
       "'伊'"
      ]
     },
     "execution_count": 31,
     "metadata": {},
     "output_type": "execute_result"
    }
   ],
   "source": [
    "u3.start_name = \"伊\"\n",
    "u3.start_name"
   ]
  },
  {
   "cell_type": "code",
   "execution_count": 38,
   "id": "cc68fd03",
   "metadata": {},
   "outputs": [
    {
     "ename": "AttributeError",
     "evalue": "'User2' object has no attribute 'name'",
     "output_type": "error",
     "traceback": [
      "\u001b[31m---------------------------------------------------------------------------\u001b[39m",
      "\u001b[31mAttributeError\u001b[39m                            Traceback (most recent call last)",
      "\u001b[36mCell\u001b[39m\u001b[36m \u001b[39m\u001b[32mIn[38]\u001b[39m\u001b[32m, line 1\u001b[39m\n\u001b[32m----> \u001b[39m\u001b[32m1\u001b[39m \u001b[38;5;28;01mdel\u001b[39;00m \u001b[43mu3\u001b[49m\u001b[43m.\u001b[49m\u001b[43mstart_name\u001b[49m\n\u001b[32m      2\u001b[39m \u001b[38;5;66;03m# nameが削除されて使用できなくなる\u001b[39;00m\n\u001b[32m      3\u001b[39m u3.start_name\n",
      "\u001b[36mCell\u001b[39m\u001b[36m \u001b[39m\u001b[32mIn[27]\u001b[39m\u001b[32m, line 36\u001b[39m, in \u001b[36mUser2.start_name\u001b[39m\u001b[34m(self)\u001b[39m\n\u001b[32m     33\u001b[39m \u001b[38;5;129m@start_name\u001b[39m.deleter\n\u001b[32m     34\u001b[39m \u001b[38;5;28;01mdef\u001b[39;00m\u001b[38;5;250m \u001b[39m\u001b[34mstart_name\u001b[39m(\u001b[38;5;28mself\u001b[39m):\n\u001b[32m     35\u001b[39m \u001b[38;5;250m    \u001b[39m\u001b[33;03m\"\"\"値を削除する\"\"\"\u001b[39;00m\n\u001b[32m---> \u001b[39m\u001b[32m36\u001b[39m     \u001b[38;5;28;01mdel\u001b[39;00m \u001b[38;5;28;43mself\u001b[39;49m\u001b[43m.\u001b[49m\u001b[43mname\u001b[49m\n",
      "\u001b[31mAttributeError\u001b[39m: 'User2' object has no attribute 'name'"
     ]
    }
   ],
   "source": [
    "del u3.start_name\n",
    "# nameが削除されて使用できなくなる\n",
    "u3.start_name"
   ]
  },
  {
   "cell_type": "code",
   "execution_count": 39,
   "id": "f39f33f7",
   "metadata": {},
   "outputs": [
    {
     "data": {
      "text/plain": [
       "'55'"
      ]
     },
     "execution_count": 39,
     "metadata": {},
     "output_type": "execute_result"
    }
   ],
   "source": [
    "u3.age"
   ]
  },
  {
   "cell_type": "code",
   "execution_count": 40,
   "id": "08f73cd0",
   "metadata": {},
   "outputs": [
    {
     "data": {
      "text/plain": [
       "'愛知県'"
      ]
     },
     "execution_count": 40,
     "metadata": {},
     "output_type": "execute_result"
    }
   ],
   "source": [
    "u3.address"
   ]
  },
  {
   "cell_type": "markdown",
   "id": "85a80bbb",
   "metadata": {},
   "source": [
    "### クラスメソッドの使い方\n",
    "\n",
    "- datetime 型を元に例を示す\n",
    "\n",
    "[datetime](https://docs.python.org/ja/3.13/library/datetime.html#datetime.datetime)\n",
    "\n",
    "[datetime class](https://github.com/python/cpython/blob/3.13/Lib/_pydatetime.py)\n"
   ]
  },
  {
   "cell_type": "code",
   "execution_count": 41,
   "id": "9f3cae2e",
   "metadata": {},
   "outputs": [
    {
     "data": {
      "text/plain": [
       "datetime.datetime(2025, 4, 18, 20, 55)"
      ]
     },
     "execution_count": 41,
     "metadata": {},
     "output_type": "execute_result"
    }
   ],
   "source": [
    "from datetime import datetime\n",
    "\n",
    "dt = datetime(2025, 4, 18, 20, 55)\n",
    "dt"
   ]
  },
  {
   "cell_type": "code",
   "execution_count": 42,
   "id": "a8c66d7c",
   "metadata": {},
   "outputs": [
    {
     "data": {
      "text/plain": [
       "datetime.datetime"
      ]
     },
     "execution_count": 42,
     "metadata": {},
     "output_type": "execute_result"
    }
   ],
   "source": [
    "type(dt)"
   ]
  },
  {
   "cell_type": "code",
   "execution_count": 45,
   "id": "676e2b99",
   "metadata": {},
   "outputs": [
    {
     "data": {
      "text/plain": [
       "datetime.datetime(2025, 4, 18, 21, 4, 46, 146207)"
      ]
     },
     "execution_count": 45,
     "metadata": {},
     "output_type": "execute_result"
    }
   ],
   "source": [
    "# ここに定義されている通り、datetiimeのクラスメソッドだから、インスタンスにしなくても呼び出すことができる\n",
    "# https://docs.python.org/ja/3.13/library/datetime.html#datetime.datetime.now\n",
    "# https://github.com/python/cpython/blob/7d4c00e7c50f9702be7319e0dc1557d925fbd555/Lib/_pydatetime.py#L1819\n",
    "datetime.now()"
   ]
  },
  {
   "cell_type": "markdown",
   "id": "7149d2df",
   "metadata": {},
   "source": [
    "## 継承\n",
    "\n",
    "- 元のデータ型の規定クラスを扱い、機能の変更や拡張するための機能です\n",
    "- 継承元を親とし、継承するものが子の親子関係になります\n"
   ]
  },
  {
   "cell_type": "code",
   "execution_count": 46,
   "id": "a7e57efb",
   "metadata": {},
   "outputs": [
    {
     "data": {
      "text/plain": [
       "'\\nclass 子クラス名(親クラス名):\\n    属性 = 値\\n\\n    def メソッド名(self):\\n        pass\\n'"
      ]
     },
     "execution_count": 46,
     "metadata": {},
     "output_type": "execute_result"
    }
   ],
   "source": [
    "\"\"\"\n",
    "class 子クラス名(親クラス名):\n",
    "    属性 = 値\n",
    "\n",
    "    def メソッド名(self):\n",
    "        pass\n",
    "\"\"\""
   ]
  },
  {
   "cell_type": "code",
   "execution_count": 48,
   "id": "1333e17d",
   "metadata": {},
   "outputs": [],
   "source": [
    "# 子クラスの具体例\n",
    "import unittest\n",
    "\n",
    "\n",
    "# TestCaseを継承したTestSample\n",
    "class TestSample(unittest.TestCase):\n",
    "    def setUp(self):\n",
    "        self.target = \"foo\"\n",
    "\n",
    "    def test_upper(self):\n",
    "        self.assertEqual(self.target.upper(), \"FOO\")"
   ]
  },
  {
   "cell_type": "markdown",
   "id": "c1745cb7",
   "metadata": {},
   "source": [
    "### super 関数\n",
    "\n",
    "- 子クラスでメソッドを上書きしたい場合に、親側のメソッドも実行したいときに super を呼び出す\n"
   ]
  },
  {
   "cell_type": "code",
   "execution_count": null,
   "id": "25196e75",
   "metadata": {},
   "outputs": [],
   "source": [
    "import pathlib\n",
    "\n",
    "\n",
    "class TestBase(unittest.TestCase):  # TestCaseを親クラスとした子クラスTestBaseを定義\n",
    "    def setUp(self):  # 共通メソッドの定義\n",
    "        self.data_path = pathlib.Path(\"/logs/sample\")\n",
    "\n",
    "    def tearDown(self):  # 共通腕使う後処理メソッドのておぎ\n",
    "        for p in self.data_path.iterdir():\n",
    "            p.unlink()  # setupで作ったファイルの削除\n",
    "\n",
    "\n",
    "class TestSample1(TestBase):\n",
    "    def setUp(self):\n",
    "        super().setUp()  # 親クラスのsetUpを実行\n",
    "        # 親クラスでセットアップされたdata_pathを使用しながら新しいファイルを作成する\n",
    "        p1 = self.data_path / \"sample1.txt\"\n",
    "        p1.touch()\n",
    "        p2 = self.data_path / \"sample2.txt\"\n",
    "        p2.touch()\n",
    "\n",
    "    def test_two_files(self):\n",
    "        self.assertEqual(len(list(self.data_path.iterdir())), 2)\n",
    "\n",
    "\n",
    "class TestSample2(TestBase):\n",
    "    def setUp(self):\n",
    "        super().setUp()  # 親クラスのsetUpを実行\n",
    "        # 親クラスでセットアップされたdata_pathを使用しながら新しいファイルを作成する\n",
    "        p3 = self.data_path / \"sample3.txt\"\n",
    "        p3.touch()\n",
    "\n",
    "    def test_one_file(self):\n",
    "        self.assertEqual(len(list(self.data_path.iterdir())), 1)"
   ]
  },
  {
   "cell_type": "markdown",
   "id": "b103d809",
   "metadata": {},
   "source": [
    "### 多重継承\n",
    "\n",
    "- 複数の親クラスを持った、子クラスを定義することで実装することができる\n",
    "- 属性検索は深さ優先で、左から右に探索します\n",
    "  - 子クラスに存在しない場合は、継承している一番左のクラスから検索されていきます(見つからなければ、次の継承しているクラス...)\n",
    "\n",
    "[多重継承](https://docs.python.org/ja/3.10/tutorial/classes.html#multiple-inheritance)\n"
   ]
  },
  {
   "cell_type": "code",
   "execution_count": 51,
   "id": "10463de5",
   "metadata": {},
   "outputs": [
    {
     "data": {
      "text/plain": [
       "'\\nclass Custom(Base1, Base2, Base3):\\n    pass\\n'"
      ]
     },
     "execution_count": 51,
     "metadata": {},
     "output_type": "execute_result"
    }
   ],
   "source": [
    "\"\"\"\n",
    "class Custom(Base1, Base2, Base3):\n",
    "    pass\n",
    "\"\"\""
   ]
  },
  {
   "cell_type": "markdown",
   "id": "61c213fc",
   "metadata": {},
   "source": [
    "## dataclass\n",
    "\n",
    "- インスタンス属性でデータを管理するのに特化したクラスです\n",
    "- 定義するデータ型が明確な場合は、dataclass を使うことをお勧めする\n",
    "  - データの要素が明確になり、型ヒントによって各要素のデータ型がわかりやすい形で受け渡し可能になります\n",
    "  - mypy をセットで使うと良いでしょう\n"
   ]
  },
  {
   "cell_type": "code",
   "execution_count": 55,
   "id": "a9de030e",
   "metadata": {},
   "outputs": [],
   "source": [
    "from dataclasses import dataclass\n",
    "\n",
    "\n",
    "@dataclass\n",
    "class UserData:\n",
    "    \"\"\"\n",
    "    __init__や__repr__などが自動的に定義されます\n",
    "    \"\"\"\n",
    "\n",
    "    name: str\n",
    "    age: int\n",
    "    address: str"
   ]
  },
  {
   "cell_type": "code",
   "execution_count": 56,
   "id": "c39b9ac1",
   "metadata": {},
   "outputs": [
    {
     "data": {
      "text/plain": [
       "UserData(name='鈴木一郎', age=51, address='シアトル')"
      ]
     },
     "execution_count": 56,
     "metadata": {},
     "output_type": "execute_result"
    }
   ],
   "source": [
    "ud1 = UserData(\"鈴木一郎\", 51, \"シアトル\")\n",
    "ud1"
   ]
  },
  {
   "cell_type": "code",
   "execution_count": 57,
   "id": "45209df8",
   "metadata": {},
   "outputs": [
    {
     "data": {
      "text/plain": [
       "<bound method UserData.__repr__ of UserData(name='鈴木一郎', age=51, address='シアトル')>"
      ]
     },
     "execution_count": 57,
     "metadata": {},
     "output_type": "execute_result"
    }
   ],
   "source": [
    "ud1.__repr__"
   ]
  },
  {
   "cell_type": "code",
   "execution_count": 58,
   "id": "3e010e78",
   "metadata": {},
   "outputs": [],
   "source": [
    "@dataclass(frozen=True)\n",
    "class UserData2:\n",
    "    \"\"\"\n",
    "    frozen Trueでデータの変更ができなくなる\n",
    "    \"\"\"\n",
    "\n",
    "    name: str\n",
    "    age: int\n",
    "    address: str"
   ]
  },
  {
   "cell_type": "code",
   "execution_count": 60,
   "id": "8685d42f",
   "metadata": {},
   "outputs": [
    {
     "data": {
      "text/plain": [
       "UserData2(name='柄本つくし', age=17, address='東京')"
      ]
     },
     "execution_count": 60,
     "metadata": {},
     "output_type": "execute_result"
    }
   ],
   "source": [
    "ud2 = UserData2(\"柄本つくし\", 17, \"東京\")\n",
    "ud2"
   ]
  },
  {
   "cell_type": "code",
   "execution_count": 62,
   "id": "2b3a2835",
   "metadata": {},
   "outputs": [
    {
     "data": {
      "text/plain": [
       "UserData(name='John', age=51, address='シアトル')"
      ]
     },
     "execution_count": 62,
     "metadata": {},
     "output_type": "execute_result"
    }
   ],
   "source": [
    "ud1.name = \"John\"\n",
    "ud1"
   ]
  },
  {
   "cell_type": "code",
   "execution_count": 63,
   "id": "61e7ba07",
   "metadata": {},
   "outputs": [
    {
     "ename": "FrozenInstanceError",
     "evalue": "cannot assign to field 'name'",
     "output_type": "error",
     "traceback": [
      "\u001b[31m---------------------------------------------------------------------------\u001b[39m",
      "\u001b[31mFrozenInstanceError\u001b[39m                       Traceback (most recent call last)",
      "\u001b[36mCell\u001b[39m\u001b[36m \u001b[39m\u001b[32mIn[63]\u001b[39m\u001b[32m, line 1\u001b[39m\n\u001b[32m----> \u001b[39m\u001b[32m1\u001b[39m \u001b[43mud2\u001b[49m\u001b[43m.\u001b[49m\u001b[43mname\u001b[49m = \u001b[33m\"\u001b[39m\u001b[33m風間陣\u001b[39m\u001b[33m\"\u001b[39m\n\u001b[32m      2\u001b[39m ud2\n",
      "\u001b[36mFile \u001b[39m\u001b[32m<string>:17\u001b[39m, in \u001b[36m__setattr__\u001b[39m\u001b[34m(self, name, value)\u001b[39m\n",
      "\u001b[31mFrozenInstanceError\u001b[39m: cannot assign to field 'name'"
     ]
    }
   ],
   "source": [
    "ud2.name = \"風間陣\"\n",
    "ud2"
   ]
  },
  {
   "cell_type": "markdown",
   "id": "6ef10447",
   "metadata": {},
   "source": [
    "### コンストラクタの任意引数\n",
    "\n",
    "- コンストラクタにデフォルトの引数を持たせることができる\n"
   ]
  },
  {
   "cell_type": "code",
   "execution_count": 64,
   "id": "27bf33bc",
   "metadata": {},
   "outputs": [],
   "source": [
    "@dataclass\n",
    "class UserData3:\n",
    "    name: str\n",
    "    age: int\n",
    "    address: str\n",
    "    active: bool = False"
   ]
  },
  {
   "cell_type": "code",
   "execution_count": 66,
   "id": "3ce06cfb",
   "metadata": {},
   "outputs": [
    {
     "data": {
      "text/plain": [
       "UserData3(name='David', age=49, address='NewYork', active=False)"
      ]
     },
     "execution_count": 66,
     "metadata": {},
     "output_type": "execute_result"
    }
   ],
   "source": [
    "ud3 = UserData3(\"David\", 49, \"NewYork\")\n",
    "ud3"
   ]
  },
  {
   "cell_type": "code",
   "execution_count": 67,
   "id": "619c14cd",
   "metadata": {},
   "outputs": [
    {
     "data": {
      "text/plain": [
       "UserData3(name='吉田松陰', age=29, address='日本', active=True)"
      ]
     },
     "execution_count": 67,
     "metadata": {},
     "output_type": "execute_result"
    }
   ],
   "source": [
    "ud4 = UserData3(\"吉田松陰\", 29, \"日本\", True)\n",
    "ud4"
   ]
  },
  {
   "cell_type": "markdown",
   "id": "6c83292c",
   "metadata": {},
   "source": [
    "### データ変換\n",
    "\n",
    "- dataclass で宣言したデータは dict やタプルへ変換することが可能\n"
   ]
  },
  {
   "cell_type": "code",
   "execution_count": 68,
   "id": "652d1f21",
   "metadata": {},
   "outputs": [
    {
     "name": "stdout",
     "output_type": "stream",
     "text": [
      "{'name': 'David', 'age': 49, 'address': 'NewYork', 'active': False}\n",
      "('吉田松陰', 29, '日本', True)\n"
     ]
    }
   ],
   "source": [
    "from dataclasses import asdict, astuple\n",
    "\n",
    "print(asdict(ud3))\n",
    "print(astuple(ud4))"
   ]
  },
  {
   "cell_type": "markdown",
   "id": "a8772062",
   "metadata": {},
   "source": [
    "#### オブジェクトの関連関数\n",
    "\n",
    "- id: 識別値を返す\n",
    "- type: 型オブジェクトを返す\n",
    "- isinstance: object が classinfo のインスタンスか判定\n",
    "- issubclass: object が classinfo のサブクラスか判定\n",
    "- help: ヘルプを表示する\n",
    "- dir: オブジェクトが持つ、属性、メソッドを返す\n"
   ]
  },
  {
   "cell_type": "code",
   "execution_count": 69,
   "id": "896d83f4",
   "metadata": {},
   "outputs": [
    {
     "data": {
      "text/plain": [
       "4628488848"
      ]
     },
     "execution_count": 69,
     "metadata": {},
     "output_type": "execute_result"
    }
   ],
   "source": [
    "i = 1_000_000\n",
    "id(i)"
   ]
  },
  {
   "cell_type": "code",
   "execution_count": 70,
   "id": "c7ad59ea",
   "metadata": {},
   "outputs": [
    {
     "data": {
      "text/plain": [
       "4629107360"
      ]
     },
     "execution_count": 70,
     "metadata": {},
     "output_type": "execute_result"
    }
   ],
   "source": [
    "s = \"I'm a web engineer based on japan\"\n",
    "id(s)"
   ]
  },
  {
   "cell_type": "code",
   "execution_count": 71,
   "id": "39aa4b53",
   "metadata": {},
   "outputs": [
    {
     "data": {
      "text/plain": [
       "4629268672"
      ]
     },
     "execution_count": 71,
     "metadata": {},
     "output_type": "execute_result"
    }
   ],
   "source": [
    "li = []\n",
    "id(li)"
   ]
  },
  {
   "cell_type": "code",
   "execution_count": 72,
   "id": "1ab9db2a",
   "metadata": {},
   "outputs": [
    {
     "data": {
      "text/plain": [
       "4629268672"
      ]
     },
     "execution_count": 72,
     "metadata": {},
     "output_type": "execute_result"
    }
   ],
   "source": [
    "li.append(1)\n",
    "id(li)"
   ]
  },
  {
   "cell_type": "code",
   "execution_count": 73,
   "id": "4a02a0ec",
   "metadata": {},
   "outputs": [
    {
     "data": {
      "text/plain": [
       "int"
      ]
     },
     "execution_count": 73,
     "metadata": {},
     "output_type": "execute_result"
    }
   ],
   "source": [
    "type(1)"
   ]
  },
  {
   "cell_type": "code",
   "execution_count": 74,
   "id": "a678ec3b",
   "metadata": {},
   "outputs": [
    {
     "data": {
      "text/plain": [
       "str"
      ]
     },
     "execution_count": 74,
     "metadata": {},
     "output_type": "execute_result"
    }
   ],
   "source": [
    "type(\"test\")"
   ]
  },
  {
   "cell_type": "code",
   "execution_count": 75,
   "id": "2bf9ac7c",
   "metadata": {},
   "outputs": [
    {
     "data": {
      "text/plain": [
       "list"
      ]
     },
     "execution_count": 75,
     "metadata": {},
     "output_type": "execute_result"
    }
   ],
   "source": [
    "type([])"
   ]
  },
  {
   "cell_type": "code",
   "execution_count": 76,
   "id": "464b590b",
   "metadata": {},
   "outputs": [
    {
     "data": {
      "text/plain": [
       "True"
      ]
     },
     "execution_count": 76,
     "metadata": {},
     "output_type": "execute_result"
    }
   ],
   "source": [
    "isinstance(1, int)"
   ]
  },
  {
   "cell_type": "code",
   "execution_count": 77,
   "id": "cbc653ac",
   "metadata": {},
   "outputs": [
    {
     "data": {
      "text/plain": [
       "False"
      ]
     },
     "execution_count": 77,
     "metadata": {},
     "output_type": "execute_result"
    }
   ],
   "source": [
    "isinstance(1, str)"
   ]
  },
  {
   "cell_type": "code",
   "execution_count": 78,
   "id": "7c0bd565",
   "metadata": {},
   "outputs": [
    {
     "data": {
      "text/plain": [
       "True"
      ]
     },
     "execution_count": 78,
     "metadata": {},
     "output_type": "execute_result"
    }
   ],
   "source": [
    "isinstance(1, (int, float))"
   ]
  },
  {
   "cell_type": "code",
   "execution_count": 79,
   "id": "983a8f61",
   "metadata": {},
   "outputs": [
    {
     "data": {
      "text/plain": [
       "True"
      ]
     },
     "execution_count": 79,
     "metadata": {},
     "output_type": "execute_result"
    }
   ],
   "source": [
    "isinstance(True, bool)"
   ]
  },
  {
   "cell_type": "code",
   "execution_count": 80,
   "id": "0ee5aea9",
   "metadata": {},
   "outputs": [
    {
     "data": {
      "text/plain": [
       "True"
      ]
     },
     "execution_count": 80,
     "metadata": {},
     "output_type": "execute_result"
    }
   ],
   "source": [
    "isinstance(True, int)"
   ]
  },
  {
   "cell_type": "code",
   "execution_count": 81,
   "id": "99f868d2",
   "metadata": {},
   "outputs": [
    {
     "data": {
      "text/plain": [
       "True"
      ]
     },
     "execution_count": 81,
     "metadata": {},
     "output_type": "execute_result"
    }
   ],
   "source": [
    "issubclass(bool, int)"
   ]
  },
  {
   "cell_type": "code",
   "execution_count": 82,
   "id": "071fe421",
   "metadata": {},
   "outputs": [
    {
     "data": {
      "text/plain": [
       "False"
      ]
     },
     "execution_count": 82,
     "metadata": {},
     "output_type": "execute_result"
    }
   ],
   "source": [
    "issubclass(bool, float)"
   ]
  },
  {
   "cell_type": "code",
   "execution_count": 83,
   "id": "7b7a8e7b",
   "metadata": {},
   "outputs": [
    {
     "data": {
      "text/plain": [
       "True"
      ]
     },
     "execution_count": 83,
     "metadata": {},
     "output_type": "execute_result"
    }
   ],
   "source": [
    "issubclass(bool, object)"
   ]
  },
  {
   "cell_type": "code",
   "execution_count": 84,
   "id": "77b8d6c4",
   "metadata": {},
   "outputs": [
    {
     "name": "stdout",
     "output_type": "stream",
     "text": [
      "Help on class int in module builtins:\n",
      "\n",
      "class int(object)\n",
      " |  int([x]) -> integer\n",
      " |  int(x, base=10) -> integer\n",
      " |\n",
      " |  Convert a number or string to an integer, or return 0 if no arguments\n",
      " |  are given.  If x is a number, return x.__int__().  For floating-point\n",
      " |  numbers, this truncates towards zero.\n",
      " |\n",
      " |  If x is not a number or if base is given, then x must be a string,\n",
      " |  bytes, or bytearray instance representing an integer literal in the\n",
      " |  given base.  The literal can be preceded by '+' or '-' and be surrounded\n",
      " |  by whitespace.  The base defaults to 10.  Valid bases are 0 and 2-36.\n",
      " |  Base 0 means to interpret the base from the string as an integer literal.\n",
      " |  >>> int('0b100', base=0)\n",
      " |  4\n",
      " |\n",
      " |  Built-in subclasses:\n",
      " |      bool\n",
      " |\n",
      " |  Methods defined here:\n",
      " |\n",
      " |  __abs__(self, /)\n",
      " |      abs(self)\n",
      " |\n",
      " |  __add__(self, value, /)\n",
      " |      Return self+value.\n",
      " |\n",
      " |  __and__(self, value, /)\n",
      " |      Return self&value.\n",
      " |\n",
      " |  __bool__(self, /)\n",
      " |      True if self else False\n",
      " |\n",
      " |  __ceil__(self, /)\n",
      " |      Ceiling of an Integral returns itself.\n",
      " |\n",
      " |  __divmod__(self, value, /)\n",
      " |      Return divmod(self, value).\n",
      " |\n",
      " |  __eq__(self, value, /)\n",
      " |      Return self==value.\n",
      " |\n",
      " |  __float__(self, /)\n",
      " |      float(self)\n",
      " |\n",
      " |  __floor__(self, /)\n",
      " |      Flooring an Integral returns itself.\n",
      " |\n",
      " |  __floordiv__(self, value, /)\n",
      " |      Return self//value.\n",
      " |\n",
      " |  __format__(self, format_spec, /)\n",
      " |      Convert to a string according to format_spec.\n",
      " |\n",
      " |  __ge__(self, value, /)\n",
      " |      Return self>=value.\n",
      " |\n",
      " |  __getattribute__(self, name, /)\n",
      " |      Return getattr(self, name).\n",
      " |\n",
      " |  __getnewargs__(self, /)\n",
      " |\n",
      " |  __gt__(self, value, /)\n",
      " |      Return self>value.\n",
      " |\n",
      " |  __hash__(self, /)\n",
      " |      Return hash(self).\n",
      " |\n",
      " |  __index__(self, /)\n",
      " |      Return self converted to an integer, if self is suitable for use as an index into a list.\n",
      " |\n",
      " |  __int__(self, /)\n",
      " |      int(self)\n",
      " |\n",
      " |  __invert__(self, /)\n",
      " |      ~self\n",
      " |\n",
      " |  __le__(self, value, /)\n",
      " |      Return self<=value.\n",
      " |\n",
      " |  __lshift__(self, value, /)\n",
      " |      Return self<<value.\n",
      " |\n",
      " |  __lt__(self, value, /)\n",
      " |      Return self<value.\n",
      " |\n",
      " |  __mod__(self, value, /)\n",
      " |      Return self%value.\n",
      " |\n",
      " |  __mul__(self, value, /)\n",
      " |      Return self*value.\n",
      " |\n",
      " |  __ne__(self, value, /)\n",
      " |      Return self!=value.\n",
      " |\n",
      " |  __neg__(self, /)\n",
      " |      -self\n",
      " |\n",
      " |  __or__(self, value, /)\n",
      " |      Return self|value.\n",
      " |\n",
      " |  __pos__(self, /)\n",
      " |      +self\n",
      " |\n",
      " |  __pow__(self, value, mod=None, /)\n",
      " |      Return pow(self, value, mod).\n",
      " |\n",
      " |  __radd__(self, value, /)\n",
      " |      Return value+self.\n",
      " |\n",
      " |  __rand__(self, value, /)\n",
      " |      Return value&self.\n",
      " |\n",
      " |  __rdivmod__(self, value, /)\n",
      " |      Return divmod(value, self).\n",
      " |\n",
      " |  __repr__(self, /)\n",
      " |      Return repr(self).\n",
      " |\n",
      " |  __rfloordiv__(self, value, /)\n",
      " |      Return value//self.\n",
      " |\n",
      " |  __rlshift__(self, value, /)\n",
      " |      Return value<<self.\n",
      " |\n",
      " |  __rmod__(self, value, /)\n",
      " |      Return value%self.\n",
      " |\n",
      " |  __rmul__(self, value, /)\n",
      " |      Return value*self.\n",
      " |\n",
      " |  __ror__(self, value, /)\n",
      " |      Return value|self.\n",
      " |\n",
      " |  __round__(self, ndigits=<unrepresentable>, /)\n",
      " |      Rounding an Integral returns itself.\n",
      " |\n",
      " |      Rounding with an ndigits argument also returns an integer.\n",
      " |\n",
      " |  __rpow__(self, value, mod=None, /)\n",
      " |      Return pow(value, self, mod).\n",
      " |\n",
      " |  __rrshift__(self, value, /)\n",
      " |      Return value>>self.\n",
      " |\n",
      " |  __rshift__(self, value, /)\n",
      " |      Return self>>value.\n",
      " |\n",
      " |  __rsub__(self, value, /)\n",
      " |      Return value-self.\n",
      " |\n",
      " |  __rtruediv__(self, value, /)\n",
      " |      Return value/self.\n",
      " |\n",
      " |  __rxor__(self, value, /)\n",
      " |      Return value^self.\n",
      " |\n",
      " |  __sizeof__(self, /)\n",
      " |      Returns size in memory, in bytes.\n",
      " |\n",
      " |  __sub__(self, value, /)\n",
      " |      Return self-value.\n",
      " |\n",
      " |  __truediv__(self, value, /)\n",
      " |      Return self/value.\n",
      " |\n",
      " |  __trunc__(self, /)\n",
      " |      Truncating an Integral returns itself.\n",
      " |\n",
      " |  __xor__(self, value, /)\n",
      " |      Return self^value.\n",
      " |\n",
      " |  as_integer_ratio(self, /)\n",
      " |      Return a pair of integers, whose ratio is equal to the original int.\n",
      " |\n",
      " |      The ratio is in lowest terms and has a positive denominator.\n",
      " |\n",
      " |      >>> (10).as_integer_ratio()\n",
      " |      (10, 1)\n",
      " |      >>> (-10).as_integer_ratio()\n",
      " |      (-10, 1)\n",
      " |      >>> (0).as_integer_ratio()\n",
      " |      (0, 1)\n",
      " |\n",
      " |  bit_count(self, /)\n",
      " |      Number of ones in the binary representation of the absolute value of self.\n",
      " |\n",
      " |      Also known as the population count.\n",
      " |\n",
      " |      >>> bin(13)\n",
      " |      '0b1101'\n",
      " |      >>> (13).bit_count()\n",
      " |      3\n",
      " |\n",
      " |  bit_length(self, /)\n",
      " |      Number of bits necessary to represent self in binary.\n",
      " |\n",
      " |      >>> bin(37)\n",
      " |      '0b100101'\n",
      " |      >>> (37).bit_length()\n",
      " |      6\n",
      " |\n",
      " |  conjugate(self, /)\n",
      " |      Returns self, the complex conjugate of any int.\n",
      " |\n",
      " |  is_integer(self, /)\n",
      " |      Returns True. Exists for duck type compatibility with float.is_integer.\n",
      " |\n",
      " |  to_bytes(self, /, length=1, byteorder='big', *, signed=False)\n",
      " |      Return an array of bytes representing an integer.\n",
      " |\n",
      " |      length\n",
      " |        Length of bytes object to use.  An OverflowError is raised if the\n",
      " |        integer is not representable with the given number of bytes.  Default\n",
      " |        is length 1.\n",
      " |      byteorder\n",
      " |        The byte order used to represent the integer.  If byteorder is 'big',\n",
      " |        the most significant byte is at the beginning of the byte array.  If\n",
      " |        byteorder is 'little', the most significant byte is at the end of the\n",
      " |        byte array.  To request the native byte order of the host system, use\n",
      " |        sys.byteorder as the byte order value.  Default is to use 'big'.\n",
      " |      signed\n",
      " |        Determines whether two's complement is used to represent the integer.\n",
      " |        If signed is False and a negative integer is given, an OverflowError\n",
      " |        is raised.\n",
      " |\n",
      " |  ----------------------------------------------------------------------\n",
      " |  Class methods defined here:\n",
      " |\n",
      " |  from_bytes(bytes, byteorder='big', *, signed=False)\n",
      " |      Return the integer represented by the given array of bytes.\n",
      " |\n",
      " |      bytes\n",
      " |        Holds the array of bytes to convert.  The argument must either\n",
      " |        support the buffer protocol or be an iterable object producing bytes.\n",
      " |        Bytes and bytearray are examples of built-in objects that support the\n",
      " |        buffer protocol.\n",
      " |      byteorder\n",
      " |        The byte order used to represent the integer.  If byteorder is 'big',\n",
      " |        the most significant byte is at the beginning of the byte array.  If\n",
      " |        byteorder is 'little', the most significant byte is at the end of the\n",
      " |        byte array.  To request the native byte order of the host system, use\n",
      " |        sys.byteorder as the byte order value.  Default is to use 'big'.\n",
      " |      signed\n",
      " |        Indicates whether two's complement is used to represent the integer.\n",
      " |\n",
      " |  ----------------------------------------------------------------------\n",
      " |  Static methods defined here:\n",
      " |\n",
      " |  __new__(*args, **kwargs)\n",
      " |      Create and return a new object.  See help(type) for accurate signature.\n",
      " |\n",
      " |  ----------------------------------------------------------------------\n",
      " |  Data descriptors defined here:\n",
      " |\n",
      " |  denominator\n",
      " |      the denominator of a rational number in lowest terms\n",
      " |\n",
      " |  imag\n",
      " |      the imaginary part of a complex number\n",
      " |\n",
      " |  numerator\n",
      " |      the numerator of a rational number in lowest terms\n",
      " |\n",
      " |  real\n",
      " |      the real part of a complex number\n",
      "\n"
     ]
    }
   ],
   "source": [
    "help(int)"
   ]
  },
  {
   "cell_type": "code",
   "execution_count": 85,
   "id": "1290d040",
   "metadata": {},
   "outputs": [
    {
     "name": "stdout",
     "output_type": "stream",
     "text": [
      "Help on function func in module __main__:\n",
      "\n",
      "func()\n",
      "    これはサンプルの関数です\n",
      "\n"
     ]
    }
   ],
   "source": [
    "def func():\n",
    "    \"\"\"これはサンプルの関数です\"\"\"\n",
    "    pass\n",
    "\n",
    "\n",
    "help(func)"
   ]
  },
  {
   "cell_type": "code",
   "execution_count": 86,
   "id": "8a00146a",
   "metadata": {},
   "outputs": [
    {
     "data": {
      "text/plain": [
       "['__add__',\n",
       " '__class__',\n",
       " '__contains__',\n",
       " '__delattr__',\n",
       " '__dir__',\n",
       " '__doc__',\n",
       " '__eq__',\n",
       " '__format__',\n",
       " '__ge__',\n",
       " '__getattribute__',\n",
       " '__getitem__',\n",
       " '__getnewargs__',\n",
       " '__getstate__',\n",
       " '__gt__',\n",
       " '__hash__',\n",
       " '__init__',\n",
       " '__init_subclass__',\n",
       " '__iter__',\n",
       " '__le__',\n",
       " '__len__',\n",
       " '__lt__',\n",
       " '__mod__',\n",
       " '__mul__',\n",
       " '__ne__',\n",
       " '__new__',\n",
       " '__reduce__',\n",
       " '__reduce_ex__',\n",
       " '__repr__',\n",
       " '__rmod__',\n",
       " '__rmul__',\n",
       " '__setattr__',\n",
       " '__sizeof__',\n",
       " '__str__',\n",
       " '__subclasshook__',\n",
       " 'capitalize',\n",
       " 'casefold',\n",
       " 'center',\n",
       " 'count',\n",
       " 'encode',\n",
       " 'endswith',\n",
       " 'expandtabs',\n",
       " 'find',\n",
       " 'format',\n",
       " 'format_map',\n",
       " 'index',\n",
       " 'isalnum',\n",
       " 'isalpha',\n",
       " 'isascii',\n",
       " 'isdecimal',\n",
       " 'isdigit',\n",
       " 'isidentifier',\n",
       " 'islower',\n",
       " 'isnumeric',\n",
       " 'isprintable',\n",
       " 'isspace',\n",
       " 'istitle',\n",
       " 'isupper',\n",
       " 'join',\n",
       " 'ljust',\n",
       " 'lower',\n",
       " 'lstrip',\n",
       " 'maketrans',\n",
       " 'partition',\n",
       " 'removeprefix',\n",
       " 'removesuffix',\n",
       " 'replace',\n",
       " 'rfind',\n",
       " 'rindex',\n",
       " 'rjust',\n",
       " 'rpartition',\n",
       " 'rsplit',\n",
       " 'rstrip',\n",
       " 'split',\n",
       " 'splitlines',\n",
       " 'startswith',\n",
       " 'strip',\n",
       " 'swapcase',\n",
       " 'title',\n",
       " 'translate',\n",
       " 'upper',\n",
       " 'zfill']"
      ]
     },
     "execution_count": 86,
     "metadata": {},
     "output_type": "execute_result"
    }
   ],
   "source": [
    "dir(\"test\")"
   ]
  },
  {
   "cell_type": "code",
   "execution_count": null,
   "id": "b47ef68b",
   "metadata": {},
   "outputs": [],
   "source": []
  }
 ],
 "metadata": {
  "kernelspec": {
   "display_name": "Python (snippets-hub)",
   "language": "python",
   "name": "python-snippets-hub"
  },
  "language_info": {
   "codemirror_mode": {
    "name": "ipython",
    "version": 3
   },
   "file_extension": ".py",
   "mimetype": "text/x-python",
   "name": "python",
   "nbconvert_exporter": "python",
   "pygments_lexer": "ipython3",
   "version": "3.13.0"
  }
 },
 "nbformat": 4,
 "nbformat_minor": 5
}
