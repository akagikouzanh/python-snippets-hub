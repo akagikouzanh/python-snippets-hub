{
 "cells": [
  {
   "cell_type": "markdown",
   "id": "63f1e1e1",
   "metadata": {},
   "source": [
    "### 対象のライブラリ\n",
    "\n",
    "`io`は ストリームを扱う標準ライブラリ\n",
    "\n",
    "- 特徴\n",
    "\n",
    "  - テキストなどの一時処理が手軽\n",
    "  - with 文の併用で auto close できるため安全性が高い\n",
    "\n",
    "- 主な使用用途\n",
    "\n",
    "  - 単純なファイル操作\n",
    "  - ファイルの入出力テストを IO を使用して、インメモリでファイルを扱う\n",
    "\n",
    "- 注意\n",
    "\n",
    "### 資料\n",
    "\n",
    "[ドキュメント](https://docs.python.org/ja/3.13/library/io.html)\n"
   ]
  },
  {
   "cell_type": "code",
   "execution_count": 1,
   "id": "a19f3cf2",
   "metadata": {},
   "outputs": [],
   "source": [
    "import io"
   ]
  },
  {
   "cell_type": "markdown",
   "id": "5a4d5580",
   "metadata": {},
   "source": [
    "## StringIO(インメモリテキストストリーム)\n",
    "\n",
    "[StringIO-ドキュメント](https://docs.python.org/ja/3.13/library/io.html#text-i-o)\n"
   ]
  },
  {
   "cell_type": "code",
   "execution_count": 4,
   "id": "232fce80",
   "metadata": {},
   "outputs": [
    {
     "name": "stdout",
     "output_type": "stream",
     "text": [
      "This is StringIO\n"
     ]
    }
   ],
   "source": [
    "f = io.StringIO(\"This is StringIO\")\n",
    "print(f.read())\n",
    "f.close()"
   ]
  },
  {
   "cell_type": "code",
   "execution_count": 12,
   "id": "f1b2e4c0",
   "metadata": {},
   "outputs": [
    {
     "name": "stdout",
     "output_type": "stream",
     "text": [
      "0\n",
      "This is StringIO\n"
     ]
    }
   ],
   "source": [
    "# 基本的にはwithと一緒に使う\n",
    "with io.StringIO(\"This is StringIO\") as f:\n",
    "    print(f.tell())  # 現在のオフセットを返す\n",
    "    print(f.read())"
   ]
  },
  {
   "cell_type": "code",
   "execution_count": 14,
   "id": "e674e753",
   "metadata": {},
   "outputs": [
    {
     "name": "stdout",
     "output_type": "stream",
     "text": [
      "This is StringIO\n",
      "Hello World\n"
     ]
    }
   ],
   "source": [
    "# Offsetを指定して、文字列を書き込む\n",
    "with io.StringIO(\"This is StringIO\") as f:\n",
    "    f.seek(0, io.SEEK_END)\n",
    "    f.write(\"\\nHello World\")\n",
    "    print(f.getvalue())\n"
   ]
  },
  {
   "cell_type": "code",
   "execution_count": 2,
   "id": "baff5f61",
   "metadata": {},
   "outputs": [
    {
     "name": "stdout",
     "output_type": "stream",
     "text": [
      "\n",
      "    朝焼けに染まる道を\n",
      "    昨日の夢を引きずって歩く\n",
      "    ひとしずくの希望が\n",
      "    ポケットの中で光ってる\n",
      "    今日も、始めてみようか。\n",
      "\n",
      "\n",
      "\n",
      "    朝焼けに染まる道を\n",
      "\n",
      "    昨日の夢を引きずって歩く\n",
      "\n",
      "    ひとしずくの希望が\n",
      "\n",
      "    ポケットの中で光ってる\n",
      "\n",
      "    今日も、始めてみようか。\n",
      "\n"
     ]
    }
   ],
   "source": [
    "# GPTのポエムを読み込む\n",
    "text = \"\"\"\n",
    "    朝焼けに染まる道を\n",
    "    昨日の夢を引きずって歩く\n",
    "    ひとしずくの希望が\n",
    "    ポケットの中で光ってる\n",
    "    今日も、始めてみようか。\n",
    "\"\"\"\n",
    "\n",
    "with io.StringIO(text) as f:\n",
    "    print(f.getvalue())  # getvalueで保持している内容全てを文字列で返す\n",
    "    for tx in f:\n",
    "        print(tx)"
   ]
  },
  {
   "cell_type": "markdown",
   "id": "8a8694d7",
   "metadata": {},
   "source": [
    "## BytesIO(インメモリバイナリストリーム)\n",
    "\n",
    "[BytesIO-ドキュメント](https://docs.python.org/ja/3.13/library/io.html#binary-i-o)\n"
   ]
  },
  {
   "cell_type": "code",
   "execution_count": 11,
   "id": "f034d9e2",
   "metadata": {},
   "outputs": [
    {
     "name": "stdout",
     "output_type": "stream",
     "text": [
      "0\n",
      "b'abcde'\n"
     ]
    }
   ],
   "source": [
    "# 基本的にはStringIOと同様のメソッドが使用できる\n",
    "with io.BytesIO(b\"abcdefg\") as f:\n",
    "    print(f.tell())\n",
    "    print(f.read(5)) # b'abcde'"
   ]
  },
  {
   "cell_type": "code",
   "execution_count": 21,
   "id": "819f98c2",
   "metadata": {},
   "outputs": [
    {
     "name": "stdout",
     "output_type": "stream",
     "text": [
      "b'abcdefgtest'\n"
     ]
    }
   ],
   "source": [
    "with io.BytesIO(b\"abcdefg\") as f:\n",
    "    f.seek(0, io.SEEK_END)\n",
    "    f.write(b'test')\n",
    "    print(f.getvalue())"
   ]
  },
  {
   "cell_type": "code",
   "execution_count": 35,
   "id": "e45869ca",
   "metadata": {},
   "outputs": [
    {
     "name": "stdout",
     "output_type": "stream",
     "text": [
      "b'ab55efg'\n"
     ]
    }
   ],
   "source": [
    "stream = io.BytesIO(b'abcdefg')\n",
    "buf = stream.getbuffer()\n",
    "buf[2:4] = b'55'\n",
    "print(stream.getvalue())\n",
    "del buf\n",
    "stream.close()  # close呼ばない場合エラーは起きないので、del bufは不要"
   ]
  },
  {
   "cell_type": "markdown",
   "id": "d71e513f",
   "metadata": {},
   "source": [
    "### del buf がないと、buf がずっと参照されている状態になってしまい close でエラーが発生する\n",
    "\n",
    "- export を increment して close の際にチェックしているよう。\n",
    "\n",
    "[参考：confusing BufferError: Existing exports of data: object cannot be re-sized #85269](https://github.com/python/cpython/issues/85269)\n",
    "\n",
    "[\\_io/bytesio.c#L1080](https://github.com/python/cpython/blob/d87e7f35297d34755026173d84a38eedfbed78de/Modules/_io/bytesio.c#L1080)\n",
    "\n",
    "[\\_io/bytesio.c#L51](https://github.com/python/cpython/blob/d87e7f35297d34755026173d84a38eedfbed78de/Modules/_io/bytesio.c#L51)\n",
    "\n",
    "```python\n",
    "---------------------------------------------------------------------------\n",
    "BufferError                               Traceback (most recent call last)\n",
    "Cell In[33], line 5\n",
    "      3 buf[2:4] = b'55'\n",
    "      4 print(stream.getvalue())\n",
    "----> 5 stream.close()\n",
    "\n",
    "BufferError: Existing exports of data: object cannot be re-sized\n",
    "```\n"
   ]
  },
  {
   "cell_type": "code",
   "execution_count": 32,
   "id": "cd6f6bda",
   "metadata": {},
   "outputs": [
    {
     "name": "stdout",
     "output_type": "stream",
     "text": [
      "b'ab55efg'\n"
     ]
    }
   ],
   "source": [
    "with io.BytesIO(b\"abcdefg\") as f:\n",
    "    buf = f.getbuffer()\n",
    "    buf[2:4] = b'55'\n",
    "    print(f.getvalue())\n",
    "    del buf"
   ]
  },
  {
   "cell_type": "markdown",
   "id": "2ed56c94",
   "metadata": {},
   "source": [
    "## io でユニットテスト\n",
    "\n",
    "- file オブジェクトの代わり\n",
    "- 標準出力などをキャプチャしておく\n"
   ]
  },
  {
   "cell_type": "code",
   "execution_count": 36,
   "id": "27ab8a34",
   "metadata": {},
   "outputs": [],
   "source": [
    "from unittest.mock import patch"
   ]
  },
  {
   "cell_type": "code",
   "execution_count": 42,
   "id": "ff338667",
   "metadata": {},
   "outputs": [],
   "source": [
    "\"\"\"\n",
    "print_hogeが出力していることを検証したい\n",
    "stdoutをioと差し替えることで、正しく出力が行われているかチェックすることができる\n",
    "\"\"\"\n",
    "def print_hoge():\n",
    "    print(\"hoge\")\n",
    "\n",
    "@patch('sys.stdout', new_callable=io.StringIO)  # 標準出力をioと差し替える\n",
    "def test_print_hoge(mocked_object):\n",
    "    print_hoge()\n",
    "    assert mocked_object.getvalue() == \"hoge\\n\"\n",
    "\n",
    "test_print_hoge()"
   ]
  },
  {
   "cell_type": "markdown",
   "id": "9eb5b2af",
   "metadata": {},
   "source": [
    "## io を使用した周辺知識\n"
   ]
  },
  {
   "cell_type": "code",
   "execution_count": 48,
   "id": "e3fcc80e",
   "metadata": {},
   "outputs": [],
   "source": [
    "import contextlib, logging"
   ]
  },
  {
   "cell_type": "code",
   "execution_count": 47,
   "id": "7d131b4a",
   "metadata": {},
   "outputs": [
    {
     "name": "stdout",
     "output_type": "stream",
     "text": [
      "hello\n",
      "\n"
     ]
    }
   ],
   "source": [
    "# 一時的に別ファイルまたは、file-lileにリダイレクトすることができる\n",
    "# stdoutをioへリダイレクトさせて、捕捉する\n",
    "f = io.StringIO()\n",
    "with contextlib.redirect_stdout(f):\n",
    "    print(\"hello\")\n",
    "\n",
    "print(f.getvalue())"
   ]
  },
  {
   "cell_type": "code",
   "execution_count": 51,
   "id": "1c02b5f4",
   "metadata": {},
   "outputs": [
    {
     "name": "stderr",
     "output_type": "stream",
     "text": [
      "WARNING:root:What's happend\n"
     ]
    },
    {
     "name": "stdout",
     "output_type": "stream",
     "text": [
      "\n"
     ]
    }
   ],
   "source": [
    "\n",
    "f = io.StringIO()\n",
    "with contextlib.redirect_stderr(f):\n",
    "    logging.warning(\"What's happend\")\n",
    "\n",
    "print(f.getvalue())"
   ]
  },
  {
   "cell_type": "code",
   "execution_count": null,
   "id": "ab24e408",
   "metadata": {},
   "outputs": [],
   "source": []
  }
 ],
 "metadata": {
  "kernelspec": {
   "display_name": "Python 3",
   "language": "python",
   "name": "python3"
  },
  "language_info": {
   "codemirror_mode": {
    "name": "ipython",
    "version": 3
   },
   "file_extension": ".py",
   "mimetype": "text/x-python",
   "name": "python",
   "nbconvert_exporter": "python",
   "pygments_lexer": "ipython3",
   "version": "3.13.0"
  }
 },
 "nbformat": 4,
 "nbformat_minor": 5
}
